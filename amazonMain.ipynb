{
  "cells": [
    {
      "cell_type": "markdown",
      "metadata": {
        "id": "kH1rEE2X1oss"
      },
      "source": [
        "# Importings"
      ]
    },
    {
      "cell_type": "code",
      "execution_count": 2,
      "metadata": {
        "colab": {
          "base_uri": "https://localhost:8080/"
        },
        "id": "triH6x771qPD",
        "outputId": "4bf4960b-399f-4a6d-e724-c1044c4468a4"
      },
      "outputs": [
        {
          "output_type": "stream",
          "name": "stdout",
          "text": [
            "Looking in indexes: https://pypi.org/simple, https://us-python.pkg.dev/colab-wheels/public/simple/\n",
            "Requirement already satisfied: transformers in /usr/local/lib/python3.10/dist-packages (4.29.1)\n",
            "Requirement already satisfied: filelock in /usr/local/lib/python3.10/dist-packages (from transformers) (3.12.0)\n",
            "Requirement already satisfied: huggingface-hub<1.0,>=0.14.1 in /usr/local/lib/python3.10/dist-packages (from transformers) (0.14.1)\n",
            "Requirement already satisfied: numpy>=1.17 in /usr/local/lib/python3.10/dist-packages (from transformers) (1.22.4)\n",
            "Requirement already satisfied: packaging>=20.0 in /usr/local/lib/python3.10/dist-packages (from transformers) (23.1)\n",
            "Requirement already satisfied: pyyaml>=5.1 in /usr/local/lib/python3.10/dist-packages (from transformers) (6.0)\n",
            "Requirement already satisfied: regex!=2019.12.17 in /usr/local/lib/python3.10/dist-packages (from transformers) (2022.10.31)\n",
            "Requirement already satisfied: requests in /usr/local/lib/python3.10/dist-packages (from transformers) (2.27.1)\n",
            "Requirement already satisfied: tokenizers!=0.11.3,<0.14,>=0.11.1 in /usr/local/lib/python3.10/dist-packages (from transformers) (0.13.3)\n",
            "Requirement already satisfied: tqdm>=4.27 in /usr/local/lib/python3.10/dist-packages (from transformers) (4.65.0)\n",
            "Requirement already satisfied: fsspec in /usr/local/lib/python3.10/dist-packages (from huggingface-hub<1.0,>=0.14.1->transformers) (2023.4.0)\n",
            "Requirement already satisfied: typing-extensions>=3.7.4.3 in /usr/local/lib/python3.10/dist-packages (from huggingface-hub<1.0,>=0.14.1->transformers) (4.5.0)\n",
            "Requirement already satisfied: urllib3<1.27,>=1.21.1 in /usr/local/lib/python3.10/dist-packages (from requests->transformers) (1.26.15)\n",
            "Requirement already satisfied: certifi>=2017.4.17 in /usr/local/lib/python3.10/dist-packages (from requests->transformers) (2022.12.7)\n",
            "Requirement already satisfied: charset-normalizer~=2.0.0 in /usr/local/lib/python3.10/dist-packages (from requests->transformers) (2.0.12)\n",
            "Requirement already satisfied: idna<4,>=2.5 in /usr/local/lib/python3.10/dist-packages (from requests->transformers) (3.4)\n"
          ]
        }
      ],
      "source": [
        "# When running in Google Colab this line is needed\n",
        "!pip install transformers"
      ]
    },
    {
      "cell_type": "code",
      "execution_count": 3,
      "metadata": {
        "id": "edDAIZhy1ost"
      },
      "outputs": [],
      "source": [
        "# Importing basic stuff\n",
        "import numpy as np\n",
        "import matplotlib.pyplot as plt\n",
        "import pandas as pd\n",
        "\n",
        "# Train test split\n",
        "from sklearn.model_selection import train_test_split\n",
        "\n",
        "# LDA\n",
        "from sklearn.decomposition import LatentDirichletAllocation\n",
        "\n",
        "# Preprocessing\n",
        "from sklearn.feature_extraction.text import CountVectorizer, TfidfTransformer, TfidfVectorizer\n",
        "\n",
        "# Models\n",
        "from sklearn.linear_model import LogisticRegression\n",
        "from sklearn.neural_network import MLPClassifier\n",
        "from sklearn.ensemble import RandomForestClassifier\n",
        "from sklearn.naive_bayes import MultinomialNB\n",
        "\n",
        "# evaluation\n",
        "from sklearn.metrics import classification_report, confusion_matrix, ConfusionMatrixDisplay\n",
        "\n",
        "# Gridsearch\n",
        "from sklearn.model_selection import GridSearchCV\n",
        "\n",
        "# pipeline\n",
        "from sklearn.pipeline import Pipeline\n",
        "from sklearn.compose import ColumnTransformer\n",
        "\n",
        "# For Bert\n",
        "from transformers import AutoTokenizer, AutoModel\n",
        "from google.colab import files\n",
        "\n",
        "# For GPU support\n",
        "import torch\n",
        "\n",
        "# For storing models\n",
        "from joblib import dump\n",
        "from joblib import load\n"
      ]
    },
    {
      "cell_type": "code",
      "execution_count": 4,
      "metadata": {
        "colab": {
          "base_uri": "https://localhost:8080/"
        },
        "id": "sLZRkkW41osv",
        "outputId": "3cb735a2-bdff-4c89-fd85-592089c6c9db"
      },
      "outputs": [
        {
          "output_type": "stream",
          "name": "stdout",
          "text": [
            "CUDA available:  True\n",
            "Num GPUs Available:  1\n"
          ]
        }
      ],
      "source": [
        "# For running the code with GPU, open anaconda prompt, navigate to the project folder, and type: pip install torch torchvision torchaudio -f https://download.pytorch.org/whl/cu111/torch_stable.html\n",
        "print(\"CUDA available: \", torch.cuda.is_available())\n",
        "print(\"Num GPUs Available: \", torch.cuda.device_count())"
      ]
    },
    {
      "cell_type": "markdown",
      "metadata": {
        "id": "o205ztzP1osv"
      },
      "source": [
        "# Reading data and making it available for analysis"
      ]
    },
    {
      "cell_type": "code",
      "execution_count": 30,
      "metadata": {
        "id": "zQTckOiIf79C"
      },
      "outputs": [],
      "source": [
        "# For creating a csv file small enough for Github\n",
        "#df = pd.read_csv(\"./data/test.csv\")\n",
        "#df = df.sample(frac=0.1) # Get 10% of the data\n",
        "#df.to_csv('./data/reducedDataset.csv')"
      ]
    },
    {
      "cell_type": "code",
      "execution_count": 31,
      "metadata": {
        "id": "RaN5L9rY1osw"
      },
      "outputs": [],
      "source": [
        "# Naming the columns of the dataset. https://stackoverflow.com/questions/31645466/give-column-name-when-read-csv-file-pandas\n",
        "colNames = ['polarity', 'title', 'text']\n",
        "\n",
        "# Loading Dataset and assigning column names\n",
        "#df = pd.read_csv(\"./data/test.csv\", names=colNames, header=None)\n",
        "\n",
        "# Resizing the dataset, for faster computing time. A random sample from the dataset https://stackoverflow.com/questions/40986230/reduce-dataframe-size-in-pandas\n",
        "#df = df.sample(frac=0.1) # Get 10% of the data\n",
        "\n",
        "# The reduced dataset is saved seperatly\n",
        "#df.to_csv('./data/reducedDataset.csv')\n",
        "\n",
        "# Loading Dataset and assigning column names\n",
        "#df = pd.read_csv(\"./data/reducedDataset.csv\", names=colNames, header=None)\n",
        "\n",
        "# For loading the data from Github, especially relevant when using Google Colab. https://towardsdatascience.com/3-ways-to-load-csv-files-into-colab-7c14fcbdcb92\n",
        "url = 'https://raw.githubusercontent.com/anda19ad/AI-ML-2023-Group-project/main/data/reducedDataset.csv'\n",
        "\n",
        "# If the dataset is already fixed, use only this line\n",
        "df = pd.read_csv(url, names=colNames, header=None, na_values=['missing', 'NA', 'NaN'])\n"
      ]
    },
    {
      "cell_type": "code",
      "execution_count": 32,
      "metadata": {
        "colab": {
          "base_uri": "https://localhost:8080/",
          "height": 206
        },
        "id": "PmMpGXFx1osw",
        "outputId": "b95b0bcb-e566-4269-d396-648e62b7aaa9"
      },
      "outputs": [
        {
          "output_type": "execute_result",
          "data": {
            "text/plain": [
              "          polarity                                    title  \\\n",
              "121197.0         1                    Coffee not hot enough   \n",
              "44872.0          1  Not totally satisfied with this version   \n",
              "315977.0         1                                   Yeuch!   \n",
              "27550.0          1                             Not Reliable   \n",
              "182720.0         2                      goooooood product!!   \n",
              "\n",
              "                                                       text  \n",
              "121197.0  Reading the reviews and the high price led me ...  \n",
              "44872.0   Oops! Did I make a big mistake! I purchased bo...  \n",
              "315977.0  This DVD was a real let down after the origina...  \n",
              "27550.0   Card crashed within two weeks, lost all pics, ...  \n",
              "182720.0  This product does what it's supposed to, for s...  "
            ],
            "text/html": [
              "\n",
              "  <div id=\"df-389af996-e69c-46be-b011-5aa642cb14ed\">\n",
              "    <div class=\"colab-df-container\">\n",
              "      <div>\n",
              "<style scoped>\n",
              "    .dataframe tbody tr th:only-of-type {\n",
              "        vertical-align: middle;\n",
              "    }\n",
              "\n",
              "    .dataframe tbody tr th {\n",
              "        vertical-align: top;\n",
              "    }\n",
              "\n",
              "    .dataframe thead th {\n",
              "        text-align: right;\n",
              "    }\n",
              "</style>\n",
              "<table border=\"1\" class=\"dataframe\">\n",
              "  <thead>\n",
              "    <tr style=\"text-align: right;\">\n",
              "      <th></th>\n",
              "      <th>polarity</th>\n",
              "      <th>title</th>\n",
              "      <th>text</th>\n",
              "    </tr>\n",
              "  </thead>\n",
              "  <tbody>\n",
              "    <tr>\n",
              "      <th>121197.0</th>\n",
              "      <td>1</td>\n",
              "      <td>Coffee not hot enough</td>\n",
              "      <td>Reading the reviews and the high price led me ...</td>\n",
              "    </tr>\n",
              "    <tr>\n",
              "      <th>44872.0</th>\n",
              "      <td>1</td>\n",
              "      <td>Not totally satisfied with this version</td>\n",
              "      <td>Oops! Did I make a big mistake! I purchased bo...</td>\n",
              "    </tr>\n",
              "    <tr>\n",
              "      <th>315977.0</th>\n",
              "      <td>1</td>\n",
              "      <td>Yeuch!</td>\n",
              "      <td>This DVD was a real let down after the origina...</td>\n",
              "    </tr>\n",
              "    <tr>\n",
              "      <th>27550.0</th>\n",
              "      <td>1</td>\n",
              "      <td>Not Reliable</td>\n",
              "      <td>Card crashed within two weeks, lost all pics, ...</td>\n",
              "    </tr>\n",
              "    <tr>\n",
              "      <th>182720.0</th>\n",
              "      <td>2</td>\n",
              "      <td>goooooood product!!</td>\n",
              "      <td>This product does what it's supposed to, for s...</td>\n",
              "    </tr>\n",
              "  </tbody>\n",
              "</table>\n",
              "</div>\n",
              "      <button class=\"colab-df-convert\" onclick=\"convertToInteractive('df-389af996-e69c-46be-b011-5aa642cb14ed')\"\n",
              "              title=\"Convert this dataframe to an interactive table.\"\n",
              "              style=\"display:none;\">\n",
              "        \n",
              "  <svg xmlns=\"http://www.w3.org/2000/svg\" height=\"24px\"viewBox=\"0 0 24 24\"\n",
              "       width=\"24px\">\n",
              "    <path d=\"M0 0h24v24H0V0z\" fill=\"none\"/>\n",
              "    <path d=\"M18.56 5.44l.94 2.06.94-2.06 2.06-.94-2.06-.94-.94-2.06-.94 2.06-2.06.94zm-11 1L8.5 8.5l.94-2.06 2.06-.94-2.06-.94L8.5 2.5l-.94 2.06-2.06.94zm10 10l.94 2.06.94-2.06 2.06-.94-2.06-.94-.94-2.06-.94 2.06-2.06.94z\"/><path d=\"M17.41 7.96l-1.37-1.37c-.4-.4-.92-.59-1.43-.59-.52 0-1.04.2-1.43.59L10.3 9.45l-7.72 7.72c-.78.78-.78 2.05 0 2.83L4 21.41c.39.39.9.59 1.41.59.51 0 1.02-.2 1.41-.59l7.78-7.78 2.81-2.81c.8-.78.8-2.07 0-2.86zM5.41 20L4 18.59l7.72-7.72 1.47 1.35L5.41 20z\"/>\n",
              "  </svg>\n",
              "      </button>\n",
              "      \n",
              "  <style>\n",
              "    .colab-df-container {\n",
              "      display:flex;\n",
              "      flex-wrap:wrap;\n",
              "      gap: 12px;\n",
              "    }\n",
              "\n",
              "    .colab-df-convert {\n",
              "      background-color: #E8F0FE;\n",
              "      border: none;\n",
              "      border-radius: 50%;\n",
              "      cursor: pointer;\n",
              "      display: none;\n",
              "      fill: #1967D2;\n",
              "      height: 32px;\n",
              "      padding: 0 0 0 0;\n",
              "      width: 32px;\n",
              "    }\n",
              "\n",
              "    .colab-df-convert:hover {\n",
              "      background-color: #E2EBFA;\n",
              "      box-shadow: 0px 1px 2px rgba(60, 64, 67, 0.3), 0px 1px 3px 1px rgba(60, 64, 67, 0.15);\n",
              "      fill: #174EA6;\n",
              "    }\n",
              "\n",
              "    [theme=dark] .colab-df-convert {\n",
              "      background-color: #3B4455;\n",
              "      fill: #D2E3FC;\n",
              "    }\n",
              "\n",
              "    [theme=dark] .colab-df-convert:hover {\n",
              "      background-color: #434B5C;\n",
              "      box-shadow: 0px 1px 3px 1px rgba(0, 0, 0, 0.15);\n",
              "      filter: drop-shadow(0px 1px 2px rgba(0, 0, 0, 0.3));\n",
              "      fill: #FFFFFF;\n",
              "    }\n",
              "  </style>\n",
              "\n",
              "      <script>\n",
              "        const buttonEl =\n",
              "          document.querySelector('#df-389af996-e69c-46be-b011-5aa642cb14ed button.colab-df-convert');\n",
              "        buttonEl.style.display =\n",
              "          google.colab.kernel.accessAllowed ? 'block' : 'none';\n",
              "\n",
              "        async function convertToInteractive(key) {\n",
              "          const element = document.querySelector('#df-389af996-e69c-46be-b011-5aa642cb14ed');\n",
              "          const dataTable =\n",
              "            await google.colab.kernel.invokeFunction('convertToInteractive',\n",
              "                                                     [key], {});\n",
              "          if (!dataTable) return;\n",
              "\n",
              "          const docLinkHtml = 'Like what you see? Visit the ' +\n",
              "            '<a target=\"_blank\" href=https://colab.research.google.com/notebooks/data_table.ipynb>data table notebook</a>'\n",
              "            + ' to learn more about interactive tables.';\n",
              "          element.innerHTML = '';\n",
              "          dataTable['output_type'] = 'display_data';\n",
              "          await google.colab.output.renderOutput(dataTable, element);\n",
              "          const docLink = document.createElement('div');\n",
              "          docLink.innerHTML = docLinkHtml;\n",
              "          element.appendChild(docLink);\n",
              "        }\n",
              "      </script>\n",
              "    </div>\n",
              "  </div>\n",
              "  "
            ]
          },
          "metadata": {},
          "execution_count": 32
        }
      ],
      "source": [
        "# Looking on the data\n",
        "(\n",
        "    df\n",
        "    .sample(5)\n",
        "    #.dtypes\n",
        "    #.info()\n",
        "    #.loc[:,[\"polarity\"]]\n",
        "    #.loc[:,[\"title\"]]\n",
        "    #.loc[:,[\"text\"]]\n",
        "    #.value_counts()\n",
        "    #.value_counts(normalize=True) # For seeing the count in %\n",
        "    #.describe()\n",
        ")"
      ]
    },
    {
      "cell_type": "code",
      "execution_count": 33,
      "metadata": {
        "colab": {
          "base_uri": "https://localhost:8080/"
        },
        "id": "0VIuM8kA1osw",
        "outputId": "5c761312-a405-4e59-bbf5-cdcc39328231"
      },
      "outputs": [
        {
          "output_type": "stream",
          "name": "stdout",
          "text": [
            "<class 'pandas.core.frame.DataFrame'>\n",
            "Float64Index: 40000 entries, nan to 100360.0\n",
            "Data columns (total 3 columns):\n",
            " #   Column    Non-Null Count  Dtype \n",
            "---  ------    --------------  ----- \n",
            " 0   polarity  40000 non-null  int64 \n",
            " 1   title     40000 non-null  object\n",
            " 2   text      40000 non-null  object\n",
            "dtypes: int64(1), object(2)\n",
            "memory usage: 1.2+ MB\n"
          ]
        }
      ],
      "source": [
        "# Cleaning the data. Removing null values and only take the values that contain info.\n",
        "# https://stackoverflow.com/questions/13413590/how-to-drop-rows-of-pandas-dataframe-whose-value-in-a-certain-column-is-nan\n",
        "df.dropna(how='any')\n",
        "df = df[df['title'].notna()]\n",
        "df = df[df['text'].notna()]\n",
        "df.info()"
      ]
    },
    {
      "cell_type": "code",
      "execution_count": 34,
      "metadata": {
        "colab": {
          "base_uri": "https://localhost:8080/"
        },
        "id": "MnjyIFfX1osw",
        "outputId": "3176ce89-db00-4591-da15-646b1282f5cd"
      },
      "outputs": [
        {
          "output_type": "execute_result",
          "data": {
            "text/plain": [
              "NaN    My lovely Pat has one of the GREAT voices of h...\n",
              "Name: text, dtype: object"
            ]
          },
          "metadata": {},
          "execution_count": 34
        }
      ],
      "source": [
        "# Assigning values to X and Y\n",
        "xText = df.text\n",
        "xTitle = df.title\n",
        "y = df.polarity\n",
        "\n",
        "xText.head(1)"
      ]
    },
    {
      "cell_type": "code",
      "execution_count": 35,
      "metadata": {
        "id": "DWI-h8iT1osx"
      },
      "outputs": [],
      "source": [
        "# Train test split of data. Putting O at the end of the X variables for \"original\"\n",
        "X_train, X_test, y_train, y_test = train_test_split(xTitle, y, test_size=0.33, random_state=42)"
      ]
    },
    {
      "cell_type": "code",
      "execution_count": 36,
      "metadata": {
        "colab": {
          "base_uri": "https://localhost:8080/"
        },
        "id": "hLun8rrt1osx",
        "outputId": "9d43a419-ff2b-4131-a371-abb7d9fd7e5e"
      },
      "outputs": [
        {
          "output_type": "stream",
          "name": "stdout",
          "text": [
            "type of X_train: <class 'pandas.core.series.Series'>\n",
            "length of X_train: 26800\n",
            "X_train[1]:\n",
            "\"Frontiers\"\n"
          ]
        }
      ],
      "source": [
        "# Looking on one example\n",
        "print(\"type of X_train: {}\".format(type(X_train)))\n",
        "print(\"length of X_train: {}\".format(len(X_train)))\n",
        "print(\"X_train[1]:\\n{}\".format(X_train.iloc[1500]))"
      ]
    },
    {
      "cell_type": "markdown",
      "metadata": {
        "id": "wheWykOL1osx"
      },
      "source": [
        "# Topic Categorization"
      ]
    },
    {
      "cell_type": "code",
      "execution_count": 37,
      "metadata": {
        "id": "r1_FdTJG1osy"
      },
      "outputs": [],
      "source": [
        "# Configuration\n",
        "# Defining the main variables to easily experiment\n",
        "numberOfTopics = 20\n",
        "numberOfTerms = 10\n",
        "ngram = (1,2) # or (1,1)\n",
        "LDAvectorizer = TfidfVectorizer #or CountVectorizer"
      ]
    },
    {
      "cell_type": "code",
      "execution_count": 38,
      "metadata": {
        "id": "8da_14w11osy"
      },
      "outputs": [],
      "source": [
        "# Using CountVectorizer, as in the other models that have been built. See this guide: https://machinelearninggeek.com/latent-dirichlet-allocation-using-scikit-learn/\n",
        "vectLDA = LDAvectorizer(min_df=3,\n",
        "                          ngram_range=ngram,\n",
        "                          max_df=.01\n",
        "                          #max_df=.1\n",
        "                          #max_df=.15\n",
        "                          )\n",
        "X_trainLDA = vectLDA.fit_transform(X_train)"
      ]
    },
    {
      "cell_type": "code",
      "execution_count": 39,
      "metadata": {
        "colab": {
          "base_uri": "https://localhost:8080/"
        },
        "id": "HHacaGXu1osy",
        "outputId": "48199cc7-9a3f-406a-b082-e089321e67d7"
      },
      "outputs": [
        {
          "output_type": "execute_result",
          "data": {
            "text/plain": [
              "(20, 7866)"
            ]
          },
          "metadata": {},
          "execution_count": 39
        }
      ],
      "source": [
        "# See page 349 in the book, and https://scikit-learn.org/stable/modules/generated/sklearn.decomposition.LatentDirichletAllocation.html\n",
        "# Number of topics default is 10 and learning method defualt is \"batch\"\n",
        "lda = LatentDirichletAllocation(n_components=numberOfTopics, learning_method=\"batch\", max_iter=25, random_state=0)\n",
        "\n",
        "# Fitting and transforming in one step\n",
        "topics = lda.fit_transform(X_trainLDA)\n",
        "\n",
        "# Printing the shape\n",
        "lda.components_.shape"
      ]
    },
    {
      "cell_type": "code",
      "execution_count": 40,
      "metadata": {
        "colab": {
          "base_uri": "https://localhost:8080/"
        },
        "id": "YtZWZBdo1osy",
        "outputId": "2917e15a-7a36-47a3-ac96-a19d7e243acb"
      },
      "outputs": [
        {
          "output_type": "stream",
          "name": "stdout",
          "text": [
            "Topic 0:  ['great product', 'worth the', 'really', 'not worth', 'the money', 'great movie', 'made', 'something', 'poorly', 'flimsy']\n",
            "Topic 1:  ['disappointed', 'fantastic', 'expected', 'not what', 'hard', 'good product', 'what expected', 'very disappointed', 'avoid', 'hard to']\n",
            "Topic 2:  ['boring', 'pretty', 'beautiful', 'outstanding', 'pretty good', 'rocks', 'same', 'good read', 'battery', 'looking']\n",
            "Topic 3:  ['gift', 'disappointment', 'if', 'most', 'wrong', 'christmas', 'if you', 'right', 're', 'this is']\n",
            "Topic 4:  ['amazing', 'dvd', 'stars', 'story', 'doesn', 'doesn work', 'cd', 'sad', 'complete', 'amazon']\n",
            "Topic 5:  ['price', 'good book', 'the price', 'customer', 'brilliant', 'missing', 'super', 'service', 'fabulous', 'customer service']\n",
            "Topic 6:  ['terrible', 'awful', 'do', 'do not', 'buy this', 'not good', 'don buy', 'not buy', 'worth it', 'fun']\n",
            "Topic 7:  ['horrible', 'waste your', 'much', 'don waste', 'your money', 'nice', 'small', 'far', 'cool', 'voice']\n",
            "Topic 8:  ['disappointing', 'junk', 'excellent book', 'one of', 'purchase', 'enough', 'books', 'baby', 'like it', 'good movie']\n",
            "Topic 9:  ['awesome', 'classic', 'again', 'piece', 'cute', 'not for', 'piece of', 'junk', 'light', 'kids']\n",
            "Topic 10:  ['great book', 'worst', 'poor quality', 'real', 'can', 'the worst', 'not bad', 'first', 'dont', 'great read']\n",
            "Topic 11:  ['cd', 'sucks', 'worthless', 'yet', 'oh', 'buy it', 'fit', 'true', 'black', 'incredible']\n",
            "Topic 12:  ['wow', 'music', 'this book', 'useful', 'big', 'crap', 'garbage', 'book is', 'set', 'rock']\n",
            "Topic 13:  ['love this', 'ok', 'way', 'well', 'off', 'world', 'band', 'man', 'original', 'fan']\n",
            "Topic 14:  ['waste of', 'love it', 'must', 'of money', 'out', 'of time', 'funny', 'save', 'cheap', 'series']\n",
            "Topic 15:  ['game', 'beware', 'loved', 'okay', 'loved it', 'entertaining', 'stuff', 'guide', 'back', 'buyer']\n",
            "Topic 16:  ['me', 'useless', 'favorite', 'does not', 'for me', 'does', 'defective', 'video', 'live', 'by']\n",
            "Topic 17:  ['very good', 'interesting', 'didn', 'film', 'please', 'happy', 'not very', 'information', 'little', 'need']\n",
            "Topic 18:  ['wonderful', 'works', 'review', 'works great', 'could', 'problem', 'where', 'been', 'absolutely', 'it works']\n",
            "Topic 19:  ['perfect', 'than', 'more', 'reading', 'did', 'collection', 'better than', 'bother', 'expected', 'did not']\n"
          ]
        }
      ],
      "source": [
        "# Get Components/topics https://scikit-learn.org/stable/modules/generated/sklearn.decomposition.LatentDirichletAllocation.html \n",
        "lda_components=lda.components_\n",
        "\n",
        "# Printing the topics with their terms\n",
        "terms = vectLDA.get_feature_names_out()\n",
        "\n",
        "# a for loop that takes the most frequent terms in each of the topics and prints it\n",
        "for index, component in enumerate(lda_components):\n",
        "    zipped = zip(terms, component)\n",
        "    top_terms_key=sorted(zipped, key = lambda t: t[1], reverse=True)[:numberOfTerms]\n",
        "    top_terms_list=list(dict(top_terms_key).keys())\n",
        "    print(\"Topic \"+str(index)+\": \",top_terms_list)"
      ]
    },
    {
      "cell_type": "markdown",
      "metadata": {
        "id": "EqoXG7od1osz"
      },
      "source": [
        "# Basics - Tfidvectorizer plus logistic regression"
      ]
    },
    {
      "cell_type": "code",
      "execution_count": 41,
      "metadata": {
        "id": "Fcj44MD01osz"
      },
      "outputs": [],
      "source": [
        "# Configuration for the basic model\n",
        "# Lining up some variables to choose from. Including the vectorizer\n",
        "vectorizerForBasic = TfidfVectorizer # or CountVectorizer\n",
        "ngramForBasic = (1,1) # or (1,2). Default is (1,1)\n",
        "max_dfBasic = 0.01"
      ]
    },
    {
      "cell_type": "code",
      "execution_count": 42,
      "metadata": {
        "id": "7nGJlCMp1osz"
      },
      "outputs": [],
      "source": [
        "# Applying Count vectorizer. Testing different max_df to get an understanding of the data\n",
        "vect = vectorizerForBasic(min_df=3,\n",
        "                          ngram_range = ngramForBasic,\n",
        "                          max_df=max_dfBasic\n",
        "                       )\n",
        "vect.fit(X_train)\n",
        "X_trainB = vect.transform(X_train)\n",
        "X_testB = vect.transform(X_test)\n"
      ]
    },
    {
      "cell_type": "code",
      "execution_count": 43,
      "metadata": {
        "colab": {
          "base_uri": "https://localhost:8080/"
        },
        "id": "NglxJh201osz",
        "outputId": "aec9553d-1612-495f-b4b3-b7bb1c2ee13f"
      },
      "outputs": [
        {
          "output_type": "stream",
          "name": "stdout",
          "text": [
            "Number of features: 3987\n",
            "First 20 features:\n",
            "['00' '000' '10' '100' '1000' '101' '11' '12' '13' '14' '15' '16' '18'\n",
            " '19' '1945' '1st' '20' '200' '2000' '2001']\n",
            "Features 10010 to 10030:\n",
            "[]\n",
            "Every 1000th feature:\n",
            "['00' 'dissappointing' 'leak' 'savage']\n"
          ]
        }
      ],
      "source": [
        "# Looking on the vectorized features. See page 331 for code\n",
        "feature_names = vect.get_feature_names_out() # under methods: https://scikit-learn.org/stable/modules/generated/sklearn.feature_extraction.text.CountVectorizer.html\n",
        "print(\"Number of features: {}\".format(len(feature_names)))\n",
        "print(\"First 20 features:\\n{}\".format(feature_names[:20]))\n",
        "print(\"Features 10010 to 10030:\\n{}\".format(feature_names[10010:10030]))\n",
        "print(\"Every 1000th feature:\\n{}\".format(feature_names[::1000]))"
      ]
    },
    {
      "cell_type": "code",
      "execution_count": 44,
      "metadata": {
        "colab": {
          "base_uri": "https://localhost:8080/"
        },
        "id": "ql_jCtU_1osz",
        "outputId": "f27513ab-10a4-4123-eb10-170ce994fd39"
      },
      "outputs": [
        {
          "output_type": "stream",
          "name": "stdout",
          "text": [
            "Accuracy on training set: 0.797\n",
            "Accuracy on test set: 0.733\n"
          ]
        }
      ],
      "source": [
        "# Making a logistic regression model\n",
        "BaseLR = LogisticRegression(max_iter=10000)\n",
        "\n",
        "# Fitting the model\n",
        "BaseLR.fit(X_trainB, y_train)\n",
        "\n",
        "# Printing results\n",
        "print(\"Accuracy on training set: {:.3f}\".format(BaseLR.score(X_trainB, y_train)))\n",
        "print(\"Accuracy on test set: {:.3f}\".format(BaseLR.score(X_testB, y_test)))\n",
        "#print(\"Best params: \", BaseLR.best_params_) # Printing the best params"
      ]
    },
    {
      "cell_type": "code",
      "execution_count": 45,
      "metadata": {
        "colab": {
          "base_uri": "https://localhost:8080/"
        },
        "id": "whnQqPMk1os0",
        "outputId": "ff3ea9d9-c789-4c17-fb19-ace1528f6375"
      },
      "outputs": [
        {
          "output_type": "stream",
          "name": "stdout",
          "text": [
            "              precision    recall  f1-score   support\n",
            "\n",
            "           1       0.78      0.65      0.71      6607\n",
            "           2       0.70      0.81      0.75      6593\n",
            "\n",
            "    accuracy                           0.73     13200\n",
            "   macro avg       0.74      0.73      0.73     13200\n",
            "weighted avg       0.74      0.73      0.73     13200\n",
            "\n"
          ]
        }
      ],
      "source": [
        "# Evaluating results\n",
        "y_pred = BaseLR.predict(X_testB)\n",
        "\n",
        "# Printing classification report\n",
        "print(classification_report(y_test, y_pred))"
      ]
    },
    {
      "cell_type": "code",
      "execution_count": 46,
      "metadata": {
        "colab": {
          "base_uri": "https://localhost:8080/"
        },
        "id": "trO2rI3k1os0",
        "outputId": "a5a909de-4b5e-4fb0-d377-4bcd0e6cf582"
      },
      "outputs": [
        {
          "output_type": "stream",
          "name": "stdout",
          "text": [
            "[[4320 2287]\n",
            " [1238 5355]]\n"
          ]
        }
      ],
      "source": [
        "# Confusion matrix\n",
        "# Making a confusion matrix\n",
        "cm = confusion_matrix(y_test, y_pred)\n",
        "print(cm)"
      ]
    },
    {
      "cell_type": "code",
      "execution_count": 47,
      "metadata": {
        "colab": {
          "base_uri": "https://localhost:8080/",
          "height": 449
        },
        "id": "9r4RnHHC1os0",
        "outputId": "af1e2792-c4d2-47cf-bb37-5a224ba3f746"
      },
      "outputs": [
        {
          "output_type": "display_data",
          "data": {
            "text/plain": [
              "<Figure size 640x480 with 2 Axes>"
            ],
            "image/png": "[encoded data removed]"
          },
          "metadata": {}
        }
      ],
      "source": [
        "# Displaying confusion matrix\n",
        "disp = ConfusionMatrixDisplay(confusion_matrix=cm,\n",
        "                               display_labels=BaseLR.classes_)\n",
        "disp.plot()\n",
        "plt.show()"
      ]
    },
    {
      "cell_type": "code",
      "execution_count": 48,
      "metadata": {
        "colab": {
          "base_uri": "https://localhost:8080/"
        },
        "id": "j-Oy-mOY1os0",
        "outputId": "8204b05b-eb8b-422b-de67-4f9fdca7d89a"
      },
      "outputs": [
        {
          "output_type": "execute_result",
          "data": {
            "text/plain": [
              "[('disappointed', 176.0357943793768),\n",
              " ('disappointing', 161.68658474399078),\n",
              " ('works', 149.73326905362674),\n",
              " ('do', 149.08479210469855),\n",
              " ('price', 148.08116196731595),\n",
              " ('cd', 147.6835949522331),\n",
              " ('fun', 141.1177893131069),\n",
              " ('awesome', 140.94425512818205),\n",
              " ('nice', 137.0575151932658),\n",
              " ('wonderful', 128.9873660873763)]"
            ]
          },
          "metadata": {},
          "execution_count": 48
        }
      ],
      "source": [
        "# Printing the features, starting with the most common. https://medium.com/@cristhianboujon/how-to-list-the-most-common-words-from-text-corpus-using-scikit-learn-dad4d0cab41d\n",
        "n = 10 # or None to print all\n",
        "\n",
        "sum_words = X_trainB.sum(axis=0) \n",
        "words_freq = [(word, sum_words[0, idx]) for word, idx in vect.vocabulary_.items()]\n",
        "words_freq =sorted(words_freq, key = lambda x: x[1], reverse=True)\n",
        "words_freq[:n]\n",
        "#print(\"First 20 features:\\n{}\".format(words_freq[:20]))"
      ]
    },
    {
      "cell_type": "markdown",
      "metadata": {
        "id": "ubmj_UMI1os1"
      },
      "source": [
        "# Sentiment analysis"
      ]
    },
    {
      "cell_type": "code",
      "execution_count": 54,
      "metadata": {
        "id": "cG0qp9u71os1"
      },
      "outputs": [],
      "source": [
        "# Printing function to be used at the end of each run through of a model. Name is a string, and should refer to the model. Search refers to the Gridsearch model.\n",
        "def printScoreParams (name, search):\n",
        "    print(\"The results from: \" + name)\n",
        "    print(\"Accuracy on training set: {:.3f}\".format(search.score(X_train, y_train)))\n",
        "    print(\"Accuracy on test set: {:.3f}\".format(search.score(X_test, y_test)))\n",
        "    print(\"Best params: \", search.best_params_) # Printing the best params"
      ]
    },
    {
      "cell_type": "markdown",
      "metadata": {
        "id": "EQCx2Dnd1os1"
      },
      "source": [
        "## TfidVectorizer"
      ]
    },
    {
      "cell_type": "markdown",
      "metadata": {
        "id": "zGJB6IQT1os1"
      },
      "source": [
        "Starting with making models using TfidVectorizer"
      ]
    },
    {
      "cell_type": "markdown",
      "metadata": {
        "id": "d-xlWpYM1os1"
      },
      "source": [
        "### Configuration"
      ]
    },
    {
      "cell_type": "code",
      "execution_count": 49,
      "metadata": {
        "id": "RC2MnKgd1os1"
      },
      "outputs": [],
      "source": [
        "# Predefined Standard variables for the pipeline and Gridsearch. To make the preprocessing with the vectorizer standard on all models. \n",
        "# https://scikit-learn.org/stable/modules/generated/sklearn.feature_extraction.text.TfidfVectorizer.html\n",
        "vectorizer = TfidfVectorizer() # Alternatively one could apply Countvectorizer and then TfidTransformer afterwards\n",
        "ngram_range = [(1,1),(1,2)]\n",
        "use_idf = [True,False]\n",
        "min_df = [3]\n",
        "max_df = [.01, .1, .2] # 1%, 10% or 20%"
      ]
    },
    {
      "cell_type": "markdown",
      "metadata": {
        "id": "5VB9ulQV1os2"
      },
      "source": [
        "### Logistic Regression"
      ]
    },
    {
      "cell_type": "code",
      "execution_count": 50,
      "metadata": {
        "colab": {
          "base_uri": "https://localhost:8080/",
          "height": 126
        },
        "id": "Zbr24w141os2",
        "outputId": "2ed968a8-c433-43ae-dcff-e024e39a1e89"
      },
      "outputs": [
        {
          "output_type": "execute_result",
          "data": {
            "text/plain": [
              "Pipeline(steps=[('Vectorizer', TfidfVectorizer()),\n",
              "                ('Model', LogisticRegression(max_iter=10000))])"
            ],
            "text/html": [
              "<style>#sk-container-id-4 {color: black;background-color: white;}#sk-container-id-4 pre{padding: 0;}#sk-container-id-4 div.sk-toggleable {background-color: white;}#sk-container-id-4 label.sk-toggleable__label {cursor: pointer;display: block;width: 100%;margin-bottom: 0;padding: 0.3em;box-sizing: border-box;text-align: center;}#sk-container-id-4 label.sk-toggleable__label-arrow:before {content: \"▸\";float: left;margin-right: 0.25em;color: #696969;}#sk-container-id-4 label.sk-toggleable__label-arrow:hover:before {color: black;}#sk-container-id-4 div.sk-estimator:hover label.sk-toggleable__label-arrow:before {color: black;}#sk-container-id-4 div.sk-toggleable__content {max-height: 0;max-width: 0;overflow: hidden;text-align: left;background-color: #f0f8ff;}#sk-container-id-4 div.sk-toggleable__content pre {margin: 0.2em;color: black;border-radius: 0.25em;background-color: #f0f8ff;}#sk-container-id-4 input.sk-toggleable__control:checked~div.sk-toggleable__content {max-height: 200px;max-width: 100%;overflow: auto;}#sk-container-id-4 input.sk-toggleable__control:checked~label.sk-toggleable__label-arrow:before {content: \"▾\";}#sk-container-id-4 div.sk-estimator input.sk-toggleable__control:checked~label.sk-toggleable__label {background-color: #d4ebff;}#sk-container-id-4 div.sk-label input.sk-toggleable__control:checked~label.sk-toggleable__label {background-color: #d4ebff;}#sk-container-id-4 input.sk-hidden--visually {border: 0;clip: rect(1px 1px 1px 1px);clip: rect(1px, 1px, 1px, 1px);height: 1px;margin: -1px;overflow: hidden;padding: 0;position: absolute;width: 1px;}#sk-container-id-4 div.sk-estimator {font-family: monospace;background-color: #f0f8ff;border: 1px dotted black;border-radius: 0.25em;box-sizing: border-box;margin-bottom: 0.5em;}#sk-container-id-4 div.sk-estimator:hover {background-color: #d4ebff;}#sk-container-id-4 div.sk-parallel-item::after {content: \"\";width: 100%;border-bottom: 1px solid gray;flex-grow: 1;}#sk-container-id-4 div.sk-label:hover label.sk-toggleable__label {background-color: #d4ebff;}#sk-container-id-4 div.sk-serial::before {content: \"\";position: absolute;border-left: 1px solid gray;box-sizing: border-box;top: 0;bottom: 0;left: 50%;z-index: 0;}#sk-container-id-4 div.sk-serial {display: flex;flex-direction: column;align-items: center;background-color: white;padding-right: 0.2em;padding-left: 0.2em;position: relative;}#sk-container-id-4 div.sk-item {position: relative;z-index: 1;}#sk-container-id-4 div.sk-parallel {display: flex;align-items: stretch;justify-content: center;background-color: white;position: relative;}#sk-container-id-4 div.sk-item::before, #sk-container-id-4 div.sk-parallel-item::before {content: \"\";position: absolute;border-left: 1px solid gray;box-sizing: border-box;top: 0;bottom: 0;left: 50%;z-index: -1;}#sk-container-id-4 div.sk-parallel-item {display: flex;flex-direction: column;z-index: 1;position: relative;background-color: white;}#sk-container-id-4 div.sk-parallel-item:first-child::after {align-self: flex-end;width: 50%;}#sk-container-id-4 div.sk-parallel-item:last-child::after {align-self: flex-start;width: 50%;}#sk-container-id-4 div.sk-parallel-item:only-child::after {width: 0;}#sk-container-id-4 div.sk-dashed-wrapped {border: 1px dashed gray;margin: 0 0.4em 0.5em 0.4em;box-sizing: border-box;padding-bottom: 0.4em;background-color: white;}#sk-container-id-4 div.sk-label label {font-family: monospace;font-weight: bold;display: inline-block;line-height: 1.2em;}#sk-container-id-4 div.sk-label-container {text-align: center;}#sk-container-id-4 div.sk-container {/* jupyter's `normalize.less` sets `[hidden] { display: none; }` but bootstrap.min.css set `[hidden] { display: none !important; }` so we also need the `!important` here to be able to override the default hidden behavior on the sphinx rendered scikit-learn.org. See: https://github.com/scikit-learn/scikit-learn/issues/21755 */display: inline-block !important;position: relative;}#sk-container-id-4 div.sk-text-repr-fallback {display: none;}</style><div id=\"sk-container-id-4\" class=\"sk-top-container\"><div class=\"sk-text-repr-fallback\"><pre>Pipeline(steps=[(&#x27;Vectorizer&#x27;, TfidfVectorizer()),\n",
              "                (&#x27;Model&#x27;, LogisticRegression(max_iter=10000))])</pre><b>In a Jupyter environment, please rerun this cell to show the HTML representation or trust the notebook. <br />On GitHub, the HTML representation is unable to render, please try loading this page with nbviewer.org.</b></div><div class=\"sk-container\" hidden><div class=\"sk-item sk-dashed-wrapped\"><div class=\"sk-label-container\"><div class=\"sk-label sk-toggleable\"><input class=\"sk-toggleable__control sk-hidden--visually\" id=\"sk-estimator-id-10\" type=\"checkbox\" ><label for=\"sk-estimator-id-10\" class=\"sk-toggleable__label sk-toggleable__label-arrow\">Pipeline</label><div class=\"sk-toggleable__content\"><pre>Pipeline(steps=[(&#x27;Vectorizer&#x27;, TfidfVectorizer()),\n",
              "                (&#x27;Model&#x27;, LogisticRegression(max_iter=10000))])</pre></div></div></div><div class=\"sk-serial\"><div class=\"sk-item\"><div class=\"sk-estimator sk-toggleable\"><input class=\"sk-toggleable__control sk-hidden--visually\" id=\"sk-estimator-id-11\" type=\"checkbox\" ><label for=\"sk-estimator-id-11\" class=\"sk-toggleable__label sk-toggleable__label-arrow\">TfidfVectorizer</label><div class=\"sk-toggleable__content\"><pre>TfidfVectorizer()</pre></div></div></div><div class=\"sk-item\"><div class=\"sk-estimator sk-toggleable\"><input class=\"sk-toggleable__control sk-hidden--visually\" id=\"sk-estimator-id-12\" type=\"checkbox\" ><label for=\"sk-estimator-id-12\" class=\"sk-toggleable__label sk-toggleable__label-arrow\">LogisticRegression</label><div class=\"sk-toggleable__content\"><pre>LogisticRegression(max_iter=10000)</pre></div></div></div></div></div></div></div>"
            ]
          },
          "metadata": {},
          "execution_count": 50
        }
      ],
      "source": [
        "# Pipeline for Logistic Regression\n",
        "pipeLR = Pipeline(steps=[\n",
        "    ('Vectorizer', vectorizer),\n",
        "    ('Model', LogisticRegression(max_iter=10000))\n",
        "])\n",
        "\n",
        "# Fitting the pipeline with data\n",
        "pipeLR.fit(X_train, y_train)"
      ]
    },
    {
      "cell_type": "code",
      "execution_count": 51,
      "metadata": {
        "colab": {
          "base_uri": "https://localhost:8080/"
        },
        "id": "9ydsOPu41os2",
        "outputId": "8e1fd4e5-3ad5-424b-9c08-97b5de7c0ecf"
      },
      "outputs": [
        {
          "output_type": "stream",
          "name": "stdout",
          "text": [
            "Accuracy on training set: 0.897\n",
            "Accuracy on test set: 0.812\n"
          ]
        }
      ],
      "source": [
        "# Printing scores\n",
        "print(\"Accuracy on training set: {:.3f}\".format(pipeLR.score(X_train, y_train)))\n",
        "print(\"Accuracy on test set: {:.3f}\".format(pipeLR.score(X_test, y_test)))"
      ]
    },
    {
      "cell_type": "code",
      "execution_count": 52,
      "metadata": {
        "colab": {
          "base_uri": "https://localhost:8080/",
          "height": 152
        },
        "id": "nzqcDm2r1os3",
        "outputId": "26c86e08-948f-44b7-8ae7-b769b7e349d7"
      },
      "outputs": [
        {
          "output_type": "execute_result",
          "data": {
            "text/plain": [
              "GridSearchCV(cv=2,\n",
              "             estimator=Pipeline(steps=[('Vectorizer', TfidfVectorizer()),\n",
              "                                       ('Model',\n",
              "                                        LogisticRegression(max_iter=10000))]),\n",
              "             param_grid={'Model__C': [0.01, 0.1, 1, 10, 100],\n",
              "                         'Vectorizer__max_df': [0.01, 0.1, 0.2],\n",
              "                         'Vectorizer__min_df': [3],\n",
              "                         'Vectorizer__ngram_range': [(1, 1), (1, 2)],\n",
              "                         'Vectorizer__use_idf': [True, False]})"
            ],
            "text/html": [
              "<style>#sk-container-id-5 {color: black;background-color: white;}#sk-container-id-5 pre{padding: 0;}#sk-container-id-5 div.sk-toggleable {background-color: white;}#sk-container-id-5 label.sk-toggleable__label {cursor: pointer;display: block;width: 100%;margin-bottom: 0;padding: 0.3em;box-sizing: border-box;text-align: center;}#sk-container-id-5 label.sk-toggleable__label-arrow:before {content: \"▸\";float: left;margin-right: 0.25em;color: #696969;}#sk-container-id-5 label.sk-toggleable__label-arrow:hover:before {color: black;}#sk-container-id-5 div.sk-estimator:hover label.sk-toggleable__label-arrow:before {color: black;}#sk-container-id-5 div.sk-toggleable__content {max-height: 0;max-width: 0;overflow: hidden;text-align: left;background-color: #f0f8ff;}#sk-container-id-5 div.sk-toggleable__content pre {margin: 0.2em;color: black;border-radius: 0.25em;background-color: #f0f8ff;}#sk-container-id-5 input.sk-toggleable__control:checked~div.sk-toggleable__content {max-height: 200px;max-width: 100%;overflow: auto;}#sk-container-id-5 input.sk-toggleable__control:checked~label.sk-toggleable__label-arrow:before {content: \"▾\";}#sk-container-id-5 div.sk-estimator input.sk-toggleable__control:checked~label.sk-toggleable__label {background-color: #d4ebff;}#sk-container-id-5 div.sk-label input.sk-toggleable__control:checked~label.sk-toggleable__label {background-color: #d4ebff;}#sk-container-id-5 input.sk-hidden--visually {border: 0;clip: rect(1px 1px 1px 1px);clip: rect(1px, 1px, 1px, 1px);height: 1px;margin: -1px;overflow: hidden;padding: 0;position: absolute;width: 1px;}#sk-container-id-5 div.sk-estimator {font-family: monospace;background-color: #f0f8ff;border: 1px dotted black;border-radius: 0.25em;box-sizing: border-box;margin-bottom: 0.5em;}#sk-container-id-5 div.sk-estimator:hover {background-color: #d4ebff;}#sk-container-id-5 div.sk-parallel-item::after {content: \"\";width: 100%;border-bottom: 1px solid gray;flex-grow: 1;}#sk-container-id-5 div.sk-label:hover label.sk-toggleable__label {background-color: #d4ebff;}#sk-container-id-5 div.sk-serial::before {content: \"\";position: absolute;border-left: 1px solid gray;box-sizing: border-box;top: 0;bottom: 0;left: 50%;z-index: 0;}#sk-container-id-5 div.sk-serial {display: flex;flex-direction: column;align-items: center;background-color: white;padding-right: 0.2em;padding-left: 0.2em;position: relative;}#sk-container-id-5 div.sk-item {position: relative;z-index: 1;}#sk-container-id-5 div.sk-parallel {display: flex;align-items: stretch;justify-content: center;background-color: white;position: relative;}#sk-container-id-5 div.sk-item::before, #sk-container-id-5 div.sk-parallel-item::before {content: \"\";position: absolute;border-left: 1px solid gray;box-sizing: border-box;top: 0;bottom: 0;left: 50%;z-index: -1;}#sk-container-id-5 div.sk-parallel-item {display: flex;flex-direction: column;z-index: 1;position: relative;background-color: white;}#sk-container-id-5 div.sk-parallel-item:first-child::after {align-self: flex-end;width: 50%;}#sk-container-id-5 div.sk-parallel-item:last-child::after {align-self: flex-start;width: 50%;}#sk-container-id-5 div.sk-parallel-item:only-child::after {width: 0;}#sk-container-id-5 div.sk-dashed-wrapped {border: 1px dashed gray;margin: 0 0.4em 0.5em 0.4em;box-sizing: border-box;padding-bottom: 0.4em;background-color: white;}#sk-container-id-5 div.sk-label label {font-family: monospace;font-weight: bold;display: inline-block;line-height: 1.2em;}#sk-container-id-5 div.sk-label-container {text-align: center;}#sk-container-id-5 div.sk-container {/* jupyter's `normalize.less` sets `[hidden] { display: none; }` but bootstrap.min.css set `[hidden] { display: none !important; }` so we also need the `!important` here to be able to override the default hidden behavior on the sphinx rendered scikit-learn.org. See: https://github.com/scikit-learn/scikit-learn/issues/21755 */display: inline-block !important;position: relative;}#sk-container-id-5 div.sk-text-repr-fallback {display: none;}</style><div id=\"sk-container-id-5\" class=\"sk-top-container\"><div class=\"sk-text-repr-fallback\"><pre>GridSearchCV(cv=2,\n",
              "             estimator=Pipeline(steps=[(&#x27;Vectorizer&#x27;, TfidfVectorizer()),\n",
              "                                       (&#x27;Model&#x27;,\n",
              "                                        LogisticRegression(max_iter=10000))]),\n",
              "             param_grid={&#x27;Model__C&#x27;: [0.01, 0.1, 1, 10, 100],\n",
              "                         &#x27;Vectorizer__max_df&#x27;: [0.01, 0.1, 0.2],\n",
              "                         &#x27;Vectorizer__min_df&#x27;: [3],\n",
              "                         &#x27;Vectorizer__ngram_range&#x27;: [(1, 1), (1, 2)],\n",
              "                         &#x27;Vectorizer__use_idf&#x27;: [True, False]})</pre><b>In a Jupyter environment, please rerun this cell to show the HTML representation or trust the notebook. <br />On GitHub, the HTML representation is unable to render, please try loading this page with nbviewer.org.</b></div><div class=\"sk-container\" hidden><div class=\"sk-item sk-dashed-wrapped\"><div class=\"sk-label-container\"><div class=\"sk-label sk-toggleable\"><input class=\"sk-toggleable__control sk-hidden--visually\" id=\"sk-estimator-id-13\" type=\"checkbox\" ><label for=\"sk-estimator-id-13\" class=\"sk-toggleable__label sk-toggleable__label-arrow\">GridSearchCV</label><div class=\"sk-toggleable__content\"><pre>GridSearchCV(cv=2,\n",
              "             estimator=Pipeline(steps=[(&#x27;Vectorizer&#x27;, TfidfVectorizer()),\n",
              "                                       (&#x27;Model&#x27;,\n",
              "                                        LogisticRegression(max_iter=10000))]),\n",
              "             param_grid={&#x27;Model__C&#x27;: [0.01, 0.1, 1, 10, 100],\n",
              "                         &#x27;Vectorizer__max_df&#x27;: [0.01, 0.1, 0.2],\n",
              "                         &#x27;Vectorizer__min_df&#x27;: [3],\n",
              "                         &#x27;Vectorizer__ngram_range&#x27;: [(1, 1), (1, 2)],\n",
              "                         &#x27;Vectorizer__use_idf&#x27;: [True, False]})</pre></div></div></div><div class=\"sk-parallel\"><div class=\"sk-parallel-item\"><div class=\"sk-item\"><div class=\"sk-label-container\"><div class=\"sk-label sk-toggleable\"><input class=\"sk-toggleable__control sk-hidden--visually\" id=\"sk-estimator-id-14\" type=\"checkbox\" ><label for=\"sk-estimator-id-14\" class=\"sk-toggleable__label sk-toggleable__label-arrow\">estimator: Pipeline</label><div class=\"sk-toggleable__content\"><pre>Pipeline(steps=[(&#x27;Vectorizer&#x27;, TfidfVectorizer()),\n",
              "                (&#x27;Model&#x27;, LogisticRegression(max_iter=10000))])</pre></div></div></div><div class=\"sk-serial\"><div class=\"sk-item\"><div class=\"sk-serial\"><div class=\"sk-item\"><div class=\"sk-estimator sk-toggleable\"><input class=\"sk-toggleable__control sk-hidden--visually\" id=\"sk-estimator-id-15\" type=\"checkbox\" ><label for=\"sk-estimator-id-15\" class=\"sk-toggleable__label sk-toggleable__label-arrow\">TfidfVectorizer</label><div class=\"sk-toggleable__content\"><pre>TfidfVectorizer()</pre></div></div></div><div class=\"sk-item\"><div class=\"sk-estimator sk-toggleable\"><input class=\"sk-toggleable__control sk-hidden--visually\" id=\"sk-estimator-id-16\" type=\"checkbox\" ><label for=\"sk-estimator-id-16\" class=\"sk-toggleable__label sk-toggleable__label-arrow\">LogisticRegression</label><div class=\"sk-toggleable__content\"><pre>LogisticRegression(max_iter=10000)</pre></div></div></div></div></div></div></div></div></div></div></div></div>"
            ]
          },
          "metadata": {},
          "execution_count": 52
        }
      ],
      "source": [
        "# Pipeline together with gridsearchCV: https://scikit-learn.org/stable/tutorial/statistical_inference/putting_together.html\n",
        "# Defining parameters for the param grid\n",
        "params = {\n",
        "    'Vectorizer__ngram_range':ngram_range,\n",
        "    'Vectorizer__min_df':min_df,\n",
        "    'Vectorizer__max_df':max_df,\n",
        "    'Vectorizer__use_idf':use_idf,\n",
        "    'Model__C':[0.01, 0.1, 1, 10, 100]\n",
        "}\n",
        "\n",
        "# Defining grid search\n",
        "searchLR = GridSearchCV(\n",
        "    pipeLR,\n",
        "    #verbose = 1.5, # To track the progress\n",
        "    param_grid=params,\n",
        "    cv=2,\n",
        ")\n",
        "\n",
        "# Fitting the grid search\n",
        "searchLR.fit(X_train, y_train)"
      ]
    },
    {
      "cell_type": "code",
      "execution_count": 55,
      "metadata": {
        "id": "9gM6E96y1os3",
        "outputId": "116be893-0f69-4dc1-9438-73ac3a9571f1",
        "colab": {
          "base_uri": "https://localhost:8080/"
        }
      },
      "outputs": [
        {
          "output_type": "stream",
          "name": "stdout",
          "text": [
            "The results from: Logistic Regression\n",
            "Accuracy on training set: 0.878\n",
            "Accuracy on test set: 0.816\n",
            "Best params:  {'Model__C': 1, 'Vectorizer__max_df': 0.2, 'Vectorizer__min_df': 3, 'Vectorizer__ngram_range': (1, 2), 'Vectorizer__use_idf': True}\n"
          ]
        }
      ],
      "source": [
        "# Using the print function\n",
        "printScoreParams('Logistic Regression', searchLR)"
      ]
    },
    {
      "cell_type": "markdown",
      "metadata": {
        "id": "BDV5tXAe1os3"
      },
      "source": [
        "### MLP"
      ]
    },
    {
      "cell_type": "code",
      "execution_count": 56,
      "metadata": {
        "id": "tnPVcfvR1os3",
        "outputId": "d04ef39a-b21b-41c2-c2fc-1d942deed071",
        "colab": {
          "base_uri": "https://localhost:8080/",
          "height": 126
        }
      },
      "outputs": [
        {
          "output_type": "execute_result",
          "data": {
            "text/plain": [
              "Pipeline(steps=[('Vectorizer', TfidfVectorizer()),\n",
              "                ('Model', MLPClassifier(max_iter=10000))])"
            ],
            "text/html": [
              "<style>#sk-container-id-6 {color: black;background-color: white;}#sk-container-id-6 pre{padding: 0;}#sk-container-id-6 div.sk-toggleable {background-color: white;}#sk-container-id-6 label.sk-toggleable__label {cursor: pointer;display: block;width: 100%;margin-bottom: 0;padding: 0.3em;box-sizing: border-box;text-align: center;}#sk-container-id-6 label.sk-toggleable__label-arrow:before {content: \"▸\";float: left;margin-right: 0.25em;color: #696969;}#sk-container-id-6 label.sk-toggleable__label-arrow:hover:before {color: black;}#sk-container-id-6 div.sk-estimator:hover label.sk-toggleable__label-arrow:before {color: black;}#sk-container-id-6 div.sk-toggleable__content {max-height: 0;max-width: 0;overflow: hidden;text-align: left;background-color: #f0f8ff;}#sk-container-id-6 div.sk-toggleable__content pre {margin: 0.2em;color: black;border-radius: 0.25em;background-color: #f0f8ff;}#sk-container-id-6 input.sk-toggleable__control:checked~div.sk-toggleable__content {max-height: 200px;max-width: 100%;overflow: auto;}#sk-container-id-6 input.sk-toggleable__control:checked~label.sk-toggleable__label-arrow:before {content: \"▾\";}#sk-container-id-6 div.sk-estimator input.sk-toggleable__control:checked~label.sk-toggleable__label {background-color: #d4ebff;}#sk-container-id-6 div.sk-label input.sk-toggleable__control:checked~label.sk-toggleable__label {background-color: #d4ebff;}#sk-container-id-6 input.sk-hidden--visually {border: 0;clip: rect(1px 1px 1px 1px);clip: rect(1px, 1px, 1px, 1px);height: 1px;margin: -1px;overflow: hidden;padding: 0;position: absolute;width: 1px;}#sk-container-id-6 div.sk-estimator {font-family: monospace;background-color: #f0f8ff;border: 1px dotted black;border-radius: 0.25em;box-sizing: border-box;margin-bottom: 0.5em;}#sk-container-id-6 div.sk-estimator:hover {background-color: #d4ebff;}#sk-container-id-6 div.sk-parallel-item::after {content: \"\";width: 100%;border-bottom: 1px solid gray;flex-grow: 1;}#sk-container-id-6 div.sk-label:hover label.sk-toggleable__label {background-color: #d4ebff;}#sk-container-id-6 div.sk-serial::before {content: \"\";position: absolute;border-left: 1px solid gray;box-sizing: border-box;top: 0;bottom: 0;left: 50%;z-index: 0;}#sk-container-id-6 div.sk-serial {display: flex;flex-direction: column;align-items: center;background-color: white;padding-right: 0.2em;padding-left: 0.2em;position: relative;}#sk-container-id-6 div.sk-item {position: relative;z-index: 1;}#sk-container-id-6 div.sk-parallel {display: flex;align-items: stretch;justify-content: center;background-color: white;position: relative;}#sk-container-id-6 div.sk-item::before, #sk-container-id-6 div.sk-parallel-item::before {content: \"\";position: absolute;border-left: 1px solid gray;box-sizing: border-box;top: 0;bottom: 0;left: 50%;z-index: -1;}#sk-container-id-6 div.sk-parallel-item {display: flex;flex-direction: column;z-index: 1;position: relative;background-color: white;}#sk-container-id-6 div.sk-parallel-item:first-child::after {align-self: flex-end;width: 50%;}#sk-container-id-6 div.sk-parallel-item:last-child::after {align-self: flex-start;width: 50%;}#sk-container-id-6 div.sk-parallel-item:only-child::after {width: 0;}#sk-container-id-6 div.sk-dashed-wrapped {border: 1px dashed gray;margin: 0 0.4em 0.5em 0.4em;box-sizing: border-box;padding-bottom: 0.4em;background-color: white;}#sk-container-id-6 div.sk-label label {font-family: monospace;font-weight: bold;display: inline-block;line-height: 1.2em;}#sk-container-id-6 div.sk-label-container {text-align: center;}#sk-container-id-6 div.sk-container {/* jupyter's `normalize.less` sets `[hidden] { display: none; }` but bootstrap.min.css set `[hidden] { display: none !important; }` so we also need the `!important` here to be able to override the default hidden behavior on the sphinx rendered scikit-learn.org. See: https://github.com/scikit-learn/scikit-learn/issues/21755 */display: inline-block !important;position: relative;}#sk-container-id-6 div.sk-text-repr-fallback {display: none;}</style><div id=\"sk-container-id-6\" class=\"sk-top-container\"><div class=\"sk-text-repr-fallback\"><pre>Pipeline(steps=[(&#x27;Vectorizer&#x27;, TfidfVectorizer()),\n",
              "                (&#x27;Model&#x27;, MLPClassifier(max_iter=10000))])</pre><b>In a Jupyter environment, please rerun this cell to show the HTML representation or trust the notebook. <br />On GitHub, the HTML representation is unable to render, please try loading this page with nbviewer.org.</b></div><div class=\"sk-container\" hidden><div class=\"sk-item sk-dashed-wrapped\"><div class=\"sk-label-container\"><div class=\"sk-label sk-toggleable\"><input class=\"sk-toggleable__control sk-hidden--visually\" id=\"sk-estimator-id-17\" type=\"checkbox\" ><label for=\"sk-estimator-id-17\" class=\"sk-toggleable__label sk-toggleable__label-arrow\">Pipeline</label><div class=\"sk-toggleable__content\"><pre>Pipeline(steps=[(&#x27;Vectorizer&#x27;, TfidfVectorizer()),\n",
              "                (&#x27;Model&#x27;, MLPClassifier(max_iter=10000))])</pre></div></div></div><div class=\"sk-serial\"><div class=\"sk-item\"><div class=\"sk-estimator sk-toggleable\"><input class=\"sk-toggleable__control sk-hidden--visually\" id=\"sk-estimator-id-18\" type=\"checkbox\" ><label for=\"sk-estimator-id-18\" class=\"sk-toggleable__label sk-toggleable__label-arrow\">TfidfVectorizer</label><div class=\"sk-toggleable__content\"><pre>TfidfVectorizer()</pre></div></div></div><div class=\"sk-item\"><div class=\"sk-estimator sk-toggleable\"><input class=\"sk-toggleable__control sk-hidden--visually\" id=\"sk-estimator-id-19\" type=\"checkbox\" ><label for=\"sk-estimator-id-19\" class=\"sk-toggleable__label sk-toggleable__label-arrow\">MLPClassifier</label><div class=\"sk-toggleable__content\"><pre>MLPClassifier(max_iter=10000)</pre></div></div></div></div></div></div></div>"
            ]
          },
          "metadata": {},
          "execution_count": 56
        }
      ],
      "source": [
        "# Defining pipe for MLP\n",
        "pipeMLP = Pipeline(steps=[\n",
        "    ('Vectorizer', vectorizer),\n",
        "    ('Model', MLPClassifier(max_iter=10000))\n",
        "])\n",
        "\n",
        "# Fitting the pipeline with the data\n",
        "pipeMLP.fit(X_train, y_train)"
      ]
    },
    {
      "cell_type": "code",
      "execution_count": 57,
      "metadata": {
        "id": "j68Bzu1K1os3",
        "outputId": "21b18b9d-0ed7-485d-a07e-6d70fa63be38",
        "colab": {
          "base_uri": "https://localhost:8080/"
        }
      },
      "outputs": [
        {
          "output_type": "stream",
          "name": "stdout",
          "text": [
            "Accuracy on training set: 0.994\n",
            "Accuracy on test set: 0.791\n"
          ]
        }
      ],
      "source": [
        "# Printing scores on the simple version of the model\n",
        "print(\"Accuracy on training set: {:.3f}\".format(pipeMLP.score(X_train, y_train)))\n",
        "print(\"Accuracy on test set: {:.3f}\".format(pipeMLP.score(X_test, y_test)))"
      ]
    },
    {
      "cell_type": "code",
      "execution_count": null,
      "metadata": {
        "id": "YABeWyZR1os4",
        "outputId": "91f8849e-3ac9-4c88-92b7-94e0305093c6",
        "colab": {
          "base_uri": "https://localhost:8080/"
        }
      },
      "outputs": [
        {
          "output_type": "stream",
          "name": "stdout",
          "text": [
            "Fitting 2 folds for each of 48 candidates, totalling 96 fits\n",
            "[CV] END Model__activation=tanh, Model__hidden_layer_sizes=50, Vectorizer__max_df=0.01, Vectorizer__min_df=3, Vectorizer__ngram_range=(1, 1), Vectorizer__use_idf=True; total time=  23.3s\n",
            "[CV] END Model__activation=tanh, Model__hidden_layer_sizes=50, Vectorizer__max_df=0.01, Vectorizer__min_df=3, Vectorizer__ngram_range=(1, 1), Vectorizer__use_idf=True; total time=  21.7s\n",
            "[CV] END Model__activation=tanh, Model__hidden_layer_sizes=50, Vectorizer__max_df=0.01, Vectorizer__min_df=3, Vectorizer__ngram_range=(1, 1), Vectorizer__use_idf=False; total time=  26.5s\n",
            "[CV] END Model__activation=tanh, Model__hidden_layer_sizes=50, Vectorizer__max_df=0.01, Vectorizer__min_df=3, Vectorizer__ngram_range=(1, 1), Vectorizer__use_idf=False; total time=  27.6s\n",
            "[CV] END Model__activation=tanh, Model__hidden_layer_sizes=50, Vectorizer__max_df=0.01, Vectorizer__min_df=3, Vectorizer__ngram_range=(1, 2), Vectorizer__use_idf=True; total time=  45.4s\n",
            "[CV] END Model__activation=tanh, Model__hidden_layer_sizes=50, Vectorizer__max_df=0.01, Vectorizer__min_df=3, Vectorizer__ngram_range=(1, 2), Vectorizer__use_idf=True; total time=  43.6s\n",
            "[CV] END Model__activation=tanh, Model__hidden_layer_sizes=50, Vectorizer__max_df=0.01, Vectorizer__min_df=3, Vectorizer__ngram_range=(1, 2), Vectorizer__use_idf=False; total time=  45.3s\n",
            "[CV] END Model__activation=tanh, Model__hidden_layer_sizes=50, Vectorizer__max_df=0.01, Vectorizer__min_df=3, Vectorizer__ngram_range=(1, 2), Vectorizer__use_idf=False; total time=  56.9s\n",
            "[CV] END Model__activation=tanh, Model__hidden_layer_sizes=50, Vectorizer__max_df=0.1, Vectorizer__min_df=3, Vectorizer__ngram_range=(1, 1), Vectorizer__use_idf=True; total time=  26.2s\n",
            "[CV] END Model__activation=tanh, Model__hidden_layer_sizes=50, Vectorizer__max_df=0.1, Vectorizer__min_df=3, Vectorizer__ngram_range=(1, 1), Vectorizer__use_idf=True; total time= 3.8min\n",
            "[CV] END Model__activation=tanh, Model__hidden_layer_sizes=50, Vectorizer__max_df=0.1, Vectorizer__min_df=3, Vectorizer__ngram_range=(1, 1), Vectorizer__use_idf=False; total time=  35.7s\n",
            "[CV] END Model__activation=tanh, Model__hidden_layer_sizes=50, Vectorizer__max_df=0.1, Vectorizer__min_df=3, Vectorizer__ngram_range=(1, 1), Vectorizer__use_idf=False; total time=  23.5s\n",
            "[CV] END Model__activation=tanh, Model__hidden_layer_sizes=50, Vectorizer__max_df=0.1, Vectorizer__min_df=3, Vectorizer__ngram_range=(1, 2), Vectorizer__use_idf=True; total time=  54.6s\n",
            "[CV] END Model__activation=tanh, Model__hidden_layer_sizes=50, Vectorizer__max_df=0.1, Vectorizer__min_df=3, Vectorizer__ngram_range=(1, 2), Vectorizer__use_idf=True; total time=  56.4s\n",
            "[CV] END Model__activation=tanh, Model__hidden_layer_sizes=50, Vectorizer__max_df=0.1, Vectorizer__min_df=3, Vectorizer__ngram_range=(1, 2), Vectorizer__use_idf=False; total time=  57.9s\n",
            "[CV] END Model__activation=tanh, Model__hidden_layer_sizes=50, Vectorizer__max_df=0.1, Vectorizer__min_df=3, Vectorizer__ngram_range=(1, 2), Vectorizer__use_idf=False; total time=  56.0s\n",
            "[CV] END Model__activation=tanh, Model__hidden_layer_sizes=50, Vectorizer__max_df=0.2, Vectorizer__min_df=3, Vectorizer__ngram_range=(1, 1), Vectorizer__use_idf=True; total time=  26.0s\n",
            "[CV] END Model__activation=tanh, Model__hidden_layer_sizes=50, Vectorizer__max_df=0.2, Vectorizer__min_df=3, Vectorizer__ngram_range=(1, 1), Vectorizer__use_idf=True; total time= 3.3min\n",
            "[CV] END Model__activation=tanh, Model__hidden_layer_sizes=50, Vectorizer__max_df=0.2, Vectorizer__min_df=3, Vectorizer__ngram_range=(1, 1), Vectorizer__use_idf=False; total time=  25.7s\n",
            "[CV] END Model__activation=tanh, Model__hidden_layer_sizes=50, Vectorizer__max_df=0.2, Vectorizer__min_df=3, Vectorizer__ngram_range=(1, 1), Vectorizer__use_idf=False; total time=  29.4s\n",
            "[CV] END Model__activation=tanh, Model__hidden_layer_sizes=50, Vectorizer__max_df=0.2, Vectorizer__min_df=3, Vectorizer__ngram_range=(1, 2), Vectorizer__use_idf=True; total time= 1.0min\n",
            "[CV] END Model__activation=tanh, Model__hidden_layer_sizes=50, Vectorizer__max_df=0.2, Vectorizer__min_df=3, Vectorizer__ngram_range=(1, 2), Vectorizer__use_idf=True; total time=  57.2s\n",
            "[CV] END Model__activation=tanh, Model__hidden_layer_sizes=50, Vectorizer__max_df=0.2, Vectorizer__min_df=3, Vectorizer__ngram_range=(1, 2), Vectorizer__use_idf=False; total time=  55.4s\n",
            "[CV] END Model__activation=tanh, Model__hidden_layer_sizes=50, Vectorizer__max_df=0.2, Vectorizer__min_df=3, Vectorizer__ngram_range=(1, 2), Vectorizer__use_idf=False; total time=  48.6s\n",
            "[CV] END Model__activation=tanh, Model__hidden_layer_sizes=100, Vectorizer__max_df=0.01, Vectorizer__min_df=3, Vectorizer__ngram_range=(1, 1), Vectorizer__use_idf=True; total time=  32.9s\n",
            "[CV] END Model__activation=tanh, Model__hidden_layer_sizes=100, Vectorizer__max_df=0.01, Vectorizer__min_df=3, Vectorizer__ngram_range=(1, 1), Vectorizer__use_idf=True; total time=  38.2s\n",
            "[CV] END Model__activation=tanh, Model__hidden_layer_sizes=100, Vectorizer__max_df=0.01, Vectorizer__min_df=3, Vectorizer__ngram_range=(1, 1), Vectorizer__use_idf=False; total time=  45.7s\n",
            "[CV] END Model__activation=tanh, Model__hidden_layer_sizes=100, Vectorizer__max_df=0.01, Vectorizer__min_df=3, Vectorizer__ngram_range=(1, 1), Vectorizer__use_idf=False; total time=  31.9s\n",
            "[CV] END Model__activation=tanh, Model__hidden_layer_sizes=100, Vectorizer__max_df=0.01, Vectorizer__min_df=3, Vectorizer__ngram_range=(1, 2), Vectorizer__use_idf=True; total time= 1.4min\n",
            "[CV] END Model__activation=tanh, Model__hidden_layer_sizes=100, Vectorizer__max_df=0.01, Vectorizer__min_df=3, Vectorizer__ngram_range=(1, 2), Vectorizer__use_idf=True; total time= 1.7min\n",
            "[CV] END Model__activation=tanh, Model__hidden_layer_sizes=100, Vectorizer__max_df=0.01, Vectorizer__min_df=3, Vectorizer__ngram_range=(1, 2), Vectorizer__use_idf=False; total time= 1.8min\n",
            "[CV] END Model__activation=tanh, Model__hidden_layer_sizes=100, Vectorizer__max_df=0.01, Vectorizer__min_df=3, Vectorizer__ngram_range=(1, 2), Vectorizer__use_idf=False; total time= 1.4min\n",
            "[CV] END Model__activation=tanh, Model__hidden_layer_sizes=100, Vectorizer__max_df=0.1, Vectorizer__min_df=3, Vectorizer__ngram_range=(1, 1), Vectorizer__use_idf=True; total time=  49.2s\n",
            "[CV] END Model__activation=tanh, Model__hidden_layer_sizes=100, Vectorizer__max_df=0.1, Vectorizer__min_df=3, Vectorizer__ngram_range=(1, 1), Vectorizer__use_idf=True; total time= 5.3min\n",
            "[CV] END Model__activation=tanh, Model__hidden_layer_sizes=100, Vectorizer__max_df=0.1, Vectorizer__min_df=3, Vectorizer__ngram_range=(1, 1), Vectorizer__use_idf=False; total time=  35.4s\n",
            "[CV] END Model__activation=tanh, Model__hidden_layer_sizes=100, Vectorizer__max_df=0.1, Vectorizer__min_df=3, Vectorizer__ngram_range=(1, 1), Vectorizer__use_idf=False; total time=  34.0s\n",
            "[CV] END Model__activation=tanh, Model__hidden_layer_sizes=100, Vectorizer__max_df=0.1, Vectorizer__min_df=3, Vectorizer__ngram_range=(1, 2), Vectorizer__use_idf=True; total time= 1.4min\n",
            "[CV] END Model__activation=tanh, Model__hidden_layer_sizes=100, Vectorizer__max_df=0.1, Vectorizer__min_df=3, Vectorizer__ngram_range=(1, 2), Vectorizer__use_idf=True; total time= 1.2min\n",
            "[CV] END Model__activation=tanh, Model__hidden_layer_sizes=100, Vectorizer__max_df=0.1, Vectorizer__min_df=3, Vectorizer__ngram_range=(1, 2), Vectorizer__use_idf=False; total time= 1.6min\n",
            "[CV] END Model__activation=tanh, Model__hidden_layer_sizes=100, Vectorizer__max_df=0.1, Vectorizer__min_df=3, Vectorizer__ngram_range=(1, 2), Vectorizer__use_idf=False; total time= 1.7min\n",
            "[CV] END Model__activation=tanh, Model__hidden_layer_sizes=100, Vectorizer__max_df=0.2, Vectorizer__min_df=3, Vectorizer__ngram_range=(1, 1), Vectorizer__use_idf=True; total time=  34.1s\n",
            "[CV] END Model__activation=tanh, Model__hidden_layer_sizes=100, Vectorizer__max_df=0.2, Vectorizer__min_df=3, Vectorizer__ngram_range=(1, 1), Vectorizer__use_idf=True; total time=  35.4s\n",
            "[CV] END Model__activation=tanh, Model__hidden_layer_sizes=100, Vectorizer__max_df=0.2, Vectorizer__min_df=3, Vectorizer__ngram_range=(1, 1), Vectorizer__use_idf=False; total time=  33.9s\n",
            "[CV] END Model__activation=tanh, Model__hidden_layer_sizes=100, Vectorizer__max_df=0.2, Vectorizer__min_df=3, Vectorizer__ngram_range=(1, 1), Vectorizer__use_idf=False; total time=  36.1s\n",
            "[CV] END Model__activation=tanh, Model__hidden_layer_sizes=100, Vectorizer__max_df=0.2, Vectorizer__min_df=3, Vectorizer__ngram_range=(1, 2), Vectorizer__use_idf=True; total time= 1.5min\n",
            "[CV] END Model__activation=tanh, Model__hidden_layer_sizes=100, Vectorizer__max_df=0.2, Vectorizer__min_df=3, Vectorizer__ngram_range=(1, 2), Vectorizer__use_idf=True; total time= 1.6min\n",
            "[CV] END Model__activation=tanh, Model__hidden_layer_sizes=100, Vectorizer__max_df=0.2, Vectorizer__min_df=3, Vectorizer__ngram_range=(1, 2), Vectorizer__use_idf=False; total time= 1.7min\n",
            "[CV] END Model__activation=tanh, Model__hidden_layer_sizes=100, Vectorizer__max_df=0.2, Vectorizer__min_df=3, Vectorizer__ngram_range=(1, 2), Vectorizer__use_idf=False; total time= 1.4min\n",
            "[CV] END Model__activation=relu, Model__hidden_layer_sizes=50, Vectorizer__max_df=0.01, Vectorizer__min_df=3, Vectorizer__ngram_range=(1, 1), Vectorizer__use_idf=True; total time= 1.7min\n",
            "[CV] END Model__activation=relu, Model__hidden_layer_sizes=50, Vectorizer__max_df=0.01, Vectorizer__min_df=3, Vectorizer__ngram_range=(1, 1), Vectorizer__use_idf=True; total time= 1.9min\n",
            "[CV] END Model__activation=relu, Model__hidden_layer_sizes=50, Vectorizer__max_df=0.01, Vectorizer__min_df=3, Vectorizer__ngram_range=(1, 1), Vectorizer__use_idf=False; total time= 1.8min\n",
            "[CV] END Model__activation=relu, Model__hidden_layer_sizes=50, Vectorizer__max_df=0.01, Vectorizer__min_df=3, Vectorizer__ngram_range=(1, 1), Vectorizer__use_idf=False; total time= 1.6min\n",
            "[CV] END Model__activation=relu, Model__hidden_layer_sizes=50, Vectorizer__max_df=0.01, Vectorizer__min_df=3, Vectorizer__ngram_range=(1, 2), Vectorizer__use_idf=True; total time= 2.3min\n",
            "[CV] END Model__activation=relu, Model__hidden_layer_sizes=50, Vectorizer__max_df=0.01, Vectorizer__min_df=3, Vectorizer__ngram_range=(1, 2), Vectorizer__use_idf=True; total time= 2.5min\n",
            "[CV] END Model__activation=relu, Model__hidden_layer_sizes=50, Vectorizer__max_df=0.01, Vectorizer__min_df=3, Vectorizer__ngram_range=(1, 2), Vectorizer__use_idf=False; total time= 3.9min\n",
            "[CV] END Model__activation=relu, Model__hidden_layer_sizes=50, Vectorizer__max_df=0.01, Vectorizer__min_df=3, Vectorizer__ngram_range=(1, 2), Vectorizer__use_idf=False; total time= 1.8min\n",
            "[CV] END Model__activation=relu, Model__hidden_layer_sizes=50, Vectorizer__max_df=0.1, Vectorizer__min_df=3, Vectorizer__ngram_range=(1, 1), Vectorizer__use_idf=True; total time= 1.4min\n",
            "[CV] END Model__activation=relu, Model__hidden_layer_sizes=50, Vectorizer__max_df=0.1, Vectorizer__min_df=3, Vectorizer__ngram_range=(1, 1), Vectorizer__use_idf=True; total time= 1.4min\n",
            "[CV] END Model__activation=relu, Model__hidden_layer_sizes=50, Vectorizer__max_df=0.1, Vectorizer__min_df=3, Vectorizer__ngram_range=(1, 1), Vectorizer__use_idf=False; total time= 1.4min\n",
            "[CV] END Model__activation=relu, Model__hidden_layer_sizes=50, Vectorizer__max_df=0.1, Vectorizer__min_df=3, Vectorizer__ngram_range=(1, 1), Vectorizer__use_idf=False; total time= 1.3min\n",
            "[CV] END Model__activation=relu, Model__hidden_layer_sizes=50, Vectorizer__max_df=0.1, Vectorizer__min_df=3, Vectorizer__ngram_range=(1, 2), Vectorizer__use_idf=True; total time= 2.6min\n",
            "[CV] END Model__activation=relu, Model__hidden_layer_sizes=50, Vectorizer__max_df=0.1, Vectorizer__min_df=3, Vectorizer__ngram_range=(1, 2), Vectorizer__use_idf=True; total time= 2.0min\n",
            "[CV] END Model__activation=relu, Model__hidden_layer_sizes=50, Vectorizer__max_df=0.1, Vectorizer__min_df=3, Vectorizer__ngram_range=(1, 2), Vectorizer__use_idf=False; total time= 2.3min\n",
            "[CV] END Model__activation=relu, Model__hidden_layer_sizes=50, Vectorizer__max_df=0.1, Vectorizer__min_df=3, Vectorizer__ngram_range=(1, 2), Vectorizer__use_idf=False; total time= 2.1min\n",
            "[CV] END Model__activation=relu, Model__hidden_layer_sizes=50, Vectorizer__max_df=0.2, Vectorizer__min_df=3, Vectorizer__ngram_range=(1, 1), Vectorizer__use_idf=True; total time= 1.5min\n",
            "[CV] END Model__activation=relu, Model__hidden_layer_sizes=50, Vectorizer__max_df=0.2, Vectorizer__min_df=3, Vectorizer__ngram_range=(1, 1), Vectorizer__use_idf=True; total time= 1.3min\n",
            "[CV] END Model__activation=relu, Model__hidden_layer_sizes=50, Vectorizer__max_df=0.2, Vectorizer__min_df=3, Vectorizer__ngram_range=(1, 1), Vectorizer__use_idf=False; total time= 1.6min\n",
            "[CV] END Model__activation=relu, Model__hidden_layer_sizes=50, Vectorizer__max_df=0.2, Vectorizer__min_df=3, Vectorizer__ngram_range=(1, 1), Vectorizer__use_idf=False; total time= 1.4min\n",
            "[CV] END Model__activation=relu, Model__hidden_layer_sizes=50, Vectorizer__max_df=0.2, Vectorizer__min_df=3, Vectorizer__ngram_range=(1, 2), Vectorizer__use_idf=True; total time= 3.1min\n",
            "[CV] END Model__activation=relu, Model__hidden_layer_sizes=50, Vectorizer__max_df=0.2, Vectorizer__min_df=3, Vectorizer__ngram_range=(1, 2), Vectorizer__use_idf=True; total time= 2.0min\n",
            "[CV] END Model__activation=relu, Model__hidden_layer_sizes=50, Vectorizer__max_df=0.2, Vectorizer__min_df=3, Vectorizer__ngram_range=(1, 2), Vectorizer__use_idf=False; total time= 2.8min\n",
            "[CV] END Model__activation=relu, Model__hidden_layer_sizes=50, Vectorizer__max_df=0.2, Vectorizer__min_df=3, Vectorizer__ngram_range=(1, 2), Vectorizer__use_idf=False; total time= 2.5min\n",
            "[CV] END Model__activation=relu, Model__hidden_layer_sizes=100, Vectorizer__max_df=0.01, Vectorizer__min_df=3, Vectorizer__ngram_range=(1, 1), Vectorizer__use_idf=True; total time= 1.4min\n",
            "[CV] END Model__activation=relu, Model__hidden_layer_sizes=100, Vectorizer__max_df=0.01, Vectorizer__min_df=3, Vectorizer__ngram_range=(1, 1), Vectorizer__use_idf=True; total time= 1.6min\n",
            "[CV] END Model__activation=relu, Model__hidden_layer_sizes=100, Vectorizer__max_df=0.01, Vectorizer__min_df=3, Vectorizer__ngram_range=(1, 1), Vectorizer__use_idf=False; total time= 1.5min\n",
            "[CV] END Model__activation=relu, Model__hidden_layer_sizes=100, Vectorizer__max_df=0.01, Vectorizer__min_df=3, Vectorizer__ngram_range=(1, 1), Vectorizer__use_idf=False; total time= 1.6min\n",
            "[CV] END Model__activation=relu, Model__hidden_layer_sizes=100, Vectorizer__max_df=0.01, Vectorizer__min_df=3, Vectorizer__ngram_range=(1, 2), Vectorizer__use_idf=True; total time= 3.5min\n",
            "[CV] END Model__activation=relu, Model__hidden_layer_sizes=100, Vectorizer__max_df=0.01, Vectorizer__min_df=3, Vectorizer__ngram_range=(1, 2), Vectorizer__use_idf=True; total time= 3.7min\n",
            "[CV] END Model__activation=relu, Model__hidden_layer_sizes=100, Vectorizer__max_df=0.01, Vectorizer__min_df=3, Vectorizer__ngram_range=(1, 2), Vectorizer__use_idf=False; total time= 3.7min\n",
            "[CV] END Model__activation=relu, Model__hidden_layer_sizes=100, Vectorizer__max_df=0.01, Vectorizer__min_df=3, Vectorizer__ngram_range=(1, 2), Vectorizer__use_idf=False; total time= 3.3min\n",
            "[CV] END Model__activation=relu, Model__hidden_layer_sizes=100, Vectorizer__max_df=0.1, Vectorizer__min_df=3, Vectorizer__ngram_range=(1, 1), Vectorizer__use_idf=True; total time= 1.6min\n",
            "[CV] END Model__activation=relu, Model__hidden_layer_sizes=100, Vectorizer__max_df=0.1, Vectorizer__min_df=3, Vectorizer__ngram_range=(1, 1), Vectorizer__use_idf=True; total time= 1.5min\n",
            "[CV] END Model__activation=relu, Model__hidden_layer_sizes=100, Vectorizer__max_df=0.1, Vectorizer__min_df=3, Vectorizer__ngram_range=(1, 1), Vectorizer__use_idf=False; total time= 1.7min\n",
            "[CV] END Model__activation=relu, Model__hidden_layer_sizes=100, Vectorizer__max_df=0.1, Vectorizer__min_df=3, Vectorizer__ngram_range=(1, 1), Vectorizer__use_idf=False; total time= 2.0min\n",
            "[CV] END Model__activation=relu, Model__hidden_layer_sizes=100, Vectorizer__max_df=0.1, Vectorizer__min_df=3, Vectorizer__ngram_range=(1, 2), Vectorizer__use_idf=True; total time= 3.9min\n",
            "[CV] END Model__activation=relu, Model__hidden_layer_sizes=100, Vectorizer__max_df=0.1, Vectorizer__min_df=3, Vectorizer__ngram_range=(1, 2), Vectorizer__use_idf=True; total time= 3.0min\n",
            "[CV] END Model__activation=relu, Model__hidden_layer_sizes=100, Vectorizer__max_df=0.1, Vectorizer__min_df=3, Vectorizer__ngram_range=(1, 2), Vectorizer__use_idf=False; total time= 3.3min\n",
            "[CV] END Model__activation=relu, Model__hidden_layer_sizes=100, Vectorizer__max_df=0.1, Vectorizer__min_df=3, Vectorizer__ngram_range=(1, 2), Vectorizer__use_idf=False; total time= 2.7min\n",
            "[CV] END Model__activation=relu, Model__hidden_layer_sizes=100, Vectorizer__max_df=0.2, Vectorizer__min_df=3, Vectorizer__ngram_range=(1, 1), Vectorizer__use_idf=True; total time= 1.5min\n",
            "[CV] END Model__activation=relu, Model__hidden_layer_sizes=100, Vectorizer__max_df=0.2, Vectorizer__min_df=3, Vectorizer__ngram_range=(1, 1), Vectorizer__use_idf=True; total time= 1.6min\n",
            "[CV] END Model__activation=relu, Model__hidden_layer_sizes=100, Vectorizer__max_df=0.2, Vectorizer__min_df=3, Vectorizer__ngram_range=(1, 1), Vectorizer__use_idf=False; total time= 1.7min\n",
            "[CV] END Model__activation=relu, Model__hidden_layer_sizes=100, Vectorizer__max_df=0.2, Vectorizer__min_df=3, Vectorizer__ngram_range=(1, 1), Vectorizer__use_idf=False; total time= 1.6min\n",
            "[CV] END Model__activation=relu, Model__hidden_layer_sizes=100, Vectorizer__max_df=0.2, Vectorizer__min_df=3, Vectorizer__ngram_range=(1, 2), Vectorizer__use_idf=True; total time= 2.9min\n",
            "[CV] END Model__activation=relu, Model__hidden_layer_sizes=100, Vectorizer__max_df=0.2, Vectorizer__min_df=3, Vectorizer__ngram_range=(1, 2), Vectorizer__use_idf=True; total time= 2.8min\n"
          ]
        }
      ],
      "source": [
        "# Defining parameters for the param grid. Very intensive when it comes to computing time. https://scikit-learn.org/stable/modules/generated/sklearn.neural_network.MLPClassifier.html\n",
        "params = {\n",
        "    'Vectorizer__ngram_range':ngram_range,\n",
        "    'Vectorizer__min_df':min_df,\n",
        "    'Vectorizer__max_df':max_df,\n",
        "    'Vectorizer__use_idf':use_idf,\n",
        "    'Model__activation':['tanh','relu'],\n",
        "    'Model__hidden_layer_sizes':[50,100],\n",
        "}\n",
        "\n",
        "# Defining grid search with the pipeline\n",
        "searchMLP = GridSearchCV(\n",
        "    pipeMLP,\n",
        "    param_grid=params,\n",
        "    cv=2,\n",
        "    verbose = 1.5\n",
        ")\n",
        "\n",
        "# Fitting the grid search\n",
        "searchMLP.fit(X_train, y_train)"
      ]
    },
    {
      "cell_type": "code",
      "execution_count": null,
      "metadata": {
        "id": "TyFUJojo1os4"
      },
      "outputs": [],
      "source": [
        "# Printing the results\n",
        "printScoreParams('MLP', searchMLP)"
      ]
    },
    {
      "cell_type": "code",
      "execution_count": null,
      "metadata": {
        "id": "VwNZK5VXiXWf"
      },
      "outputs": [],
      "source": [
        "# This codeblock is only useful in Google Colab https://stackoverflow.com/questions/51078996/how-can-i-download-this-model-from-colaboratory\n",
        "# Saving the model\n",
        "dump(searchMLP, 'mlp_model_40K.joblib') \n",
        "\n",
        "# Downloading the file\n",
        "files.download('mlp_model_40K.joblib')"
      ]
    },
    {
      "cell_type": "code",
      "execution_count": null,
      "metadata": {
        "id": "Nna4rne_ih0r"
      },
      "outputs": [],
      "source": [
        "# Load the model\n",
        "searchMLP = load('mlp_model_40K.joblib') "
      ]
    },
    {
      "cell_type": "markdown",
      "metadata": {
        "id": "BTUShOdT1os4"
      },
      "source": [
        "### Naive Bayes"
      ]
    },
    {
      "cell_type": "code",
      "execution_count": 58,
      "metadata": {
        "id": "oQuA8-vG1os4",
        "outputId": "b93da2ff-080a-4d7c-beca-e0b48eb7d852",
        "colab": {
          "base_uri": "https://localhost:8080/",
          "height": 126
        }
      },
      "outputs": [
        {
          "output_type": "execute_result",
          "data": {
            "text/plain": [
              "Pipeline(steps=[('Vectorizer', TfidfVectorizer()), ('Model', MultinomialNB())])"
            ],
            "text/html": [
              "<style>#sk-container-id-7 {color: black;background-color: white;}#sk-container-id-7 pre{padding: 0;}#sk-container-id-7 div.sk-toggleable {background-color: white;}#sk-container-id-7 label.sk-toggleable__label {cursor: pointer;display: block;width: 100%;margin-bottom: 0;padding: 0.3em;box-sizing: border-box;text-align: center;}#sk-container-id-7 label.sk-toggleable__label-arrow:before {content: \"▸\";float: left;margin-right: 0.25em;color: #696969;}#sk-container-id-7 label.sk-toggleable__label-arrow:hover:before {color: black;}#sk-container-id-7 div.sk-estimator:hover label.sk-toggleable__label-arrow:before {color: black;}#sk-container-id-7 div.sk-toggleable__content {max-height: 0;max-width: 0;overflow: hidden;text-align: left;background-color: #f0f8ff;}#sk-container-id-7 div.sk-toggleable__content pre {margin: 0.2em;color: black;border-radius: 0.25em;background-color: #f0f8ff;}#sk-container-id-7 input.sk-toggleable__control:checked~div.sk-toggleable__content {max-height: 200px;max-width: 100%;overflow: auto;}#sk-container-id-7 input.sk-toggleable__control:checked~label.sk-toggleable__label-arrow:before {content: \"▾\";}#sk-container-id-7 div.sk-estimator input.sk-toggleable__control:checked~label.sk-toggleable__label {background-color: #d4ebff;}#sk-container-id-7 div.sk-label input.sk-toggleable__control:checked~label.sk-toggleable__label {background-color: #d4ebff;}#sk-container-id-7 input.sk-hidden--visually {border: 0;clip: rect(1px 1px 1px 1px);clip: rect(1px, 1px, 1px, 1px);height: 1px;margin: -1px;overflow: hidden;padding: 0;position: absolute;width: 1px;}#sk-container-id-7 div.sk-estimator {font-family: monospace;background-color: #f0f8ff;border: 1px dotted black;border-radius: 0.25em;box-sizing: border-box;margin-bottom: 0.5em;}#sk-container-id-7 div.sk-estimator:hover {background-color: #d4ebff;}#sk-container-id-7 div.sk-parallel-item::after {content: \"\";width: 100%;border-bottom: 1px solid gray;flex-grow: 1;}#sk-container-id-7 div.sk-label:hover label.sk-toggleable__label {background-color: #d4ebff;}#sk-container-id-7 div.sk-serial::before {content: \"\";position: absolute;border-left: 1px solid gray;box-sizing: border-box;top: 0;bottom: 0;left: 50%;z-index: 0;}#sk-container-id-7 div.sk-serial {display: flex;flex-direction: column;align-items: center;background-color: white;padding-right: 0.2em;padding-left: 0.2em;position: relative;}#sk-container-id-7 div.sk-item {position: relative;z-index: 1;}#sk-container-id-7 div.sk-parallel {display: flex;align-items: stretch;justify-content: center;background-color: white;position: relative;}#sk-container-id-7 div.sk-item::before, #sk-container-id-7 div.sk-parallel-item::before {content: \"\";position: absolute;border-left: 1px solid gray;box-sizing: border-box;top: 0;bottom: 0;left: 50%;z-index: -1;}#sk-container-id-7 div.sk-parallel-item {display: flex;flex-direction: column;z-index: 1;position: relative;background-color: white;}#sk-container-id-7 div.sk-parallel-item:first-child::after {align-self: flex-end;width: 50%;}#sk-container-id-7 div.sk-parallel-item:last-child::after {align-self: flex-start;width: 50%;}#sk-container-id-7 div.sk-parallel-item:only-child::after {width: 0;}#sk-container-id-7 div.sk-dashed-wrapped {border: 1px dashed gray;margin: 0 0.4em 0.5em 0.4em;box-sizing: border-box;padding-bottom: 0.4em;background-color: white;}#sk-container-id-7 div.sk-label label {font-family: monospace;font-weight: bold;display: inline-block;line-height: 1.2em;}#sk-container-id-7 div.sk-label-container {text-align: center;}#sk-container-id-7 div.sk-container {/* jupyter's `normalize.less` sets `[hidden] { display: none; }` but bootstrap.min.css set `[hidden] { display: none !important; }` so we also need the `!important` here to be able to override the default hidden behavior on the sphinx rendered scikit-learn.org. See: https://github.com/scikit-learn/scikit-learn/issues/21755 */display: inline-block !important;position: relative;}#sk-container-id-7 div.sk-text-repr-fallback {display: none;}</style><div id=\"sk-container-id-7\" class=\"sk-top-container\"><div class=\"sk-text-repr-fallback\"><pre>Pipeline(steps=[(&#x27;Vectorizer&#x27;, TfidfVectorizer()), (&#x27;Model&#x27;, MultinomialNB())])</pre><b>In a Jupyter environment, please rerun this cell to show the HTML representation or trust the notebook. <br />On GitHub, the HTML representation is unable to render, please try loading this page with nbviewer.org.</b></div><div class=\"sk-container\" hidden><div class=\"sk-item sk-dashed-wrapped\"><div class=\"sk-label-container\"><div class=\"sk-label sk-toggleable\"><input class=\"sk-toggleable__control sk-hidden--visually\" id=\"sk-estimator-id-20\" type=\"checkbox\" ><label for=\"sk-estimator-id-20\" class=\"sk-toggleable__label sk-toggleable__label-arrow\">Pipeline</label><div class=\"sk-toggleable__content\"><pre>Pipeline(steps=[(&#x27;Vectorizer&#x27;, TfidfVectorizer()), (&#x27;Model&#x27;, MultinomialNB())])</pre></div></div></div><div class=\"sk-serial\"><div class=\"sk-item\"><div class=\"sk-estimator sk-toggleable\"><input class=\"sk-toggleable__control sk-hidden--visually\" id=\"sk-estimator-id-21\" type=\"checkbox\" ><label for=\"sk-estimator-id-21\" class=\"sk-toggleable__label sk-toggleable__label-arrow\">TfidfVectorizer</label><div class=\"sk-toggleable__content\"><pre>TfidfVectorizer()</pre></div></div></div><div class=\"sk-item\"><div class=\"sk-estimator sk-toggleable\"><input class=\"sk-toggleable__control sk-hidden--visually\" id=\"sk-estimator-id-22\" type=\"checkbox\" ><label for=\"sk-estimator-id-22\" class=\"sk-toggleable__label sk-toggleable__label-arrow\">MultinomialNB</label><div class=\"sk-toggleable__content\"><pre>MultinomialNB()</pre></div></div></div></div></div></div></div>"
            ]
          },
          "metadata": {},
          "execution_count": 58
        }
      ],
      "source": [
        "# Defining pipe for Naive Bayes\n",
        "pipeNB = Pipeline(steps=[\n",
        "    ('Vectorizer', vectorizer),\n",
        "    ('Model', MultinomialNB())\n",
        "])\n",
        "\n",
        "# Fitting the pipeline with the data\n",
        "pipeNB.fit(X_train, y_train)"
      ]
    },
    {
      "cell_type": "code",
      "execution_count": 59,
      "metadata": {
        "id": "vx91eHrJ1os4",
        "outputId": "0f57d4ad-c72f-4b20-8283-9b0d1091aed0",
        "colab": {
          "base_uri": "https://localhost:8080/"
        }
      },
      "outputs": [
        {
          "output_type": "stream",
          "name": "stdout",
          "text": [
            "Accuracy on training set: 0.892\n",
            "Accuracy on test set: 0.795\n"
          ]
        }
      ],
      "source": [
        "# Printing scores on the simple version of the model\n",
        "print(\"Accuracy on training set: {:.3f}\".format(pipeNB.score(X_train, y_train)))\n",
        "print(\"Accuracy on test set: {:.3f}\".format(pipeNB.score(X_test, y_test)))"
      ]
    },
    {
      "cell_type": "code",
      "execution_count": 60,
      "metadata": {
        "id": "Mhoy8-Ip1os4",
        "outputId": "2cdabf17-ad66-42cf-9942-707e0df9d15d",
        "colab": {
          "base_uri": "https://localhost:8080/",
          "height": 152
        }
      },
      "outputs": [
        {
          "output_type": "execute_result",
          "data": {
            "text/plain": [
              "GridSearchCV(cv=2,\n",
              "             estimator=Pipeline(steps=[('Vectorizer', TfidfVectorizer()),\n",
              "                                       ('Model', MultinomialNB())]),\n",
              "             param_grid={'Model__fit_prior': [True, False],\n",
              "                         'Vectorizer__max_df': [0.01, 0.1, 0.2],\n",
              "                         'Vectorizer__min_df': [3],\n",
              "                         'Vectorizer__ngram_range': [(1, 1), (1, 2)],\n",
              "                         'Vectorizer__use_idf': [True, False]})"
            ],
            "text/html": [
              "<style>#sk-container-id-8 {color: black;background-color: white;}#sk-container-id-8 pre{padding: 0;}#sk-container-id-8 div.sk-toggleable {background-color: white;}#sk-container-id-8 label.sk-toggleable__label {cursor: pointer;display: block;width: 100%;margin-bottom: 0;padding: 0.3em;box-sizing: border-box;text-align: center;}#sk-container-id-8 label.sk-toggleable__label-arrow:before {content: \"▸\";float: left;margin-right: 0.25em;color: #696969;}#sk-container-id-8 label.sk-toggleable__label-arrow:hover:before {color: black;}#sk-container-id-8 div.sk-estimator:hover label.sk-toggleable__label-arrow:before {color: black;}#sk-container-id-8 div.sk-toggleable__content {max-height: 0;max-width: 0;overflow: hidden;text-align: left;background-color: #f0f8ff;}#sk-container-id-8 div.sk-toggleable__content pre {margin: 0.2em;color: black;border-radius: 0.25em;background-color: #f0f8ff;}#sk-container-id-8 input.sk-toggleable__control:checked~div.sk-toggleable__content {max-height: 200px;max-width: 100%;overflow: auto;}#sk-container-id-8 input.sk-toggleable__control:checked~label.sk-toggleable__label-arrow:before {content: \"▾\";}#sk-container-id-8 div.sk-estimator input.sk-toggleable__control:checked~label.sk-toggleable__label {background-color: #d4ebff;}#sk-container-id-8 div.sk-label input.sk-toggleable__control:checked~label.sk-toggleable__label {background-color: #d4ebff;}#sk-container-id-8 input.sk-hidden--visually {border: 0;clip: rect(1px 1px 1px 1px);clip: rect(1px, 1px, 1px, 1px);height: 1px;margin: -1px;overflow: hidden;padding: 0;position: absolute;width: 1px;}#sk-container-id-8 div.sk-estimator {font-family: monospace;background-color: #f0f8ff;border: 1px dotted black;border-radius: 0.25em;box-sizing: border-box;margin-bottom: 0.5em;}#sk-container-id-8 div.sk-estimator:hover {background-color: #d4ebff;}#sk-container-id-8 div.sk-parallel-item::after {content: \"\";width: 100%;border-bottom: 1px solid gray;flex-grow: 1;}#sk-container-id-8 div.sk-label:hover label.sk-toggleable__label {background-color: #d4ebff;}#sk-container-id-8 div.sk-serial::before {content: \"\";position: absolute;border-left: 1px solid gray;box-sizing: border-box;top: 0;bottom: 0;left: 50%;z-index: 0;}#sk-container-id-8 div.sk-serial {display: flex;flex-direction: column;align-items: center;background-color: white;padding-right: 0.2em;padding-left: 0.2em;position: relative;}#sk-container-id-8 div.sk-item {position: relative;z-index: 1;}#sk-container-id-8 div.sk-parallel {display: flex;align-items: stretch;justify-content: center;background-color: white;position: relative;}#sk-container-id-8 div.sk-item::before, #sk-container-id-8 div.sk-parallel-item::before {content: \"\";position: absolute;border-left: 1px solid gray;box-sizing: border-box;top: 0;bottom: 0;left: 50%;z-index: -1;}#sk-container-id-8 div.sk-parallel-item {display: flex;flex-direction: column;z-index: 1;position: relative;background-color: white;}#sk-container-id-8 div.sk-parallel-item:first-child::after {align-self: flex-end;width: 50%;}#sk-container-id-8 div.sk-parallel-item:last-child::after {align-self: flex-start;width: 50%;}#sk-container-id-8 div.sk-parallel-item:only-child::after {width: 0;}#sk-container-id-8 div.sk-dashed-wrapped {border: 1px dashed gray;margin: 0 0.4em 0.5em 0.4em;box-sizing: border-box;padding-bottom: 0.4em;background-color: white;}#sk-container-id-8 div.sk-label label {font-family: monospace;font-weight: bold;display: inline-block;line-height: 1.2em;}#sk-container-id-8 div.sk-label-container {text-align: center;}#sk-container-id-8 div.sk-container {/* jupyter's `normalize.less` sets `[hidden] { display: none; }` but bootstrap.min.css set `[hidden] { display: none !important; }` so we also need the `!important` here to be able to override the default hidden behavior on the sphinx rendered scikit-learn.org. See: https://github.com/scikit-learn/scikit-learn/issues/21755 */display: inline-block !important;position: relative;}#sk-container-id-8 div.sk-text-repr-fallback {display: none;}</style><div id=\"sk-container-id-8\" class=\"sk-top-container\"><div class=\"sk-text-repr-fallback\"><pre>GridSearchCV(cv=2,\n",
              "             estimator=Pipeline(steps=[(&#x27;Vectorizer&#x27;, TfidfVectorizer()),\n",
              "                                       (&#x27;Model&#x27;, MultinomialNB())]),\n",
              "             param_grid={&#x27;Model__fit_prior&#x27;: [True, False],\n",
              "                         &#x27;Vectorizer__max_df&#x27;: [0.01, 0.1, 0.2],\n",
              "                         &#x27;Vectorizer__min_df&#x27;: [3],\n",
              "                         &#x27;Vectorizer__ngram_range&#x27;: [(1, 1), (1, 2)],\n",
              "                         &#x27;Vectorizer__use_idf&#x27;: [True, False]})</pre><b>In a Jupyter environment, please rerun this cell to show the HTML representation or trust the notebook. <br />On GitHub, the HTML representation is unable to render, please try loading this page with nbviewer.org.</b></div><div class=\"sk-container\" hidden><div class=\"sk-item sk-dashed-wrapped\"><div class=\"sk-label-container\"><div class=\"sk-label sk-toggleable\"><input class=\"sk-toggleable__control sk-hidden--visually\" id=\"sk-estimator-id-23\" type=\"checkbox\" ><label for=\"sk-estimator-id-23\" class=\"sk-toggleable__label sk-toggleable__label-arrow\">GridSearchCV</label><div class=\"sk-toggleable__content\"><pre>GridSearchCV(cv=2,\n",
              "             estimator=Pipeline(steps=[(&#x27;Vectorizer&#x27;, TfidfVectorizer()),\n",
              "                                       (&#x27;Model&#x27;, MultinomialNB())]),\n",
              "             param_grid={&#x27;Model__fit_prior&#x27;: [True, False],\n",
              "                         &#x27;Vectorizer__max_df&#x27;: [0.01, 0.1, 0.2],\n",
              "                         &#x27;Vectorizer__min_df&#x27;: [3],\n",
              "                         &#x27;Vectorizer__ngram_range&#x27;: [(1, 1), (1, 2)],\n",
              "                         &#x27;Vectorizer__use_idf&#x27;: [True, False]})</pre></div></div></div><div class=\"sk-parallel\"><div class=\"sk-parallel-item\"><div class=\"sk-item\"><div class=\"sk-label-container\"><div class=\"sk-label sk-toggleable\"><input class=\"sk-toggleable__control sk-hidden--visually\" id=\"sk-estimator-id-24\" type=\"checkbox\" ><label for=\"sk-estimator-id-24\" class=\"sk-toggleable__label sk-toggleable__label-arrow\">estimator: Pipeline</label><div class=\"sk-toggleable__content\"><pre>Pipeline(steps=[(&#x27;Vectorizer&#x27;, TfidfVectorizer()), (&#x27;Model&#x27;, MultinomialNB())])</pre></div></div></div><div class=\"sk-serial\"><div class=\"sk-item\"><div class=\"sk-serial\"><div class=\"sk-item\"><div class=\"sk-estimator sk-toggleable\"><input class=\"sk-toggleable__control sk-hidden--visually\" id=\"sk-estimator-id-25\" type=\"checkbox\" ><label for=\"sk-estimator-id-25\" class=\"sk-toggleable__label sk-toggleable__label-arrow\">TfidfVectorizer</label><div class=\"sk-toggleable__content\"><pre>TfidfVectorizer()</pre></div></div></div><div class=\"sk-item\"><div class=\"sk-estimator sk-toggleable\"><input class=\"sk-toggleable__control sk-hidden--visually\" id=\"sk-estimator-id-26\" type=\"checkbox\" ><label for=\"sk-estimator-id-26\" class=\"sk-toggleable__label sk-toggleable__label-arrow\">MultinomialNB</label><div class=\"sk-toggleable__content\"><pre>MultinomialNB()</pre></div></div></div></div></div></div></div></div></div></div></div></div>"
            ]
          },
          "metadata": {},
          "execution_count": 60
        }
      ],
      "source": [
        "# Defining parameters for the param grid. https://scikit-learn.org/stable/modules/generated/sklearn.naive_bayes.MultinomialNB.html\n",
        "params = {\n",
        "    'Vectorizer__ngram_range':ngram_range,\n",
        "    'Vectorizer__min_df':min_df,\n",
        "    'Vectorizer__max_df':max_df,\n",
        "    'Vectorizer__use_idf':use_idf,\n",
        "    'Model__fit_prior':[True,False]\n",
        "}\n",
        "\n",
        "# Defining grid search with the pipeline\n",
        "searchNB = GridSearchCV(\n",
        "    pipeNB,\n",
        "    param_grid=params,\n",
        "    cv=2\n",
        ")\n",
        "\n",
        "# Fitting the grid search\n",
        "searchNB.fit(X_train, y_train)"
      ]
    },
    {
      "cell_type": "code",
      "execution_count": 61,
      "metadata": {
        "id": "UyzG9TLd1os5",
        "outputId": "cb9be9a9-2fa8-4167-edba-64a500699142",
        "colab": {
          "base_uri": "https://localhost:8080/"
        }
      },
      "outputs": [
        {
          "output_type": "stream",
          "name": "stdout",
          "text": [
            "The results from: Naive Bayes\n",
            "Accuracy on training set: 0.856\n",
            "Accuracy on test set: 0.808\n",
            "Best params:  {'Model__fit_prior': True, 'Vectorizer__max_df': 0.2, 'Vectorizer__min_df': 3, 'Vectorizer__ngram_range': (1, 2), 'Vectorizer__use_idf': False}\n"
          ]
        }
      ],
      "source": [
        "# Printing\n",
        "printScoreParams('Naive Bayes', searchNB)"
      ]
    },
    {
      "cell_type": "markdown",
      "metadata": {
        "id": "edBk6Q2n1os5"
      },
      "source": [
        "### Random Forrest"
      ]
    },
    {
      "cell_type": "code",
      "execution_count": 62,
      "metadata": {
        "id": "Sqy2YyxH1os5",
        "outputId": "94b614df-5e02-451b-f94c-029914f71f15",
        "colab": {
          "base_uri": "https://localhost:8080/",
          "height": 126
        }
      },
      "outputs": [
        {
          "output_type": "execute_result",
          "data": {
            "text/plain": [
              "Pipeline(steps=[('Vectorizer', TfidfVectorizer()),\n",
              "                ('Model', RandomForestClassifier())])"
            ],
            "text/html": [
              "<style>#sk-container-id-9 {color: black;background-color: white;}#sk-container-id-9 pre{padding: 0;}#sk-container-id-9 div.sk-toggleable {background-color: white;}#sk-container-id-9 label.sk-toggleable__label {cursor: pointer;display: block;width: 100%;margin-bottom: 0;padding: 0.3em;box-sizing: border-box;text-align: center;}#sk-container-id-9 label.sk-toggleable__label-arrow:before {content: \"▸\";float: left;margin-right: 0.25em;color: #696969;}#sk-container-id-9 label.sk-toggleable__label-arrow:hover:before {color: black;}#sk-container-id-9 div.sk-estimator:hover label.sk-toggleable__label-arrow:before {color: black;}#sk-container-id-9 div.sk-toggleable__content {max-height: 0;max-width: 0;overflow: hidden;text-align: left;background-color: #f0f8ff;}#sk-container-id-9 div.sk-toggleable__content pre {margin: 0.2em;color: black;border-radius: 0.25em;background-color: #f0f8ff;}#sk-container-id-9 input.sk-toggleable__control:checked~div.sk-toggleable__content {max-height: 200px;max-width: 100%;overflow: auto;}#sk-container-id-9 input.sk-toggleable__control:checked~label.sk-toggleable__label-arrow:before {content: \"▾\";}#sk-container-id-9 div.sk-estimator input.sk-toggleable__control:checked~label.sk-toggleable__label {background-color: #d4ebff;}#sk-container-id-9 div.sk-label input.sk-toggleable__control:checked~label.sk-toggleable__label {background-color: #d4ebff;}#sk-container-id-9 input.sk-hidden--visually {border: 0;clip: rect(1px 1px 1px 1px);clip: rect(1px, 1px, 1px, 1px);height: 1px;margin: -1px;overflow: hidden;padding: 0;position: absolute;width: 1px;}#sk-container-id-9 div.sk-estimator {font-family: monospace;background-color: #f0f8ff;border: 1px dotted black;border-radius: 0.25em;box-sizing: border-box;margin-bottom: 0.5em;}#sk-container-id-9 div.sk-estimator:hover {background-color: #d4ebff;}#sk-container-id-9 div.sk-parallel-item::after {content: \"\";width: 100%;border-bottom: 1px solid gray;flex-grow: 1;}#sk-container-id-9 div.sk-label:hover label.sk-toggleable__label {background-color: #d4ebff;}#sk-container-id-9 div.sk-serial::before {content: \"\";position: absolute;border-left: 1px solid gray;box-sizing: border-box;top: 0;bottom: 0;left: 50%;z-index: 0;}#sk-container-id-9 div.sk-serial {display: flex;flex-direction: column;align-items: center;background-color: white;padding-right: 0.2em;padding-left: 0.2em;position: relative;}#sk-container-id-9 div.sk-item {position: relative;z-index: 1;}#sk-container-id-9 div.sk-parallel {display: flex;align-items: stretch;justify-content: center;background-color: white;position: relative;}#sk-container-id-9 div.sk-item::before, #sk-container-id-9 div.sk-parallel-item::before {content: \"\";position: absolute;border-left: 1px solid gray;box-sizing: border-box;top: 0;bottom: 0;left: 50%;z-index: -1;}#sk-container-id-9 div.sk-parallel-item {display: flex;flex-direction: column;z-index: 1;position: relative;background-color: white;}#sk-container-id-9 div.sk-parallel-item:first-child::after {align-self: flex-end;width: 50%;}#sk-container-id-9 div.sk-parallel-item:last-child::after {align-self: flex-start;width: 50%;}#sk-container-id-9 div.sk-parallel-item:only-child::after {width: 0;}#sk-container-id-9 div.sk-dashed-wrapped {border: 1px dashed gray;margin: 0 0.4em 0.5em 0.4em;box-sizing: border-box;padding-bottom: 0.4em;background-color: white;}#sk-container-id-9 div.sk-label label {font-family: monospace;font-weight: bold;display: inline-block;line-height: 1.2em;}#sk-container-id-9 div.sk-label-container {text-align: center;}#sk-container-id-9 div.sk-container {/* jupyter's `normalize.less` sets `[hidden] { display: none; }` but bootstrap.min.css set `[hidden] { display: none !important; }` so we also need the `!important` here to be able to override the default hidden behavior on the sphinx rendered scikit-learn.org. See: https://github.com/scikit-learn/scikit-learn/issues/21755 */display: inline-block !important;position: relative;}#sk-container-id-9 div.sk-text-repr-fallback {display: none;}</style><div id=\"sk-container-id-9\" class=\"sk-top-container\"><div class=\"sk-text-repr-fallback\"><pre>Pipeline(steps=[(&#x27;Vectorizer&#x27;, TfidfVectorizer()),\n",
              "                (&#x27;Model&#x27;, RandomForestClassifier())])</pre><b>In a Jupyter environment, please rerun this cell to show the HTML representation or trust the notebook. <br />On GitHub, the HTML representation is unable to render, please try loading this page with nbviewer.org.</b></div><div class=\"sk-container\" hidden><div class=\"sk-item sk-dashed-wrapped\"><div class=\"sk-label-container\"><div class=\"sk-label sk-toggleable\"><input class=\"sk-toggleable__control sk-hidden--visually\" id=\"sk-estimator-id-27\" type=\"checkbox\" ><label for=\"sk-estimator-id-27\" class=\"sk-toggleable__label sk-toggleable__label-arrow\">Pipeline</label><div class=\"sk-toggleable__content\"><pre>Pipeline(steps=[(&#x27;Vectorizer&#x27;, TfidfVectorizer()),\n",
              "                (&#x27;Model&#x27;, RandomForestClassifier())])</pre></div></div></div><div class=\"sk-serial\"><div class=\"sk-item\"><div class=\"sk-estimator sk-toggleable\"><input class=\"sk-toggleable__control sk-hidden--visually\" id=\"sk-estimator-id-28\" type=\"checkbox\" ><label for=\"sk-estimator-id-28\" class=\"sk-toggleable__label sk-toggleable__label-arrow\">TfidfVectorizer</label><div class=\"sk-toggleable__content\"><pre>TfidfVectorizer()</pre></div></div></div><div class=\"sk-item\"><div class=\"sk-estimator sk-toggleable\"><input class=\"sk-toggleable__control sk-hidden--visually\" id=\"sk-estimator-id-29\" type=\"checkbox\" ><label for=\"sk-estimator-id-29\" class=\"sk-toggleable__label sk-toggleable__label-arrow\">RandomForestClassifier</label><div class=\"sk-toggleable__content\"><pre>RandomForestClassifier()</pre></div></div></div></div></div></div></div>"
            ]
          },
          "metadata": {},
          "execution_count": 62
        }
      ],
      "source": [
        "# Defining pipe for Random Forrest\n",
        "pipeRF = Pipeline(steps=[\n",
        "    ('Vectorizer', vectorizer),\n",
        "    ('Model', RandomForestClassifier())\n",
        "])\n",
        "\n",
        "# Fitting the pipeline with the data\n",
        "pipeRF.fit(X_train, y_train)"
      ]
    },
    {
      "cell_type": "code",
      "execution_count": 63,
      "metadata": {
        "id": "j-HTXnp41os5",
        "outputId": "233a498b-6b3a-4f47-ea92-8e65af94738e",
        "colab": {
          "base_uri": "https://localhost:8080/"
        }
      },
      "outputs": [
        {
          "output_type": "stream",
          "name": "stdout",
          "text": [
            "Accuracy on training set: 0.995\n",
            "Accuracy on test set: 0.801\n"
          ]
        }
      ],
      "source": [
        "# Printing scores on the simple version of the model\n",
        "print(\"Accuracy on training set: {:.3f}\".format(pipeRF.score(X_train, y_train)))\n",
        "print(\"Accuracy on test set: {:.3f}\".format(pipeRF.score(X_test, y_test)))"
      ]
    },
    {
      "cell_type": "code",
      "execution_count": 64,
      "metadata": {
        "id": "CRIybHlQ1os5",
        "outputId": "3c38b56c-44a8-48f5-93ec-bb0c0a75775e",
        "colab": {
          "base_uri": "https://localhost:8080/",
          "height": 152
        }
      },
      "outputs": [
        {
          "output_type": "execute_result",
          "data": {
            "text/plain": [
              "GridSearchCV(cv=2,\n",
              "             estimator=Pipeline(steps=[('Vectorizer', TfidfVectorizer()),\n",
              "                                       ('Model', RandomForestClassifier())]),\n",
              "             param_grid={'Model__max_depth': [5, 10],\n",
              "                         'Model__min_samples_leaf': [5, 10],\n",
              "                         'Model__n_estimators': [50, 100, 150],\n",
              "                         'Model__random_state': [42],\n",
              "                         'Vectorizer__max_df': [0.01, 0.1, 0.2],\n",
              "                         'Vectorizer__min_df': [3],\n",
              "                         'Vectorizer__ngram_range': [(1, 1), (1, 2)],\n",
              "                         'Vectorizer__use_idf': [True, False]})"
            ],
            "text/html": [
              "<style>#sk-container-id-10 {color: black;background-color: white;}#sk-container-id-10 pre{padding: 0;}#sk-container-id-10 div.sk-toggleable {background-color: white;}#sk-container-id-10 label.sk-toggleable__label {cursor: pointer;display: block;width: 100%;margin-bottom: 0;padding: 0.3em;box-sizing: border-box;text-align: center;}#sk-container-id-10 label.sk-toggleable__label-arrow:before {content: \"▸\";float: left;margin-right: 0.25em;color: #696969;}#sk-container-id-10 label.sk-toggleable__label-arrow:hover:before {color: black;}#sk-container-id-10 div.sk-estimator:hover label.sk-toggleable__label-arrow:before {color: black;}#sk-container-id-10 div.sk-toggleable__content {max-height: 0;max-width: 0;overflow: hidden;text-align: left;background-color: #f0f8ff;}#sk-container-id-10 div.sk-toggleable__content pre {margin: 0.2em;color: black;border-radius: 0.25em;background-color: #f0f8ff;}#sk-container-id-10 input.sk-toggleable__control:checked~div.sk-toggleable__content {max-height: 200px;max-width: 100%;overflow: auto;}#sk-container-id-10 input.sk-toggleable__control:checked~label.sk-toggleable__label-arrow:before {content: \"▾\";}#sk-container-id-10 div.sk-estimator input.sk-toggleable__control:checked~label.sk-toggleable__label {background-color: #d4ebff;}#sk-container-id-10 div.sk-label input.sk-toggleable__control:checked~label.sk-toggleable__label {background-color: #d4ebff;}#sk-container-id-10 input.sk-hidden--visually {border: 0;clip: rect(1px 1px 1px 1px);clip: rect(1px, 1px, 1px, 1px);height: 1px;margin: -1px;overflow: hidden;padding: 0;position: absolute;width: 1px;}#sk-container-id-10 div.sk-estimator {font-family: monospace;background-color: #f0f8ff;border: 1px dotted black;border-radius: 0.25em;box-sizing: border-box;margin-bottom: 0.5em;}#sk-container-id-10 div.sk-estimator:hover {background-color: #d4ebff;}#sk-container-id-10 div.sk-parallel-item::after {content: \"\";width: 100%;border-bottom: 1px solid gray;flex-grow: 1;}#sk-container-id-10 div.sk-label:hover label.sk-toggleable__label {background-color: #d4ebff;}#sk-container-id-10 div.sk-serial::before {content: \"\";position: absolute;border-left: 1px solid gray;box-sizing: border-box;top: 0;bottom: 0;left: 50%;z-index: 0;}#sk-container-id-10 div.sk-serial {display: flex;flex-direction: column;align-items: center;background-color: white;padding-right: 0.2em;padding-left: 0.2em;position: relative;}#sk-container-id-10 div.sk-item {position: relative;z-index: 1;}#sk-container-id-10 div.sk-parallel {display: flex;align-items: stretch;justify-content: center;background-color: white;position: relative;}#sk-container-id-10 div.sk-item::before, #sk-container-id-10 div.sk-parallel-item::before {content: \"\";position: absolute;border-left: 1px solid gray;box-sizing: border-box;top: 0;bottom: 0;left: 50%;z-index: -1;}#sk-container-id-10 div.sk-parallel-item {display: flex;flex-direction: column;z-index: 1;position: relative;background-color: white;}#sk-container-id-10 div.sk-parallel-item:first-child::after {align-self: flex-end;width: 50%;}#sk-container-id-10 div.sk-parallel-item:last-child::after {align-self: flex-start;width: 50%;}#sk-container-id-10 div.sk-parallel-item:only-child::after {width: 0;}#sk-container-id-10 div.sk-dashed-wrapped {border: 1px dashed gray;margin: 0 0.4em 0.5em 0.4em;box-sizing: border-box;padding-bottom: 0.4em;background-color: white;}#sk-container-id-10 div.sk-label label {font-family: monospace;font-weight: bold;display: inline-block;line-height: 1.2em;}#sk-container-id-10 div.sk-label-container {text-align: center;}#sk-container-id-10 div.sk-container {/* jupyter's `normalize.less` sets `[hidden] { display: none; }` but bootstrap.min.css set `[hidden] { display: none !important; }` so we also need the `!important` here to be able to override the default hidden behavior on the sphinx rendered scikit-learn.org. See: https://github.com/scikit-learn/scikit-learn/issues/21755 */display: inline-block !important;position: relative;}#sk-container-id-10 div.sk-text-repr-fallback {display: none;}</style><div id=\"sk-container-id-10\" class=\"sk-top-container\"><div class=\"sk-text-repr-fallback\"><pre>GridSearchCV(cv=2,\n",
              "             estimator=Pipeline(steps=[(&#x27;Vectorizer&#x27;, TfidfVectorizer()),\n",
              "                                       (&#x27;Model&#x27;, RandomForestClassifier())]),\n",
              "             param_grid={&#x27;Model__max_depth&#x27;: [5, 10],\n",
              "                         &#x27;Model__min_samples_leaf&#x27;: [5, 10],\n",
              "                         &#x27;Model__n_estimators&#x27;: [50, 100, 150],\n",
              "                         &#x27;Model__random_state&#x27;: [42],\n",
              "                         &#x27;Vectorizer__max_df&#x27;: [0.01, 0.1, 0.2],\n",
              "                         &#x27;Vectorizer__min_df&#x27;: [3],\n",
              "                         &#x27;Vectorizer__ngram_range&#x27;: [(1, 1), (1, 2)],\n",
              "                         &#x27;Vectorizer__use_idf&#x27;: [True, False]})</pre><b>In a Jupyter environment, please rerun this cell to show the HTML representation or trust the notebook. <br />On GitHub, the HTML representation is unable to render, please try loading this page with nbviewer.org.</b></div><div class=\"sk-container\" hidden><div class=\"sk-item sk-dashed-wrapped\"><div class=\"sk-label-container\"><div class=\"sk-label sk-toggleable\"><input class=\"sk-toggleable__control sk-hidden--visually\" id=\"sk-estimator-id-30\" type=\"checkbox\" ><label for=\"sk-estimator-id-30\" class=\"sk-toggleable__label sk-toggleable__label-arrow\">GridSearchCV</label><div class=\"sk-toggleable__content\"><pre>GridSearchCV(cv=2,\n",
              "             estimator=Pipeline(steps=[(&#x27;Vectorizer&#x27;, TfidfVectorizer()),\n",
              "                                       (&#x27;Model&#x27;, RandomForestClassifier())]),\n",
              "             param_grid={&#x27;Model__max_depth&#x27;: [5, 10],\n",
              "                         &#x27;Model__min_samples_leaf&#x27;: [5, 10],\n",
              "                         &#x27;Model__n_estimators&#x27;: [50, 100, 150],\n",
              "                         &#x27;Model__random_state&#x27;: [42],\n",
              "                         &#x27;Vectorizer__max_df&#x27;: [0.01, 0.1, 0.2],\n",
              "                         &#x27;Vectorizer__min_df&#x27;: [3],\n",
              "                         &#x27;Vectorizer__ngram_range&#x27;: [(1, 1), (1, 2)],\n",
              "                         &#x27;Vectorizer__use_idf&#x27;: [True, False]})</pre></div></div></div><div class=\"sk-parallel\"><div class=\"sk-parallel-item\"><div class=\"sk-item\"><div class=\"sk-label-container\"><div class=\"sk-label sk-toggleable\"><input class=\"sk-toggleable__control sk-hidden--visually\" id=\"sk-estimator-id-31\" type=\"checkbox\" ><label for=\"sk-estimator-id-31\" class=\"sk-toggleable__label sk-toggleable__label-arrow\">estimator: Pipeline</label><div class=\"sk-toggleable__content\"><pre>Pipeline(steps=[(&#x27;Vectorizer&#x27;, TfidfVectorizer()),\n",
              "                (&#x27;Model&#x27;, RandomForestClassifier())])</pre></div></div></div><div class=\"sk-serial\"><div class=\"sk-item\"><div class=\"sk-serial\"><div class=\"sk-item\"><div class=\"sk-estimator sk-toggleable\"><input class=\"sk-toggleable__control sk-hidden--visually\" id=\"sk-estimator-id-32\" type=\"checkbox\" ><label for=\"sk-estimator-id-32\" class=\"sk-toggleable__label sk-toggleable__label-arrow\">TfidfVectorizer</label><div class=\"sk-toggleable__content\"><pre>TfidfVectorizer()</pre></div></div></div><div class=\"sk-item\"><div class=\"sk-estimator sk-toggleable\"><input class=\"sk-toggleable__control sk-hidden--visually\" id=\"sk-estimator-id-33\" type=\"checkbox\" ><label for=\"sk-estimator-id-33\" class=\"sk-toggleable__label sk-toggleable__label-arrow\">RandomForestClassifier</label><div class=\"sk-toggleable__content\"><pre>RandomForestClassifier()</pre></div></div></div></div></div></div></div></div></div></div></div></div>"
            ]
          },
          "metadata": {},
          "execution_count": 64
        }
      ],
      "source": [
        "# Defining parameters for the param grid\n",
        "params = {\n",
        "    'Vectorizer__ngram_range':ngram_range,\n",
        "    'Vectorizer__min_df':min_df,\n",
        "    'Vectorizer__max_df':max_df,\n",
        "    'Vectorizer__use_idf':use_idf,\n",
        "    'Model__n_estimators':[50,100,150], # other parameters to be defined\n",
        "    'Model__max_depth':[5,10],\n",
        "    'Model__min_samples_leaf':[5,10],\n",
        "    'Model__random_state':[42]\n",
        "}\n",
        "\n",
        "# Defining grid search with the pipeline\n",
        "searchRF = GridSearchCV(\n",
        "    pipeRF,\n",
        "    param_grid=params,\n",
        "    cv=2,\n",
        ")\n",
        "\n",
        "# Fitting the grid search\n",
        "searchRF.fit(X_train, y_train)"
      ]
    },
    {
      "cell_type": "code",
      "execution_count": 65,
      "metadata": {
        "id": "Bavoq4zg1os6",
        "outputId": "4b0ad194-e1e1-43b2-bdd8-23e594aab105",
        "colab": {
          "base_uri": "https://localhost:8080/"
        }
      },
      "outputs": [
        {
          "output_type": "stream",
          "name": "stdout",
          "text": [
            "The results from: Random Forest\n",
            "Accuracy on training set: 0.753\n",
            "Accuracy on test set: 0.742\n",
            "Best params:  {'Model__max_depth': 10, 'Model__min_samples_leaf': 5, 'Model__n_estimators': 150, 'Model__random_state': 42, 'Vectorizer__max_df': 0.2, 'Vectorizer__min_df': 3, 'Vectorizer__ngram_range': (1, 1), 'Vectorizer__use_idf': False}\n"
          ]
        }
      ],
      "source": [
        "# Printing\n",
        "printScoreParams('Random Forest', searchRF)"
      ]
    },
    {
      "cell_type": "markdown",
      "metadata": {
        "id": "uK-vxvQE1os6"
      },
      "source": [
        "## BERT"
      ]
    },
    {
      "cell_type": "markdown",
      "metadata": {
        "id": "DRxhtSLA1os6"
      },
      "source": [
        "Next up, we want to use Bert for preprocessing"
      ]
    },
    {
      "cell_type": "code",
      "execution_count": null,
      "metadata": {
        "id": "ybzLPT_q0Qu6"
      },
      "outputs": [],
      "source": [
        "# Empty the cache to free memory for calculating BERT\n",
        "del bert\n",
        "torch.cuda.empty_cache()"
      ]
    },
    {
      "cell_type": "code",
      "execution_count": 12,
      "metadata": {
        "colab": {
          "base_uri": "https://localhost:8080/"
        },
        "id": "fb7ZIbIKwk0D",
        "outputId": "d424f114-d24c-4f9b-ad61-203f0452a3fe"
      },
      "outputs": [
        {
          "output_type": "stream",
          "name": "stdout",
          "text": [
            "Mon May 15 06:59:23 2023       \n",
            "+-----------------------------------------------------------------------------+\n",
            "| NVIDIA-SMI 525.85.12    Driver Version: 525.85.12    CUDA Version: 12.0     |\n",
            "|-------------------------------+----------------------+----------------------+\n",
            "| GPU  Name        Persistence-M| Bus-Id        Disp.A | Volatile Uncorr. ECC |\n",
            "| Fan  Temp  Perf  Pwr:Usage/Cap|         Memory-Usage | GPU-Util  Compute M. |\n",
            "|                               |                      |               MIG M. |\n",
            "|===============================+======================+======================|\n",
            "|   0  Tesla T4            Off  | 00000000:00:04.0 Off |                    0 |\n",
            "| N/A   39C    P8     9W /  70W |      3MiB / 15360MiB |      0%      Default |\n",
            "|                               |                      |                  N/A |\n",
            "+-------------------------------+----------------------+----------------------+\n",
            "                                                                               \n",
            "+-----------------------------------------------------------------------------+\n",
            "| Processes:                                                                  |\n",
            "|  GPU   GI   CI        PID   Type   Process name                  GPU Memory |\n",
            "|        ID   ID                                                   Usage      |\n",
            "|=============================================================================|\n",
            "|  No running processes found                                                 |\n",
            "+-----------------------------------------------------------------------------+\n"
          ]
        }
      ],
      "source": [
        "!nvidia-smi"
      ]
    },
    {
      "cell_type": "code",
      "execution_count": 13,
      "metadata": {
        "id": "T1Lds5Pz1os6"
      },
      "outputs": [],
      "source": [
        "# Check if GPU is available and if not, fall back on CPU\n",
        "device = torch.device(\"cuda\" if torch.cuda.is_available() else \"cpu\")\n",
        "\n",
        "# Configuration\n",
        "modelName = 'distilbert-base-uncased'"
      ]
    },
    {
      "cell_type": "code",
      "execution_count": 14,
      "metadata": {
        "colab": {
          "base_uri": "https://localhost:8080/",
          "height": 249,
          "referenced_widgets": [
            "30c0d681e2e44e09a2c99ab5af3cee55",
            "a92f3de1729449d597f96a2165f0c1c0",
            "c48546b037214921bb2bc8da1799ba42",
            "1733c234ca4b4a54b49ba1a4c5e3c4b8",
            "8b2f3a50c1b9470398f75f8416a1e583",
            "c274ead4fdbb4a819d1381e8de7e36c1",
            "e99e44b035c54f33b65615864ba482cf",
            "ed88630cbc23447b8bc35fa8cda651f5",
            "a23754e1be6a4b528e75bb8226d9bde5",
            "1b5b9036a80f4513ab989828cf8cddf9",
            "86732c4950b742758e1f6460295a501b",
            "136c0e80329f4d31ae4a3b9b7ea1c1b3",
            "34a01ced96664635abf3b1498247cf0e",
            "c5a6fa7e714340958468b33ea50d9669",
            "e0be433526544f529b52c3d92f04e080",
            "b1b26688014d460a898c713033a5d49a",
            "21f416894f924fafbe80883b986aeb95",
            "0ea0d44d2b4b49d3a1751b574cf99868",
            "1eba4810a7a643a182d662cc0387a58b",
            "d31f1efffcac4a2cb00c647e1fff23eb",
            "efd3bae0be324b4d9cb8a3ed7ed94130",
            "0ec31140289a4a14b5fb139432b502eb",
            "5ddd65a21273493e81fada6b7a87d544",
            "aae533331ff2497cacf9a43bf3a6432d",
            "e6ed00e6011a47c7ac3a48ac9e72ee73",
            "347c3dcd03fa4949afa2007468924675",
            "2459efecd3254626a166977e46e57ed1",
            "cc6115b841934a058f12b36af6eb117b",
            "5fb3ac012b954e6b801d0682232d12f2",
            "2f23598e0b1747828e2c3224639ad9c9",
            "8d46b1420f2a4d63848f88fe68b24505",
            "b136e4adae984054830516cafbfad0f3",
            "0b785c0a937e4d65b2fe09f2ec98aa8b",
            "078fad1b7f2447cba60e5a21e9087aa8",
            "93482206c845487a95138de2665c45b9",
            "55725344d2c54e389dbc2cd6fe025202",
            "68c72c1facec4778a48017493d9bb013",
            "4539a4bf1c1d4ea2a924164aec5c2b73",
            "ea60026cf4374123bd7532256c1278b0",
            "9c343bcd7f564f67bb733bb975903ec9",
            "8e21cbcdf6c04ace8d7853c1b1be4b91",
            "e506ba64380041e7b0c487e02a0af622",
            "fdfb05ce1f304701b3c3e513655ca624",
            "742b36f89744431b9c8316a6a3a123b5",
            "3ed17cb21f0045c49a81dba2edf1fc53",
            "827ebbc39ab24241b06f2e5be8f758e3",
            "3d2a4acfa43a42a6877a779f78110e43",
            "6845dffa75114e36883c3de79e2f1f6c",
            "43b5ba727ad241608f4f8d8a44562b52",
            "a3ecb3bdf0e849b5a9c34fe5e5cec398",
            "cc310ad35c9343288cd8cc1418cf6812",
            "0d814aa4d22549f98100268dfbd99b8a",
            "c71284bfcab94ac3946159a0c69d70ca",
            "37307f678d944a0dae09f54c55cb5c20",
            "69c8bd7e87714fdc88c045a10ddb8c06"
          ]
        },
        "id": "MjHsmkkR1os6",
        "outputId": "0c6f3bde-6a2c-4a37-ed3a-4ace4e144a6b"
      },
      "outputs": [
        {
          "output_type": "display_data",
          "data": {
            "text/plain": [
              "Downloading (…)lve/main/config.json:   0%|          | 0.00/483 [00:00<?, ?B/s]"
            ],
            "application/vnd.jupyter.widget-view+json": {
              "version_major": 2,
              "version_minor": 0,
              "model_id": "30c0d681e2e44e09a2c99ab5af3cee55"
            }
          },
          "metadata": {}
        },
        {
          "output_type": "display_data",
          "data": {
            "text/plain": [
              "Downloading pytorch_model.bin:   0%|          | 0.00/268M [00:00<?, ?B/s]"
            ],
            "application/vnd.jupyter.widget-view+json": {
              "version_major": 2,
              "version_minor": 0,
              "model_id": "136c0e80329f4d31ae4a3b9b7ea1c1b3"
            }
          },
          "metadata": {}
        },
        {
          "output_type": "stream",
          "name": "stderr",
          "text": [
            "Some weights of the model checkpoint at distilbert-base-uncased were not used when initializing DistilBertModel: ['vocab_transform.bias', 'vocab_layer_norm.weight', 'vocab_projector.weight', 'vocab_transform.weight', 'vocab_projector.bias', 'vocab_layer_norm.bias']\n",
            "- This IS expected if you are initializing DistilBertModel from the checkpoint of a model trained on another task or with another architecture (e.g. initializing a BertForSequenceClassification model from a BertForPreTraining model).\n",
            "- This IS NOT expected if you are initializing DistilBertModel from the checkpoint of a model that you expect to be exactly identical (initializing a BertForSequenceClassification model from a BertForSequenceClassification model).\n"
          ]
        },
        {
          "output_type": "display_data",
          "data": {
            "text/plain": [
              "Downloading (…)okenizer_config.json:   0%|          | 0.00/28.0 [00:00<?, ?B/s]"
            ],
            "application/vnd.jupyter.widget-view+json": {
              "version_major": 2,
              "version_minor": 0,
              "model_id": "5ddd65a21273493e81fada6b7a87d544"
            }
          },
          "metadata": {}
        },
        {
          "output_type": "display_data",
          "data": {
            "text/plain": [
              "Downloading (…)solve/main/vocab.txt:   0%|          | 0.00/232k [00:00<?, ?B/s]"
            ],
            "application/vnd.jupyter.widget-view+json": {
              "version_major": 2,
              "version_minor": 0,
              "model_id": "078fad1b7f2447cba60e5a21e9087aa8"
            }
          },
          "metadata": {}
        },
        {
          "output_type": "display_data",
          "data": {
            "text/plain": [
              "Downloading (…)/main/tokenizer.json:   0%|          | 0.00/466k [00:00<?, ?B/s]"
            ],
            "application/vnd.jupyter.widget-view+json": {
              "version_major": 2,
              "version_minor": 0,
              "model_id": "3ed17cb21f0045c49a81dba2edf1fc53"
            }
          },
          "metadata": {}
        }
      ],
      "source": [
        "# Retreiving Bert\n",
        "bert = AutoModel.from_pretrained(modelName)\n",
        "\n",
        "# Move model to the device\n",
        "bert = bert.to(device)\n",
        "\n",
        "BertToken = AutoTokenizer.from_pretrained(modelName)\n",
        "#print(bert)"
      ]
    },
    {
      "cell_type": "code",
      "execution_count": 15,
      "metadata": {
        "colab": {
          "base_uri": "https://localhost:8080/",
          "height": 300
        },
        "id": "SJHSyZSf1os6",
        "outputId": "c585b428-e013-423e-d526-05a49bd45544"
      },
      "outputs": [
        {
          "output_type": "execute_result",
          "data": {
            "text/plain": [
              "          polarity\n",
              "count  4000.000000\n",
              "mean      1.500750\n",
              "std       0.500062\n",
              "min       1.000000\n",
              "25%       1.000000\n",
              "50%       2.000000\n",
              "75%       2.000000\n",
              "max       2.000000"
            ],
            "text/html": [
              "\n",
              "  <div id=\"df-76b3ef94-8465-44ef-bacc-76d738d920d6\">\n",
              "    <div class=\"colab-df-container\">\n",
              "      <div>\n",
              "<style scoped>\n",
              "    .dataframe tbody tr th:only-of-type {\n",
              "        vertical-align: middle;\n",
              "    }\n",
              "\n",
              "    .dataframe tbody tr th {\n",
              "        vertical-align: top;\n",
              "    }\n",
              "\n",
              "    .dataframe thead th {\n",
              "        text-align: right;\n",
              "    }\n",
              "</style>\n",
              "<table border=\"1\" class=\"dataframe\">\n",
              "  <thead>\n",
              "    <tr style=\"text-align: right;\">\n",
              "      <th></th>\n",
              "      <th>polarity</th>\n",
              "    </tr>\n",
              "  </thead>\n",
              "  <tbody>\n",
              "    <tr>\n",
              "      <th>count</th>\n",
              "      <td>4000.000000</td>\n",
              "    </tr>\n",
              "    <tr>\n",
              "      <th>mean</th>\n",
              "      <td>1.500750</td>\n",
              "    </tr>\n",
              "    <tr>\n",
              "      <th>std</th>\n",
              "      <td>0.500062</td>\n",
              "    </tr>\n",
              "    <tr>\n",
              "      <th>min</th>\n",
              "      <td>1.000000</td>\n",
              "    </tr>\n",
              "    <tr>\n",
              "      <th>25%</th>\n",
              "      <td>1.000000</td>\n",
              "    </tr>\n",
              "    <tr>\n",
              "      <th>50%</th>\n",
              "      <td>2.000000</td>\n",
              "    </tr>\n",
              "    <tr>\n",
              "      <th>75%</th>\n",
              "      <td>2.000000</td>\n",
              "    </tr>\n",
              "    <tr>\n",
              "      <th>max</th>\n",
              "      <td>2.000000</td>\n",
              "    </tr>\n",
              "  </tbody>\n",
              "</table>\n",
              "</div>\n",
              "      <button class=\"colab-df-convert\" onclick=\"convertToInteractive('df-76b3ef94-8465-44ef-bacc-76d738d920d6')\"\n",
              "              title=\"Convert this dataframe to an interactive table.\"\n",
              "              style=\"display:none;\">\n",
              "        \n",
              "  <svg xmlns=\"http://www.w3.org/2000/svg\" height=\"24px\"viewBox=\"0 0 24 24\"\n",
              "       width=\"24px\">\n",
              "    <path d=\"M0 0h24v24H0V0z\" fill=\"none\"/>\n",
              "    <path d=\"M18.56 5.44l.94 2.06.94-2.06 2.06-.94-2.06-.94-.94-2.06-.94 2.06-2.06.94zm-11 1L8.5 8.5l.94-2.06 2.06-.94-2.06-.94L8.5 2.5l-.94 2.06-2.06.94zm10 10l.94 2.06.94-2.06 2.06-.94-2.06-.94-.94-2.06-.94 2.06-2.06.94z\"/><path d=\"M17.41 7.96l-1.37-1.37c-.4-.4-.92-.59-1.43-.59-.52 0-1.04.2-1.43.59L10.3 9.45l-7.72 7.72c-.78.78-.78 2.05 0 2.83L4 21.41c.39.39.9.59 1.41.59.51 0 1.02-.2 1.41-.59l7.78-7.78 2.81-2.81c.8-.78.8-2.07 0-2.86zM5.41 20L4 18.59l7.72-7.72 1.47 1.35L5.41 20z\"/>\n",
              "  </svg>\n",
              "      </button>\n",
              "      \n",
              "  <style>\n",
              "    .colab-df-container {\n",
              "      display:flex;\n",
              "      flex-wrap:wrap;\n",
              "      gap: 12px;\n",
              "    }\n",
              "\n",
              "    .colab-df-convert {\n",
              "      background-color: #E8F0FE;\n",
              "      border: none;\n",
              "      border-radius: 50%;\n",
              "      cursor: pointer;\n",
              "      display: none;\n",
              "      fill: #1967D2;\n",
              "      height: 32px;\n",
              "      padding: 0 0 0 0;\n",
              "      width: 32px;\n",
              "    }\n",
              "\n",
              "    .colab-df-convert:hover {\n",
              "      background-color: #E2EBFA;\n",
              "      box-shadow: 0px 1px 2px rgba(60, 64, 67, 0.3), 0px 1px 3px 1px rgba(60, 64, 67, 0.15);\n",
              "      fill: #174EA6;\n",
              "    }\n",
              "\n",
              "    [theme=dark] .colab-df-convert {\n",
              "      background-color: #3B4455;\n",
              "      fill: #D2E3FC;\n",
              "    }\n",
              "\n",
              "    [theme=dark] .colab-df-convert:hover {\n",
              "      background-color: #434B5C;\n",
              "      box-shadow: 0px 1px 3px 1px rgba(0, 0, 0, 0.15);\n",
              "      filter: drop-shadow(0px 1px 2px rgba(0, 0, 0, 0.3));\n",
              "      fill: #FFFFFF;\n",
              "    }\n",
              "  </style>\n",
              "\n",
              "      <script>\n",
              "        const buttonEl =\n",
              "          document.querySelector('#df-76b3ef94-8465-44ef-bacc-76d738d920d6 button.colab-df-convert');\n",
              "        buttonEl.style.display =\n",
              "          google.colab.kernel.accessAllowed ? 'block' : 'none';\n",
              "\n",
              "        async function convertToInteractive(key) {\n",
              "          const element = document.querySelector('#df-76b3ef94-8465-44ef-bacc-76d738d920d6');\n",
              "          const dataTable =\n",
              "            await google.colab.kernel.invokeFunction('convertToInteractive',\n",
              "                                                     [key], {});\n",
              "          if (!dataTable) return;\n",
              "\n",
              "          const docLinkHtml = 'Like what you see? Visit the ' +\n",
              "            '<a target=\"_blank\" href=https://colab.research.google.com/notebooks/data_table.ipynb>data table notebook</a>'\n",
              "            + ' to learn more about interactive tables.';\n",
              "          element.innerHTML = '';\n",
              "          dataTable['output_type'] = 'display_data';\n",
              "          await google.colab.output.renderOutput(dataTable, element);\n",
              "          const docLink = document.createElement('div');\n",
              "          docLink.innerHTML = docLinkHtml;\n",
              "          element.appendChild(docLink);\n",
              "        }\n",
              "      </script>\n",
              "    </div>\n",
              "  </div>\n",
              "  "
            ]
          },
          "metadata": {},
          "execution_count": 15
        }
      ],
      "source": [
        "# Reducing data even more\n",
        "dfBert = df.sample(frac=0.1)\n",
        "dfBert.describe()"
      ]
    },
    {
      "cell_type": "code",
      "execution_count": 16,
      "metadata": {
        "colab": {
          "base_uri": "https://localhost:8080/"
        },
        "id": "j5QIIg8o1os6",
        "outputId": "d98af509-0d48-46a7-e2db-38aa5511de46"
      },
      "outputs": [
        {
          "output_type": "stream",
          "name": "stdout",
          "text": [
            "Tokenizing...\n"
          ]
        },
        {
          "output_type": "execute_result",
          "data": {
            "text/plain": [
              "{'input_ids': tensor([[  101,  9364,  1012,  ...,     0,     0,     0],\n",
              "         [  101,  4438,  2175,  ...,     0,     0,     0],\n",
              "         [  101,  4248,  1010,  ...,     0,     0,     0],\n",
              "         ...,\n",
              "         [  101,  2053, 12072,  ...,     0,     0,     0],\n",
              "         [  101, 18293,  2031,  ...,     0,     0,     0],\n",
              "         [  101,  1000,  2064,  ...,     0,     0,     0]], device='cuda:0'),\n",
              " 'attention_mask': tensor([[1, 1, 1,  ..., 0, 0, 0],\n",
              "         [1, 1, 1,  ..., 0, 0, 0],\n",
              "         [1, 1, 1,  ..., 0, 0, 0],\n",
              "         ...,\n",
              "         [1, 1, 1,  ..., 0, 0, 0],\n",
              "         [1, 1, 1,  ..., 0, 0, 0],\n",
              "         [1, 1, 1,  ..., 0, 0, 0]], device='cuda:0')}"
            ]
          },
          "metadata": {},
          "execution_count": 16
        }
      ],
      "source": [
        "# Tokenizing\n",
        "print(\"Tokenizing...\")\n",
        "tokenized = BertToken(\n",
        "    dfBert[\"title\"].tolist(),\n",
        "    add_special_tokens=True,\n",
        "    padding='longest',\n",
        "    return_attention_mask=True,\n",
        "    return_tensors='pt',\n",
        "    verbose=True\n",
        ")\n",
        "\n",
        "# Move tokenized data to the device\n",
        "tokenized = {k: v.to(device) for k, v in tokenized.items()}\n",
        "\n",
        "tokenized"
      ]
    },
    {
      "cell_type": "code",
      "execution_count": 17,
      "metadata": {
        "colab": {
          "base_uri": "https://localhost:8080/"
        },
        "id": "K7ww1-DS1os7",
        "outputId": "c6372bf3-d579-40f5-dce5-7e1ebf5e7e00"
      },
      "outputs": [
        {
          "output_type": "stream",
          "name": "stdout",
          "text": [
            "Getting model encodings...\n",
            "Returning embeddings...\n"
          ]
        },
        {
          "output_type": "execute_result",
          "data": {
            "text/plain": [
              "(4000, 768)"
            ]
          },
          "metadata": {},
          "execution_count": 17
        }
      ],
      "source": [
        "# A function that was also used in Lab 7. Note that this is a ressource intensive task\n",
        "def get_bert_embeddings(model, tokenized):\n",
        "\n",
        "    \"\"\" Calculate BERT embeddings for a batch of sentences.\n",
        "    NOTE: Calculating BERT embeddings is a very expensive operation.\n",
        "    Particularly on CPU, it can take a long time to calculate embeddings for\n",
        "    a large batch of sentences (Max 10-20 minutes for 6K sentences).\n",
        "    Args:\n",
        "        model (transformers BERT model): BERT model.\n",
        "        tokenized (dict): Dictionary of tokenized sentences (input_ids and attention_mask)\n",
        "    Returns:\n",
        "        n-d NumPy array: BERT embeddings for the sentences in the batch.\n",
        "    \"\"\"\n",
        "    print(\"Getting model encodings...\")\n",
        "    # The following is a context-manager that disables gradient calculation.\n",
        "    # Disabling gradient calculation is useful for inference, when you are \n",
        "    # sure that you will not call Tensor.backward(). It will reduce memory \n",
        "    # consumption for computations that would otherwise have requires_grad=True.\n",
        "    # TLDR: calculating gradients is expensive. We don't need them for inference.\n",
        "    with torch.no_grad():\n",
        "        last_hidden_states = model(**tokenized)\n",
        "\n",
        "    # last_hidden_states[0] is the last hidden state of the first token of the\n",
        "    # sequence (classification token) further processed by a Linear layer and \n",
        "    # a Tanh activation function. The Linear layer weights are trained from the\n",
        "    #  next sentence prediction (classification) objective during pretraining.\n",
        "    # last_hidden_states[0].shape = (batch_size, hidden_size)\n",
        "    print(\"Returning embeddings...\")\n",
        "    return last_hidden_states[0][:,0,:].cpu().numpy()\n",
        "\n",
        "embeddings = get_bert_embeddings(bert, tokenized)\n",
        "embeddings.shape"
      ]
    },
    {
      "cell_type": "code",
      "execution_count": 18,
      "metadata": {
        "id": "2t0QrmPGg9rE"
      },
      "outputs": [],
      "source": [
        "# Saving the embeddings, making it possible to do the long calculation only once\n",
        "np.save('embeddings.npy', embeddings)\n"
      ]
    },
    {
      "cell_type": "code",
      "execution_count": 19,
      "metadata": {
        "colab": {
          "base_uri": "https://localhost:8080/",
          "height": 17
        },
        "id": "EPnHrOrFlmzJ",
        "outputId": "50597687-e374-4b89-f159-4a5a128dc5c4"
      },
      "outputs": [
        {
          "output_type": "display_data",
          "data": {
            "text/plain": [
              "<IPython.core.display.Javascript object>"
            ],
            "application/javascript": [
              "\n",
              "    async function download(id, filename, size) {\n",
              "      if (!google.colab.kernel.accessAllowed) {\n",
              "        return;\n",
              "      }\n",
              "      const div = document.createElement('div');\n",
              "      const label = document.createElement('label');\n",
              "      label.textContent = `Downloading \"${filename}\": `;\n",
              "      div.appendChild(label);\n",
              "      const progress = document.createElement('progress');\n",
              "      progress.max = size;\n",
              "      div.appendChild(progress);\n",
              "      document.body.appendChild(div);\n",
              "\n",
              "      const buffers = [];\n",
              "      let downloaded = 0;\n",
              "\n",
              "      const channel = await google.colab.kernel.comms.open(id);\n",
              "      // Send a message to notify the kernel that we're ready.\n",
              "      channel.send({})\n",
              "\n",
              "      for await (const message of channel.messages) {\n",
              "        // Send a message to notify the kernel that we're ready.\n",
              "        channel.send({})\n",
              "        if (message.buffers) {\n",
              "          for (const buffer of message.buffers) {\n",
              "            buffers.push(buffer);\n",
              "            downloaded += buffer.byteLength;\n",
              "            progress.value = downloaded;\n",
              "          }\n",
              "        }\n",
              "      }\n",
              "      const blob = new Blob(buffers, {type: 'application/binary'});\n",
              "      const a = document.createElement('a');\n",
              "      a.href = window.URL.createObjectURL(blob);\n",
              "      a.download = filename;\n",
              "      div.appendChild(a);\n",
              "      a.click();\n",
              "      div.remove();\n",
              "    }\n",
              "  "
            ]
          },
          "metadata": {}
        },
        {
          "output_type": "display_data",
          "data": {
            "text/plain": [
              "<IPython.core.display.Javascript object>"
            ],
            "application/javascript": [
              "download(\"download_e5041133-c386-4cb8-a35a-d68c67f306c7\", \"embeddings.npy\", 12288128)"
            ]
          },
          "metadata": {}
        }
      ],
      "source": [
        "# Download the file to your local machine\n",
        "files.download('embeddings.npy')"
      ]
    },
    {
      "cell_type": "code",
      "execution_count": null,
      "metadata": {
        "id": "m58_uzduhXRA"
      },
      "outputs": [],
      "source": [
        "# Loading embeddings\n",
        "embeddings = np.load('embeddings.npy')"
      ]
    },
    {
      "cell_type": "code",
      "execution_count": 21,
      "metadata": {
        "id": "y3rMMEex1os7"
      },
      "outputs": [],
      "source": [
        "# Making a new Train test split\n",
        "X_trainBert, X_testBert, y_train, y_test = train_test_split(embeddings, dfBert.polarity, random_state=42)"
      ]
    },
    {
      "cell_type": "markdown",
      "metadata": {
        "id": "jo4Q5PC91os7"
      },
      "source": [
        "## Making Models with Bert"
      ]
    },
    {
      "cell_type": "markdown",
      "metadata": {
        "id": "OPqhgUiZ1os7"
      },
      "source": [
        "### Configuration"
      ]
    },
    {
      "cell_type": "markdown",
      "metadata": {
        "id": "E8X405v01os7"
      },
      "source": [
        "The main difference here, is that the preprocessing is already done. we can therefore make a function with gridsearch to go through all the models."
      ]
    },
    {
      "cell_type": "code",
      "execution_count": 22,
      "metadata": {
        "id": "czs_I03p1os7"
      },
      "outputs": [],
      "source": [
        "# A function to be used on all models\n",
        "def eval_model(model, params, name):\n",
        "    grid = GridSearchCV(estimator=model, # The desired model is called from the model that is to be defined\n",
        "                    param_grid=params, # The object is called by the later defined variable\n",
        "                    cv=2)  # Using cross validation\n",
        "    grid.fit(X_trainBert, y_train) # The scaled version of the data is used to fit the model(s)\n",
        "    print(name)\n",
        "    print(\"Accuracy on training set: {:.3f}\".format(grid.score(X_trainBert, y_train)))\n",
        "    print(\"Accuracy on test set: {:.3f}\".format(grid.score(X_testBert, y_test)))\n",
        "    print(\"Best params: \", grid.best_params_) # Printing the best params\n",
        "    print(\" \")\n",
        "\n",
        "    # Returning the Model for later use\n",
        "    return grid"
      ]
    },
    {
      "cell_type": "code",
      "execution_count": 28,
      "metadata": {
        "id": "6_K3LfH51os8"
      },
      "outputs": [],
      "source": [
        "# Configuration of the different models, Setting up the models with relevant parameters to tune. scikit learn documentation is used for each model to find parameters.\n",
        "lr_B = LogisticRegression(max_iter=10000)\n",
        "lrParams = {'C':[0.01,0.1,1,10,100]} \n",
        "\n",
        "mlp_B = MLPClassifier(max_iter=10000)\n",
        "mlpParams = {'hidden_layer_sizes':[50,100], 'activation': ['tanh','relu']}\n",
        "\n",
        "NB_B = MultinomialNB()\n",
        "NBParams = {'fit_prior':[True,False]} \n",
        "\n",
        "rfc_B = RandomForestClassifier()\n",
        "rfcParams = {'n_estimators':[50,100,150], 'max_depth':[5,10],'min_samples_leaf':[5,10],'random_state':[42] }"
      ]
    },
    {
      "cell_type": "markdown",
      "metadata": {
        "id": "bA-H6EJ31os8"
      },
      "source": [
        "### Logistic Regression"
      ]
    },
    {
      "cell_type": "code",
      "execution_count": 24,
      "metadata": {
        "id": "C6HxXIc21os8",
        "outputId": "870af699-67ce-4b72-ff88-99d326448999",
        "colab": {
          "base_uri": "https://localhost:8080/",
          "height": 204
        }
      },
      "outputs": [
        {
          "output_type": "stream",
          "name": "stdout",
          "text": [
            "LRBert\n",
            "Accuracy on training set: 0.835\n",
            "Accuracy on test set: 0.817\n",
            "Best params:  {'C': 0.1}\n",
            " \n"
          ]
        },
        {
          "output_type": "execute_result",
          "data": {
            "text/plain": [
              "GridSearchCV(cv=2, estimator=LogisticRegression(max_iter=10000),\n",
              "             param_grid={'C': [0.01, 0.1, 1, 10, 100]})"
            ],
            "text/html": [
              "<style>#sk-container-id-1 {color: black;background-color: white;}#sk-container-id-1 pre{padding: 0;}#sk-container-id-1 div.sk-toggleable {background-color: white;}#sk-container-id-1 label.sk-toggleable__label {cursor: pointer;display: block;width: 100%;margin-bottom: 0;padding: 0.3em;box-sizing: border-box;text-align: center;}#sk-container-id-1 label.sk-toggleable__label-arrow:before {content: \"▸\";float: left;margin-right: 0.25em;color: #696969;}#sk-container-id-1 label.sk-toggleable__label-arrow:hover:before {color: black;}#sk-container-id-1 div.sk-estimator:hover label.sk-toggleable__label-arrow:before {color: black;}#sk-container-id-1 div.sk-toggleable__content {max-height: 0;max-width: 0;overflow: hidden;text-align: left;background-color: #f0f8ff;}#sk-container-id-1 div.sk-toggleable__content pre {margin: 0.2em;color: black;border-radius: 0.25em;background-color: #f0f8ff;}#sk-container-id-1 input.sk-toggleable__control:checked~div.sk-toggleable__content {max-height: 200px;max-width: 100%;overflow: auto;}#sk-container-id-1 input.sk-toggleable__control:checked~label.sk-toggleable__label-arrow:before {content: \"▾\";}#sk-container-id-1 div.sk-estimator input.sk-toggleable__control:checked~label.sk-toggleable__label {background-color: #d4ebff;}#sk-container-id-1 div.sk-label input.sk-toggleable__control:checked~label.sk-toggleable__label {background-color: #d4ebff;}#sk-container-id-1 input.sk-hidden--visually {border: 0;clip: rect(1px 1px 1px 1px);clip: rect(1px, 1px, 1px, 1px);height: 1px;margin: -1px;overflow: hidden;padding: 0;position: absolute;width: 1px;}#sk-container-id-1 div.sk-estimator {font-family: monospace;background-color: #f0f8ff;border: 1px dotted black;border-radius: 0.25em;box-sizing: border-box;margin-bottom: 0.5em;}#sk-container-id-1 div.sk-estimator:hover {background-color: #d4ebff;}#sk-container-id-1 div.sk-parallel-item::after {content: \"\";width: 100%;border-bottom: 1px solid gray;flex-grow: 1;}#sk-container-id-1 div.sk-label:hover label.sk-toggleable__label {background-color: #d4ebff;}#sk-container-id-1 div.sk-serial::before {content: \"\";position: absolute;border-left: 1px solid gray;box-sizing: border-box;top: 0;bottom: 0;left: 50%;z-index: 0;}#sk-container-id-1 div.sk-serial {display: flex;flex-direction: column;align-items: center;background-color: white;padding-right: 0.2em;padding-left: 0.2em;position: relative;}#sk-container-id-1 div.sk-item {position: relative;z-index: 1;}#sk-container-id-1 div.sk-parallel {display: flex;align-items: stretch;justify-content: center;background-color: white;position: relative;}#sk-container-id-1 div.sk-item::before, #sk-container-id-1 div.sk-parallel-item::before {content: \"\";position: absolute;border-left: 1px solid gray;box-sizing: border-box;top: 0;bottom: 0;left: 50%;z-index: -1;}#sk-container-id-1 div.sk-parallel-item {display: flex;flex-direction: column;z-index: 1;position: relative;background-color: white;}#sk-container-id-1 div.sk-parallel-item:first-child::after {align-self: flex-end;width: 50%;}#sk-container-id-1 div.sk-parallel-item:last-child::after {align-self: flex-start;width: 50%;}#sk-container-id-1 div.sk-parallel-item:only-child::after {width: 0;}#sk-container-id-1 div.sk-dashed-wrapped {border: 1px dashed gray;margin: 0 0.4em 0.5em 0.4em;box-sizing: border-box;padding-bottom: 0.4em;background-color: white;}#sk-container-id-1 div.sk-label label {font-family: monospace;font-weight: bold;display: inline-block;line-height: 1.2em;}#sk-container-id-1 div.sk-label-container {text-align: center;}#sk-container-id-1 div.sk-container {/* jupyter's `normalize.less` sets `[hidden] { display: none; }` but bootstrap.min.css set `[hidden] { display: none !important; }` so we also need the `!important` here to be able to override the default hidden behavior on the sphinx rendered scikit-learn.org. See: https://github.com/scikit-learn/scikit-learn/issues/21755 */display: inline-block !important;position: relative;}#sk-container-id-1 div.sk-text-repr-fallback {display: none;}</style><div id=\"sk-container-id-1\" class=\"sk-top-container\"><div class=\"sk-text-repr-fallback\"><pre>GridSearchCV(cv=2, estimator=LogisticRegression(max_iter=10000),\n",
              "             param_grid={&#x27;C&#x27;: [0.01, 0.1, 1, 10, 100]})</pre><b>In a Jupyter environment, please rerun this cell to show the HTML representation or trust the notebook. <br />On GitHub, the HTML representation is unable to render, please try loading this page with nbviewer.org.</b></div><div class=\"sk-container\" hidden><div class=\"sk-item sk-dashed-wrapped\"><div class=\"sk-label-container\"><div class=\"sk-label sk-toggleable\"><input class=\"sk-toggleable__control sk-hidden--visually\" id=\"sk-estimator-id-1\" type=\"checkbox\" ><label for=\"sk-estimator-id-1\" class=\"sk-toggleable__label sk-toggleable__label-arrow\">GridSearchCV</label><div class=\"sk-toggleable__content\"><pre>GridSearchCV(cv=2, estimator=LogisticRegression(max_iter=10000),\n",
              "             param_grid={&#x27;C&#x27;: [0.01, 0.1, 1, 10, 100]})</pre></div></div></div><div class=\"sk-parallel\"><div class=\"sk-parallel-item\"><div class=\"sk-item\"><div class=\"sk-label-container\"><div class=\"sk-label sk-toggleable\"><input class=\"sk-toggleable__control sk-hidden--visually\" id=\"sk-estimator-id-2\" type=\"checkbox\" ><label for=\"sk-estimator-id-2\" class=\"sk-toggleable__label sk-toggleable__label-arrow\">estimator: LogisticRegression</label><div class=\"sk-toggleable__content\"><pre>LogisticRegression(max_iter=10000)</pre></div></div></div><div class=\"sk-serial\"><div class=\"sk-item\"><div class=\"sk-estimator sk-toggleable\"><input class=\"sk-toggleable__control sk-hidden--visually\" id=\"sk-estimator-id-3\" type=\"checkbox\" ><label for=\"sk-estimator-id-3\" class=\"sk-toggleable__label sk-toggleable__label-arrow\">LogisticRegression</label><div class=\"sk-toggleable__content\"><pre>LogisticRegression(max_iter=10000)</pre></div></div></div></div></div></div></div></div></div></div>"
            ]
          },
          "metadata": {},
          "execution_count": 24
        }
      ],
      "source": [
        "# Applying the model with the function\n",
        "eval_model(lr_B, lrParams, 'LRBert')"
      ]
    },
    {
      "cell_type": "markdown",
      "metadata": {
        "id": "rrCiXq2V1os8"
      },
      "source": [
        "### MLP"
      ]
    },
    {
      "cell_type": "code",
      "execution_count": 29,
      "metadata": {
        "id": "-JQN3V0S1os8",
        "outputId": "e0bcf9a6-4ac1-485c-ca53-3a18ae16f095",
        "colab": {
          "base_uri": "https://localhost:8080/",
          "height": 204
        }
      },
      "outputs": [
        {
          "output_type": "stream",
          "name": "stdout",
          "text": [
            "MLPBert\n",
            "Accuracy on training set: 0.999\n",
            "Accuracy on test set: 0.797\n",
            "Best params:  {'activation': 'relu', 'hidden_layer_sizes': 100}\n",
            " \n"
          ]
        },
        {
          "output_type": "execute_result",
          "data": {
            "text/plain": [
              "GridSearchCV(cv=2, estimator=MLPClassifier(max_iter=10000),\n",
              "             param_grid={'activation': ['tanh', 'relu'],\n",
              "                         'hidden_layer_sizes': [50, 100]})"
            ],
            "text/html": [
              "<style>#sk-container-id-3 {color: black;background-color: white;}#sk-container-id-3 pre{padding: 0;}#sk-container-id-3 div.sk-toggleable {background-color: white;}#sk-container-id-3 label.sk-toggleable__label {cursor: pointer;display: block;width: 100%;margin-bottom: 0;padding: 0.3em;box-sizing: border-box;text-align: center;}#sk-container-id-3 label.sk-toggleable__label-arrow:before {content: \"▸\";float: left;margin-right: 0.25em;color: #696969;}#sk-container-id-3 label.sk-toggleable__label-arrow:hover:before {color: black;}#sk-container-id-3 div.sk-estimator:hover label.sk-toggleable__label-arrow:before {color: black;}#sk-container-id-3 div.sk-toggleable__content {max-height: 0;max-width: 0;overflow: hidden;text-align: left;background-color: #f0f8ff;}#sk-container-id-3 div.sk-toggleable__content pre {margin: 0.2em;color: black;border-radius: 0.25em;background-color: #f0f8ff;}#sk-container-id-3 input.sk-toggleable__control:checked~div.sk-toggleable__content {max-height: 200px;max-width: 100%;overflow: auto;}#sk-container-id-3 input.sk-toggleable__control:checked~label.sk-toggleable__label-arrow:before {content: \"▾\";}#sk-container-id-3 div.sk-estimator input.sk-toggleable__control:checked~label.sk-toggleable__label {background-color: #d4ebff;}#sk-container-id-3 div.sk-label input.sk-toggleable__control:checked~label.sk-toggleable__label {background-color: #d4ebff;}#sk-container-id-3 input.sk-hidden--visually {border: 0;clip: rect(1px 1px 1px 1px);clip: rect(1px, 1px, 1px, 1px);height: 1px;margin: -1px;overflow: hidden;padding: 0;position: absolute;width: 1px;}#sk-container-id-3 div.sk-estimator {font-family: monospace;background-color: #f0f8ff;border: 1px dotted black;border-radius: 0.25em;box-sizing: border-box;margin-bottom: 0.5em;}#sk-container-id-3 div.sk-estimator:hover {background-color: #d4ebff;}#sk-container-id-3 div.sk-parallel-item::after {content: \"\";width: 100%;border-bottom: 1px solid gray;flex-grow: 1;}#sk-container-id-3 div.sk-label:hover label.sk-toggleable__label {background-color: #d4ebff;}#sk-container-id-3 div.sk-serial::before {content: \"\";position: absolute;border-left: 1px solid gray;box-sizing: border-box;top: 0;bottom: 0;left: 50%;z-index: 0;}#sk-container-id-3 div.sk-serial {display: flex;flex-direction: column;align-items: center;background-color: white;padding-right: 0.2em;padding-left: 0.2em;position: relative;}#sk-container-id-3 div.sk-item {position: relative;z-index: 1;}#sk-container-id-3 div.sk-parallel {display: flex;align-items: stretch;justify-content: center;background-color: white;position: relative;}#sk-container-id-3 div.sk-item::before, #sk-container-id-3 div.sk-parallel-item::before {content: \"\";position: absolute;border-left: 1px solid gray;box-sizing: border-box;top: 0;bottom: 0;left: 50%;z-index: -1;}#sk-container-id-3 div.sk-parallel-item {display: flex;flex-direction: column;z-index: 1;position: relative;background-color: white;}#sk-container-id-3 div.sk-parallel-item:first-child::after {align-self: flex-end;width: 50%;}#sk-container-id-3 div.sk-parallel-item:last-child::after {align-self: flex-start;width: 50%;}#sk-container-id-3 div.sk-parallel-item:only-child::after {width: 0;}#sk-container-id-3 div.sk-dashed-wrapped {border: 1px dashed gray;margin: 0 0.4em 0.5em 0.4em;box-sizing: border-box;padding-bottom: 0.4em;background-color: white;}#sk-container-id-3 div.sk-label label {font-family: monospace;font-weight: bold;display: inline-block;line-height: 1.2em;}#sk-container-id-3 div.sk-label-container {text-align: center;}#sk-container-id-3 div.sk-container {/* jupyter's `normalize.less` sets `[hidden] { display: none; }` but bootstrap.min.css set `[hidden] { display: none !important; }` so we also need the `!important` here to be able to override the default hidden behavior on the sphinx rendered scikit-learn.org. See: https://github.com/scikit-learn/scikit-learn/issues/21755 */display: inline-block !important;position: relative;}#sk-container-id-3 div.sk-text-repr-fallback {display: none;}</style><div id=\"sk-container-id-3\" class=\"sk-top-container\"><div class=\"sk-text-repr-fallback\"><pre>GridSearchCV(cv=2, estimator=MLPClassifier(max_iter=10000),\n",
              "             param_grid={&#x27;activation&#x27;: [&#x27;tanh&#x27;, &#x27;relu&#x27;],\n",
              "                         &#x27;hidden_layer_sizes&#x27;: [50, 100]})</pre><b>In a Jupyter environment, please rerun this cell to show the HTML representation or trust the notebook. <br />On GitHub, the HTML representation is unable to render, please try loading this page with nbviewer.org.</b></div><div class=\"sk-container\" hidden><div class=\"sk-item sk-dashed-wrapped\"><div class=\"sk-label-container\"><div class=\"sk-label sk-toggleable\"><input class=\"sk-toggleable__control sk-hidden--visually\" id=\"sk-estimator-id-7\" type=\"checkbox\" ><label for=\"sk-estimator-id-7\" class=\"sk-toggleable__label sk-toggleable__label-arrow\">GridSearchCV</label><div class=\"sk-toggleable__content\"><pre>GridSearchCV(cv=2, estimator=MLPClassifier(max_iter=10000),\n",
              "             param_grid={&#x27;activation&#x27;: [&#x27;tanh&#x27;, &#x27;relu&#x27;],\n",
              "                         &#x27;hidden_layer_sizes&#x27;: [50, 100]})</pre></div></div></div><div class=\"sk-parallel\"><div class=\"sk-parallel-item\"><div class=\"sk-item\"><div class=\"sk-label-container\"><div class=\"sk-label sk-toggleable\"><input class=\"sk-toggleable__control sk-hidden--visually\" id=\"sk-estimator-id-8\" type=\"checkbox\" ><label for=\"sk-estimator-id-8\" class=\"sk-toggleable__label sk-toggleable__label-arrow\">estimator: MLPClassifier</label><div class=\"sk-toggleable__content\"><pre>MLPClassifier(max_iter=10000)</pre></div></div></div><div class=\"sk-serial\"><div class=\"sk-item\"><div class=\"sk-estimator sk-toggleable\"><input class=\"sk-toggleable__control sk-hidden--visually\" id=\"sk-estimator-id-9\" type=\"checkbox\" ><label for=\"sk-estimator-id-9\" class=\"sk-toggleable__label sk-toggleable__label-arrow\">MLPClassifier</label><div class=\"sk-toggleable__content\"><pre>MLPClassifier(max_iter=10000)</pre></div></div></div></div></div></div></div></div></div></div>"
            ]
          },
          "metadata": {},
          "execution_count": 29
        }
      ],
      "source": [
        "# Applying the model with the function\n",
        "eval_model(mlp_B, mlpParams, 'MLPBert')"
      ]
    },
    {
      "cell_type": "markdown",
      "metadata": {
        "id": "P1I5Dzzu1os8"
      },
      "source": [
        "### Naive Bayes"
      ]
    },
    {
      "cell_type": "code",
      "execution_count": 25,
      "metadata": {
        "id": "BkB_Aa9M1os8",
        "outputId": "d8c94046-b3c6-4756-fb42-693efa4c132a",
        "colab": {
          "base_uri": "https://localhost:8080/",
          "height": 623
        }
      },
      "outputs": [
        {
          "output_type": "error",
          "ename": "ValueError",
          "evalue": "ignored",
          "traceback": [
            "\u001b[0;31m---------------------------------------------------------------------------\u001b[0m",
            "\u001b[0;31mValueError\u001b[0m                                Traceback (most recent call last)",
            "\u001b[0;32m<ipython-input-25-be7fbd1baf28>\u001b[0m in \u001b[0;36m<cell line: 2>\u001b[0;34m()\u001b[0m\n\u001b[1;32m      1\u001b[0m \u001b[0;31m# Applying the model with the function\u001b[0m\u001b[0;34m\u001b[0m\u001b[0;34m\u001b[0m\u001b[0m\n\u001b[0;32m----> 2\u001b[0;31m \u001b[0meval_model\u001b[0m\u001b[0;34m(\u001b[0m\u001b[0mNB_B\u001b[0m\u001b[0;34m,\u001b[0m \u001b[0mNBParams\u001b[0m\u001b[0;34m,\u001b[0m \u001b[0;34m'NBBert'\u001b[0m\u001b[0;34m)\u001b[0m\u001b[0;34m\u001b[0m\u001b[0;34m\u001b[0m\u001b[0m\n\u001b[0m",
            "\u001b[0;32m<ipython-input-22-a4b13544df30>\u001b[0m in \u001b[0;36meval_model\u001b[0;34m(model, params, name)\u001b[0m\n\u001b[1;32m      4\u001b[0m                     \u001b[0mparam_grid\u001b[0m\u001b[0;34m=\u001b[0m\u001b[0mparams\u001b[0m\u001b[0;34m,\u001b[0m \u001b[0;31m# The object is called by the later defined variable\u001b[0m\u001b[0;34m\u001b[0m\u001b[0;34m\u001b[0m\u001b[0m\n\u001b[1;32m      5\u001b[0m                     cv=2)  # Using cross validation\n\u001b[0;32m----> 6\u001b[0;31m     \u001b[0mgrid\u001b[0m\u001b[0;34m.\u001b[0m\u001b[0mfit\u001b[0m\u001b[0;34m(\u001b[0m\u001b[0mX_trainBert\u001b[0m\u001b[0;34m,\u001b[0m \u001b[0my_train\u001b[0m\u001b[0;34m)\u001b[0m \u001b[0;31m# The scaled version of the data is used to fit the model(s)\u001b[0m\u001b[0;34m\u001b[0m\u001b[0;34m\u001b[0m\u001b[0m\n\u001b[0m\u001b[1;32m      7\u001b[0m     \u001b[0mprint\u001b[0m\u001b[0;34m(\u001b[0m\u001b[0mname\u001b[0m\u001b[0;34m)\u001b[0m\u001b[0;34m\u001b[0m\u001b[0;34m\u001b[0m\u001b[0m\n\u001b[1;32m      8\u001b[0m     \u001b[0mprint\u001b[0m\u001b[0;34m(\u001b[0m\u001b[0;34m\"Accuracy on training set: {:.3f}\"\u001b[0m\u001b[0;34m.\u001b[0m\u001b[0mformat\u001b[0m\u001b[0;34m(\u001b[0m\u001b[0mgrid\u001b[0m\u001b[0;34m.\u001b[0m\u001b[0mscore\u001b[0m\u001b[0;34m(\u001b[0m\u001b[0mX_trainBert\u001b[0m\u001b[0;34m,\u001b[0m \u001b[0my_train\u001b[0m\u001b[0;34m)\u001b[0m\u001b[0;34m)\u001b[0m\u001b[0;34m)\u001b[0m\u001b[0;34m\u001b[0m\u001b[0;34m\u001b[0m\u001b[0m\n",
            "\u001b[0;32m/usr/local/lib/python3.10/dist-packages/sklearn/model_selection/_search.py\u001b[0m in \u001b[0;36mfit\u001b[0;34m(self, X, y, groups, **fit_params)\u001b[0m\n\u001b[1;32m    872\u001b[0m                 \u001b[0;32mreturn\u001b[0m \u001b[0mresults\u001b[0m\u001b[0;34m\u001b[0m\u001b[0;34m\u001b[0m\u001b[0m\n\u001b[1;32m    873\u001b[0m \u001b[0;34m\u001b[0m\u001b[0m\n\u001b[0;32m--> 874\u001b[0;31m             \u001b[0mself\u001b[0m\u001b[0;34m.\u001b[0m\u001b[0m_run_search\u001b[0m\u001b[0;34m(\u001b[0m\u001b[0mevaluate_candidates\u001b[0m\u001b[0;34m)\u001b[0m\u001b[0;34m\u001b[0m\u001b[0;34m\u001b[0m\u001b[0m\n\u001b[0m\u001b[1;32m    875\u001b[0m \u001b[0;34m\u001b[0m\u001b[0m\n\u001b[1;32m    876\u001b[0m             \u001b[0;31m# multimetric is determined here because in the case of a callable\u001b[0m\u001b[0;34m\u001b[0m\u001b[0;34m\u001b[0m\u001b[0m\n",
            "\u001b[0;32m/usr/local/lib/python3.10/dist-packages/sklearn/model_selection/_search.py\u001b[0m in \u001b[0;36m_run_search\u001b[0;34m(self, evaluate_candidates)\u001b[0m\n\u001b[1;32m   1386\u001b[0m     \u001b[0;32mdef\u001b[0m \u001b[0m_run_search\u001b[0m\u001b[0;34m(\u001b[0m\u001b[0mself\u001b[0m\u001b[0;34m,\u001b[0m \u001b[0mevaluate_candidates\u001b[0m\u001b[0;34m)\u001b[0m\u001b[0;34m:\u001b[0m\u001b[0;34m\u001b[0m\u001b[0;34m\u001b[0m\u001b[0m\n\u001b[1;32m   1387\u001b[0m         \u001b[0;34m\"\"\"Search all candidates in param_grid\"\"\"\u001b[0m\u001b[0;34m\u001b[0m\u001b[0;34m\u001b[0m\u001b[0m\n\u001b[0;32m-> 1388\u001b[0;31m         \u001b[0mevaluate_candidates\u001b[0m\u001b[0;34m(\u001b[0m\u001b[0mParameterGrid\u001b[0m\u001b[0;34m(\u001b[0m\u001b[0mself\u001b[0m\u001b[0;34m.\u001b[0m\u001b[0mparam_grid\u001b[0m\u001b[0;34m)\u001b[0m\u001b[0;34m)\u001b[0m\u001b[0;34m\u001b[0m\u001b[0;34m\u001b[0m\u001b[0m\n\u001b[0m\u001b[1;32m   1389\u001b[0m \u001b[0;34m\u001b[0m\u001b[0m\n\u001b[1;32m   1390\u001b[0m \u001b[0;34m\u001b[0m\u001b[0m\n",
            "\u001b[0;32m/usr/local/lib/python3.10/dist-packages/sklearn/model_selection/_search.py\u001b[0m in \u001b[0;36mevaluate_candidates\u001b[0;34m(candidate_params, cv, more_results)\u001b[0m\n\u001b[1;32m    849\u001b[0m                     )\n\u001b[1;32m    850\u001b[0m \u001b[0;34m\u001b[0m\u001b[0m\n\u001b[0;32m--> 851\u001b[0;31m                 \u001b[0m_warn_or_raise_about_fit_failures\u001b[0m\u001b[0;34m(\u001b[0m\u001b[0mout\u001b[0m\u001b[0;34m,\u001b[0m \u001b[0mself\u001b[0m\u001b[0;34m.\u001b[0m\u001b[0merror_score\u001b[0m\u001b[0;34m)\u001b[0m\u001b[0;34m\u001b[0m\u001b[0;34m\u001b[0m\u001b[0m\n\u001b[0m\u001b[1;32m    852\u001b[0m \u001b[0;34m\u001b[0m\u001b[0m\n\u001b[1;32m    853\u001b[0m                 \u001b[0;31m# For callable self.scoring, the return type is only know after\u001b[0m\u001b[0;34m\u001b[0m\u001b[0;34m\u001b[0m\u001b[0m\n",
            "\u001b[0;32m/usr/local/lib/python3.10/dist-packages/sklearn/model_selection/_validation.py\u001b[0m in \u001b[0;36m_warn_or_raise_about_fit_failures\u001b[0;34m(results, error_score)\u001b[0m\n\u001b[1;32m    365\u001b[0m                 \u001b[0;34mf\"Below are more details about the failures:\\n{fit_errors_summary}\"\u001b[0m\u001b[0;34m\u001b[0m\u001b[0;34m\u001b[0m\u001b[0m\n\u001b[1;32m    366\u001b[0m             )\n\u001b[0;32m--> 367\u001b[0;31m             \u001b[0;32mraise\u001b[0m \u001b[0mValueError\u001b[0m\u001b[0;34m(\u001b[0m\u001b[0mall_fits_failed_message\u001b[0m\u001b[0;34m)\u001b[0m\u001b[0;34m\u001b[0m\u001b[0;34m\u001b[0m\u001b[0m\n\u001b[0m\u001b[1;32m    368\u001b[0m \u001b[0;34m\u001b[0m\u001b[0m\n\u001b[1;32m    369\u001b[0m         \u001b[0;32melse\u001b[0m\u001b[0;34m:\u001b[0m\u001b[0;34m\u001b[0m\u001b[0;34m\u001b[0m\u001b[0m\n",
            "\u001b[0;31mValueError\u001b[0m: \nAll the 4 fits failed.\nIt is very likely that your model is misconfigured.\nYou can try to debug the error by setting error_score='raise'.\n\nBelow are more details about the failures:\n--------------------------------------------------------------------------------\n4 fits failed with the following error:\nTraceback (most recent call last):\n  File \"/usr/local/lib/python3.10/dist-packages/sklearn/model_selection/_validation.py\", line 686, in _fit_and_score\n    estimator.fit(X_train, y_train, **fit_params)\n  File \"/usr/local/lib/python3.10/dist-packages/sklearn/naive_bayes.py\", line 776, in fit\n    self._count(X, Y)\n  File \"/usr/local/lib/python3.10/dist-packages/sklearn/naive_bayes.py\", line 898, in _count\n    check_non_negative(X, \"MultinomialNB (input X)\")\n  File \"/usr/local/lib/python3.10/dist-packages/sklearn/utils/validation.py\", line 1418, in check_non_negative\n    raise ValueError(\"Negative values in data passed to %s\" % whom)\nValueError: Negative values in data passed to MultinomialNB (input X)\n"
          ]
        }
      ],
      "source": [
        "# Applying the model with the function\n",
        "eval_model(NB_B, NBParams, 'NBBert')"
      ]
    },
    {
      "cell_type": "markdown",
      "metadata": {
        "id": "MzgPWy_Q1os9"
      },
      "source": [
        "### Random Forest"
      ]
    },
    {
      "cell_type": "code",
      "execution_count": 26,
      "metadata": {
        "id": "5Amz4RNE1os9",
        "outputId": "a8f857c0-97e0-427e-fd5c-b577492fac73",
        "colab": {
          "base_uri": "https://localhost:8080/",
          "height": 204
        }
      },
      "outputs": [
        {
          "output_type": "stream",
          "name": "stdout",
          "text": [
            "rfcBert\n",
            "Accuracy on training set: 0.875\n",
            "Accuracy on test set: 0.801\n",
            "Best params:  {'max_depth': 5, 'min_samples_leaf': 10, 'n_estimators': 100, 'random_state': 42}\n",
            " \n"
          ]
        },
        {
          "output_type": "execute_result",
          "data": {
            "text/plain": [
              "GridSearchCV(cv=2, estimator=RandomForestClassifier(),\n",
              "             param_grid={'max_depth': [5, 10], 'min_samples_leaf': [5, 10],\n",
              "                         'n_estimators': [50, 100, 150], 'random_state': [42]})"
            ],
            "text/html": [
              "<style>#sk-container-id-2 {color: black;background-color: white;}#sk-container-id-2 pre{padding: 0;}#sk-container-id-2 div.sk-toggleable {background-color: white;}#sk-container-id-2 label.sk-toggleable__label {cursor: pointer;display: block;width: 100%;margin-bottom: 0;padding: 0.3em;box-sizing: border-box;text-align: center;}#sk-container-id-2 label.sk-toggleable__label-arrow:before {content: \"▸\";float: left;margin-right: 0.25em;color: #696969;}#sk-container-id-2 label.sk-toggleable__label-arrow:hover:before {color: black;}#sk-container-id-2 div.sk-estimator:hover label.sk-toggleable__label-arrow:before {color: black;}#sk-container-id-2 div.sk-toggleable__content {max-height: 0;max-width: 0;overflow: hidden;text-align: left;background-color: #f0f8ff;}#sk-container-id-2 div.sk-toggleable__content pre {margin: 0.2em;color: black;border-radius: 0.25em;background-color: #f0f8ff;}#sk-container-id-2 input.sk-toggleable__control:checked~div.sk-toggleable__content {max-height: 200px;max-width: 100%;overflow: auto;}#sk-container-id-2 input.sk-toggleable__control:checked~label.sk-toggleable__label-arrow:before {content: \"▾\";}#sk-container-id-2 div.sk-estimator input.sk-toggleable__control:checked~label.sk-toggleable__label {background-color: #d4ebff;}#sk-container-id-2 div.sk-label input.sk-toggleable__control:checked~label.sk-toggleable__label {background-color: #d4ebff;}#sk-container-id-2 input.sk-hidden--visually {border: 0;clip: rect(1px 1px 1px 1px);clip: rect(1px, 1px, 1px, 1px);height: 1px;margin: -1px;overflow: hidden;padding: 0;position: absolute;width: 1px;}#sk-container-id-2 div.sk-estimator {font-family: monospace;background-color: #f0f8ff;border: 1px dotted black;border-radius: 0.25em;box-sizing: border-box;margin-bottom: 0.5em;}#sk-container-id-2 div.sk-estimator:hover {background-color: #d4ebff;}#sk-container-id-2 div.sk-parallel-item::after {content: \"\";width: 100%;border-bottom: 1px solid gray;flex-grow: 1;}#sk-container-id-2 div.sk-label:hover label.sk-toggleable__label {background-color: #d4ebff;}#sk-container-id-2 div.sk-serial::before {content: \"\";position: absolute;border-left: 1px solid gray;box-sizing: border-box;top: 0;bottom: 0;left: 50%;z-index: 0;}#sk-container-id-2 div.sk-serial {display: flex;flex-direction: column;align-items: center;background-color: white;padding-right: 0.2em;padding-left: 0.2em;position: relative;}#sk-container-id-2 div.sk-item {position: relative;z-index: 1;}#sk-container-id-2 div.sk-parallel {display: flex;align-items: stretch;justify-content: center;background-color: white;position: relative;}#sk-container-id-2 div.sk-item::before, #sk-container-id-2 div.sk-parallel-item::before {content: \"\";position: absolute;border-left: 1px solid gray;box-sizing: border-box;top: 0;bottom: 0;left: 50%;z-index: -1;}#sk-container-id-2 div.sk-parallel-item {display: flex;flex-direction: column;z-index: 1;position: relative;background-color: white;}#sk-container-id-2 div.sk-parallel-item:first-child::after {align-self: flex-end;width: 50%;}#sk-container-id-2 div.sk-parallel-item:last-child::after {align-self: flex-start;width: 50%;}#sk-container-id-2 div.sk-parallel-item:only-child::after {width: 0;}#sk-container-id-2 div.sk-dashed-wrapped {border: 1px dashed gray;margin: 0 0.4em 0.5em 0.4em;box-sizing: border-box;padding-bottom: 0.4em;background-color: white;}#sk-container-id-2 div.sk-label label {font-family: monospace;font-weight: bold;display: inline-block;line-height: 1.2em;}#sk-container-id-2 div.sk-label-container {text-align: center;}#sk-container-id-2 div.sk-container {/* jupyter's `normalize.less` sets `[hidden] { display: none; }` but bootstrap.min.css set `[hidden] { display: none !important; }` so we also need the `!important` here to be able to override the default hidden behavior on the sphinx rendered scikit-learn.org. See: https://github.com/scikit-learn/scikit-learn/issues/21755 */display: inline-block !important;position: relative;}#sk-container-id-2 div.sk-text-repr-fallback {display: none;}</style><div id=\"sk-container-id-2\" class=\"sk-top-container\"><div class=\"sk-text-repr-fallback\"><pre>GridSearchCV(cv=2, estimator=RandomForestClassifier(),\n",
              "             param_grid={&#x27;max_depth&#x27;: [5, 10], &#x27;min_samples_leaf&#x27;: [5, 10],\n",
              "                         &#x27;n_estimators&#x27;: [50, 100, 150], &#x27;random_state&#x27;: [42]})</pre><b>In a Jupyter environment, please rerun this cell to show the HTML representation or trust the notebook. <br />On GitHub, the HTML representation is unable to render, please try loading this page with nbviewer.org.</b></div><div class=\"sk-container\" hidden><div class=\"sk-item sk-dashed-wrapped\"><div class=\"sk-label-container\"><div class=\"sk-label sk-toggleable\"><input class=\"sk-toggleable__control sk-hidden--visually\" id=\"sk-estimator-id-4\" type=\"checkbox\" ><label for=\"sk-estimator-id-4\" class=\"sk-toggleable__label sk-toggleable__label-arrow\">GridSearchCV</label><div class=\"sk-toggleable__content\"><pre>GridSearchCV(cv=2, estimator=RandomForestClassifier(),\n",
              "             param_grid={&#x27;max_depth&#x27;: [5, 10], &#x27;min_samples_leaf&#x27;: [5, 10],\n",
              "                         &#x27;n_estimators&#x27;: [50, 100, 150], &#x27;random_state&#x27;: [42]})</pre></div></div></div><div class=\"sk-parallel\"><div class=\"sk-parallel-item\"><div class=\"sk-item\"><div class=\"sk-label-container\"><div class=\"sk-label sk-toggleable\"><input class=\"sk-toggleable__control sk-hidden--visually\" id=\"sk-estimator-id-5\" type=\"checkbox\" ><label for=\"sk-estimator-id-5\" class=\"sk-toggleable__label sk-toggleable__label-arrow\">estimator: RandomForestClassifier</label><div class=\"sk-toggleable__content\"><pre>RandomForestClassifier()</pre></div></div></div><div class=\"sk-serial\"><div class=\"sk-item\"><div class=\"sk-estimator sk-toggleable\"><input class=\"sk-toggleable__control sk-hidden--visually\" id=\"sk-estimator-id-6\" type=\"checkbox\" ><label for=\"sk-estimator-id-6\" class=\"sk-toggleable__label sk-toggleable__label-arrow\">RandomForestClassifier</label><div class=\"sk-toggleable__content\"><pre>RandomForestClassifier()</pre></div></div></div></div></div></div></div></div></div></div>"
            ]
          },
          "metadata": {},
          "execution_count": 26
        }
      ],
      "source": [
        "# Applying the model with the function\n",
        "eval_model(rfc_B, rfcParams, 'rfcBert')"
      ]
    },
    {
      "cell_type": "markdown",
      "metadata": {
        "id": "4jkOIj_V1os9"
      },
      "source": [
        "## Summarizing"
      ]
    },
    {
      "cell_type": "code",
      "execution_count": null,
      "metadata": {
        "id": "_8ThkIfV1os9",
        "outputId": "082ef0b4-64c7-467a-adf1-75babccb551a"
      },
      "outputs": [
        {
          "data": {
            "image/png": "[encoded data removed]",
            "text/plain": [
              "<Figure size 640x480 with 1 Axes>"
            ]
          },
          "metadata": {},
          "output_type": "display_data"
        }
      ],
      "source": [
        "# Plotting the different accuracies and comparing them. https://www.tutorialspoint.com/matplotlib/matplotlib_bar_plot.htm\n",
        "accuracies = [searchRF.score(X_train, y_train), \n",
        "              searchNB.score(X_train, y_train), \n",
        "              searchLR.score(X_train, y_train),\n",
        "              0.7, # searchMLP.best_score_\n",
        "              0.7 # searchBert.best_score_\n",
        "              ]\n",
        "\n",
        "# model names in the same order as accuracies\n",
        "model_names = [\"RF\", \"NB\", \"LR\", \"MLP\", \"BERT\"]\n",
        "\n",
        "# plot horizontal bar chart\n",
        "plt.bar(model_names, accuracies)\n",
        "\n",
        "# add axis labels and title\n",
        "plt.xlabel(\"Accuracy\")\n",
        "plt.title(\"Accuracy of ML models on training set\")\n",
        "\n",
        "# show plot\n",
        "plt.show()"
      ]
    },
    {
      "cell_type": "code",
      "execution_count": null,
      "metadata": {
        "id": "9AlG2vN01os9",
        "outputId": "2ae78cc1-47cc-489e-9558-e2d290a40930"
      },
      "outputs": [
        {
          "data": {
            "image/png": "[encoded data removed]",
            "text/plain": [
              "<Figure size 640x480 with 1 Axes>"
            ]
          },
          "metadata": {},
          "output_type": "display_data"
        }
      ],
      "source": [
        "# Plotting the different accuracies on the test set and comparing them \n",
        "accuracies = [searchRF.score(X_test, y_test), \n",
        "              searchNB.score(X_test, y_test), \n",
        "              searchLR.score(X_test, y_test),\n",
        "              0.7, # searchMLP.score(X_test, y_test)\n",
        "              0.7 # searchBert.score(X_test, y_test)\n",
        "              ]\n",
        "\n",
        "# model names in the same order as accuracies\n",
        "model_names = [\"RF\", \"NB\", \"LR\", \"MLP\", \"BERT\"]\n",
        "\n",
        "# plot horizontal bar chart\n",
        "plt.bar(model_names, accuracies)\n",
        "\n",
        "# add axis labels and title\n",
        "plt.xlabel(\"Accuracy\")\n",
        "plt.title(\"Accuracy of ML models on test set\")\n",
        "\n",
        "# show plot\n",
        "plt.show()"
      ]
    },
    {
      "cell_type": "markdown",
      "metadata": {
        "id": "IWGlXOQZ1os9"
      },
      "source": [
        "# Experiment"
      ]
    },
    {
      "cell_type": "code",
      "execution_count": null,
      "metadata": {
        "id": "xcVwHaOj1os-",
        "outputId": "6ec80d3a-56d2-40b3-831d-fc63350edef0"
      },
      "outputs": [
        {
          "ename": "SyntaxError",
          "evalue": "invalid syntax (2699255659.py, line 14)",
          "output_type": "error",
          "traceback": [
            "\u001b[1;36m  Cell \u001b[1;32mIn[41], line 14\u001b[1;36m\u001b[0m\n\u001b[1;33m    }\u001b[0m\n\u001b[1;37m    ^\u001b[0m\n\u001b[1;31mSyntaxError\u001b[0m\u001b[1;31m:\u001b[0m invalid syntax\n"
          ]
        }
      ],
      "source": [
        "# Making a function for pipelines with gridsearch.\n",
        "def fullPipeGrid(name, model, params):\n",
        "    pipe = Pipeline(steps=[\n",
        "        'vect',CountVectorizer(),\n",
        "        'trans',TfidfTransformer(),\n",
        "        'Model', model()\n",
        "    ])\n",
        "\n",
        "    # Parameters for countvectorizer and tfid transformer are fixed. We test for uni-, bi- and trigrams.\n",
        "    paramsVect = {\n",
        "        'CountVectorizer__ngram_range':[(1,1),(1,2),(1,3)],\n",
        "        'TfidfTransformer__use_idf':[True,False],\n",
        "    }\n",
        "\n",
        "    paramsModel ={\n",
        "        'model'\n",
        "    }\n",
        "\n",
        "    # Making the GridSearch\n",
        "    grid = GridSearchCV(\n",
        "        pipe,\n",
        "        param_grid=params,\n",
        "        cv = 2 # CV on 2, while building the code\n",
        "    )\n",
        "    grid.fit(X_train, y_train)\n",
        "    print(name)\n",
        "    print(\"Accuracy on training set: {:.3f}\".format(grid.score(X_train, y_train)))\n",
        "    print(\"Accuracy on test set: {:.3f}\".format(grid.score(X_test, y_test)))\n",
        "    print(\"Best params: \", grid.best_params_) # Printing the best params\n",
        "    print(\" \")\n"
      ]
    },
    {
      "cell_type": "code",
      "execution_count": null,
      "metadata": {
        "id": "Ah87YCaM1os-"
      },
      "outputs": [],
      "source": [
        "# Creating the preprocessing steps to be used in all pipelines. https://towardsdatascience.com/a-basic-introduction-to-pipelines-in-scikit-learn-bd4cee34ad95\n",
        "preProcess_Steps = [\n",
        "    ('CountVectorizer',CountVectorizer()),\n",
        "    ('TfidfTransformer',TfidfTransformer()),\n",
        "]\n",
        "\n",
        "preProcess_Pipe = Pipeline(preProcess_Steps)\n",
        "\n",
        "# If more steps to the preprocessing is necessary\n",
        "#one_pipe = ColumnTransformer(transformers=[\n",
        "#          ('preprocess', preProcess_Pipe),\n",
        "#          ('anotherStep', insertVariable)\n",
        "#          ] )"
      ]
    },
    {
      "cell_type": "code",
      "execution_count": null,
      "metadata": {
        "id": "fPgg4Vsf1os-"
      },
      "outputs": [],
      "source": [
        "# Making a Pipeline with Logistic Regression. Using CountVectorizer and TfidTransformer. \n",
        "pipeLR = Pipeline(steps=[\n",
        "    ('preprocess', preProcess_Pipe),\n",
        "    ('Model', LogisticRegression())\n",
        "])\n",
        "\n",
        "# Fitting the pipeline with data\n",
        "pipeLR.fit(X_train, y_train)"
      ]
    }
  ],
  "metadata": {
    "accelerator": "GPU",
    "colab": {
      "gpuType": "T4",
      "provenance": []
    },
    "gpuClass": "standard",
    "kernelspec": {
      "display_name": "Python 3",
      "language": "python",
      "name": "python3"
    },
    "language_info": {
      "codemirror_mode": {
        "name": "ipython",
        "version": 3
      },
      "file_extension": ".py",
      "mimetype": "text/x-python",
      "name": "python",
      "nbconvert_exporter": "python",
      "pygments_lexer": "ipython3",
      "version": "3.10.9"
    },
    "orig_nbformat": 4,
    "widgets": {
      "application/vnd.jupyter.widget-state+json": {
        "30c0d681e2e44e09a2c99ab5af3cee55": {
          "model_module": "@jupyter-widgets/controls",
          "model_name": "HBoxModel",
          "model_module_version": "1.5.0",
          "state": {
            "_dom_classes": [],
            "_model_module": "@jupyter-widgets/controls",
            "_model_module_version": "1.5.0",
            "_model_name": "HBoxModel",
            "_view_count": null,
            "_view_module": "@jupyter-widgets/controls",
            "_view_module_version": "1.5.0",
            "_view_name": "HBoxView",
            "box_style": "",
            "children": [
              "IPY_MODEL_a92f3de1729449d597f96a2165f0c1c0",
              "IPY_MODEL_c48546b037214921bb2bc8da1799ba42",
              "IPY_MODEL_1733c234ca4b4a54b49ba1a4c5e3c4b8"
            ],
            "layout": "IPY_MODEL_8b2f3a50c1b9470398f75f8416a1e583"
          }
        },
        "a92f3de1729449d597f96a2165f0c1c0": {
          "model_module": "@jupyter-widgets/controls",
          "model_name": "HTMLModel",
          "model_module_version": "1.5.0",
          "state": {
            "_dom_classes": [],
            "_model_module": "@jupyter-widgets/controls",
            "_model_module_version": "1.5.0",
            "_model_name": "HTMLModel",
            "_view_count": null,
            "_view_module": "@jupyter-widgets/controls",
            "_view_module_version": "1.5.0",
            "_view_name": "HTMLView",
            "description": "",
            "description_tooltip": null,
            "layout": "IPY_MODEL_c274ead4fdbb4a819d1381e8de7e36c1",
            "placeholder": "​",
            "style": "IPY_MODEL_e99e44b035c54f33b65615864ba482cf",
            "value": "Downloading (…)lve/main/config.json: 100%"
          }
        },
        "c48546b037214921bb2bc8da1799ba42": {
          "model_module": "@jupyter-widgets/controls",
          "model_name": "FloatProgressModel",
          "model_module_version": "1.5.0",
          "state": {
            "_dom_classes": [],
            "_model_module": "@jupyter-widgets/controls",
            "_model_module_version": "1.5.0",
            "_model_name": "FloatProgressModel",
            "_view_count": null,
            "_view_module": "@jupyter-widgets/controls",
            "_view_module_version": "1.5.0",
            "_view_name": "ProgressView",
            "bar_style": "success",
            "description": "",
            "description_tooltip": null,
            "layout": "IPY_MODEL_ed88630cbc23447b8bc35fa8cda651f5",
            "max": 483,
            "min": 0,
            "orientation": "horizontal",
            "style": "IPY_MODEL_a23754e1be6a4b528e75bb8226d9bde5",
            "value": 483
          }
        },
        "1733c234ca4b4a54b49ba1a4c5e3c4b8": {
          "model_module": "@jupyter-widgets/controls",
          "model_name": "HTMLModel",
          "model_module_version": "1.5.0",
          "state": {
            "_dom_classes": [],
            "_model_module": "@jupyter-widgets/controls",
            "_model_module_version": "1.5.0",
            "_model_name": "HTMLModel",
            "_view_count": null,
            "_view_module": "@jupyter-widgets/controls",
            "_view_module_version": "1.5.0",
            "_view_name": "HTMLView",
            "description": "",
            "description_tooltip": null,
            "layout": "IPY_MODEL_1b5b9036a80f4513ab989828cf8cddf9",
            "placeholder": "​",
            "style": "IPY_MODEL_86732c4950b742758e1f6460295a501b",
            "value": " 483/483 [00:00&lt;00:00, 29.1kB/s]"
          }
        },
        "8b2f3a50c1b9470398f75f8416a1e583": {
          "model_module": "@jupyter-widgets/base",
          "model_name": "LayoutModel",
          "model_module_version": "1.2.0",
          "state": {
            "_model_module": "@jupyter-widgets/base",
            "_model_module_version": "1.2.0",
            "_model_name": "LayoutModel",
            "_view_count": null,
            "_view_module": "@jupyter-widgets/base",
            "_view_module_version": "1.2.0",
            "_view_name": "LayoutView",
            "align_content": null,
            "align_items": null,
            "align_self": null,
            "border": null,
            "bottom": null,
            "display": null,
            "flex": null,
            "flex_flow": null,
            "grid_area": null,
            "grid_auto_columns": null,
            "grid_auto_flow": null,
            "grid_auto_rows": null,
            "grid_column": null,
            "grid_gap": null,
            "grid_row": null,
            "grid_template_areas": null,
            "grid_template_columns": null,
            "grid_template_rows": null,
            "height": null,
            "justify_content": null,
            "justify_items": null,
            "left": null,
            "margin": null,
            "max_height": null,
            "max_width": null,
            "min_height": null,
            "min_width": null,
            "object_fit": null,
            "object_position": null,
            "order": null,
            "overflow": null,
            "overflow_x": null,
            "overflow_y": null,
            "padding": null,
            "right": null,
            "top": null,
            "visibility": null,
            "width": null
          }
        },
        "c274ead4fdbb4a819d1381e8de7e36c1": {
          "model_module": "@jupyter-widgets/base",
          "model_name": "LayoutModel",
          "model_module_version": "1.2.0",
          "state": {
            "_model_module": "@jupyter-widgets/base",
            "_model_module_version": "1.2.0",
            "_model_name": "LayoutModel",
            "_view_count": null,
            "_view_module": "@jupyter-widgets/base",
            "_view_module_version": "1.2.0",
            "_view_name": "LayoutView",
            "align_content": null,
            "align_items": null,
            "align_self": null,
            "border": null,
            "bottom": null,
            "display": null,
            "flex": null,
            "flex_flow": null,
            "grid_area": null,
            "grid_auto_columns": null,
            "grid_auto_flow": null,
            "grid_auto_rows": null,
            "grid_column": null,
            "grid_gap": null,
            "grid_row": null,
            "grid_template_areas": null,
            "grid_template_columns": null,
            "grid_template_rows": null,
            "height": null,
            "justify_content": null,
            "justify_items": null,
            "left": null,
            "margin": null,
            "max_height": null,
            "max_width": null,
            "min_height": null,
            "min_width": null,
            "object_fit": null,
            "object_position": null,
            "order": null,
            "overflow": null,
            "overflow_x": null,
            "overflow_y": null,
            "padding": null,
            "right": null,
            "top": null,
            "visibility": null,
            "width": null
          }
        },
        "e99e44b035c54f33b65615864ba482cf": {
          "model_module": "@jupyter-widgets/controls",
          "model_name": "DescriptionStyleModel",
          "model_module_version": "1.5.0",
          "state": {
            "_model_module": "@jupyter-widgets/controls",
            "_model_module_version": "1.5.0",
            "_model_name": "DescriptionStyleModel",
            "_view_count": null,
            "_view_module": "@jupyter-widgets/base",
            "_view_module_version": "1.2.0",
            "_view_name": "StyleView",
            "description_width": ""
          }
        },
        "ed88630cbc23447b8bc35fa8cda651f5": {
          "model_module": "@jupyter-widgets/base",
          "model_name": "LayoutModel",
          "model_module_version": "1.2.0",
          "state": {
            "_model_module": "@jupyter-widgets/base",
            "_model_module_version": "1.2.0",
            "_model_name": "LayoutModel",
            "_view_count": null,
            "_view_module": "@jupyter-widgets/base",
            "_view_module_version": "1.2.0",
            "_view_name": "LayoutView",
            "align_content": null,
            "align_items": null,
            "align_self": null,
            "border": null,
            "bottom": null,
            "display": null,
            "flex": null,
            "flex_flow": null,
            "grid_area": null,
            "grid_auto_columns": null,
            "grid_auto_flow": null,
            "grid_auto_rows": null,
            "grid_column": null,
            "grid_gap": null,
            "grid_row": null,
            "grid_template_areas": null,
            "grid_template_columns": null,
            "grid_template_rows": null,
            "height": null,
            "justify_content": null,
            "justify_items": null,
            "left": null,
            "margin": null,
            "max_height": null,
            "max_width": null,
            "min_height": null,
            "min_width": null,
            "object_fit": null,
            "object_position": null,
            "order": null,
            "overflow": null,
            "overflow_x": null,
            "overflow_y": null,
            "padding": null,
            "right": null,
            "top": null,
            "visibility": null,
            "width": null
          }
        },
        "a23754e1be6a4b528e75bb8226d9bde5": {
          "model_module": "@jupyter-widgets/controls",
          "model_name": "ProgressStyleModel",
          "model_module_version": "1.5.0",
          "state": {
            "_model_module": "@jupyter-widgets/controls",
            "_model_module_version": "1.5.0",
            "_model_name": "ProgressStyleModel",
            "_view_count": null,
            "_view_module": "@jupyter-widgets/base",
            "_view_module_version": "1.2.0",
            "_view_name": "StyleView",
            "bar_color": null,
            "description_width": ""
          }
        },
        "1b5b9036a80f4513ab989828cf8cddf9": {
          "model_module": "@jupyter-widgets/base",
          "model_name": "LayoutModel",
          "model_module_version": "1.2.0",
          "state": {
            "_model_module": "@jupyter-widgets/base",
            "_model_module_version": "1.2.0",
            "_model_name": "LayoutModel",
            "_view_count": null,
            "_view_module": "@jupyter-widgets/base",
            "_view_module_version": "1.2.0",
            "_view_name": "LayoutView",
            "align_content": null,
            "align_items": null,
            "align_self": null,
            "border": null,
            "bottom": null,
            "display": null,
            "flex": null,
            "flex_flow": null,
            "grid_area": null,
            "grid_auto_columns": null,
            "grid_auto_flow": null,
            "grid_auto_rows": null,
            "grid_column": null,
            "grid_gap": null,
            "grid_row": null,
            "grid_template_areas": null,
            "grid_template_columns": null,
            "grid_template_rows": null,
            "height": null,
            "justify_content": null,
            "justify_items": null,
            "left": null,
            "margin": null,
            "max_height": null,
            "max_width": null,
            "min_height": null,
            "min_width": null,
            "object_fit": null,
            "object_position": null,
            "order": null,
            "overflow": null,
            "overflow_x": null,
            "overflow_y": null,
            "padding": null,
            "right": null,
            "top": null,
            "visibility": null,
            "width": null
          }
        },
        "86732c4950b742758e1f6460295a501b": {
          "model_module": "@jupyter-widgets/controls",
          "model_name": "DescriptionStyleModel",
          "model_module_version": "1.5.0",
          "state": {
            "_model_module": "@jupyter-widgets/controls",
            "_model_module_version": "1.5.0",
            "_model_name": "DescriptionStyleModel",
            "_view_count": null,
            "_view_module": "@jupyter-widgets/base",
            "_view_module_version": "1.2.0",
            "_view_name": "StyleView",
            "description_width": ""
          }
        },
        "136c0e80329f4d31ae4a3b9b7ea1c1b3": {
          "model_module": "@jupyter-widgets/controls",
          "model_name": "HBoxModel",
          "model_module_version": "1.5.0",
          "state": {
            "_dom_classes": [],
            "_model_module": "@jupyter-widgets/controls",
            "_model_module_version": "1.5.0",
            "_model_name": "HBoxModel",
            "_view_count": null,
            "_view_module": "@jupyter-widgets/controls",
            "_view_module_version": "1.5.0",
            "_view_name": "HBoxView",
            "box_style": "",
            "children": [
              "IPY_MODEL_34a01ced96664635abf3b1498247cf0e",
              "IPY_MODEL_c5a6fa7e714340958468b33ea50d9669",
              "IPY_MODEL_e0be433526544f529b52c3d92f04e080"
            ],
            "layout": "IPY_MODEL_b1b26688014d460a898c713033a5d49a"
          }
        },
        "34a01ced96664635abf3b1498247cf0e": {
          "model_module": "@jupyter-widgets/controls",
          "model_name": "HTMLModel",
          "model_module_version": "1.5.0",
          "state": {
            "_dom_classes": [],
            "_model_module": "@jupyter-widgets/controls",
            "_model_module_version": "1.5.0",
            "_model_name": "HTMLModel",
            "_view_count": null,
            "_view_module": "@jupyter-widgets/controls",
            "_view_module_version": "1.5.0",
            "_view_name": "HTMLView",
            "description": "",
            "description_tooltip": null,
            "layout": "IPY_MODEL_21f416894f924fafbe80883b986aeb95",
            "placeholder": "​",
            "style": "IPY_MODEL_0ea0d44d2b4b49d3a1751b574cf99868",
            "value": "Downloading pytorch_model.bin: 100%"
          }
        },
        "c5a6fa7e714340958468b33ea50d9669": {
          "model_module": "@jupyter-widgets/controls",
          "model_name": "FloatProgressModel",
          "model_module_version": "1.5.0",
          "state": {
            "_dom_classes": [],
            "_model_module": "@jupyter-widgets/controls",
            "_model_module_version": "1.5.0",
            "_model_name": "FloatProgressModel",
            "_view_count": null,
            "_view_module": "@jupyter-widgets/controls",
            "_view_module_version": "1.5.0",
            "_view_name": "ProgressView",
            "bar_style": "success",
            "description": "",
            "description_tooltip": null,
            "layout": "IPY_MODEL_1eba4810a7a643a182d662cc0387a58b",
            "max": 267967963,
            "min": 0,
            "orientation": "horizontal",
            "style": "IPY_MODEL_d31f1efffcac4a2cb00c647e1fff23eb",
            "value": 267967963
          }
        },
        "e0be433526544f529b52c3d92f04e080": {
          "model_module": "@jupyter-widgets/controls",
          "model_name": "HTMLModel",
          "model_module_version": "1.5.0",
          "state": {
            "_dom_classes": [],
            "_model_module": "@jupyter-widgets/controls",
            "_model_module_version": "1.5.0",
            "_model_name": "HTMLModel",
            "_view_count": null,
            "_view_module": "@jupyter-widgets/controls",
            "_view_module_version": "1.5.0",
            "_view_name": "HTMLView",
            "description": "",
            "description_tooltip": null,
            "layout": "IPY_MODEL_efd3bae0be324b4d9cb8a3ed7ed94130",
            "placeholder": "​",
            "style": "IPY_MODEL_0ec31140289a4a14b5fb139432b502eb",
            "value": " 268M/268M [00:00&lt;00:00, 379MB/s]"
          }
        },
        "b1b26688014d460a898c713033a5d49a": {
          "model_module": "@jupyter-widgets/base",
          "model_name": "LayoutModel",
          "model_module_version": "1.2.0",
          "state": {
            "_model_module": "@jupyter-widgets/base",
            "_model_module_version": "1.2.0",
            "_model_name": "LayoutModel",
            "_view_count": null,
            "_view_module": "@jupyter-widgets/base",
            "_view_module_version": "1.2.0",
            "_view_name": "LayoutView",
            "align_content": null,
            "align_items": null,
            "align_self": null,
            "border": null,
            "bottom": null,
            "display": null,
            "flex": null,
            "flex_flow": null,
            "grid_area": null,
            "grid_auto_columns": null,
            "grid_auto_flow": null,
            "grid_auto_rows": null,
            "grid_column": null,
            "grid_gap": null,
            "grid_row": null,
            "grid_template_areas": null,
            "grid_template_columns": null,
            "grid_template_rows": null,
            "height": null,
            "justify_content": null,
            "justify_items": null,
            "left": null,
            "margin": null,
            "max_height": null,
            "max_width": null,
            "min_height": null,
            "min_width": null,
            "object_fit": null,
            "object_position": null,
            "order": null,
            "overflow": null,
            "overflow_x": null,
            "overflow_y": null,
            "padding": null,
            "right": null,
            "top": null,
            "visibility": null,
            "width": null
          }
        },
        "21f416894f924fafbe80883b986aeb95": {
          "model_module": "@jupyter-widgets/base",
          "model_name": "LayoutModel",
          "model_module_version": "1.2.0",
          "state": {
            "_model_module": "@jupyter-widgets/base",
            "_model_module_version": "1.2.0",
            "_model_name": "LayoutModel",
            "_view_count": null,
            "_view_module": "@jupyter-widgets/base",
            "_view_module_version": "1.2.0",
            "_view_name": "LayoutView",
            "align_content": null,
            "align_items": null,
            "align_self": null,
            "border": null,
            "bottom": null,
            "display": null,
            "flex": null,
            "flex_flow": null,
            "grid_area": null,
            "grid_auto_columns": null,
            "grid_auto_flow": null,
            "grid_auto_rows": null,
            "grid_column": null,
            "grid_gap": null,
            "grid_row": null,
            "grid_template_areas": null,
            "grid_template_columns": null,
            "grid_template_rows": null,
            "height": null,
            "justify_content": null,
            "justify_items": null,
            "left": null,
            "margin": null,
            "max_height": null,
            "max_width": null,
            "min_height": null,
            "min_width": null,
            "object_fit": null,
            "object_position": null,
            "order": null,
            "overflow": null,
            "overflow_x": null,
            "overflow_y": null,
            "padding": null,
            "right": null,
            "top": null,
            "visibility": null,
            "width": null
          }
        },
        "0ea0d44d2b4b49d3a1751b574cf99868": {
          "model_module": "@jupyter-widgets/controls",
          "model_name": "DescriptionStyleModel",
          "model_module_version": "1.5.0",
          "state": {
            "_model_module": "@jupyter-widgets/controls",
            "_model_module_version": "1.5.0",
            "_model_name": "DescriptionStyleModel",
            "_view_count": null,
            "_view_module": "@jupyter-widgets/base",
            "_view_module_version": "1.2.0",
            "_view_name": "StyleView",
            "description_width": ""
          }
        },
        "1eba4810a7a643a182d662cc0387a58b": {
          "model_module": "@jupyter-widgets/base",
          "model_name": "LayoutModel",
          "model_module_version": "1.2.0",
          "state": {
            "_model_module": "@jupyter-widgets/base",
            "_model_module_version": "1.2.0",
            "_model_name": "LayoutModel",
            "_view_count": null,
            "_view_module": "@jupyter-widgets/base",
            "_view_module_version": "1.2.0",
            "_view_name": "LayoutView",
            "align_content": null,
            "align_items": null,
            "align_self": null,
            "border": null,
            "bottom": null,
            "display": null,
            "flex": null,
            "flex_flow": null,
            "grid_area": null,
            "grid_auto_columns": null,
            "grid_auto_flow": null,
            "grid_auto_rows": null,
            "grid_column": null,
            "grid_gap": null,
            "grid_row": null,
            "grid_template_areas": null,
            "grid_template_columns": null,
            "grid_template_rows": null,
            "height": null,
            "justify_content": null,
            "justify_items": null,
            "left": null,
            "margin": null,
            "max_height": null,
            "max_width": null,
            "min_height": null,
            "min_width": null,
            "object_fit": null,
            "object_position": null,
            "order": null,
            "overflow": null,
            "overflow_x": null,
            "overflow_y": null,
            "padding": null,
            "right": null,
            "top": null,
            "visibility": null,
            "width": null
          }
        },
        "d31f1efffcac4a2cb00c647e1fff23eb": {
          "model_module": "@jupyter-widgets/controls",
          "model_name": "ProgressStyleModel",
          "model_module_version": "1.5.0",
          "state": {
            "_model_module": "@jupyter-widgets/controls",
            "_model_module_version": "1.5.0",
            "_model_name": "ProgressStyleModel",
            "_view_count": null,
            "_view_module": "@jupyter-widgets/base",
            "_view_module_version": "1.2.0",
            "_view_name": "StyleView",
            "bar_color": null,
            "description_width": ""
          }
        },
        "efd3bae0be324b4d9cb8a3ed7ed94130": {
          "model_module": "@jupyter-widgets/base",
          "model_name": "LayoutModel",
          "model_module_version": "1.2.0",
          "state": {
            "_model_module": "@jupyter-widgets/base",
            "_model_module_version": "1.2.0",
            "_model_name": "LayoutModel",
            "_view_count": null,
            "_view_module": "@jupyter-widgets/base",
            "_view_module_version": "1.2.0",
            "_view_name": "LayoutView",
            "align_content": null,
            "align_items": null,
            "align_self": null,
            "border": null,
            "bottom": null,
            "display": null,
            "flex": null,
            "flex_flow": null,
            "grid_area": null,
            "grid_auto_columns": null,
            "grid_auto_flow": null,
            "grid_auto_rows": null,
            "grid_column": null,
            "grid_gap": null,
            "grid_row": null,
            "grid_template_areas": null,
            "grid_template_columns": null,
            "grid_template_rows": null,
            "height": null,
            "justify_content": null,
            "justify_items": null,
            "left": null,
            "margin": null,
            "max_height": null,
            "max_width": null,
            "min_height": null,
            "min_width": null,
            "object_fit": null,
            "object_position": null,
            "order": null,
            "overflow": null,
            "overflow_x": null,
            "overflow_y": null,
            "padding": null,
            "right": null,
            "top": null,
            "visibility": null,
            "width": null
          }
        },
        "0ec31140289a4a14b5fb139432b502eb": {
          "model_module": "@jupyter-widgets/controls",
          "model_name": "DescriptionStyleModel",
          "model_module_version": "1.5.0",
          "state": {
            "_model_module": "@jupyter-widgets/controls",
            "_model_module_version": "1.5.0",
            "_model_name": "DescriptionStyleModel",
            "_view_count": null,
            "_view_module": "@jupyter-widgets/base",
            "_view_module_version": "1.2.0",
            "_view_name": "StyleView",
            "description_width": ""
          }
        },
        "5ddd65a21273493e81fada6b7a87d544": {
          "model_module": "@jupyter-widgets/controls",
          "model_name": "HBoxModel",
          "model_module_version": "1.5.0",
          "state": {
            "_dom_classes": [],
            "_model_module": "@jupyter-widgets/controls",
            "_model_module_version": "1.5.0",
            "_model_name": "HBoxModel",
            "_view_count": null,
            "_view_module": "@jupyter-widgets/controls",
            "_view_module_version": "1.5.0",
            "_view_name": "HBoxView",
            "box_style": "",
            "children": [
              "IPY_MODEL_aae533331ff2497cacf9a43bf3a6432d",
              "IPY_MODEL_e6ed00e6011a47c7ac3a48ac9e72ee73",
              "IPY_MODEL_347c3dcd03fa4949afa2007468924675"
            ],
            "layout": "IPY_MODEL_2459efecd3254626a166977e46e57ed1"
          }
        },
        "aae533331ff2497cacf9a43bf3a6432d": {
          "model_module": "@jupyter-widgets/controls",
          "model_name": "HTMLModel",
          "model_module_version": "1.5.0",
          "state": {
            "_dom_classes": [],
            "_model_module": "@jupyter-widgets/controls",
            "_model_module_version": "1.5.0",
            "_model_name": "HTMLModel",
            "_view_count": null,
            "_view_module": "@jupyter-widgets/controls",
            "_view_module_version": "1.5.0",
            "_view_name": "HTMLView",
            "description": "",
            "description_tooltip": null,
            "layout": "IPY_MODEL_cc6115b841934a058f12b36af6eb117b",
            "placeholder": "​",
            "style": "IPY_MODEL_5fb3ac012b954e6b801d0682232d12f2",
            "value": "Downloading (…)okenizer_config.json: 100%"
          }
        },
        "e6ed00e6011a47c7ac3a48ac9e72ee73": {
          "model_module": "@jupyter-widgets/controls",
          "model_name": "FloatProgressModel",
          "model_module_version": "1.5.0",
          "state": {
            "_dom_classes": [],
            "_model_module": "@jupyter-widgets/controls",
            "_model_module_version": "1.5.0",
            "_model_name": "FloatProgressModel",
            "_view_count": null,
            "_view_module": "@jupyter-widgets/controls",
            "_view_module_version": "1.5.0",
            "_view_name": "ProgressView",
            "bar_style": "success",
            "description": "",
            "description_tooltip": null,
            "layout": "IPY_MODEL_2f23598e0b1747828e2c3224639ad9c9",
            "max": 28,
            "min": 0,
            "orientation": "horizontal",
            "style": "IPY_MODEL_8d46b1420f2a4d63848f88fe68b24505",
            "value": 28
          }
        },
        "347c3dcd03fa4949afa2007468924675": {
          "model_module": "@jupyter-widgets/controls",
          "model_name": "HTMLModel",
          "model_module_version": "1.5.0",
          "state": {
            "_dom_classes": [],
            "_model_module": "@jupyter-widgets/controls",
            "_model_module_version": "1.5.0",
            "_model_name": "HTMLModel",
            "_view_count": null,
            "_view_module": "@jupyter-widgets/controls",
            "_view_module_version": "1.5.0",
            "_view_name": "HTMLView",
            "description": "",
            "description_tooltip": null,
            "layout": "IPY_MODEL_b136e4adae984054830516cafbfad0f3",
            "placeholder": "​",
            "style": "IPY_MODEL_0b785c0a937e4d65b2fe09f2ec98aa8b",
            "value": " 28.0/28.0 [00:00&lt;00:00, 1.66kB/s]"
          }
        },
        "2459efecd3254626a166977e46e57ed1": {
          "model_module": "@jupyter-widgets/base",
          "model_name": "LayoutModel",
          "model_module_version": "1.2.0",
          "state": {
            "_model_module": "@jupyter-widgets/base",
            "_model_module_version": "1.2.0",
            "_model_name": "LayoutModel",
            "_view_count": null,
            "_view_module": "@jupyter-widgets/base",
            "_view_module_version": "1.2.0",
            "_view_name": "LayoutView",
            "align_content": null,
            "align_items": null,
            "align_self": null,
            "border": null,
            "bottom": null,
            "display": null,
            "flex": null,
            "flex_flow": null,
            "grid_area": null,
            "grid_auto_columns": null,
            "grid_auto_flow": null,
            "grid_auto_rows": null,
            "grid_column": null,
            "grid_gap": null,
            "grid_row": null,
            "grid_template_areas": null,
            "grid_template_columns": null,
            "grid_template_rows": null,
            "height": null,
            "justify_content": null,
            "justify_items": null,
            "left": null,
            "margin": null,
            "max_height": null,
            "max_width": null,
            "min_height": null,
            "min_width": null,
            "object_fit": null,
            "object_position": null,
            "order": null,
            "overflow": null,
            "overflow_x": null,
            "overflow_y": null,
            "padding": null,
            "right": null,
            "top": null,
            "visibility": null,
            "width": null
          }
        },
        "cc6115b841934a058f12b36af6eb117b": {
          "model_module": "@jupyter-widgets/base",
          "model_name": "LayoutModel",
          "model_module_version": "1.2.0",
          "state": {
            "_model_module": "@jupyter-widgets/base",
            "_model_module_version": "1.2.0",
            "_model_name": "LayoutModel",
            "_view_count": null,
            "_view_module": "@jupyter-widgets/base",
            "_view_module_version": "1.2.0",
            "_view_name": "LayoutView",
            "align_content": null,
            "align_items": null,
            "align_self": null,
            "border": null,
            "bottom": null,
            "display": null,
            "flex": null,
            "flex_flow": null,
            "grid_area": null,
            "grid_auto_columns": null,
            "grid_auto_flow": null,
            "grid_auto_rows": null,
            "grid_column": null,
            "grid_gap": null,
            "grid_row": null,
            "grid_template_areas": null,
            "grid_template_columns": null,
            "grid_template_rows": null,
            "height": null,
            "justify_content": null,
            "justify_items": null,
            "left": null,
            "margin": null,
            "max_height": null,
            "max_width": null,
            "min_height": null,
            "min_width": null,
            "object_fit": null,
            "object_position": null,
            "order": null,
            "overflow": null,
            "overflow_x": null,
            "overflow_y": null,
            "padding": null,
            "right": null,
            "top": null,
            "visibility": null,
            "width": null
          }
        },
        "5fb3ac012b954e6b801d0682232d12f2": {
          "model_module": "@jupyter-widgets/controls",
          "model_name": "DescriptionStyleModel",
          "model_module_version": "1.5.0",
          "state": {
            "_model_module": "@jupyter-widgets/controls",
            "_model_module_version": "1.5.0",
            "_model_name": "DescriptionStyleModel",
            "_view_count": null,
            "_view_module": "@jupyter-widgets/base",
            "_view_module_version": "1.2.0",
            "_view_name": "StyleView",
            "description_width": ""
          }
        },
        "2f23598e0b1747828e2c3224639ad9c9": {
          "model_module": "@jupyter-widgets/base",
          "model_name": "LayoutModel",
          "model_module_version": "1.2.0",
          "state": {
            "_model_module": "@jupyter-widgets/base",
            "_model_module_version": "1.2.0",
            "_model_name": "LayoutModel",
            "_view_count": null,
            "_view_module": "@jupyter-widgets/base",
            "_view_module_version": "1.2.0",
            "_view_name": "LayoutView",
            "align_content": null,
            "align_items": null,
            "align_self": null,
            "border": null,
            "bottom": null,
            "display": null,
            "flex": null,
            "flex_flow": null,
            "grid_area": null,
            "grid_auto_columns": null,
            "grid_auto_flow": null,
            "grid_auto_rows": null,
            "grid_column": null,
            "grid_gap": null,
            "grid_row": null,
            "grid_template_areas": null,
            "grid_template_columns": null,
            "grid_template_rows": null,
            "height": null,
            "justify_content": null,
            "justify_items": null,
            "left": null,
            "margin": null,
            "max_height": null,
            "max_width": null,
            "min_height": null,
            "min_width": null,
            "object_fit": null,
            "object_position": null,
            "order": null,
            "overflow": null,
            "overflow_x": null,
            "overflow_y": null,
            "padding": null,
            "right": null,
            "top": null,
            "visibility": null,
            "width": null
          }
        },
        "8d46b1420f2a4d63848f88fe68b24505": {
          "model_module": "@jupyter-widgets/controls",
          "model_name": "ProgressStyleModel",
          "model_module_version": "1.5.0",
          "state": {
            "_model_module": "@jupyter-widgets/controls",
            "_model_module_version": "1.5.0",
            "_model_name": "ProgressStyleModel",
            "_view_count": null,
            "_view_module": "@jupyter-widgets/base",
            "_view_module_version": "1.2.0",
            "_view_name": "StyleView",
            "bar_color": null,
            "description_width": ""
          }
        },
        "b136e4adae984054830516cafbfad0f3": {
          "model_module": "@jupyter-widgets/base",
          "model_name": "LayoutModel",
          "model_module_version": "1.2.0",
          "state": {
            "_model_module": "@jupyter-widgets/base",
            "_model_module_version": "1.2.0",
            "_model_name": "LayoutModel",
            "_view_count": null,
            "_view_module": "@jupyter-widgets/base",
            "_view_module_version": "1.2.0",
            "_view_name": "LayoutView",
            "align_content": null,
            "align_items": null,
            "align_self": null,
            "border": null,
            "bottom": null,
            "display": null,
            "flex": null,
            "flex_flow": null,
            "grid_area": null,
            "grid_auto_columns": null,
            "grid_auto_flow": null,
            "grid_auto_rows": null,
            "grid_column": null,
            "grid_gap": null,
            "grid_row": null,
            "grid_template_areas": null,
            "grid_template_columns": null,
            "grid_template_rows": null,
            "height": null,
            "justify_content": null,
            "justify_items": null,
            "left": null,
            "margin": null,
            "max_height": null,
            "max_width": null,
            "min_height": null,
            "min_width": null,
            "object_fit": null,
            "object_position": null,
            "order": null,
            "overflow": null,
            "overflow_x": null,
            "overflow_y": null,
            "padding": null,
            "right": null,
            "top": null,
            "visibility": null,
            "width": null
          }
        },
        "0b785c0a937e4d65b2fe09f2ec98aa8b": {
          "model_module": "@jupyter-widgets/controls",
          "model_name": "DescriptionStyleModel",
          "model_module_version": "1.5.0",
          "state": {
            "_model_module": "@jupyter-widgets/controls",
            "_model_module_version": "1.5.0",
            "_model_name": "DescriptionStyleModel",
            "_view_count": null,
            "_view_module": "@jupyter-widgets/base",
            "_view_module_version": "1.2.0",
            "_view_name": "StyleView",
            "description_width": ""
          }
        },
        "078fad1b7f2447cba60e5a21e9087aa8": {
          "model_module": "@jupyter-widgets/controls",
          "model_name": "HBoxModel",
          "model_module_version": "1.5.0",
          "state": {
            "_dom_classes": [],
            "_model_module": "@jupyter-widgets/controls",
            "_model_module_version": "1.5.0",
            "_model_name": "HBoxModel",
            "_view_count": null,
            "_view_module": "@jupyter-widgets/controls",
            "_view_module_version": "1.5.0",
            "_view_name": "HBoxView",
            "box_style": "",
            "children": [
              "IPY_MODEL_93482206c845487a95138de2665c45b9",
              "IPY_MODEL_55725344d2c54e389dbc2cd6fe025202",
              "IPY_MODEL_68c72c1facec4778a48017493d9bb013"
            ],
            "layout": "IPY_MODEL_4539a4bf1c1d4ea2a924164aec5c2b73"
          }
        },
        "93482206c845487a95138de2665c45b9": {
          "model_module": "@jupyter-widgets/controls",
          "model_name": "HTMLModel",
          "model_module_version": "1.5.0",
          "state": {
            "_dom_classes": [],
            "_model_module": "@jupyter-widgets/controls",
            "_model_module_version": "1.5.0",
            "_model_name": "HTMLModel",
            "_view_count": null,
            "_view_module": "@jupyter-widgets/controls",
            "_view_module_version": "1.5.0",
            "_view_name": "HTMLView",
            "description": "",
            "description_tooltip": null,
            "layout": "IPY_MODEL_ea60026cf4374123bd7532256c1278b0",
            "placeholder": "​",
            "style": "IPY_MODEL_9c343bcd7f564f67bb733bb975903ec9",
            "value": "Downloading (…)solve/main/vocab.txt: 100%"
          }
        },
        "55725344d2c54e389dbc2cd6fe025202": {
          "model_module": "@jupyter-widgets/controls",
          "model_name": "FloatProgressModel",
          "model_module_version": "1.5.0",
          "state": {
            "_dom_classes": [],
            "_model_module": "@jupyter-widgets/controls",
            "_model_module_version": "1.5.0",
            "_model_name": "FloatProgressModel",
            "_view_count": null,
            "_view_module": "@jupyter-widgets/controls",
            "_view_module_version": "1.5.0",
            "_view_name": "ProgressView",
            "bar_style": "success",
            "description": "",
            "description_tooltip": null,
            "layout": "IPY_MODEL_8e21cbcdf6c04ace8d7853c1b1be4b91",
            "max": 231508,
            "min": 0,
            "orientation": "horizontal",
            "style": "IPY_MODEL_e506ba64380041e7b0c487e02a0af622",
            "value": 231508
          }
        },
        "68c72c1facec4778a48017493d9bb013": {
          "model_module": "@jupyter-widgets/controls",
          "model_name": "HTMLModel",
          "model_module_version": "1.5.0",
          "state": {
            "_dom_classes": [],
            "_model_module": "@jupyter-widgets/controls",
            "_model_module_version": "1.5.0",
            "_model_name": "HTMLModel",
            "_view_count": null,
            "_view_module": "@jupyter-widgets/controls",
            "_view_module_version": "1.5.0",
            "_view_name": "HTMLView",
            "description": "",
            "description_tooltip": null,
            "layout": "IPY_MODEL_fdfb05ce1f304701b3c3e513655ca624",
            "placeholder": "​",
            "style": "IPY_MODEL_742b36f89744431b9c8316a6a3a123b5",
            "value": " 232k/232k [00:00&lt;00:00, 554kB/s]"
          }
        },
        "4539a4bf1c1d4ea2a924164aec5c2b73": {
          "model_module": "@jupyter-widgets/base",
          "model_name": "LayoutModel",
          "model_module_version": "1.2.0",
          "state": {
            "_model_module": "@jupyter-widgets/base",
            "_model_module_version": "1.2.0",
            "_model_name": "LayoutModel",
            "_view_count": null,
            "_view_module": "@jupyter-widgets/base",
            "_view_module_version": "1.2.0",
            "_view_name": "LayoutView",
            "align_content": null,
            "align_items": null,
            "align_self": null,
            "border": null,
            "bottom": null,
            "display": null,
            "flex": null,
            "flex_flow": null,
            "grid_area": null,
            "grid_auto_columns": null,
            "grid_auto_flow": null,
            "grid_auto_rows": null,
            "grid_column": null,
            "grid_gap": null,
            "grid_row": null,
            "grid_template_areas": null,
            "grid_template_columns": null,
            "grid_template_rows": null,
            "height": null,
            "justify_content": null,
            "justify_items": null,
            "left": null,
            "margin": null,
            "max_height": null,
            "max_width": null,
            "min_height": null,
            "min_width": null,
            "object_fit": null,
            "object_position": null,
            "order": null,
            "overflow": null,
            "overflow_x": null,
            "overflow_y": null,
            "padding": null,
            "right": null,
            "top": null,
            "visibility": null,
            "width": null
          }
        },
        "ea60026cf4374123bd7532256c1278b0": {
          "model_module": "@jupyter-widgets/base",
          "model_name": "LayoutModel",
          "model_module_version": "1.2.0",
          "state": {
            "_model_module": "@jupyter-widgets/base",
            "_model_module_version": "1.2.0",
            "_model_name": "LayoutModel",
            "_view_count": null,
            "_view_module": "@jupyter-widgets/base",
            "_view_module_version": "1.2.0",
            "_view_name": "LayoutView",
            "align_content": null,
            "align_items": null,
            "align_self": null,
            "border": null,
            "bottom": null,
            "display": null,
            "flex": null,
            "flex_flow": null,
            "grid_area": null,
            "grid_auto_columns": null,
            "grid_auto_flow": null,
            "grid_auto_rows": null,
            "grid_column": null,
            "grid_gap": null,
            "grid_row": null,
            "grid_template_areas": null,
            "grid_template_columns": null,
            "grid_template_rows": null,
            "height": null,
            "justify_content": null,
            "justify_items": null,
            "left": null,
            "margin": null,
            "max_height": null,
            "max_width": null,
            "min_height": null,
            "min_width": null,
            "object_fit": null,
            "object_position": null,
            "order": null,
            "overflow": null,
            "overflow_x": null,
            "overflow_y": null,
            "padding": null,
            "right": null,
            "top": null,
            "visibility": null,
            "width": null
          }
        },
        "9c343bcd7f564f67bb733bb975903ec9": {
          "model_module": "@jupyter-widgets/controls",
          "model_name": "DescriptionStyleModel",
          "model_module_version": "1.5.0",
          "state": {
            "_model_module": "@jupyter-widgets/controls",
            "_model_module_version": "1.5.0",
            "_model_name": "DescriptionStyleModel",
            "_view_count": null,
            "_view_module": "@jupyter-widgets/base",
            "_view_module_version": "1.2.0",
            "_view_name": "StyleView",
            "description_width": ""
          }
        },
        "8e21cbcdf6c04ace8d7853c1b1be4b91": {
          "model_module": "@jupyter-widgets/base",
          "model_name": "LayoutModel",
          "model_module_version": "1.2.0",
          "state": {
            "_model_module": "@jupyter-widgets/base",
            "_model_module_version": "1.2.0",
            "_model_name": "LayoutModel",
            "_view_count": null,
            "_view_module": "@jupyter-widgets/base",
            "_view_module_version": "1.2.0",
            "_view_name": "LayoutView",
            "align_content": null,
            "align_items": null,
            "align_self": null,
            "border": null,
            "bottom": null,
            "display": null,
            "flex": null,
            "flex_flow": null,
            "grid_area": null,
            "grid_auto_columns": null,
            "grid_auto_flow": null,
            "grid_auto_rows": null,
            "grid_column": null,
            "grid_gap": null,
            "grid_row": null,
            "grid_template_areas": null,
            "grid_template_columns": null,
            "grid_template_rows": null,
            "height": null,
            "justify_content": null,
            "justify_items": null,
            "left": null,
            "margin": null,
            "max_height": null,
            "max_width": null,
            "min_height": null,
            "min_width": null,
            "object_fit": null,
            "object_position": null,
            "order": null,
            "overflow": null,
            "overflow_x": null,
            "overflow_y": null,
            "padding": null,
            "right": null,
            "top": null,
            "visibility": null,
            "width": null
          }
        },
        "e506ba64380041e7b0c487e02a0af622": {
          "model_module": "@jupyter-widgets/controls",
          "model_name": "ProgressStyleModel",
          "model_module_version": "1.5.0",
          "state": {
            "_model_module": "@jupyter-widgets/controls",
            "_model_module_version": "1.5.0",
            "_model_name": "ProgressStyleModel",
            "_view_count": null,
            "_view_module": "@jupyter-widgets/base",
            "_view_module_version": "1.2.0",
            "_view_name": "StyleView",
            "bar_color": null,
            "description_width": ""
          }
        },
        "fdfb05ce1f304701b3c3e513655ca624": {
          "model_module": "@jupyter-widgets/base",
          "model_name": "LayoutModel",
          "model_module_version": "1.2.0",
          "state": {
            "_model_module": "@jupyter-widgets/base",
            "_model_module_version": "1.2.0",
            "_model_name": "LayoutModel",
            "_view_count": null,
            "_view_module": "@jupyter-widgets/base",
            "_view_module_version": "1.2.0",
            "_view_name": "LayoutView",
            "align_content": null,
            "align_items": null,
            "align_self": null,
            "border": null,
            "bottom": null,
            "display": null,
            "flex": null,
            "flex_flow": null,
            "grid_area": null,
            "grid_auto_columns": null,
            "grid_auto_flow": null,
            "grid_auto_rows": null,
            "grid_column": null,
            "grid_gap": null,
            "grid_row": null,
            "grid_template_areas": null,
            "grid_template_columns": null,
            "grid_template_rows": null,
            "height": null,
            "justify_content": null,
            "justify_items": null,
            "left": null,
            "margin": null,
            "max_height": null,
            "max_width": null,
            "min_height": null,
            "min_width": null,
            "object_fit": null,
            "object_position": null,
            "order": null,
            "overflow": null,
            "overflow_x": null,
            "overflow_y": null,
            "padding": null,
            "right": null,
            "top": null,
            "visibility": null,
            "width": null
          }
        },
        "742b36f89744431b9c8316a6a3a123b5": {
          "model_module": "@jupyter-widgets/controls",
          "model_name": "DescriptionStyleModel",
          "model_module_version": "1.5.0",
          "state": {
            "_model_module": "@jupyter-widgets/controls",
            "_model_module_version": "1.5.0",
            "_model_name": "DescriptionStyleModel",
            "_view_count": null,
            "_view_module": "@jupyter-widgets/base",
            "_view_module_version": "1.2.0",
            "_view_name": "StyleView",
            "description_width": ""
          }
        },
        "3ed17cb21f0045c49a81dba2edf1fc53": {
          "model_module": "@jupyter-widgets/controls",
          "model_name": "HBoxModel",
          "model_module_version": "1.5.0",
          "state": {
            "_dom_classes": [],
            "_model_module": "@jupyter-widgets/controls",
            "_model_module_version": "1.5.0",
            "_model_name": "HBoxModel",
            "_view_count": null,
            "_view_module": "@jupyter-widgets/controls",
            "_view_module_version": "1.5.0",
            "_view_name": "HBoxView",
            "box_style": "",
            "children": [
              "IPY_MODEL_827ebbc39ab24241b06f2e5be8f758e3",
              "IPY_MODEL_3d2a4acfa43a42a6877a779f78110e43",
              "IPY_MODEL_6845dffa75114e36883c3de79e2f1f6c"
            ],
            "layout": "IPY_MODEL_43b5ba727ad241608f4f8d8a44562b52"
          }
        },
        "827ebbc39ab24241b06f2e5be8f758e3": {
          "model_module": "@jupyter-widgets/controls",
          "model_name": "HTMLModel",
          "model_module_version": "1.5.0",
          "state": {
            "_dom_classes": [],
            "_model_module": "@jupyter-widgets/controls",
            "_model_module_version": "1.5.0",
            "_model_name": "HTMLModel",
            "_view_count": null,
            "_view_module": "@jupyter-widgets/controls",
            "_view_module_version": "1.5.0",
            "_view_name": "HTMLView",
            "description": "",
            "description_tooltip": null,
            "layout": "IPY_MODEL_a3ecb3bdf0e849b5a9c34fe5e5cec398",
            "placeholder": "​",
            "style": "IPY_MODEL_cc310ad35c9343288cd8cc1418cf6812",
            "value": "Downloading (…)/main/tokenizer.json: 100%"
          }
        },
        "3d2a4acfa43a42a6877a779f78110e43": {
          "model_module": "@jupyter-widgets/controls",
          "model_name": "FloatProgressModel",
          "model_module_version": "1.5.0",
          "state": {
            "_dom_classes": [],
            "_model_module": "@jupyter-widgets/controls",
            "_model_module_version": "1.5.0",
            "_model_name": "FloatProgressModel",
            "_view_count": null,
            "_view_module": "@jupyter-widgets/controls",
            "_view_module_version": "1.5.0",
            "_view_name": "ProgressView",
            "bar_style": "success",
            "description": "",
            "description_tooltip": null,
            "layout": "IPY_MODEL_0d814aa4d22549f98100268dfbd99b8a",
            "max": 466062,
            "min": 0,
            "orientation": "horizontal",
            "style": "IPY_MODEL_c71284bfcab94ac3946159a0c69d70ca",
            "value": 466062
          }
        },
        "6845dffa75114e36883c3de79e2f1f6c": {
          "model_module": "@jupyter-widgets/controls",
          "model_name": "HTMLModel",
          "model_module_version": "1.5.0",
          "state": {
            "_dom_classes": [],
            "_model_module": "@jupyter-widgets/controls",
            "_model_module_version": "1.5.0",
            "_model_name": "HTMLModel",
            "_view_count": null,
            "_view_module": "@jupyter-widgets/controls",
            "_view_module_version": "1.5.0",
            "_view_name": "HTMLView",
            "description": "",
            "description_tooltip": null,
            "layout": "IPY_MODEL_37307f678d944a0dae09f54c55cb5c20",
            "placeholder": "​",
            "style": "IPY_MODEL_69c8bd7e87714fdc88c045a10ddb8c06",
            "value": " 466k/466k [00:00&lt;00:00, 18.2MB/s]"
          }
        },
        "43b5ba727ad241608f4f8d8a44562b52": {
          "model_module": "@jupyter-widgets/base",
          "model_name": "LayoutModel",
          "model_module_version": "1.2.0",
          "state": {
            "_model_module": "@jupyter-widgets/base",
            "_model_module_version": "1.2.0",
            "_model_name": "LayoutModel",
            "_view_count": null,
            "_view_module": "@jupyter-widgets/base",
            "_view_module_version": "1.2.0",
            "_view_name": "LayoutView",
            "align_content": null,
            "align_items": null,
            "align_self": null,
            "border": null,
            "bottom": null,
            "display": null,
            "flex": null,
            "flex_flow": null,
            "grid_area": null,
            "grid_auto_columns": null,
            "grid_auto_flow": null,
            "grid_auto_rows": null,
            "grid_column": null,
            "grid_gap": null,
            "grid_row": null,
            "grid_template_areas": null,
            "grid_template_columns": null,
            "grid_template_rows": null,
            "height": null,
            "justify_content": null,
            "justify_items": null,
            "left": null,
            "margin": null,
            "max_height": null,
            "max_width": null,
            "min_height": null,
            "min_width": null,
            "object_fit": null,
            "object_position": null,
            "order": null,
            "overflow": null,
            "overflow_x": null,
            "overflow_y": null,
            "padding": null,
            "right": null,
            "top": null,
            "visibility": null,
            "width": null
          }
        },
        "a3ecb3bdf0e849b5a9c34fe5e5cec398": {
          "model_module": "@jupyter-widgets/base",
          "model_name": "LayoutModel",
          "model_module_version": "1.2.0",
          "state": {
            "_model_module": "@jupyter-widgets/base",
            "_model_module_version": "1.2.0",
            "_model_name": "LayoutModel",
            "_view_count": null,
            "_view_module": "@jupyter-widgets/base",
            "_view_module_version": "1.2.0",
            "_view_name": "LayoutView",
            "align_content": null,
            "align_items": null,
            "align_self": null,
            "border": null,
            "bottom": null,
            "display": null,
            "flex": null,
            "flex_flow": null,
            "grid_area": null,
            "grid_auto_columns": null,
            "grid_auto_flow": null,
            "grid_auto_rows": null,
            "grid_column": null,
            "grid_gap": null,
            "grid_row": null,
            "grid_template_areas": null,
            "grid_template_columns": null,
            "grid_template_rows": null,
            "height": null,
            "justify_content": null,
            "justify_items": null,
            "left": null,
            "margin": null,
            "max_height": null,
            "max_width": null,
            "min_height": null,
            "min_width": null,
            "object_fit": null,
            "object_position": null,
            "order": null,
            "overflow": null,
            "overflow_x": null,
            "overflow_y": null,
            "padding": null,
            "right": null,
            "top": null,
            "visibility": null,
            "width": null
          }
        },
        "cc310ad35c9343288cd8cc1418cf6812": {
          "model_module": "@jupyter-widgets/controls",
          "model_name": "DescriptionStyleModel",
          "model_module_version": "1.5.0",
          "state": {
            "_model_module": "@jupyter-widgets/controls",
            "_model_module_version": "1.5.0",
            "_model_name": "DescriptionStyleModel",
            "_view_count": null,
            "_view_module": "@jupyter-widgets/base",
            "_view_module_version": "1.2.0",
            "_view_name": "StyleView",
            "description_width": ""
          }
        },
        "0d814aa4d22549f98100268dfbd99b8a": {
          "model_module": "@jupyter-widgets/base",
          "model_name": "LayoutModel",
          "model_module_version": "1.2.0",
          "state": {
            "_model_module": "@jupyter-widgets/base",
            "_model_module_version": "1.2.0",
            "_model_name": "LayoutModel",
            "_view_count": null,
            "_view_module": "@jupyter-widgets/base",
            "_view_module_version": "1.2.0",
            "_view_name": "LayoutView",
            "align_content": null,
            "align_items": null,
            "align_self": null,
            "border": null,
            "bottom": null,
            "display": null,
            "flex": null,
            "flex_flow": null,
            "grid_area": null,
            "grid_auto_columns": null,
            "grid_auto_flow": null,
            "grid_auto_rows": null,
            "grid_column": null,
            "grid_gap": null,
            "grid_row": null,
            "grid_template_areas": null,
            "grid_template_columns": null,
            "grid_template_rows": null,
            "height": null,
            "justify_content": null,
            "justify_items": null,
            "left": null,
            "margin": null,
            "max_height": null,
            "max_width": null,
            "min_height": null,
            "min_width": null,
            "object_fit": null,
            "object_position": null,
            "order": null,
            "overflow": null,
            "overflow_x": null,
            "overflow_y": null,
            "padding": null,
            "right": null,
            "top": null,
            "visibility": null,
            "width": null
          }
        },
        "c71284bfcab94ac3946159a0c69d70ca": {
          "model_module": "@jupyter-widgets/controls",
          "model_name": "ProgressStyleModel",
          "model_module_version": "1.5.0",
          "state": {
            "_model_module": "@jupyter-widgets/controls",
            "_model_module_version": "1.5.0",
            "_model_name": "ProgressStyleModel",
            "_view_count": null,
            "_view_module": "@jupyter-widgets/base",
            "_view_module_version": "1.2.0",
            "_view_name": "StyleView",
            "bar_color": null,
            "description_width": ""
          }
        },
        "37307f678d944a0dae09f54c55cb5c20": {
          "model_module": "@jupyter-widgets/base",
          "model_name": "LayoutModel",
          "model_module_version": "1.2.0",
          "state": {
            "_model_module": "@jupyter-widgets/base",
            "_model_module_version": "1.2.0",
            "_model_name": "LayoutModel",
            "_view_count": null,
            "_view_module": "@jupyter-widgets/base",
            "_view_module_version": "1.2.0",
            "_view_name": "LayoutView",
            "align_content": null,
            "align_items": null,
            "align_self": null,
            "border": null,
            "bottom": null,
            "display": null,
            "flex": null,
            "flex_flow": null,
            "grid_area": null,
            "grid_auto_columns": null,
            "grid_auto_flow": null,
            "grid_auto_rows": null,
            "grid_column": null,
            "grid_gap": null,
            "grid_row": null,
            "grid_template_areas": null,
            "grid_template_columns": null,
            "grid_template_rows": null,
            "height": null,
            "justify_content": null,
            "justify_items": null,
            "left": null,
            "margin": null,
            "max_height": null,
            "max_width": null,
            "min_height": null,
            "min_width": null,
            "object_fit": null,
            "object_position": null,
            "order": null,
            "overflow": null,
            "overflow_x": null,
            "overflow_y": null,
            "padding": null,
            "right": null,
            "top": null,
            "visibility": null,
            "width": null
          }
        },
        "69c8bd7e87714fdc88c045a10ddb8c06": {
          "model_module": "@jupyter-widgets/controls",
          "model_name": "DescriptionStyleModel",
          "model_module_version": "1.5.0",
          "state": {
            "_model_module": "@jupyter-widgets/controls",
            "_model_module_version": "1.5.0",
            "_model_name": "DescriptionStyleModel",
            "_view_count": null,
            "_view_module": "@jupyter-widgets/base",
            "_view_module_version": "1.2.0",
            "_view_name": "StyleView",
            "description_width": ""
          }
        }
      }
    }
  },
  "nbformat": 4,
  "nbformat_minor": 0
}
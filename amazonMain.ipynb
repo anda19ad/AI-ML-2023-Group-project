{
  "cells": [
    {
      "attachments": {},
      "cell_type": "markdown",
      "metadata": {
        "id": "kH1rEE2X1oss"
      },
      "source": [
        "# Importings"
      ]
    },
    {
      "cell_type": "code",
      "execution_count": 7,
      "metadata": {
        "colab": {
          "base_uri": "https://localhost:8080/"
        },
        "id": "triH6x771qPD",
        "outputId": "e7a1802e-d9a8-4afa-f114-2e350a2a548a"
      },
      "outputs": [
        {
          "name": "stdout",
          "output_type": "stream",
          "text": [
            "Looking in indexes: https://pypi.org/simple, https://us-python.pkg.dev/colab-wheels/public/simple/\n",
            "Requirement already satisfied: transformers in /usr/local/lib/python3.10/dist-packages (4.28.1)\n",
            "Requirement already satisfied: huggingface-hub<1.0,>=0.11.0 in /usr/local/lib/python3.10/dist-packages (from transformers) (0.14.1)\n",
            "Requirement already satisfied: tokenizers!=0.11.3,<0.14,>=0.11.1 in /usr/local/lib/python3.10/dist-packages (from transformers) (0.13.3)\n",
            "Requirement already satisfied: numpy>=1.17 in /usr/local/lib/python3.10/dist-packages (from transformers) (1.22.4)\n",
            "Requirement already satisfied: regex!=2019.12.17 in /usr/local/lib/python3.10/dist-packages (from transformers) (2022.10.31)\n",
            "Requirement already satisfied: requests in /usr/local/lib/python3.10/dist-packages (from transformers) (2.27.1)\n",
            "Requirement already satisfied: packaging>=20.0 in /usr/local/lib/python3.10/dist-packages (from transformers) (23.1)\n",
            "Requirement already satisfied: filelock in /usr/local/lib/python3.10/dist-packages (from transformers) (3.12.0)\n",
            "Requirement already satisfied: pyyaml>=5.1 in /usr/local/lib/python3.10/dist-packages (from transformers) (6.0)\n",
            "Requirement already satisfied: tqdm>=4.27 in /usr/local/lib/python3.10/dist-packages (from transformers) (4.65.0)\n",
            "Requirement already satisfied: fsspec in /usr/local/lib/python3.10/dist-packages (from huggingface-hub<1.0,>=0.11.0->transformers) (2023.4.0)\n",
            "Requirement already satisfied: typing-extensions>=3.7.4.3 in /usr/local/lib/python3.10/dist-packages (from huggingface-hub<1.0,>=0.11.0->transformers) (4.5.0)\n",
            "Requirement already satisfied: idna<4,>=2.5 in /usr/local/lib/python3.10/dist-packages (from requests->transformers) (3.4)\n",
            "Requirement already satisfied: certifi>=2017.4.17 in /usr/local/lib/python3.10/dist-packages (from requests->transformers) (2022.12.7)\n",
            "Requirement already satisfied: urllib3<1.27,>=1.21.1 in /usr/local/lib/python3.10/dist-packages (from requests->transformers) (1.26.15)\n",
            "Requirement already satisfied: charset-normalizer~=2.0.0 in /usr/local/lib/python3.10/dist-packages (from requests->transformers) (2.0.12)\n"
          ]
        }
      ],
      "source": [
        "# When running in Google Colab this line is needed\n",
        "!pip install transformers"
      ]
    },
    {
      "cell_type": "code",
      "execution_count": 2,
      "metadata": {
        "id": "edDAIZhy1ost"
      },
      "outputs": [],
      "source": [
        "# Importing basic stuff\n",
        "import numpy as np\n",
        "import matplotlib.pyplot as plt\n",
        "import pandas as pd\n",
        "\n",
        "# Train test split\n",
        "from sklearn.model_selection import train_test_split\n",
        "\n",
        "# LDA\n",
        "from sklearn.decomposition import LatentDirichletAllocation\n",
        "\n",
        "# Preprocessing\n",
        "from sklearn.feature_extraction.text import CountVectorizer, TfidfTransformer, TfidfVectorizer\n",
        "\n",
        "# Models\n",
        "from sklearn.linear_model import LogisticRegression\n",
        "from sklearn.neural_network import MLPClassifier\n",
        "from sklearn.ensemble import RandomForestClassifier\n",
        "from sklearn.naive_bayes import MultinomialNB\n",
        "\n",
        "# evaluation\n",
        "from sklearn.metrics import classification_report, confusion_matrix, ConfusionMatrixDisplay\n",
        "\n",
        "# Gridsearch\n",
        "from sklearn.model_selection import GridSearchCV\n",
        "\n",
        "# pipeline\n",
        "from sklearn.pipeline import Pipeline\n",
        "from sklearn.compose import ColumnTransformer\n",
        "\n",
        "# For Bert\n",
        "from transformers import AutoTokenizer, AutoModel\n",
        "\n",
        "# For GPU support\n",
        "import torch"
      ]
    },
    {
      "cell_type": "code",
      "execution_count": 14,
      "metadata": {
        "colab": {
          "base_uri": "https://localhost:8080/"
        },
        "id": "sLZRkkW41osv",
        "outputId": "6970c8df-0129-41be-edfb-f9fe014becb8"
      },
      "outputs": [
        {
          "name": "stdout",
          "output_type": "stream",
          "text": [
            "CUDA available:  True\n",
            "Num GPUs Available:  1\n"
          ]
        }
      ],
      "source": [
        "# For running the code with GPU, open anaconda prompt, navigate to the project folder, and type: pip install torch torchvision torchaudio -f https://download.pytorch.org/whl/cu111/torch_stable.html\n",
        "print(\"CUDA available: \", torch.cuda.is_available())\n",
        "print(\"Num GPUs Available: \", torch.cuda.device_count())"
      ]
    },
    {
      "attachments": {},
      "cell_type": "markdown",
      "metadata": {
        "id": "o205ztzP1osv"
      },
      "source": [
        "# Reading data and making it available for analysis"
      ]
    },
    {
      "cell_type": "code",
      "execution_count": 50,
      "metadata": {},
      "outputs": [],
      "source": [
        "# For creating a csv file small enough for Github\n",
        "#df = pd.read_csv(\"./data/test.csv\")\n",
        "#df = df.sample(frac=0.1) # Get 10% of the data\n",
        "#df.to_csv('./data/reducedDataset.csv')"
      ]
    },
    {
      "cell_type": "code",
      "execution_count": 64,
      "metadata": {
        "id": "RaN5L9rY1osw"
      },
      "outputs": [],
      "source": [
        "# Naming the columns of the dataset. https://stackoverflow.com/questions/31645466/give-column-name-when-read-csv-file-pandas\n",
        "colNames = ['polarity', 'title', 'text']\n",
        "\n",
        "# Loading Dataset and assigning column names\n",
        "#df = pd.read_csv(\"./data/test.csv\", names=colNames, header=None)\n",
        "\n",
        "# Resizing the dataset, for faster computing time. A random sample from the dataset https://stackoverflow.com/questions/40986230/reduce-dataframe-size-in-pandas\n",
        "#df = df.sample(frac=0.1) # Get 10% of the data\n",
        "\n",
        "# The reduced dataset is saved seperatly\n",
        "#df.to_csv('./data/reducedDataset.csv')\n",
        "\n",
        "# Loading Dataset and assigning column names\n",
        "#df = pd.read_csv(\"./data/reducedDataset.csv\", names=colNames, header=None)\n",
        "\n",
        "# For loading the data from Github, especially relevant when using Google Colab. https://towardsdatascience.com/3-ways-to-load-csv-files-into-colab-7c14fcbdcb92\n",
        "url = 'https://raw.githubusercontent.com/anda19ad/AI-ML-2023-Group-project/main/data/reducedDataset.csv'\n",
        "\n",
        "# If the dataset is already fixed, use only this line\n",
        "df = pd.read_csv(url, names=colNames, header=None, na_values=['missing', 'NA', 'NaN'])\n"
      ]
    },
    {
      "cell_type": "code",
      "execution_count": 65,
      "metadata": {
        "colab": {
          "base_uri": "https://localhost:8080/",
          "height": 206
        },
        "id": "PmMpGXFx1osw",
        "outputId": "c13d210e-471c-4e4e-8c60-c06423d80bc5"
      },
      "outputs": [
        {
          "data": {
            "text/html": [
              "<div>\n",
              "<style scoped>\n",
              "    .dataframe tbody tr th:only-of-type {\n",
              "        vertical-align: middle;\n",
              "    }\n",
              "\n",
              "    .dataframe tbody tr th {\n",
              "        vertical-align: top;\n",
              "    }\n",
              "\n",
              "    .dataframe thead th {\n",
              "        text-align: right;\n",
              "    }\n",
              "</style>\n",
              "<table border=\"1\" class=\"dataframe\">\n",
              "  <thead>\n",
              "    <tr style=\"text-align: right;\">\n",
              "      <th></th>\n",
              "      <th>polarity</th>\n",
              "      <th>title</th>\n",
              "      <th>text</th>\n",
              "    </tr>\n",
              "  </thead>\n",
              "  <tbody>\n",
              "    <tr>\n",
              "      <th>20538.0</th>\n",
              "      <td>1</td>\n",
              "      <td>Beloved: Yeah right</td>\n",
              "      <td>Ok, you all must be thinking I'm this all-over...</td>\n",
              "    </tr>\n",
              "    <tr>\n",
              "      <th>91015.0</th>\n",
              "      <td>1</td>\n",
              "      <td>Don't waste your money</td>\n",
              "      <td>If I could give zero (0) stars I would. I fini...</td>\n",
              "    </tr>\n",
              "    <tr>\n",
              "      <th>316744.0</th>\n",
              "      <td>2</td>\n",
              "      <td>enjoyed it, but weak ending</td>\n",
              "      <td>I enjoyed reading the book very much, but I fe...</td>\n",
              "    </tr>\n",
              "    <tr>\n",
              "      <th>110703.0</th>\n",
              "      <td>1</td>\n",
              "      <td>Pleased with my Taylor 7506 electronic scale</td>\n",
              "      <td>It looks nice and is pretty accurate. I went f...</td>\n",
              "    </tr>\n",
              "    <tr>\n",
              "      <th>256321.0</th>\n",
              "      <td>1</td>\n",
              "      <td>minimally useful</td>\n",
              "      <td>if you do these things just right they drip gr...</td>\n",
              "    </tr>\n",
              "  </tbody>\n",
              "</table>\n",
              "</div>"
            ],
            "text/plain": [
              "          polarity                                         title  \\\n",
              "20538.0          1                           Beloved: Yeah right   \n",
              "91015.0          1                        Don't waste your money   \n",
              "316744.0         2                   enjoyed it, but weak ending   \n",
              "110703.0         1  Pleased with my Taylor 7506 electronic scale   \n",
              "256321.0         1                              minimally useful   \n",
              "\n",
              "                                                       text  \n",
              "20538.0   Ok, you all must be thinking I'm this all-over...  \n",
              "91015.0   If I could give zero (0) stars I would. I fini...  \n",
              "316744.0  I enjoyed reading the book very much, but I fe...  \n",
              "110703.0  It looks nice and is pretty accurate. I went f...  \n",
              "256321.0  if you do these things just right they drip gr...  "
            ]
          },
          "execution_count": 65,
          "metadata": {},
          "output_type": "execute_result"
        }
      ],
      "source": [
        "# Looking on the data\n",
        "(\n",
        "    df\n",
        "    .sample(5)\n",
        "    #.dtypes\n",
        "    #.info()\n",
        "    #.loc[:,[\"polarity\"]]\n",
        "    #.loc[:,[\"title\"]]\n",
        "    #.loc[:,[\"text\"]]\n",
        "    #.value_counts()\n",
        "    #.value_counts(normalize=True) # For seeing the count in %\n",
        "    #.describe()\n",
        ")"
      ]
    },
    {
      "cell_type": "code",
      "execution_count": 66,
      "metadata": {
        "colab": {
          "base_uri": "https://localhost:8080/"
        },
        "id": "0VIuM8kA1osw",
        "outputId": "0684f954-7e65-4abc-9f7a-e7721a45c8af"
      },
      "outputs": [
        {
          "name": "stdout",
          "output_type": "stream",
          "text": [
            "<class 'pandas.core.frame.DataFrame'>\n",
            "Float64Index: 40000 entries, nan to 100360.0\n",
            "Data columns (total 3 columns):\n",
            " #   Column    Non-Null Count  Dtype \n",
            "---  ------    --------------  ----- \n",
            " 0   polarity  40000 non-null  int64 \n",
            " 1   title     40000 non-null  object\n",
            " 2   text      40000 non-null  object\n",
            "dtypes: int64(1), object(2)\n",
            "memory usage: 1.2+ MB\n"
          ]
        }
      ],
      "source": [
        "# Cleaning the data. Removing null values and only take the values that contain info.\n",
        "# https://stackoverflow.com/questions/13413590/how-to-drop-rows-of-pandas-dataframe-whose-value-in-a-certain-column-is-nan\n",
        "df.dropna(how='any')\n",
        "df = df[df['title'].notna()]\n",
        "df = df[df['text'].notna()]\n",
        "df.info()"
      ]
    },
    {
      "cell_type": "code",
      "execution_count": 67,
      "metadata": {
        "colab": {
          "base_uri": "https://localhost:8080/"
        },
        "id": "MnjyIFfX1osw",
        "outputId": "8b48b9ef-d564-4f56-d3e5-8c50753f0240"
      },
      "outputs": [
        {
          "data": {
            "text/plain": [
              "NaN    My lovely Pat has one of the GREAT voices of h...\n",
              "Name: text, dtype: object"
            ]
          },
          "execution_count": 67,
          "metadata": {},
          "output_type": "execute_result"
        }
      ],
      "source": [
        "# Assigning values to X and Y\n",
        "xText = df.text\n",
        "xTitle = df.title\n",
        "y = df.polarity\n",
        "\n",
        "xText.head(1)"
      ]
    },
    {
      "cell_type": "code",
      "execution_count": 68,
      "metadata": {
        "id": "DWI-h8iT1osx"
      },
      "outputs": [],
      "source": [
        "# Train test split of data. Putting O at the end of the X variables for \"original\"\n",
        "X_train, X_test, y_train, y_test = train_test_split(xText, y, test_size=0.33, random_state=42)"
      ]
    },
    {
      "cell_type": "code",
      "execution_count": 69,
      "metadata": {
        "colab": {
          "base_uri": "https://localhost:8080/"
        },
        "id": "hLun8rrt1osx",
        "outputId": "c4a94422-3abc-4ecf-9713-7324e9c2ceef"
      },
      "outputs": [
        {
          "name": "stdout",
          "output_type": "stream",
          "text": [
            "type of X_train: <class 'pandas.core.series.Series'>\n",
            "length of X_train: 26800\n",
            "X_train[1]:\n",
            "The CD is terrific and I have been playing it so often I may be wearing it out. The delivery was very quick, the CD is in PERFECT condition, and I thank you, so very much for offering \"Frontiers\" at such a reasonable price. Thank YOU again, and I look forward to purchase from you in the future.\n"
          ]
        }
      ],
      "source": [
        "# Looking on one example\n",
        "print(\"type of X_train: {}\".format(type(X_train)))\n",
        "print(\"length of X_train: {}\".format(len(X_train)))\n",
        "print(\"X_train[1]:\\n{}\".format(X_train.iloc[1500]))"
      ]
    },
    {
      "attachments": {},
      "cell_type": "markdown",
      "metadata": {
        "id": "wheWykOL1osx"
      },
      "source": [
        "# Topic Categorization"
      ]
    },
    {
      "cell_type": "code",
      "execution_count": 41,
      "metadata": {
        "id": "r1_FdTJG1osy"
      },
      "outputs": [],
      "source": [
        "# Configuration\n",
        "# Defining the main variables to easily experiment\n",
        "numberOfTopics = 20\n",
        "numberOfTerms = 10\n",
        "ngram = (1,2) # or (1,1)\n",
        "LDAvectorizer = TfidfVectorizer #or CountVectorizer"
      ]
    },
    {
      "cell_type": "code",
      "execution_count": 42,
      "metadata": {
        "id": "8da_14w11osy"
      },
      "outputs": [],
      "source": [
        "# Using CountVectorizer, as in the other models that have been built. See this guide: https://machinelearninggeek.com/latent-dirichlet-allocation-using-scikit-learn/\n",
        "vectLDA = LDAvectorizer(min_df=3,\n",
        "                          ngram_range=ngram,\n",
        "                          max_df=.01\n",
        "                          #max_df=.1\n",
        "                          #max_df=.15\n",
        "                          )\n",
        "X_trainLDA = vectLDA.fit_transform(X_train)"
      ]
    },
    {
      "cell_type": "code",
      "execution_count": 43,
      "metadata": {
        "colab": {
          "base_uri": "https://localhost:8080/"
        },
        "id": "HHacaGXu1osy",
        "outputId": "15c312b8-c069-458d-edf9-7df1a162a316"
      },
      "outputs": [
        {
          "data": {
            "text/plain": [
              "(20, 13544)"
            ]
          },
          "execution_count": 43,
          "metadata": {},
          "output_type": "execute_result"
        }
      ],
      "source": [
        "# See page 349 in the book, and https://scikit-learn.org/stable/modules/generated/sklearn.decomposition.LatentDirichletAllocation.html\n",
        "# Number of topics default is 10 and learning method defualt is \"batch\"\n",
        "lda = LatentDirichletAllocation(n_components=numberOfTopics, learning_method=\"batch\", max_iter=25, random_state=0)\n",
        "\n",
        "# Fitting and transforming in one step\n",
        "topics = lda.fit_transform(X_trainLDA)\n",
        "\n",
        "# Printing the shape\n",
        "lda.components_.shape"
      ]
    },
    {
      "cell_type": "code",
      "execution_count": 44,
      "metadata": {
        "colab": {
          "base_uri": "https://localhost:8080/"
        },
        "id": "YtZWZBdo1osy",
        "outputId": "cf929d3e-a7ce-4af9-9c6a-131faa47b144"
      },
      "outputs": [
        {
          "name": "stdout",
          "output_type": "stream",
          "text": [
            "Topic 0:  ['acoustic', 'hair', 'vacuum', 'as one', 'it my', 'career', 'electric', 'the extra', 'get me', 'mention']\n",
            "Topic 1:  ['blu', 'blu ray', 'ray', 'com', 'middle', 'for more', 'theory', 'women', 'the middle', 'it looks']\n",
            "Topic 2:  ['the camera', 'flash', 'wanting', 'program', 'was looking', 'this purchase', 'ago and', 'filter', 'files', 'one that']\n",
            "Topic 3:  ['selling', 'lord', 'phone', 'the lord', 'figure', 'the camera', 'disc', 'figure out', 'sweet', 'found this']\n",
            "Topic 4:  ['machine', 'guitar', 'metal', 'annoying', 'sent', 'sex', 'it at', 'truth', 'king', 'not even']\n",
            "Topic 5:  ['and as', 'john', 'we got', 'has very', 'or even', 'is for', 'of your', 'paper', 'charm', 'cd is']\n",
            "Topic 6:  ['the unit', 'new one', 'all over', 'bags', 'shirts', 'food', 'ever seen', 'ended up', 'good way', 'cleaning']\n",
            "Topic 7:  ['cable', 'includes', '200', 'la', 'bike', 'score', 'military', 'for children', 'ready', 'epic']\n",
            "Topic 8:  ['subject', 'known', 'phone', 'in love', 'characters and', 'park', 'addition', 'fall', 'their own', 'poetry']\n",
            "Topic 9:  ['conversation', 'vs', 'match', 'management', 'with them', 'wwf', 'wrestling', 'humor', 'heat', 'respect']\n",
            "Topic 10:  ['edition', 'pie', 'elvis', 'shoes', 'description', 'phone', 'logitech', 'helpful', 'coffee', 'with some']\n",
            "Topic 11:  ['pink', 'study', 'kill', 'install', 'feel that', 'speakers', 'contains', 'logitech', 'enjoy this', 'not just']\n",
            "Topic 12:  ['science', 'cable', 'the album', 'is must', 'exception of', 'the exception', 'keeps', 'battery', 'it may', 'science fiction']\n",
            "Topic 13:  ['beat', 'the graphics', 'graphics', 'kindle', 'graphics are', 'beat the', 'books are', 'first one', 'magic', 'scratches']\n",
            "Topic 14:  ['report', 'the president', 'what we', 'as gift', 'president', 'so far', 'very hard', 'over and', 'ripley', 'dictionary']\n",
            "Topic 15:  ['cheaper', 'images', 'rent', 'ring', 'build', 'me so', 'rack', 'up on', 'anymore', 'it this']\n",
            "Topic 16:  ['knife', 'walmart', 'accurate', 'dry', 'ear', 'alot', 'country', 'clock', 'can get', 'understanding']\n",
            "Topic 17:  ['que', 'de', 'students', 'the size', 'la', 'soul', 'key', 'is much', 'city', 'my daughter']\n",
            "Topic 18:  ['one to', 'an old', 'realized', 'hair', 'hill', 'the year', 'step', 'variety', 'eddie', 'every day']\n",
            "Topic 19:  ['filter', 'songs are', 'handle', 'have this', 'wake up', 'label', 'pure', 'songs on', 'wake', 'lock']\n"
          ]
        }
      ],
      "source": [
        "# Get Components/topics https://scikit-learn.org/stable/modules/generated/sklearn.decomposition.LatentDirichletAllocation.html \n",
        "lda_components=lda.components_\n",
        "\n",
        "# Printing the topics with their terms\n",
        "terms = vectLDA.get_feature_names_out()\n",
        "\n",
        "# a for loop that takes the most frequent terms in each of the topics and prints it\n",
        "for index, component in enumerate(lda_components):\n",
        "    zipped = zip(terms, component)\n",
        "    top_terms_key=sorted(zipped, key = lambda t: t[1], reverse=True)[:numberOfTerms]\n",
        "    top_terms_list=list(dict(top_terms_key).keys())\n",
        "    print(\"Topic \"+str(index)+\": \",top_terms_list)"
      ]
    },
    {
      "attachments": {},
      "cell_type": "markdown",
      "metadata": {
        "id": "EqoXG7od1osz"
      },
      "source": [
        "# Basics - Tfidvectorizer plus logistic regression"
      ]
    },
    {
      "cell_type": "code",
      "execution_count": 70,
      "metadata": {
        "id": "Fcj44MD01osz"
      },
      "outputs": [],
      "source": [
        "# Configuration for the basic model\n",
        "# Lining up some variables to choose from. Including the vectorizer\n",
        "vectorizerForBasic = TfidfVectorizer # or CountVectorizer\n",
        "ngramForBasic = (1,1) # or (1,2). Default is (1,1)\n",
        "max_dfBasic = 0.01"
      ]
    },
    {
      "cell_type": "code",
      "execution_count": 71,
      "metadata": {
        "id": "7nGJlCMp1osz"
      },
      "outputs": [],
      "source": [
        "# Applying Count vectorizer. Testing different max_df to get an understanding of the data\n",
        "vect = vectorizerForBasic(min_df=3,\n",
        "                          ngram_range = ngramForBasic,\n",
        "                          max_df=max_dfBasic\n",
        "                       )\n",
        "vect.fit(X_train)\n",
        "X_trainB = vect.transform(X_train)\n",
        "X_testB = vect.transform(X_test)\n"
      ]
    },
    {
      "cell_type": "code",
      "execution_count": 72,
      "metadata": {
        "colab": {
          "base_uri": "https://localhost:8080/"
        },
        "id": "NglxJh201osz",
        "outputId": "e1543e64-153c-40f9-cdfb-01bbaa329a00"
      },
      "outputs": [
        {
          "name": "stdout",
          "output_type": "stream",
          "text": [
            "Number of features: 18886\n",
            "First 20 features:\n",
            "['00' '000' '007' '00am' '01' '02' '03' '04' '05' '06' '07' '08' '09'\n",
            " '100' '1000' '100x' '101' '105' '108' '1080']\n",
            "Features 10010 to 10030:\n",
            "['macro' 'macs' 'macy' 'mad' 'madagascar' 'madam' 'madame' 'madden'\n",
            " 'maddening' 'maddox' 'madeleine' 'madeline' 'madison' 'madly' 'madness'\n",
            " 'madonna' 'mae' 'maestro' 'mafia' 'mag']\n",
            "Every 1000th feature:\n",
            "['00' 'antibiotics' 'blowing' 'chipping' 'cracking' 'dispatch' 'evidently'\n",
            " 'fundamentals' 'hips' 'jazz' 'machiavelli' 'nano' 'pattinson' 'protects'\n",
            " 'retractable' 'sheltered' 'stereotype' 'til' 'verb']\n"
          ]
        }
      ],
      "source": [
        "# Looking on the vectorized features. See page 331 for code\n",
        "feature_names = vect.get_feature_names_out() # under methods: https://scikit-learn.org/stable/modules/generated/sklearn.feature_extraction.text.CountVectorizer.html\n",
        "print(\"Number of features: {}\".format(len(feature_names)))\n",
        "print(\"First 20 features:\\n{}\".format(feature_names[:20]))\n",
        "print(\"Features 10010 to 10030:\\n{}\".format(feature_names[10010:10030]))\n",
        "print(\"Every 1000th feature:\\n{}\".format(feature_names[::1000]))"
      ]
    },
    {
      "cell_type": "code",
      "execution_count": 73,
      "metadata": {
        "colab": {
          "base_uri": "https://localhost:8080/"
        },
        "id": "ql_jCtU_1osz",
        "outputId": "d13f5d5e-5173-41b5-bd38-8b74aa6657d3"
      },
      "outputs": [
        {
          "name": "stdout",
          "output_type": "stream",
          "text": [
            "Accuracy on training set: 0.872\n",
            "Accuracy on test set: 0.760\n"
          ]
        }
      ],
      "source": [
        "# Making a logistic regression model\n",
        "BaseLR = LogisticRegression(max_iter=10000)\n",
        "\n",
        "# Fitting the model\n",
        "BaseLR.fit(X_trainB, y_train)\n",
        "\n",
        "# Printing results\n",
        "print(\"Accuracy on training set: {:.3f}\".format(BaseLR.score(X_trainB, y_train)))\n",
        "print(\"Accuracy on test set: {:.3f}\".format(BaseLR.score(X_testB, y_test)))\n",
        "#print(\"Best params: \", BaseLR.best_params_) # Printing the best params"
      ]
    },
    {
      "cell_type": "code",
      "execution_count": 74,
      "metadata": {
        "colab": {
          "base_uri": "https://localhost:8080/"
        },
        "id": "whnQqPMk1os0",
        "outputId": "9e6871b0-182d-4f71-a919-ffe344efefa5"
      },
      "outputs": [
        {
          "name": "stdout",
          "output_type": "stream",
          "text": [
            "              precision    recall  f1-score   support\n",
            "\n",
            "           1       0.77      0.75      0.76      6607\n",
            "           2       0.75      0.77      0.76      6593\n",
            "\n",
            "    accuracy                           0.76     13200\n",
            "   macro avg       0.76      0.76      0.76     13200\n",
            "weighted avg       0.76      0.76      0.76     13200\n",
            "\n"
          ]
        }
      ],
      "source": [
        "# Evaluating results\n",
        "y_pred = BaseLR.predict(X_testB)\n",
        "\n",
        "# Printing classification report\n",
        "print(classification_report(y_test, y_pred))"
      ]
    },
    {
      "cell_type": "code",
      "execution_count": 75,
      "metadata": {
        "colab": {
          "base_uri": "https://localhost:8080/"
        },
        "id": "trO2rI3k1os0",
        "outputId": "54348bd4-8a45-4cbd-bb56-a242505529ed"
      },
      "outputs": [
        {
          "name": "stdout",
          "output_type": "stream",
          "text": [
            "[[4945 1662]\n",
            " [1508 5085]]\n"
          ]
        }
      ],
      "source": [
        "# Confusion matrix\n",
        "# Making a confusion matrix\n",
        "cm = confusion_matrix(y_test, y_pred)\n",
        "print(cm)"
      ]
    },
    {
      "cell_type": "code",
      "execution_count": 76,
      "metadata": {
        "colab": {
          "base_uri": "https://localhost:8080/",
          "height": 776
        },
        "id": "9r4RnHHC1os0",
        "outputId": "ad5f2be4-7109-4311-f79b-57b036aac95d"
      },
      "outputs": [
        {
          "data": {
            "image/png": "[encoded data removed]",
            "text/plain": [
              "<Figure size 640x480 with 2 Axes>"
            ]
          },
          "metadata": {},
          "output_type": "display_data"
        }
      ],
      "source": [
        "# Displaying confusion matrix\n",
        "disp = ConfusionMatrixDisplay(confusion_matrix=cm,\n",
        "                               display_labels=BaseLR.classes_)\n",
        "disp.plot()\n",
        "plt.show()"
      ]
    },
    {
      "cell_type": "code",
      "execution_count": 77,
      "metadata": {
        "id": "j-Oy-mOY1os0",
        "outputId": "f7365c7a-5bb8-47ab-d592-2555e1b16336"
      },
      "outputs": [
        {
          "data": {
            "text/plain": [
              "[('toy', 71.90656163903155),\n",
              " ('season', 71.34464579057682),\n",
              " ('hair', 68.97725970503562),\n",
              " ('condition', 67.66530017008981),\n",
              " ('seller', 65.52724151835729),\n",
              " ('batteries', 60.8055711375533),\n",
              " ('dog', 59.957676264540616),\n",
              " ('coffee', 59.38711295984157),\n",
              " ('software', 58.20705641289037),\n",
              " ('pleased', 57.62007279457198)]"
            ]
          },
          "execution_count": 77,
          "metadata": {},
          "output_type": "execute_result"
        }
      ],
      "source": [
        "# Printing the features, starting with the most common. https://medium.com/@cristhianboujon/how-to-list-the-most-common-words-from-text-corpus-using-scikit-learn-dad4d0cab41d\n",
        "n = 10 # or None to print all\n",
        "\n",
        "sum_words = X_trainB.sum(axis=0) \n",
        "words_freq = [(word, sum_words[0, idx]) for word, idx in vect.vocabulary_.items()]\n",
        "words_freq =sorted(words_freq, key = lambda x: x[1], reverse=True)\n",
        "words_freq[:n]\n",
        "#print(\"First 20 features:\\n{}\".format(words_freq[:20]))"
      ]
    },
    {
      "attachments": {},
      "cell_type": "markdown",
      "metadata": {
        "id": "ubmj_UMI1os1"
      },
      "source": [
        "# Sentiment analysis"
      ]
    },
    {
      "cell_type": "code",
      "execution_count": null,
      "metadata": {
        "id": "cG0qp9u71os1"
      },
      "outputs": [],
      "source": [
        "# Printing function to be used at the end of each run through of a model. Name is a string, and should refer to the model. Search refers to the Gridsearch model.\n",
        "def printScoreParams (name, search):\n",
        "    print(\"The results from: \" + name)\n",
        "    print(\"Accuracy on training set: {:.3f}\".format(search.score(X_train, y_train)))\n",
        "    print(\"Accuracy on test set: {:.3f}\".format(search.score(X_test, y_test)))\n",
        "    print(\"Best params: \", search.best_params_) # Printing the best params"
      ]
    },
    {
      "attachments": {},
      "cell_type": "markdown",
      "metadata": {
        "id": "EQCx2Dnd1os1"
      },
      "source": [
        "## TfidVectorizer"
      ]
    },
    {
      "attachments": {},
      "cell_type": "markdown",
      "metadata": {
        "id": "zGJB6IQT1os1"
      },
      "source": [
        "Starting with making models using TfidVectorizer"
      ]
    },
    {
      "attachments": {},
      "cell_type": "markdown",
      "metadata": {
        "id": "d-xlWpYM1os1"
      },
      "source": [
        "### Configuration"
      ]
    },
    {
      "cell_type": "code",
      "execution_count": null,
      "metadata": {
        "id": "RC2MnKgd1os1"
      },
      "outputs": [],
      "source": [
        "# Predefined Standard variables for the pipeline and Gridsearch. To make the preprocessing with the vectorizer standard on all models. \n",
        "# https://scikit-learn.org/stable/modules/generated/sklearn.feature_extraction.text.TfidfVectorizer.html\n",
        "vectorizer = TfidfVectorizer() # Alternatively one could apply Countvectorizer and then TfidTransformer afterwards\n",
        "ngram_range = [(1,1),(1,2)]\n",
        "use_idf = [True,False]\n",
        "min_df = [3]\n",
        "max_df = [.01, .1, .2] # 1%, 10% or 20%"
      ]
    },
    {
      "attachments": {},
      "cell_type": "markdown",
      "metadata": {
        "id": "5VB9ulQV1os2"
      },
      "source": [
        "### Logistic Regression"
      ]
    },
    {
      "cell_type": "code",
      "execution_count": null,
      "metadata": {
        "id": "Zbr24w141os2",
        "outputId": "1ef1263a-53de-4f4a-f171-172d0b2b31ce"
      },
      "outputs": [
        {
          "data": {
            "text/html": [
              "<style>#sk-container-id-6 {color: black;background-color: white;}#sk-container-id-6 pre{padding: 0;}#sk-container-id-6 div.sk-toggleable {background-color: white;}#sk-container-id-6 label.sk-toggleable__label {cursor: pointer;display: block;width: 100%;margin-bottom: 0;padding: 0.3em;box-sizing: border-box;text-align: center;}#sk-container-id-6 label.sk-toggleable__label-arrow:before {content: \"▸\";float: left;margin-right: 0.25em;color: #696969;}#sk-container-id-6 label.sk-toggleable__label-arrow:hover:before {color: black;}#sk-container-id-6 div.sk-estimator:hover label.sk-toggleable__label-arrow:before {color: black;}#sk-container-id-6 div.sk-toggleable__content {max-height: 0;max-width: 0;overflow: hidden;text-align: left;background-color: #f0f8ff;}#sk-container-id-6 div.sk-toggleable__content pre {margin: 0.2em;color: black;border-radius: 0.25em;background-color: #f0f8ff;}#sk-container-id-6 input.sk-toggleable__control:checked~div.sk-toggleable__content {max-height: 200px;max-width: 100%;overflow: auto;}#sk-container-id-6 input.sk-toggleable__control:checked~label.sk-toggleable__label-arrow:before {content: \"▾\";}#sk-container-id-6 div.sk-estimator input.sk-toggleable__control:checked~label.sk-toggleable__label {background-color: #d4ebff;}#sk-container-id-6 div.sk-label input.sk-toggleable__control:checked~label.sk-toggleable__label {background-color: #d4ebff;}#sk-container-id-6 input.sk-hidden--visually {border: 0;clip: rect(1px 1px 1px 1px);clip: rect(1px, 1px, 1px, 1px);height: 1px;margin: -1px;overflow: hidden;padding: 0;position: absolute;width: 1px;}#sk-container-id-6 div.sk-estimator {font-family: monospace;background-color: #f0f8ff;border: 1px dotted black;border-radius: 0.25em;box-sizing: border-box;margin-bottom: 0.5em;}#sk-container-id-6 div.sk-estimator:hover {background-color: #d4ebff;}#sk-container-id-6 div.sk-parallel-item::after {content: \"\";width: 100%;border-bottom: 1px solid gray;flex-grow: 1;}#sk-container-id-6 div.sk-label:hover label.sk-toggleable__label {background-color: #d4ebff;}#sk-container-id-6 div.sk-serial::before {content: \"\";position: absolute;border-left: 1px solid gray;box-sizing: border-box;top: 0;bottom: 0;left: 50%;z-index: 0;}#sk-container-id-6 div.sk-serial {display: flex;flex-direction: column;align-items: center;background-color: white;padding-right: 0.2em;padding-left: 0.2em;position: relative;}#sk-container-id-6 div.sk-item {position: relative;z-index: 1;}#sk-container-id-6 div.sk-parallel {display: flex;align-items: stretch;justify-content: center;background-color: white;position: relative;}#sk-container-id-6 div.sk-item::before, #sk-container-id-6 div.sk-parallel-item::before {content: \"\";position: absolute;border-left: 1px solid gray;box-sizing: border-box;top: 0;bottom: 0;left: 50%;z-index: -1;}#sk-container-id-6 div.sk-parallel-item {display: flex;flex-direction: column;z-index: 1;position: relative;background-color: white;}#sk-container-id-6 div.sk-parallel-item:first-child::after {align-self: flex-end;width: 50%;}#sk-container-id-6 div.sk-parallel-item:last-child::after {align-self: flex-start;width: 50%;}#sk-container-id-6 div.sk-parallel-item:only-child::after {width: 0;}#sk-container-id-6 div.sk-dashed-wrapped {border: 1px dashed gray;margin: 0 0.4em 0.5em 0.4em;box-sizing: border-box;padding-bottom: 0.4em;background-color: white;}#sk-container-id-6 div.sk-label label {font-family: monospace;font-weight: bold;display: inline-block;line-height: 1.2em;}#sk-container-id-6 div.sk-label-container {text-align: center;}#sk-container-id-6 div.sk-container {/* jupyter's `normalize.less` sets `[hidden] { display: none; }` but bootstrap.min.css set `[hidden] { display: none !important; }` so we also need the `!important` here to be able to override the default hidden behavior on the sphinx rendered scikit-learn.org. See: https://github.com/scikit-learn/scikit-learn/issues/21755 */display: inline-block !important;position: relative;}#sk-container-id-6 div.sk-text-repr-fallback {display: none;}</style><div id=\"sk-container-id-6\" class=\"sk-top-container\"><div class=\"sk-text-repr-fallback\"><pre>Pipeline(steps=[(&#x27;Vectorizer&#x27;, TfidfVectorizer()),\n",
              "                (&#x27;Model&#x27;, LogisticRegression(max_iter=10000))])</pre><b>In a Jupyter environment, please rerun this cell to show the HTML representation or trust the notebook. <br />On GitHub, the HTML representation is unable to render, please try loading this page with nbviewer.org.</b></div><div class=\"sk-container\" hidden><div class=\"sk-item sk-dashed-wrapped\"><div class=\"sk-label-container\"><div class=\"sk-label sk-toggleable\"><input class=\"sk-toggleable__control sk-hidden--visually\" id=\"sk-estimator-id-18\" type=\"checkbox\" ><label for=\"sk-estimator-id-18\" class=\"sk-toggleable__label sk-toggleable__label-arrow\">Pipeline</label><div class=\"sk-toggleable__content\"><pre>Pipeline(steps=[(&#x27;Vectorizer&#x27;, TfidfVectorizer()),\n",
              "                (&#x27;Model&#x27;, LogisticRegression(max_iter=10000))])</pre></div></div></div><div class=\"sk-serial\"><div class=\"sk-item\"><div class=\"sk-estimator sk-toggleable\"><input class=\"sk-toggleable__control sk-hidden--visually\" id=\"sk-estimator-id-19\" type=\"checkbox\" ><label for=\"sk-estimator-id-19\" class=\"sk-toggleable__label sk-toggleable__label-arrow\">TfidfVectorizer</label><div class=\"sk-toggleable__content\"><pre>TfidfVectorizer()</pre></div></div></div><div class=\"sk-item\"><div class=\"sk-estimator sk-toggleable\"><input class=\"sk-toggleable__control sk-hidden--visually\" id=\"sk-estimator-id-20\" type=\"checkbox\" ><label for=\"sk-estimator-id-20\" class=\"sk-toggleable__label sk-toggleable__label-arrow\">LogisticRegression</label><div class=\"sk-toggleable__content\"><pre>LogisticRegression(max_iter=10000)</pre></div></div></div></div></div></div></div>"
            ],
            "text/plain": [
              "Pipeline(steps=[('Vectorizer', TfidfVectorizer()),\n",
              "                ('Model', LogisticRegression(max_iter=10000))])"
            ]
          },
          "execution_count": 74,
          "metadata": {},
          "output_type": "execute_result"
        }
      ],
      "source": [
        "# Pipeline for Logistic Regression\n",
        "pipeLR = Pipeline(steps=[\n",
        "    ('Vectorizer', vectorizer),\n",
        "    ('Model', LogisticRegression(max_iter=10000))\n",
        "])\n",
        "\n",
        "# Fitting the pipeline with data\n",
        "pipeLR.fit(X_train, y_train)"
      ]
    },
    {
      "cell_type": "code",
      "execution_count": null,
      "metadata": {
        "id": "9ydsOPu41os2",
        "outputId": "98b2f881-9e79-462b-a93d-ca35e6c91555"
      },
      "outputs": [
        {
          "name": "stdout",
          "output_type": "stream",
          "text": [
            "Accuracy on training set: 0.908\n",
            "Accuracy on test set: 0.859\n"
          ]
        }
      ],
      "source": [
        "# Printing scores\n",
        "print(\"Accuracy on training set: {:.3f}\".format(pipeLR.score(X_train, y_train)))\n",
        "print(\"Accuracy on test set: {:.3f}\".format(pipeLR.score(X_test, y_test)))"
      ]
    },
    {
      "cell_type": "code",
      "execution_count": null,
      "metadata": {
        "id": "nzqcDm2r1os3",
        "outputId": "57f92c04-4da0-4994-ccc2-ee788282f6f1"
      },
      "outputs": [
        {
          "data": {
            "text/html": [
              "<style>#sk-container-id-7 {color: black;background-color: white;}#sk-container-id-7 pre{padding: 0;}#sk-container-id-7 div.sk-toggleable {background-color: white;}#sk-container-id-7 label.sk-toggleable__label {cursor: pointer;display: block;width: 100%;margin-bottom: 0;padding: 0.3em;box-sizing: border-box;text-align: center;}#sk-container-id-7 label.sk-toggleable__label-arrow:before {content: \"▸\";float: left;margin-right: 0.25em;color: #696969;}#sk-container-id-7 label.sk-toggleable__label-arrow:hover:before {color: black;}#sk-container-id-7 div.sk-estimator:hover label.sk-toggleable__label-arrow:before {color: black;}#sk-container-id-7 div.sk-toggleable__content {max-height: 0;max-width: 0;overflow: hidden;text-align: left;background-color: #f0f8ff;}#sk-container-id-7 div.sk-toggleable__content pre {margin: 0.2em;color: black;border-radius: 0.25em;background-color: #f0f8ff;}#sk-container-id-7 input.sk-toggleable__control:checked~div.sk-toggleable__content {max-height: 200px;max-width: 100%;overflow: auto;}#sk-container-id-7 input.sk-toggleable__control:checked~label.sk-toggleable__label-arrow:before {content: \"▾\";}#sk-container-id-7 div.sk-estimator input.sk-toggleable__control:checked~label.sk-toggleable__label {background-color: #d4ebff;}#sk-container-id-7 div.sk-label input.sk-toggleable__control:checked~label.sk-toggleable__label {background-color: #d4ebff;}#sk-container-id-7 input.sk-hidden--visually {border: 0;clip: rect(1px 1px 1px 1px);clip: rect(1px, 1px, 1px, 1px);height: 1px;margin: -1px;overflow: hidden;padding: 0;position: absolute;width: 1px;}#sk-container-id-7 div.sk-estimator {font-family: monospace;background-color: #f0f8ff;border: 1px dotted black;border-radius: 0.25em;box-sizing: border-box;margin-bottom: 0.5em;}#sk-container-id-7 div.sk-estimator:hover {background-color: #d4ebff;}#sk-container-id-7 div.sk-parallel-item::after {content: \"\";width: 100%;border-bottom: 1px solid gray;flex-grow: 1;}#sk-container-id-7 div.sk-label:hover label.sk-toggleable__label {background-color: #d4ebff;}#sk-container-id-7 div.sk-serial::before {content: \"\";position: absolute;border-left: 1px solid gray;box-sizing: border-box;top: 0;bottom: 0;left: 50%;z-index: 0;}#sk-container-id-7 div.sk-serial {display: flex;flex-direction: column;align-items: center;background-color: white;padding-right: 0.2em;padding-left: 0.2em;position: relative;}#sk-container-id-7 div.sk-item {position: relative;z-index: 1;}#sk-container-id-7 div.sk-parallel {display: flex;align-items: stretch;justify-content: center;background-color: white;position: relative;}#sk-container-id-7 div.sk-item::before, #sk-container-id-7 div.sk-parallel-item::before {content: \"\";position: absolute;border-left: 1px solid gray;box-sizing: border-box;top: 0;bottom: 0;left: 50%;z-index: -1;}#sk-container-id-7 div.sk-parallel-item {display: flex;flex-direction: column;z-index: 1;position: relative;background-color: white;}#sk-container-id-7 div.sk-parallel-item:first-child::after {align-self: flex-end;width: 50%;}#sk-container-id-7 div.sk-parallel-item:last-child::after {align-self: flex-start;width: 50%;}#sk-container-id-7 div.sk-parallel-item:only-child::after {width: 0;}#sk-container-id-7 div.sk-dashed-wrapped {border: 1px dashed gray;margin: 0 0.4em 0.5em 0.4em;box-sizing: border-box;padding-bottom: 0.4em;background-color: white;}#sk-container-id-7 div.sk-label label {font-family: monospace;font-weight: bold;display: inline-block;line-height: 1.2em;}#sk-container-id-7 div.sk-label-container {text-align: center;}#sk-container-id-7 div.sk-container {/* jupyter's `normalize.less` sets `[hidden] { display: none; }` but bootstrap.min.css set `[hidden] { display: none !important; }` so we also need the `!important` here to be able to override the default hidden behavior on the sphinx rendered scikit-learn.org. See: https://github.com/scikit-learn/scikit-learn/issues/21755 */display: inline-block !important;position: relative;}#sk-container-id-7 div.sk-text-repr-fallback {display: none;}</style><div id=\"sk-container-id-7\" class=\"sk-top-container\"><div class=\"sk-text-repr-fallback\"><pre>GridSearchCV(cv=2,\n",
              "             estimator=Pipeline(steps=[(&#x27;Vectorizer&#x27;, TfidfVectorizer()),\n",
              "                                       (&#x27;Model&#x27;,\n",
              "                                        LogisticRegression(max_iter=10000))]),\n",
              "             param_grid={&#x27;Model__C&#x27;: [0.01, 0.1, 1, 10, 100],\n",
              "                         &#x27;Vectorizer__max_df&#x27;: [0.01, 0.1, 0.2],\n",
              "                         &#x27;Vectorizer__min_df&#x27;: [3],\n",
              "                         &#x27;Vectorizer__ngram_range&#x27;: [(1, 1), (1, 2)],\n",
              "                         &#x27;Vectorizer__use_idf&#x27;: [True, False]})</pre><b>In a Jupyter environment, please rerun this cell to show the HTML representation or trust the notebook. <br />On GitHub, the HTML representation is unable to render, please try loading this page with nbviewer.org.</b></div><div class=\"sk-container\" hidden><div class=\"sk-item sk-dashed-wrapped\"><div class=\"sk-label-container\"><div class=\"sk-label sk-toggleable\"><input class=\"sk-toggleable__control sk-hidden--visually\" id=\"sk-estimator-id-21\" type=\"checkbox\" ><label for=\"sk-estimator-id-21\" class=\"sk-toggleable__label sk-toggleable__label-arrow\">GridSearchCV</label><div class=\"sk-toggleable__content\"><pre>GridSearchCV(cv=2,\n",
              "             estimator=Pipeline(steps=[(&#x27;Vectorizer&#x27;, TfidfVectorizer()),\n",
              "                                       (&#x27;Model&#x27;,\n",
              "                                        LogisticRegression(max_iter=10000))]),\n",
              "             param_grid={&#x27;Model__C&#x27;: [0.01, 0.1, 1, 10, 100],\n",
              "                         &#x27;Vectorizer__max_df&#x27;: [0.01, 0.1, 0.2],\n",
              "                         &#x27;Vectorizer__min_df&#x27;: [3],\n",
              "                         &#x27;Vectorizer__ngram_range&#x27;: [(1, 1), (1, 2)],\n",
              "                         &#x27;Vectorizer__use_idf&#x27;: [True, False]})</pre></div></div></div><div class=\"sk-parallel\"><div class=\"sk-parallel-item\"><div class=\"sk-item\"><div class=\"sk-label-container\"><div class=\"sk-label sk-toggleable\"><input class=\"sk-toggleable__control sk-hidden--visually\" id=\"sk-estimator-id-22\" type=\"checkbox\" ><label for=\"sk-estimator-id-22\" class=\"sk-toggleable__label sk-toggleable__label-arrow\">estimator: Pipeline</label><div class=\"sk-toggleable__content\"><pre>Pipeline(steps=[(&#x27;Vectorizer&#x27;, TfidfVectorizer()),\n",
              "                (&#x27;Model&#x27;, LogisticRegression(max_iter=10000))])</pre></div></div></div><div class=\"sk-serial\"><div class=\"sk-item\"><div class=\"sk-serial\"><div class=\"sk-item\"><div class=\"sk-estimator sk-toggleable\"><input class=\"sk-toggleable__control sk-hidden--visually\" id=\"sk-estimator-id-23\" type=\"checkbox\" ><label for=\"sk-estimator-id-23\" class=\"sk-toggleable__label sk-toggleable__label-arrow\">TfidfVectorizer</label><div class=\"sk-toggleable__content\"><pre>TfidfVectorizer()</pre></div></div></div><div class=\"sk-item\"><div class=\"sk-estimator sk-toggleable\"><input class=\"sk-toggleable__control sk-hidden--visually\" id=\"sk-estimator-id-24\" type=\"checkbox\" ><label for=\"sk-estimator-id-24\" class=\"sk-toggleable__label sk-toggleable__label-arrow\">LogisticRegression</label><div class=\"sk-toggleable__content\"><pre>LogisticRegression(max_iter=10000)</pre></div></div></div></div></div></div></div></div></div></div></div></div>"
            ],
            "text/plain": [
              "GridSearchCV(cv=2,\n",
              "             estimator=Pipeline(steps=[('Vectorizer', TfidfVectorizer()),\n",
              "                                       ('Model',\n",
              "                                        LogisticRegression(max_iter=10000))]),\n",
              "             param_grid={'Model__C': [0.01, 0.1, 1, 10, 100],\n",
              "                         'Vectorizer__max_df': [0.01, 0.1, 0.2],\n",
              "                         'Vectorizer__min_df': [3],\n",
              "                         'Vectorizer__ngram_range': [(1, 1), (1, 2)],\n",
              "                         'Vectorizer__use_idf': [True, False]})"
            ]
          },
          "execution_count": 76,
          "metadata": {},
          "output_type": "execute_result"
        }
      ],
      "source": [
        "# Pipeline together with gridsearchCV: https://scikit-learn.org/stable/tutorial/statistical_inference/putting_together.html\n",
        "# Defining parameters for the param grid\n",
        "params = {\n",
        "    'Vectorizer__ngram_range':ngram_range,\n",
        "    'Vectorizer__min_df':min_df,\n",
        "    'Vectorizer__max_df':max_df,\n",
        "    'Vectorizer__use_idf':use_idf,\n",
        "    'Model__C':[0.01, 0.1, 1, 10, 100]\n",
        "}\n",
        "\n",
        "# Defining grid search\n",
        "searchLR = GridSearchCV(\n",
        "    pipeLR,\n",
        "    #verbose = 1.5, # To track the progress\n",
        "    param_grid=params,\n",
        "    cv=2,\n",
        ")\n",
        "\n",
        "# Fitting the grid search\n",
        "searchLR.fit(X_train, y_train)"
      ]
    },
    {
      "cell_type": "code",
      "execution_count": null,
      "metadata": {
        "id": "9gM6E96y1os3",
        "outputId": "c117afaf-aa55-481c-dd98-e3e13e91a625"
      },
      "outputs": [
        {
          "name": "stdout",
          "output_type": "stream",
          "text": [
            "The results from: Logistic Regression\n",
            "Accuracy on training set: 0.997\n",
            "Accuracy on test set: 0.885\n",
            "Best params:  {'Model__C': 10, 'Vectorizer__max_df': 0.2, 'Vectorizer__min_df': 3, 'Vectorizer__ngram_range': (1, 2), 'Vectorizer__use_idf': True}\n"
          ]
        }
      ],
      "source": [
        "# Using the print function\n",
        "printScoreParams('Logistic Regression', searchLR)"
      ]
    },
    {
      "attachments": {},
      "cell_type": "markdown",
      "metadata": {
        "id": "BDV5tXAe1os3"
      },
      "source": [
        "### MLP"
      ]
    },
    {
      "cell_type": "code",
      "execution_count": null,
      "metadata": {
        "id": "tnPVcfvR1os3",
        "outputId": "ffe43105-8b0a-4da4-8f2b-66b77e265349"
      },
      "outputs": [
        {
          "data": {
            "text/html": [
              "<style>#sk-container-id-9 {color: black;background-color: white;}#sk-container-id-9 pre{padding: 0;}#sk-container-id-9 div.sk-toggleable {background-color: white;}#sk-container-id-9 label.sk-toggleable__label {cursor: pointer;display: block;width: 100%;margin-bottom: 0;padding: 0.3em;box-sizing: border-box;text-align: center;}#sk-container-id-9 label.sk-toggleable__label-arrow:before {content: \"▸\";float: left;margin-right: 0.25em;color: #696969;}#sk-container-id-9 label.sk-toggleable__label-arrow:hover:before {color: black;}#sk-container-id-9 div.sk-estimator:hover label.sk-toggleable__label-arrow:before {color: black;}#sk-container-id-9 div.sk-toggleable__content {max-height: 0;max-width: 0;overflow: hidden;text-align: left;background-color: #f0f8ff;}#sk-container-id-9 div.sk-toggleable__content pre {margin: 0.2em;color: black;border-radius: 0.25em;background-color: #f0f8ff;}#sk-container-id-9 input.sk-toggleable__control:checked~div.sk-toggleable__content {max-height: 200px;max-width: 100%;overflow: auto;}#sk-container-id-9 input.sk-toggleable__control:checked~label.sk-toggleable__label-arrow:before {content: \"▾\";}#sk-container-id-9 div.sk-estimator input.sk-toggleable__control:checked~label.sk-toggleable__label {background-color: #d4ebff;}#sk-container-id-9 div.sk-label input.sk-toggleable__control:checked~label.sk-toggleable__label {background-color: #d4ebff;}#sk-container-id-9 input.sk-hidden--visually {border: 0;clip: rect(1px 1px 1px 1px);clip: rect(1px, 1px, 1px, 1px);height: 1px;margin: -1px;overflow: hidden;padding: 0;position: absolute;width: 1px;}#sk-container-id-9 div.sk-estimator {font-family: monospace;background-color: #f0f8ff;border: 1px dotted black;border-radius: 0.25em;box-sizing: border-box;margin-bottom: 0.5em;}#sk-container-id-9 div.sk-estimator:hover {background-color: #d4ebff;}#sk-container-id-9 div.sk-parallel-item::after {content: \"\";width: 100%;border-bottom: 1px solid gray;flex-grow: 1;}#sk-container-id-9 div.sk-label:hover label.sk-toggleable__label {background-color: #d4ebff;}#sk-container-id-9 div.sk-serial::before {content: \"\";position: absolute;border-left: 1px solid gray;box-sizing: border-box;top: 0;bottom: 0;left: 50%;z-index: 0;}#sk-container-id-9 div.sk-serial {display: flex;flex-direction: column;align-items: center;background-color: white;padding-right: 0.2em;padding-left: 0.2em;position: relative;}#sk-container-id-9 div.sk-item {position: relative;z-index: 1;}#sk-container-id-9 div.sk-parallel {display: flex;align-items: stretch;justify-content: center;background-color: white;position: relative;}#sk-container-id-9 div.sk-item::before, #sk-container-id-9 div.sk-parallel-item::before {content: \"\";position: absolute;border-left: 1px solid gray;box-sizing: border-box;top: 0;bottom: 0;left: 50%;z-index: -1;}#sk-container-id-9 div.sk-parallel-item {display: flex;flex-direction: column;z-index: 1;position: relative;background-color: white;}#sk-container-id-9 div.sk-parallel-item:first-child::after {align-self: flex-end;width: 50%;}#sk-container-id-9 div.sk-parallel-item:last-child::after {align-self: flex-start;width: 50%;}#sk-container-id-9 div.sk-parallel-item:only-child::after {width: 0;}#sk-container-id-9 div.sk-dashed-wrapped {border: 1px dashed gray;margin: 0 0.4em 0.5em 0.4em;box-sizing: border-box;padding-bottom: 0.4em;background-color: white;}#sk-container-id-9 div.sk-label label {font-family: monospace;font-weight: bold;display: inline-block;line-height: 1.2em;}#sk-container-id-9 div.sk-label-container {text-align: center;}#sk-container-id-9 div.sk-container {/* jupyter's `normalize.less` sets `[hidden] { display: none; }` but bootstrap.min.css set `[hidden] { display: none !important; }` so we also need the `!important` here to be able to override the default hidden behavior on the sphinx rendered scikit-learn.org. See: https://github.com/scikit-learn/scikit-learn/issues/21755 */display: inline-block !important;position: relative;}#sk-container-id-9 div.sk-text-repr-fallback {display: none;}</style><div id=\"sk-container-id-9\" class=\"sk-top-container\"><div class=\"sk-text-repr-fallback\"><pre>Pipeline(steps=[(&#x27;CountVectorizer&#x27;, CountVectorizer()),\n",
              "                (&#x27;TfidfTransformer&#x27;, TfidfTransformer()),\n",
              "                (&#x27;Model&#x27;, MLPClassifier())])</pre><b>In a Jupyter environment, please rerun this cell to show the HTML representation or trust the notebook. <br />On GitHub, the HTML representation is unable to render, please try loading this page with nbviewer.org.</b></div><div class=\"sk-container\" hidden><div class=\"sk-item sk-dashed-wrapped\"><div class=\"sk-label-container\"><div class=\"sk-label sk-toggleable\"><input class=\"sk-toggleable__control sk-hidden--visually\" id=\"sk-estimator-id-36\" type=\"checkbox\" ><label for=\"sk-estimator-id-36\" class=\"sk-toggleable__label sk-toggleable__label-arrow\">Pipeline</label><div class=\"sk-toggleable__content\"><pre>Pipeline(steps=[(&#x27;CountVectorizer&#x27;, CountVectorizer()),\n",
              "                (&#x27;TfidfTransformer&#x27;, TfidfTransformer()),\n",
              "                (&#x27;Model&#x27;, MLPClassifier())])</pre></div></div></div><div class=\"sk-serial\"><div class=\"sk-item\"><div class=\"sk-estimator sk-toggleable\"><input class=\"sk-toggleable__control sk-hidden--visually\" id=\"sk-estimator-id-37\" type=\"checkbox\" ><label for=\"sk-estimator-id-37\" class=\"sk-toggleable__label sk-toggleable__label-arrow\">CountVectorizer</label><div class=\"sk-toggleable__content\"><pre>CountVectorizer()</pre></div></div></div><div class=\"sk-item\"><div class=\"sk-estimator sk-toggleable\"><input class=\"sk-toggleable__control sk-hidden--visually\" id=\"sk-estimator-id-38\" type=\"checkbox\" ><label for=\"sk-estimator-id-38\" class=\"sk-toggleable__label sk-toggleable__label-arrow\">TfidfTransformer</label><div class=\"sk-toggleable__content\"><pre>TfidfTransformer()</pre></div></div></div><div class=\"sk-item\"><div class=\"sk-estimator sk-toggleable\"><input class=\"sk-toggleable__control sk-hidden--visually\" id=\"sk-estimator-id-39\" type=\"checkbox\" ><label for=\"sk-estimator-id-39\" class=\"sk-toggleable__label sk-toggleable__label-arrow\">MLPClassifier</label><div class=\"sk-toggleable__content\"><pre>MLPClassifier()</pre></div></div></div></div></div></div></div>"
            ],
            "text/plain": [
              "Pipeline(steps=[('CountVectorizer', CountVectorizer()),\n",
              "                ('TfidfTransformer', TfidfTransformer()),\n",
              "                ('Model', MLPClassifier())])"
            ]
          },
          "execution_count": 30,
          "metadata": {},
          "output_type": "execute_result"
        }
      ],
      "source": [
        "# Defining pipe for MLP\n",
        "pipeMLP = Pipeline(steps=[\n",
        "    ('Vectorizer', vectorizer),\n",
        "    ('Model', MLPClassifier(max_iter=10000))\n",
        "])\n",
        "\n",
        "# Fitting the pipeline with the data\n",
        "pipeMLP.fit(X_train, y_train)"
      ]
    },
    {
      "cell_type": "code",
      "execution_count": null,
      "metadata": {
        "id": "j68Bzu1K1os3",
        "outputId": "bae3ca7f-6505-43e0-d71d-a16812908b99"
      },
      "outputs": [
        {
          "name": "stdout",
          "output_type": "stream",
          "text": [
            "Accuracy on training set: 1.000\n",
            "Accuracy on test set: 0.822\n"
          ]
        }
      ],
      "source": [
        "# Printing scores on the simple version of the model\n",
        "print(\"Accuracy on training set: {:.3f}\".format(pipeMLP.score(X_train, y_train)))\n",
        "print(\"Accuracy on test set: {:.3f}\".format(pipeMLP.score(X_test, y_test)))"
      ]
    },
    {
      "cell_type": "code",
      "execution_count": null,
      "metadata": {
        "id": "YABeWyZR1os4"
      },
      "outputs": [],
      "source": [
        "# Defining parameters for the param grid. Very intensive when it comes to computing time. https://scikit-learn.org/stable/modules/generated/sklearn.neural_network.MLPClassifier.html\n",
        "params = {\n",
        "    'Vectorizer__ngram_range':ngram_range,\n",
        "    'Vectorizer__min_df':min_df,\n",
        "    'Vectorizer__max_df':max_df,\n",
        "    'Vectorizer__use_idf':use_idf,\n",
        "    'Model__activation':['tanh','relu'],\n",
        "    'Model__hidden_layer_sizes':[50,100],\n",
        "}\n",
        "\n",
        "# Defining grid search with the pipeline\n",
        "searchMLP = GridSearchCV(\n",
        "    pipeMLP,\n",
        "    param_grid=params,\n",
        "    cv=2,\n",
        "    verbose = 1.5\n",
        ")\n",
        "\n",
        "# Fitting the grid search\n",
        "searchMLP.fit(X_train, y_train)"
      ]
    },
    {
      "cell_type": "code",
      "execution_count": null,
      "metadata": {
        "id": "TyFUJojo1os4",
        "outputId": "6e7d701a-56b9-4f2d-d454-788108623733"
      },
      "outputs": [
        {
          "ename": "NameError",
          "evalue": "name 'searchMLP' is not defined",
          "output_type": "error",
          "traceback": [
            "\u001b[1;31m---------------------------------------------------------------------------\u001b[0m",
            "\u001b[1;31mNameError\u001b[0m                                 Traceback (most recent call last)",
            "Cell \u001b[1;32mIn[89], line 2\u001b[0m\n\u001b[0;32m      1\u001b[0m \u001b[39m# Printing the results\u001b[39;00m\n\u001b[1;32m----> 2\u001b[0m printScoreParams(\u001b[39m'\u001b[39m\u001b[39mMLP\u001b[39m\u001b[39m'\u001b[39m, searchMLP)\n",
            "\u001b[1;31mNameError\u001b[0m: name 'searchMLP' is not defined"
          ]
        }
      ],
      "source": [
        "# Printing the results\n",
        "printScoreParams('MLP', searchMLP)"
      ]
    },
    {
      "attachments": {},
      "cell_type": "markdown",
      "metadata": {
        "id": "BTUShOdT1os4"
      },
      "source": [
        "### Naive Bayes"
      ]
    },
    {
      "cell_type": "code",
      "execution_count": null,
      "metadata": {
        "id": "oQuA8-vG1os4",
        "outputId": "e40257b2-6c9f-490a-f096-d02cbb25212c"
      },
      "outputs": [
        {
          "data": {
            "text/html": [
              "<style>#sk-container-id-8 {color: black;background-color: white;}#sk-container-id-8 pre{padding: 0;}#sk-container-id-8 div.sk-toggleable {background-color: white;}#sk-container-id-8 label.sk-toggleable__label {cursor: pointer;display: block;width: 100%;margin-bottom: 0;padding: 0.3em;box-sizing: border-box;text-align: center;}#sk-container-id-8 label.sk-toggleable__label-arrow:before {content: \"▸\";float: left;margin-right: 0.25em;color: #696969;}#sk-container-id-8 label.sk-toggleable__label-arrow:hover:before {color: black;}#sk-container-id-8 div.sk-estimator:hover label.sk-toggleable__label-arrow:before {color: black;}#sk-container-id-8 div.sk-toggleable__content {max-height: 0;max-width: 0;overflow: hidden;text-align: left;background-color: #f0f8ff;}#sk-container-id-8 div.sk-toggleable__content pre {margin: 0.2em;color: black;border-radius: 0.25em;background-color: #f0f8ff;}#sk-container-id-8 input.sk-toggleable__control:checked~div.sk-toggleable__content {max-height: 200px;max-width: 100%;overflow: auto;}#sk-container-id-8 input.sk-toggleable__control:checked~label.sk-toggleable__label-arrow:before {content: \"▾\";}#sk-container-id-8 div.sk-estimator input.sk-toggleable__control:checked~label.sk-toggleable__label {background-color: #d4ebff;}#sk-container-id-8 div.sk-label input.sk-toggleable__control:checked~label.sk-toggleable__label {background-color: #d4ebff;}#sk-container-id-8 input.sk-hidden--visually {border: 0;clip: rect(1px 1px 1px 1px);clip: rect(1px, 1px, 1px, 1px);height: 1px;margin: -1px;overflow: hidden;padding: 0;position: absolute;width: 1px;}#sk-container-id-8 div.sk-estimator {font-family: monospace;background-color: #f0f8ff;border: 1px dotted black;border-radius: 0.25em;box-sizing: border-box;margin-bottom: 0.5em;}#sk-container-id-8 div.sk-estimator:hover {background-color: #d4ebff;}#sk-container-id-8 div.sk-parallel-item::after {content: \"\";width: 100%;border-bottom: 1px solid gray;flex-grow: 1;}#sk-container-id-8 div.sk-label:hover label.sk-toggleable__label {background-color: #d4ebff;}#sk-container-id-8 div.sk-serial::before {content: \"\";position: absolute;border-left: 1px solid gray;box-sizing: border-box;top: 0;bottom: 0;left: 50%;z-index: 0;}#sk-container-id-8 div.sk-serial {display: flex;flex-direction: column;align-items: center;background-color: white;padding-right: 0.2em;padding-left: 0.2em;position: relative;}#sk-container-id-8 div.sk-item {position: relative;z-index: 1;}#sk-container-id-8 div.sk-parallel {display: flex;align-items: stretch;justify-content: center;background-color: white;position: relative;}#sk-container-id-8 div.sk-item::before, #sk-container-id-8 div.sk-parallel-item::before {content: \"\";position: absolute;border-left: 1px solid gray;box-sizing: border-box;top: 0;bottom: 0;left: 50%;z-index: -1;}#sk-container-id-8 div.sk-parallel-item {display: flex;flex-direction: column;z-index: 1;position: relative;background-color: white;}#sk-container-id-8 div.sk-parallel-item:first-child::after {align-self: flex-end;width: 50%;}#sk-container-id-8 div.sk-parallel-item:last-child::after {align-self: flex-start;width: 50%;}#sk-container-id-8 div.sk-parallel-item:only-child::after {width: 0;}#sk-container-id-8 div.sk-dashed-wrapped {border: 1px dashed gray;margin: 0 0.4em 0.5em 0.4em;box-sizing: border-box;padding-bottom: 0.4em;background-color: white;}#sk-container-id-8 div.sk-label label {font-family: monospace;font-weight: bold;display: inline-block;line-height: 1.2em;}#sk-container-id-8 div.sk-label-container {text-align: center;}#sk-container-id-8 div.sk-container {/* jupyter's `normalize.less` sets `[hidden] { display: none; }` but bootstrap.min.css set `[hidden] { display: none !important; }` so we also need the `!important` here to be able to override the default hidden behavior on the sphinx rendered scikit-learn.org. See: https://github.com/scikit-learn/scikit-learn/issues/21755 */display: inline-block !important;position: relative;}#sk-container-id-8 div.sk-text-repr-fallback {display: none;}</style><div id=\"sk-container-id-8\" class=\"sk-top-container\"><div class=\"sk-text-repr-fallback\"><pre>Pipeline(steps=[(&#x27;Vectorizer&#x27;, TfidfVectorizer()), (&#x27;Model&#x27;, MultinomialNB())])</pre><b>In a Jupyter environment, please rerun this cell to show the HTML representation or trust the notebook. <br />On GitHub, the HTML representation is unable to render, please try loading this page with nbviewer.org.</b></div><div class=\"sk-container\" hidden><div class=\"sk-item sk-dashed-wrapped\"><div class=\"sk-label-container\"><div class=\"sk-label sk-toggleable\"><input class=\"sk-toggleable__control sk-hidden--visually\" id=\"sk-estimator-id-25\" type=\"checkbox\" ><label for=\"sk-estimator-id-25\" class=\"sk-toggleable__label sk-toggleable__label-arrow\">Pipeline</label><div class=\"sk-toggleable__content\"><pre>Pipeline(steps=[(&#x27;Vectorizer&#x27;, TfidfVectorizer()), (&#x27;Model&#x27;, MultinomialNB())])</pre></div></div></div><div class=\"sk-serial\"><div class=\"sk-item\"><div class=\"sk-estimator sk-toggleable\"><input class=\"sk-toggleable__control sk-hidden--visually\" id=\"sk-estimator-id-26\" type=\"checkbox\" ><label for=\"sk-estimator-id-26\" class=\"sk-toggleable__label sk-toggleable__label-arrow\">TfidfVectorizer</label><div class=\"sk-toggleable__content\"><pre>TfidfVectorizer()</pre></div></div></div><div class=\"sk-item\"><div class=\"sk-estimator sk-toggleable\"><input class=\"sk-toggleable__control sk-hidden--visually\" id=\"sk-estimator-id-27\" type=\"checkbox\" ><label for=\"sk-estimator-id-27\" class=\"sk-toggleable__label sk-toggleable__label-arrow\">MultinomialNB</label><div class=\"sk-toggleable__content\"><pre>MultinomialNB()</pre></div></div></div></div></div></div></div>"
            ],
            "text/plain": [
              "Pipeline(steps=[('Vectorizer', TfidfVectorizer()), ('Model', MultinomialNB())])"
            ]
          },
          "execution_count": 78,
          "metadata": {},
          "output_type": "execute_result"
        }
      ],
      "source": [
        "# Defining pipe for Naive Bayes\n",
        "pipeNB = Pipeline(steps=[\n",
        "    ('Vectorizer', vectorizer),\n",
        "    ('Model', MultinomialNB())\n",
        "])\n",
        "\n",
        "# Fitting the pipeline with the data\n",
        "pipeNB.fit(X_train, y_train)"
      ]
    },
    {
      "cell_type": "code",
      "execution_count": null,
      "metadata": {
        "id": "vx91eHrJ1os4",
        "outputId": "fc7ccc56-7321-4432-e5a4-3d6e92ddb2a0"
      },
      "outputs": [
        {
          "name": "stdout",
          "output_type": "stream",
          "text": [
            "Accuracy on training set: 0.892\n",
            "Accuracy on test set: 0.816\n"
          ]
        }
      ],
      "source": [
        "# Printing scores on the simple version of the model\n",
        "print(\"Accuracy on training set: {:.3f}\".format(pipeNB.score(X_train, y_train)))\n",
        "print(\"Accuracy on test set: {:.3f}\".format(pipeNB.score(X_test, y_test)))"
      ]
    },
    {
      "cell_type": "code",
      "execution_count": null,
      "metadata": {
        "id": "Mhoy8-Ip1os4",
        "outputId": "154ca9c5-f2c4-477b-ffe4-6980ae8428d5"
      },
      "outputs": [
        {
          "data": {
            "text/html": [
              "<style>#sk-container-id-9 {color: black;background-color: white;}#sk-container-id-9 pre{padding: 0;}#sk-container-id-9 div.sk-toggleable {background-color: white;}#sk-container-id-9 label.sk-toggleable__label {cursor: pointer;display: block;width: 100%;margin-bottom: 0;padding: 0.3em;box-sizing: border-box;text-align: center;}#sk-container-id-9 label.sk-toggleable__label-arrow:before {content: \"▸\";float: left;margin-right: 0.25em;color: #696969;}#sk-container-id-9 label.sk-toggleable__label-arrow:hover:before {color: black;}#sk-container-id-9 div.sk-estimator:hover label.sk-toggleable__label-arrow:before {color: black;}#sk-container-id-9 div.sk-toggleable__content {max-height: 0;max-width: 0;overflow: hidden;text-align: left;background-color: #f0f8ff;}#sk-container-id-9 div.sk-toggleable__content pre {margin: 0.2em;color: black;border-radius: 0.25em;background-color: #f0f8ff;}#sk-container-id-9 input.sk-toggleable__control:checked~div.sk-toggleable__content {max-height: 200px;max-width: 100%;overflow: auto;}#sk-container-id-9 input.sk-toggleable__control:checked~label.sk-toggleable__label-arrow:before {content: \"▾\";}#sk-container-id-9 div.sk-estimator input.sk-toggleable__control:checked~label.sk-toggleable__label {background-color: #d4ebff;}#sk-container-id-9 div.sk-label input.sk-toggleable__control:checked~label.sk-toggleable__label {background-color: #d4ebff;}#sk-container-id-9 input.sk-hidden--visually {border: 0;clip: rect(1px 1px 1px 1px);clip: rect(1px, 1px, 1px, 1px);height: 1px;margin: -1px;overflow: hidden;padding: 0;position: absolute;width: 1px;}#sk-container-id-9 div.sk-estimator {font-family: monospace;background-color: #f0f8ff;border: 1px dotted black;border-radius: 0.25em;box-sizing: border-box;margin-bottom: 0.5em;}#sk-container-id-9 div.sk-estimator:hover {background-color: #d4ebff;}#sk-container-id-9 div.sk-parallel-item::after {content: \"\";width: 100%;border-bottom: 1px solid gray;flex-grow: 1;}#sk-container-id-9 div.sk-label:hover label.sk-toggleable__label {background-color: #d4ebff;}#sk-container-id-9 div.sk-serial::before {content: \"\";position: absolute;border-left: 1px solid gray;box-sizing: border-box;top: 0;bottom: 0;left: 50%;z-index: 0;}#sk-container-id-9 div.sk-serial {display: flex;flex-direction: column;align-items: center;background-color: white;padding-right: 0.2em;padding-left: 0.2em;position: relative;}#sk-container-id-9 div.sk-item {position: relative;z-index: 1;}#sk-container-id-9 div.sk-parallel {display: flex;align-items: stretch;justify-content: center;background-color: white;position: relative;}#sk-container-id-9 div.sk-item::before, #sk-container-id-9 div.sk-parallel-item::before {content: \"\";position: absolute;border-left: 1px solid gray;box-sizing: border-box;top: 0;bottom: 0;left: 50%;z-index: -1;}#sk-container-id-9 div.sk-parallel-item {display: flex;flex-direction: column;z-index: 1;position: relative;background-color: white;}#sk-container-id-9 div.sk-parallel-item:first-child::after {align-self: flex-end;width: 50%;}#sk-container-id-9 div.sk-parallel-item:last-child::after {align-self: flex-start;width: 50%;}#sk-container-id-9 div.sk-parallel-item:only-child::after {width: 0;}#sk-container-id-9 div.sk-dashed-wrapped {border: 1px dashed gray;margin: 0 0.4em 0.5em 0.4em;box-sizing: border-box;padding-bottom: 0.4em;background-color: white;}#sk-container-id-9 div.sk-label label {font-family: monospace;font-weight: bold;display: inline-block;line-height: 1.2em;}#sk-container-id-9 div.sk-label-container {text-align: center;}#sk-container-id-9 div.sk-container {/* jupyter's `normalize.less` sets `[hidden] { display: none; }` but bootstrap.min.css set `[hidden] { display: none !important; }` so we also need the `!important` here to be able to override the default hidden behavior on the sphinx rendered scikit-learn.org. See: https://github.com/scikit-learn/scikit-learn/issues/21755 */display: inline-block !important;position: relative;}#sk-container-id-9 div.sk-text-repr-fallback {display: none;}</style><div id=\"sk-container-id-9\" class=\"sk-top-container\"><div class=\"sk-text-repr-fallback\"><pre>GridSearchCV(cv=2,\n",
              "             estimator=Pipeline(steps=[(&#x27;Vectorizer&#x27;, TfidfVectorizer()),\n",
              "                                       (&#x27;Model&#x27;, MultinomialNB())]),\n",
              "             param_grid={&#x27;Model__fit_prior&#x27;: [True, False],\n",
              "                         &#x27;Vectorizer__max_df&#x27;: [0.01, 0.1, 0.2],\n",
              "                         &#x27;Vectorizer__min_df&#x27;: [3],\n",
              "                         &#x27;Vectorizer__ngram_range&#x27;: [(1, 1), (1, 2)],\n",
              "                         &#x27;Vectorizer__use_idf&#x27;: [True, False]})</pre><b>In a Jupyter environment, please rerun this cell to show the HTML representation or trust the notebook. <br />On GitHub, the HTML representation is unable to render, please try loading this page with nbviewer.org.</b></div><div class=\"sk-container\" hidden><div class=\"sk-item sk-dashed-wrapped\"><div class=\"sk-label-container\"><div class=\"sk-label sk-toggleable\"><input class=\"sk-toggleable__control sk-hidden--visually\" id=\"sk-estimator-id-28\" type=\"checkbox\" ><label for=\"sk-estimator-id-28\" class=\"sk-toggleable__label sk-toggleable__label-arrow\">GridSearchCV</label><div class=\"sk-toggleable__content\"><pre>GridSearchCV(cv=2,\n",
              "             estimator=Pipeline(steps=[(&#x27;Vectorizer&#x27;, TfidfVectorizer()),\n",
              "                                       (&#x27;Model&#x27;, MultinomialNB())]),\n",
              "             param_grid={&#x27;Model__fit_prior&#x27;: [True, False],\n",
              "                         &#x27;Vectorizer__max_df&#x27;: [0.01, 0.1, 0.2],\n",
              "                         &#x27;Vectorizer__min_df&#x27;: [3],\n",
              "                         &#x27;Vectorizer__ngram_range&#x27;: [(1, 1), (1, 2)],\n",
              "                         &#x27;Vectorizer__use_idf&#x27;: [True, False]})</pre></div></div></div><div class=\"sk-parallel\"><div class=\"sk-parallel-item\"><div class=\"sk-item\"><div class=\"sk-label-container\"><div class=\"sk-label sk-toggleable\"><input class=\"sk-toggleable__control sk-hidden--visually\" id=\"sk-estimator-id-29\" type=\"checkbox\" ><label for=\"sk-estimator-id-29\" class=\"sk-toggleable__label sk-toggleable__label-arrow\">estimator: Pipeline</label><div class=\"sk-toggleable__content\"><pre>Pipeline(steps=[(&#x27;Vectorizer&#x27;, TfidfVectorizer()), (&#x27;Model&#x27;, MultinomialNB())])</pre></div></div></div><div class=\"sk-serial\"><div class=\"sk-item\"><div class=\"sk-serial\"><div class=\"sk-item\"><div class=\"sk-estimator sk-toggleable\"><input class=\"sk-toggleable__control sk-hidden--visually\" id=\"sk-estimator-id-30\" type=\"checkbox\" ><label for=\"sk-estimator-id-30\" class=\"sk-toggleable__label sk-toggleable__label-arrow\">TfidfVectorizer</label><div class=\"sk-toggleable__content\"><pre>TfidfVectorizer()</pre></div></div></div><div class=\"sk-item\"><div class=\"sk-estimator sk-toggleable\"><input class=\"sk-toggleable__control sk-hidden--visually\" id=\"sk-estimator-id-31\" type=\"checkbox\" ><label for=\"sk-estimator-id-31\" class=\"sk-toggleable__label sk-toggleable__label-arrow\">MultinomialNB</label><div class=\"sk-toggleable__content\"><pre>MultinomialNB()</pre></div></div></div></div></div></div></div></div></div></div></div></div>"
            ],
            "text/plain": [
              "GridSearchCV(cv=2,\n",
              "             estimator=Pipeline(steps=[('Vectorizer', TfidfVectorizer()),\n",
              "                                       ('Model', MultinomialNB())]),\n",
              "             param_grid={'Model__fit_prior': [True, False],\n",
              "                         'Vectorizer__max_df': [0.01, 0.1, 0.2],\n",
              "                         'Vectorizer__min_df': [3],\n",
              "                         'Vectorizer__ngram_range': [(1, 1), (1, 2)],\n",
              "                         'Vectorizer__use_idf': [True, False]})"
            ]
          },
          "execution_count": 80,
          "metadata": {},
          "output_type": "execute_result"
        }
      ],
      "source": [
        "# Defining parameters for the param grid. https://scikit-learn.org/stable/modules/generated/sklearn.naive_bayes.MultinomialNB.html\n",
        "params = {\n",
        "    'Vectorizer__ngram_range':ngram_range,\n",
        "    'Vectorizer__min_df':min_df,\n",
        "    'Vectorizer__max_df':max_df,\n",
        "    'Vectorizer__use_idf':use_idf,\n",
        "    'Model__fit_prior':[True,False]\n",
        "}\n",
        "\n",
        "# Defining grid search with the pipeline\n",
        "searchNB = GridSearchCV(\n",
        "    pipeNB,\n",
        "    param_grid=params,\n",
        "    cv=2\n",
        ")\n",
        "\n",
        "# Fitting the grid search\n",
        "searchNB.fit(X_train, y_train)"
      ]
    },
    {
      "cell_type": "code",
      "execution_count": null,
      "metadata": {
        "id": "UyzG9TLd1os5",
        "outputId": "6a6ca9d2-8f99-40e0-852e-10ec488517f5"
      },
      "outputs": [
        {
          "name": "stdout",
          "output_type": "stream",
          "text": [
            "The results from: Naive Bayes\n",
            "Accuracy on training set: 0.932\n",
            "Accuracy on test set: 0.862\n",
            "Best params:  {'Model__fit_prior': False, 'Vectorizer__max_df': 0.2, 'Vectorizer__min_df': 3, 'Vectorizer__ngram_range': (1, 2), 'Vectorizer__use_idf': True}\n"
          ]
        }
      ],
      "source": [
        "# Printing\n",
        "printScoreParams('Naive Bayes', searchNB)"
      ]
    },
    {
      "attachments": {},
      "cell_type": "markdown",
      "metadata": {
        "id": "edBk6Q2n1os5"
      },
      "source": [
        "### Random Forrest"
      ]
    },
    {
      "cell_type": "code",
      "execution_count": null,
      "metadata": {
        "id": "Sqy2YyxH1os5",
        "outputId": "10191854-bfa5-437c-892c-8248a932d3d7"
      },
      "outputs": [
        {
          "data": {
            "text/html": [
              "<style>#sk-container-id-10 {color: black;background-color: white;}#sk-container-id-10 pre{padding: 0;}#sk-container-id-10 div.sk-toggleable {background-color: white;}#sk-container-id-10 label.sk-toggleable__label {cursor: pointer;display: block;width: 100%;margin-bottom: 0;padding: 0.3em;box-sizing: border-box;text-align: center;}#sk-container-id-10 label.sk-toggleable__label-arrow:before {content: \"▸\";float: left;margin-right: 0.25em;color: #696969;}#sk-container-id-10 label.sk-toggleable__label-arrow:hover:before {color: black;}#sk-container-id-10 div.sk-estimator:hover label.sk-toggleable__label-arrow:before {color: black;}#sk-container-id-10 div.sk-toggleable__content {max-height: 0;max-width: 0;overflow: hidden;text-align: left;background-color: #f0f8ff;}#sk-container-id-10 div.sk-toggleable__content pre {margin: 0.2em;color: black;border-radius: 0.25em;background-color: #f0f8ff;}#sk-container-id-10 input.sk-toggleable__control:checked~div.sk-toggleable__content {max-height: 200px;max-width: 100%;overflow: auto;}#sk-container-id-10 input.sk-toggleable__control:checked~label.sk-toggleable__label-arrow:before {content: \"▾\";}#sk-container-id-10 div.sk-estimator input.sk-toggleable__control:checked~label.sk-toggleable__label {background-color: #d4ebff;}#sk-container-id-10 div.sk-label input.sk-toggleable__control:checked~label.sk-toggleable__label {background-color: #d4ebff;}#sk-container-id-10 input.sk-hidden--visually {border: 0;clip: rect(1px 1px 1px 1px);clip: rect(1px, 1px, 1px, 1px);height: 1px;margin: -1px;overflow: hidden;padding: 0;position: absolute;width: 1px;}#sk-container-id-10 div.sk-estimator {font-family: monospace;background-color: #f0f8ff;border: 1px dotted black;border-radius: 0.25em;box-sizing: border-box;margin-bottom: 0.5em;}#sk-container-id-10 div.sk-estimator:hover {background-color: #d4ebff;}#sk-container-id-10 div.sk-parallel-item::after {content: \"\";width: 100%;border-bottom: 1px solid gray;flex-grow: 1;}#sk-container-id-10 div.sk-label:hover label.sk-toggleable__label {background-color: #d4ebff;}#sk-container-id-10 div.sk-serial::before {content: \"\";position: absolute;border-left: 1px solid gray;box-sizing: border-box;top: 0;bottom: 0;left: 50%;z-index: 0;}#sk-container-id-10 div.sk-serial {display: flex;flex-direction: column;align-items: center;background-color: white;padding-right: 0.2em;padding-left: 0.2em;position: relative;}#sk-container-id-10 div.sk-item {position: relative;z-index: 1;}#sk-container-id-10 div.sk-parallel {display: flex;align-items: stretch;justify-content: center;background-color: white;position: relative;}#sk-container-id-10 div.sk-item::before, #sk-container-id-10 div.sk-parallel-item::before {content: \"\";position: absolute;border-left: 1px solid gray;box-sizing: border-box;top: 0;bottom: 0;left: 50%;z-index: -1;}#sk-container-id-10 div.sk-parallel-item {display: flex;flex-direction: column;z-index: 1;position: relative;background-color: white;}#sk-container-id-10 div.sk-parallel-item:first-child::after {align-self: flex-end;width: 50%;}#sk-container-id-10 div.sk-parallel-item:last-child::after {align-self: flex-start;width: 50%;}#sk-container-id-10 div.sk-parallel-item:only-child::after {width: 0;}#sk-container-id-10 div.sk-dashed-wrapped {border: 1px dashed gray;margin: 0 0.4em 0.5em 0.4em;box-sizing: border-box;padding-bottom: 0.4em;background-color: white;}#sk-container-id-10 div.sk-label label {font-family: monospace;font-weight: bold;display: inline-block;line-height: 1.2em;}#sk-container-id-10 div.sk-label-container {text-align: center;}#sk-container-id-10 div.sk-container {/* jupyter's `normalize.less` sets `[hidden] { display: none; }` but bootstrap.min.css set `[hidden] { display: none !important; }` so we also need the `!important` here to be able to override the default hidden behavior on the sphinx rendered scikit-learn.org. See: https://github.com/scikit-learn/scikit-learn/issues/21755 */display: inline-block !important;position: relative;}#sk-container-id-10 div.sk-text-repr-fallback {display: none;}</style><div id=\"sk-container-id-10\" class=\"sk-top-container\"><div class=\"sk-text-repr-fallback\"><pre>Pipeline(steps=[(&#x27;Vectorizer&#x27;, TfidfVectorizer()),\n",
              "                (&#x27;Model&#x27;, RandomForestClassifier())])</pre><b>In a Jupyter environment, please rerun this cell to show the HTML representation or trust the notebook. <br />On GitHub, the HTML representation is unable to render, please try loading this page with nbviewer.org.</b></div><div class=\"sk-container\" hidden><div class=\"sk-item sk-dashed-wrapped\"><div class=\"sk-label-container\"><div class=\"sk-label sk-toggleable\"><input class=\"sk-toggleable__control sk-hidden--visually\" id=\"sk-estimator-id-32\" type=\"checkbox\" ><label for=\"sk-estimator-id-32\" class=\"sk-toggleable__label sk-toggleable__label-arrow\">Pipeline</label><div class=\"sk-toggleable__content\"><pre>Pipeline(steps=[(&#x27;Vectorizer&#x27;, TfidfVectorizer()),\n",
              "                (&#x27;Model&#x27;, RandomForestClassifier())])</pre></div></div></div><div class=\"sk-serial\"><div class=\"sk-item\"><div class=\"sk-estimator sk-toggleable\"><input class=\"sk-toggleable__control sk-hidden--visually\" id=\"sk-estimator-id-33\" type=\"checkbox\" ><label for=\"sk-estimator-id-33\" class=\"sk-toggleable__label sk-toggleable__label-arrow\">TfidfVectorizer</label><div class=\"sk-toggleable__content\"><pre>TfidfVectorizer()</pre></div></div></div><div class=\"sk-item\"><div class=\"sk-estimator sk-toggleable\"><input class=\"sk-toggleable__control sk-hidden--visually\" id=\"sk-estimator-id-34\" type=\"checkbox\" ><label for=\"sk-estimator-id-34\" class=\"sk-toggleable__label sk-toggleable__label-arrow\">RandomForestClassifier</label><div class=\"sk-toggleable__content\"><pre>RandomForestClassifier()</pre></div></div></div></div></div></div></div>"
            ],
            "text/plain": [
              "Pipeline(steps=[('Vectorizer', TfidfVectorizer()),\n",
              "                ('Model', RandomForestClassifier())])"
            ]
          },
          "execution_count": 93,
          "metadata": {},
          "output_type": "execute_result"
        }
      ],
      "source": [
        "# Defining pipe for Random Forrest\n",
        "pipeRF = Pipeline(steps=[\n",
        "    ('Vectorizer', vectorizer),\n",
        "    ('Model', RandomForestClassifier())\n",
        "])\n",
        "\n",
        "# Fitting the pipeline with the data\n",
        "pipeRF.fit(X_train, y_train)"
      ]
    },
    {
      "cell_type": "code",
      "execution_count": null,
      "metadata": {
        "id": "j-HTXnp41os5",
        "outputId": "123e8f8e-2c99-4275-c171-91899b465a0f"
      },
      "outputs": [
        {
          "name": "stdout",
          "output_type": "stream",
          "text": [
            "Accuracy on training set: 1.000\n",
            "Accuracy on test set: 0.817\n"
          ]
        }
      ],
      "source": [
        "# Printing scores on the simple version of the model\n",
        "print(\"Accuracy on training set: {:.3f}\".format(pipeRF.score(X_train, y_train)))\n",
        "print(\"Accuracy on test set: {:.3f}\".format(pipeRF.score(X_test, y_test)))"
      ]
    },
    {
      "cell_type": "code",
      "execution_count": null,
      "metadata": {
        "id": "CRIybHlQ1os5",
        "outputId": "93fb0d9d-7775-4ac5-925b-9c06efcaf863"
      },
      "outputs": [
        {
          "data": {
            "text/html": [
              "<style>#sk-container-id-11 {color: black;background-color: white;}#sk-container-id-11 pre{padding: 0;}#sk-container-id-11 div.sk-toggleable {background-color: white;}#sk-container-id-11 label.sk-toggleable__label {cursor: pointer;display: block;width: 100%;margin-bottom: 0;padding: 0.3em;box-sizing: border-box;text-align: center;}#sk-container-id-11 label.sk-toggleable__label-arrow:before {content: \"▸\";float: left;margin-right: 0.25em;color: #696969;}#sk-container-id-11 label.sk-toggleable__label-arrow:hover:before {color: black;}#sk-container-id-11 div.sk-estimator:hover label.sk-toggleable__label-arrow:before {color: black;}#sk-container-id-11 div.sk-toggleable__content {max-height: 0;max-width: 0;overflow: hidden;text-align: left;background-color: #f0f8ff;}#sk-container-id-11 div.sk-toggleable__content pre {margin: 0.2em;color: black;border-radius: 0.25em;background-color: #f0f8ff;}#sk-container-id-11 input.sk-toggleable__control:checked~div.sk-toggleable__content {max-height: 200px;max-width: 100%;overflow: auto;}#sk-container-id-11 input.sk-toggleable__control:checked~label.sk-toggleable__label-arrow:before {content: \"▾\";}#sk-container-id-11 div.sk-estimator input.sk-toggleable__control:checked~label.sk-toggleable__label {background-color: #d4ebff;}#sk-container-id-11 div.sk-label input.sk-toggleable__control:checked~label.sk-toggleable__label {background-color: #d4ebff;}#sk-container-id-11 input.sk-hidden--visually {border: 0;clip: rect(1px 1px 1px 1px);clip: rect(1px, 1px, 1px, 1px);height: 1px;margin: -1px;overflow: hidden;padding: 0;position: absolute;width: 1px;}#sk-container-id-11 div.sk-estimator {font-family: monospace;background-color: #f0f8ff;border: 1px dotted black;border-radius: 0.25em;box-sizing: border-box;margin-bottom: 0.5em;}#sk-container-id-11 div.sk-estimator:hover {background-color: #d4ebff;}#sk-container-id-11 div.sk-parallel-item::after {content: \"\";width: 100%;border-bottom: 1px solid gray;flex-grow: 1;}#sk-container-id-11 div.sk-label:hover label.sk-toggleable__label {background-color: #d4ebff;}#sk-container-id-11 div.sk-serial::before {content: \"\";position: absolute;border-left: 1px solid gray;box-sizing: border-box;top: 0;bottom: 0;left: 50%;z-index: 0;}#sk-container-id-11 div.sk-serial {display: flex;flex-direction: column;align-items: center;background-color: white;padding-right: 0.2em;padding-left: 0.2em;position: relative;}#sk-container-id-11 div.sk-item {position: relative;z-index: 1;}#sk-container-id-11 div.sk-parallel {display: flex;align-items: stretch;justify-content: center;background-color: white;position: relative;}#sk-container-id-11 div.sk-item::before, #sk-container-id-11 div.sk-parallel-item::before {content: \"\";position: absolute;border-left: 1px solid gray;box-sizing: border-box;top: 0;bottom: 0;left: 50%;z-index: -1;}#sk-container-id-11 div.sk-parallel-item {display: flex;flex-direction: column;z-index: 1;position: relative;background-color: white;}#sk-container-id-11 div.sk-parallel-item:first-child::after {align-self: flex-end;width: 50%;}#sk-container-id-11 div.sk-parallel-item:last-child::after {align-self: flex-start;width: 50%;}#sk-container-id-11 div.sk-parallel-item:only-child::after {width: 0;}#sk-container-id-11 div.sk-dashed-wrapped {border: 1px dashed gray;margin: 0 0.4em 0.5em 0.4em;box-sizing: border-box;padding-bottom: 0.4em;background-color: white;}#sk-container-id-11 div.sk-label label {font-family: monospace;font-weight: bold;display: inline-block;line-height: 1.2em;}#sk-container-id-11 div.sk-label-container {text-align: center;}#sk-container-id-11 div.sk-container {/* jupyter's `normalize.less` sets `[hidden] { display: none; }` but bootstrap.min.css set `[hidden] { display: none !important; }` so we also need the `!important` here to be able to override the default hidden behavior on the sphinx rendered scikit-learn.org. See: https://github.com/scikit-learn/scikit-learn/issues/21755 */display: inline-block !important;position: relative;}#sk-container-id-11 div.sk-text-repr-fallback {display: none;}</style><div id=\"sk-container-id-11\" class=\"sk-top-container\"><div class=\"sk-text-repr-fallback\"><pre>GridSearchCV(cv=2,\n",
              "             estimator=Pipeline(steps=[(&#x27;Vectorizer&#x27;, TfidfVectorizer()),\n",
              "                                       (&#x27;Model&#x27;, RandomForestClassifier())]),\n",
              "             param_grid={&#x27;Model__max_depth&#x27;: [5, 10],\n",
              "                         &#x27;Model__min_samples_leaf&#x27;: [5, 10],\n",
              "                         &#x27;Model__n_estimators&#x27;: [50, 100, 150],\n",
              "                         &#x27;Model__random_state&#x27;: [42],\n",
              "                         &#x27;Vectorizer__max_df&#x27;: [0.01, 0.1, 0.2],\n",
              "                         &#x27;Vectorizer__min_df&#x27;: [3],\n",
              "                         &#x27;Vectorizer__ngram_range&#x27;: [(1, 1), (1, 2)],\n",
              "                         &#x27;Vectorizer__use_idf&#x27;: [True, False]})</pre><b>In a Jupyter environment, please rerun this cell to show the HTML representation or trust the notebook. <br />On GitHub, the HTML representation is unable to render, please try loading this page with nbviewer.org.</b></div><div class=\"sk-container\" hidden><div class=\"sk-item sk-dashed-wrapped\"><div class=\"sk-label-container\"><div class=\"sk-label sk-toggleable\"><input class=\"sk-toggleable__control sk-hidden--visually\" id=\"sk-estimator-id-35\" type=\"checkbox\" ><label for=\"sk-estimator-id-35\" class=\"sk-toggleable__label sk-toggleable__label-arrow\">GridSearchCV</label><div class=\"sk-toggleable__content\"><pre>GridSearchCV(cv=2,\n",
              "             estimator=Pipeline(steps=[(&#x27;Vectorizer&#x27;, TfidfVectorizer()),\n",
              "                                       (&#x27;Model&#x27;, RandomForestClassifier())]),\n",
              "             param_grid={&#x27;Model__max_depth&#x27;: [5, 10],\n",
              "                         &#x27;Model__min_samples_leaf&#x27;: [5, 10],\n",
              "                         &#x27;Model__n_estimators&#x27;: [50, 100, 150],\n",
              "                         &#x27;Model__random_state&#x27;: [42],\n",
              "                         &#x27;Vectorizer__max_df&#x27;: [0.01, 0.1, 0.2],\n",
              "                         &#x27;Vectorizer__min_df&#x27;: [3],\n",
              "                         &#x27;Vectorizer__ngram_range&#x27;: [(1, 1), (1, 2)],\n",
              "                         &#x27;Vectorizer__use_idf&#x27;: [True, False]})</pre></div></div></div><div class=\"sk-parallel\"><div class=\"sk-parallel-item\"><div class=\"sk-item\"><div class=\"sk-label-container\"><div class=\"sk-label sk-toggleable\"><input class=\"sk-toggleable__control sk-hidden--visually\" id=\"sk-estimator-id-36\" type=\"checkbox\" ><label for=\"sk-estimator-id-36\" class=\"sk-toggleable__label sk-toggleable__label-arrow\">estimator: Pipeline</label><div class=\"sk-toggleable__content\"><pre>Pipeline(steps=[(&#x27;Vectorizer&#x27;, TfidfVectorizer()),\n",
              "                (&#x27;Model&#x27;, RandomForestClassifier())])</pre></div></div></div><div class=\"sk-serial\"><div class=\"sk-item\"><div class=\"sk-serial\"><div class=\"sk-item\"><div class=\"sk-estimator sk-toggleable\"><input class=\"sk-toggleable__control sk-hidden--visually\" id=\"sk-estimator-id-37\" type=\"checkbox\" ><label for=\"sk-estimator-id-37\" class=\"sk-toggleable__label sk-toggleable__label-arrow\">TfidfVectorizer</label><div class=\"sk-toggleable__content\"><pre>TfidfVectorizer()</pre></div></div></div><div class=\"sk-item\"><div class=\"sk-estimator sk-toggleable\"><input class=\"sk-toggleable__control sk-hidden--visually\" id=\"sk-estimator-id-38\" type=\"checkbox\" ><label for=\"sk-estimator-id-38\" class=\"sk-toggleable__label sk-toggleable__label-arrow\">RandomForestClassifier</label><div class=\"sk-toggleable__content\"><pre>RandomForestClassifier()</pre></div></div></div></div></div></div></div></div></div></div></div></div>"
            ],
            "text/plain": [
              "GridSearchCV(cv=2,\n",
              "             estimator=Pipeline(steps=[('Vectorizer', TfidfVectorizer()),\n",
              "                                       ('Model', RandomForestClassifier())]),\n",
              "             param_grid={'Model__max_depth': [5, 10],\n",
              "                         'Model__min_samples_leaf': [5, 10],\n",
              "                         'Model__n_estimators': [50, 100, 150],\n",
              "                         'Model__random_state': [42],\n",
              "                         'Vectorizer__max_df': [0.01, 0.1, 0.2],\n",
              "                         'Vectorizer__min_df': [3],\n",
              "                         'Vectorizer__ngram_range': [(1, 1), (1, 2)],\n",
              "                         'Vectorizer__use_idf': [True, False]})"
            ]
          },
          "execution_count": 95,
          "metadata": {},
          "output_type": "execute_result"
        }
      ],
      "source": [
        "# Defining parameters for the param grid\n",
        "params = {\n",
        "    'Vectorizer__ngram_range':ngram_range,\n",
        "    'Vectorizer__min_df':min_df,\n",
        "    'Vectorizer__max_df':max_df,\n",
        "    'Vectorizer__use_idf':use_idf,\n",
        "    'Model__n_estimators':[50,100,150], # other parameters to be defined\n",
        "    'Model__max_depth':[5,10],\n",
        "    'Model__min_samples_leaf':[5,10],\n",
        "    'Model__random_state':[42]\n",
        "}\n",
        "\n",
        "# Defining grid search with the pipeline\n",
        "searchRF = GridSearchCV(\n",
        "    pipeRF,\n",
        "    param_grid=params,\n",
        "    cv=2,\n",
        ")\n",
        "\n",
        "# Fitting the grid search\n",
        "searchRF.fit(X_train, y_train)"
      ]
    },
    {
      "cell_type": "code",
      "execution_count": null,
      "metadata": {
        "id": "Bavoq4zg1os6",
        "outputId": "bb088b91-7d79-4ab6-9d13-52ba40f29a05"
      },
      "outputs": [
        {
          "name": "stdout",
          "output_type": "stream",
          "text": [
            "The results from: Random Forest\n",
            "Accuracy on training set: 0.827\n",
            "Accuracy on test set: 0.807\n",
            "Best params:  {'Model__max_depth': 10, 'Model__min_samples_leaf': 5, 'Model__n_estimators': 150, 'Model__random_state': 42, 'Vectorizer__max_df': 0.2, 'Vectorizer__min_df': 3, 'Vectorizer__ngram_range': (1, 2), 'Vectorizer__use_idf': True}\n"
          ]
        }
      ],
      "source": [
        "# Printing\n",
        "printScoreParams('Random Forest', searchRF)"
      ]
    },
    {
      "attachments": {},
      "cell_type": "markdown",
      "metadata": {
        "id": "uK-vxvQE1os6"
      },
      "source": [
        "## BERT"
      ]
    },
    {
      "attachments": {},
      "cell_type": "markdown",
      "metadata": {
        "id": "DRxhtSLA1os6"
      },
      "source": [
        "Next up, we want to use Bert for preprocessing"
      ]
    },
    {
      "cell_type": "code",
      "execution_count": null,
      "metadata": {
        "id": "T1Lds5Pz1os6"
      },
      "outputs": [],
      "source": [
        "# Configuration\n",
        "modelName = 'distilbert-base-uncased'"
      ]
    },
    {
      "cell_type": "code",
      "execution_count": null,
      "metadata": {
        "colab": {
          "referenced_widgets": [
            "1ad44d4e08144e9a8499a5dbda0b1377",
            "c8a7e2b803e540ffbe2d05f2696257f9",
            "35dee5c035b048f9a8799661de128120",
            "60dc37872d5a48838a3a06e2a9db3a52",
            "f2c93de246bc427d95d15b3962320287"
          ]
        },
        "id": "MjHsmkkR1os6",
        "outputId": "27f25ec6-2474-4e32-bd4a-526507d6801e"
      },
      "outputs": [
        {
          "data": {
            "application/vnd.jupyter.widget-view+json": {
              "model_id": "1ad44d4e08144e9a8499a5dbda0b1377",
              "version_major": 2,
              "version_minor": 0
            },
            "text/plain": [
              "Downloading:   0%|          | 0.00/483 [00:00<?, ?B/s]"
            ]
          },
          "metadata": {},
          "output_type": "display_data"
        },
        {
          "name": "stderr",
          "output_type": "stream",
          "text": [
            "c:\\ProgramData\\anaconda3\\lib\\site-packages\\huggingface_hub\\file_download.py:123: UserWarning: `huggingface_hub` cache-system uses symlinks by default to efficiently store duplicated files but your machine does not support them in C:\\Users\\andre\\.cache\\huggingface\\hub. Caching files will still work but in a degraded version that might require more space on your disk. This warning can be disabled by setting the `HF_HUB_DISABLE_SYMLINKS_WARNING` environment variable. For more details, see https://huggingface.co/docs/huggingface_hub/how-to-cache#limitations.\n",
            "To support symlinks on Windows, you either need to activate Developer Mode or to run Python as an administrator. In order to see activate developer mode, see this article: https://docs.microsoft.com/en-us/windows/apps/get-started/enable-your-device-for-development\n",
            "  warnings.warn(message)\n"
          ]
        },
        {
          "data": {
            "application/vnd.jupyter.widget-view+json": {
              "model_id": "c8a7e2b803e540ffbe2d05f2696257f9",
              "version_major": 2,
              "version_minor": 0
            },
            "text/plain": [
              "Downloading:   0%|          | 0.00/268M [00:00<?, ?B/s]"
            ]
          },
          "metadata": {},
          "output_type": "display_data"
        },
        {
          "name": "stderr",
          "output_type": "stream",
          "text": [
            "Some weights of the model checkpoint at distilbert-base-uncased were not used when initializing DistilBertModel: ['vocab_layer_norm.bias', 'vocab_projector.bias', 'vocab_transform.weight', 'vocab_transform.bias', 'vocab_projector.weight', 'vocab_layer_norm.weight']\n",
            "- This IS expected if you are initializing DistilBertModel from the checkpoint of a model trained on another task or with another architecture (e.g. initializing a BertForSequenceClassification model from a BertForPreTraining model).\n",
            "- This IS NOT expected if you are initializing DistilBertModel from the checkpoint of a model that you expect to be exactly identical (initializing a BertForSequenceClassification model from a BertForSequenceClassification model).\n"
          ]
        },
        {
          "data": {
            "application/vnd.jupyter.widget-view+json": {
              "model_id": "35dee5c035b048f9a8799661de128120",
              "version_major": 2,
              "version_minor": 0
            },
            "text/plain": [
              "Downloading:   0%|          | 0.00/28.0 [00:00<?, ?B/s]"
            ]
          },
          "metadata": {},
          "output_type": "display_data"
        },
        {
          "data": {
            "application/vnd.jupyter.widget-view+json": {
              "model_id": "60dc37872d5a48838a3a06e2a9db3a52",
              "version_major": 2,
              "version_minor": 0
            },
            "text/plain": [
              "Downloading:   0%|          | 0.00/232k [00:00<?, ?B/s]"
            ]
          },
          "metadata": {},
          "output_type": "display_data"
        },
        {
          "data": {
            "application/vnd.jupyter.widget-view+json": {
              "model_id": "f2c93de246bc427d95d15b3962320287",
              "version_major": 2,
              "version_minor": 0
            },
            "text/plain": [
              "Downloading:   0%|          | 0.00/466k [00:00<?, ?B/s]"
            ]
          },
          "metadata": {},
          "output_type": "display_data"
        }
      ],
      "source": [
        "# Retreiving Bert\n",
        "bert = AutoModel.from_pretrained(modelName)\n",
        "BertToken = AutoTokenizer.from_pretrained(modelName)\n",
        "#print(bert)"
      ]
    },
    {
      "cell_type": "code",
      "execution_count": null,
      "metadata": {
        "id": "SJHSyZSf1os6"
      },
      "outputs": [],
      "source": [
        "# Reducing data even more\n",
        "df = df.sample(frac=0.1)"
      ]
    },
    {
      "cell_type": "code",
      "execution_count": null,
      "metadata": {
        "id": "j5QIIg8o1os6",
        "outputId": "377716b6-1b70-4e34-8828-4243a8da8647"
      },
      "outputs": [
        {
          "name": "stdout",
          "output_type": "stream",
          "text": [
            "Tokenizing...\n"
          ]
        },
        {
          "data": {
            "text/plain": [
              "{'input_ids': tensor([[ 101, 9530, 2015,  ...,    0,    0,    0],\n",
              "        [ 101, 1045, 2031,  ...,    0,    0,    0],\n",
              "        [ 101, 2004, 1045,  ...,    0,    0,    0],\n",
              "        ...,\n",
              "        [ 101, 2057, 4149,  ...,    0,    0,    0],\n",
              "        [ 101, 2023, 2338,  ...,    0,    0,    0],\n",
              "        [ 101, 2307, 9391,  ...,    0,    0,    0]]), 'attention_mask': tensor([[1, 1, 1,  ..., 0, 0, 0],\n",
              "        [1, 1, 1,  ..., 0, 0, 0],\n",
              "        [1, 1, 1,  ..., 0, 0, 0],\n",
              "        ...,\n",
              "        [1, 1, 1,  ..., 0, 0, 0],\n",
              "        [1, 1, 1,  ..., 0, 0, 0],\n",
              "        [1, 1, 1,  ..., 0, 0, 0]])}"
            ]
          },
          "execution_count": 11,
          "metadata": {},
          "output_type": "execute_result"
        }
      ],
      "source": [
        "# Tokenizing\n",
        "print(\"Tokenizing...\")\n",
        "tokenized = BertToken(\n",
        "    df[\"text\"].tolist(),\n",
        "    add_special_tokens=True,\n",
        "    padding='longest',\n",
        "    return_attention_mask=True,\n",
        "    return_tensors='pt',\n",
        "    verbose=True\n",
        ")\n",
        "tokenized"
      ]
    },
    {
      "cell_type": "code",
      "execution_count": null,
      "metadata": {
        "id": "K7ww1-DS1os7",
        "outputId": "de8abe32-03e1-4206-9610-4f1c417a94a9"
      },
      "outputs": [
        {
          "name": "stdout",
          "output_type": "stream",
          "text": [
            "Getting model encodings...\n"
          ]
        }
      ],
      "source": [
        "# A function that was also used in Lab 7. Note that this is a ressource intensive task\n",
        "def get_bert_embeddings(model, tokenized):\n",
        "\n",
        "    \"\"\" Calculate BERT embeddings for a batch of sentences.\n",
        "    NOTE: Calculating BERT embeddings is a very expensive operation.\n",
        "    Particularly on CPU, it can take a long time to calculate embeddings for\n",
        "    a large batch of sentences (Max 10-20 minutes for 6K sentences).\n",
        "\n",
        "    Args:\n",
        "        model (transformers BERT model): BERT model.\n",
        "        tokenized (dict): Dictionary of tokenized sentences (input_ids and attention_mask)\n",
        "\n",
        "    Returns:\n",
        "        n-d NumPy array: BERT embeddings for the sentences in the batch.\n",
        "    \"\"\"\n",
        "\n",
        "    print(\"Getting model encodings...\")\n",
        "    # The following is a context-manager that disables gradient calculation.\n",
        "    # Disabling gradient calculation is useful for inference, when you are \n",
        "    # sure that you will not call Tensor.backward(). It will reduce memory \n",
        "    # consumption for computations that would otherwise have requires_grad=True.\n",
        "    # TLDR: calculating gradients is expensive. We don't need them for inference.\n",
        "    with torch.no_grad():\n",
        "        last_hidden_states = model(**tokenized)\n",
        "\n",
        "    # last_hidden_states[0] is the last hidden state of the first token of the\n",
        "    # sequence (classification token) further processed by a Linear layer and \n",
        "    # a Tanh activation function. The Linear layer weights are trained from the\n",
        "    #  next sentence prediction (classification) objective during pretraining.\n",
        "    # last_hidden_states[0].shape = (batch_size, hidden_size)\n",
        "    print(\"Returning embeddings...\")\n",
        "    return last_hidden_states[0][:,0,:].numpy()\n",
        "\n",
        "embeddings = get_bert_embeddings(bert, tokenized)\n",
        "embeddings.shape"
      ]
    },
    {
      "cell_type": "code",
      "execution_count": null,
      "metadata": {
        "id": "y3rMMEex1os7"
      },
      "outputs": [],
      "source": [
        "# Making a new Train test split\n",
        "X_trainBert, X_testBert, y_train, y_test = train_test_split(embeddings, df.polarity, random_state=42)"
      ]
    },
    {
      "attachments": {},
      "cell_type": "markdown",
      "metadata": {
        "id": "jo4Q5PC91os7"
      },
      "source": [
        "## Making Models with Bert"
      ]
    },
    {
      "attachments": {},
      "cell_type": "markdown",
      "metadata": {
        "id": "OPqhgUiZ1os7"
      },
      "source": [
        "### Configuration"
      ]
    },
    {
      "attachments": {},
      "cell_type": "markdown",
      "metadata": {
        "id": "E8X405v01os7"
      },
      "source": [
        "The main difference here, is that the preprocessing is already done. we can therefore make a function with gridsearch to go through all the models."
      ]
    },
    {
      "cell_type": "code",
      "execution_count": null,
      "metadata": {
        "id": "czs_I03p1os7"
      },
      "outputs": [],
      "source": [
        "# A function to be used on all models\n",
        "def eval_model(model, params, name):\n",
        "    grid = GridSearchCV(estimator=model, # The desired model is called from the model that is to be defined\n",
        "                    param_grid=params, # The object is called by the later defined variable\n",
        "                    cv=2)  # Using cross validation\n",
        "    grid.fit(X_trainBert, y_train) # The scaled version of the data is used to fit the model(s)\n",
        "    print(name)\n",
        "    print(\"Accuracy on training set: {:.3f}\".format(grid.score(X_trainBert, y_train)))\n",
        "    print(\"Accuracy on test set: {:.3f}\".format(grid.score(X_testBert, y_test)))\n",
        "    print(\"Best params: \", grid.best_params_) # Printing the best params\n",
        "    print(\" \")\n",
        "\n",
        "    # Returning the Model for later use\n",
        "    return grid"
      ]
    },
    {
      "cell_type": "code",
      "execution_count": null,
      "metadata": {
        "id": "6_K3LfH51os8"
      },
      "outputs": [],
      "source": [
        "# Configuration of the different models, Setting up the models with relevant parameters to tune. scikit learn documentation is used for each model to find parameters.\n",
        "lr_B = LogisticRegression(max_iter=10000)\n",
        "lrParams = {'C':[0.01,0.1,1,10,100]} \n",
        "\n",
        "mlp_B = MLPClassifier(max_iter=10000)\n",
        "mlpParams = {'hidden_layer_sizes':[50,100], 'activation': [['tanh','relu']]}\n",
        "\n",
        "NB_B = MultinomialNB()\n",
        "NBParams = {'fit_prior':[True,False]} \n",
        "\n",
        "rfc_B = RandomForestClassifier()\n",
        "rfcParams = {'n_estimators':[50,100,150], 'max_depth':[5,10],'min_samples_leaf':[5,10],'random_state':[42] }"
      ]
    },
    {
      "attachments": {},
      "cell_type": "markdown",
      "metadata": {
        "id": "bA-H6EJ31os8"
      },
      "source": [
        "### Logistic Regression"
      ]
    },
    {
      "cell_type": "code",
      "execution_count": null,
      "metadata": {
        "id": "C6HxXIc21os8"
      },
      "outputs": [],
      "source": [
        "# Applying the model with the function\n",
        "eval_model(lr_B, lrParams, 'LRBert')"
      ]
    },
    {
      "attachments": {},
      "cell_type": "markdown",
      "metadata": {
        "id": "rrCiXq2V1os8"
      },
      "source": [
        "### MLP"
      ]
    },
    {
      "cell_type": "code",
      "execution_count": null,
      "metadata": {
        "id": "-JQN3V0S1os8"
      },
      "outputs": [],
      "source": [
        "# Applying the model with the function\n",
        "eval_model(mlp_B, mlpParams, 'MLPBert')"
      ]
    },
    {
      "attachments": {},
      "cell_type": "markdown",
      "metadata": {
        "id": "P1I5Dzzu1os8"
      },
      "source": [
        "### Naive Bayes"
      ]
    },
    {
      "cell_type": "code",
      "execution_count": null,
      "metadata": {
        "id": "BkB_Aa9M1os8"
      },
      "outputs": [],
      "source": [
        "# Applying the model with the function\n",
        "eval_model(NB_B, NBParams, 'NBBert')"
      ]
    },
    {
      "attachments": {},
      "cell_type": "markdown",
      "metadata": {
        "id": "MzgPWy_Q1os9"
      },
      "source": [
        "### Random Forest"
      ]
    },
    {
      "cell_type": "code",
      "execution_count": null,
      "metadata": {
        "id": "5Amz4RNE1os9"
      },
      "outputs": [],
      "source": [
        "# Applying the model with the function\n",
        "eval_model(rfc_B, rfcParams, 'rfcBert')"
      ]
    },
    {
      "attachments": {},
      "cell_type": "markdown",
      "metadata": {
        "id": "4jkOIj_V1os9"
      },
      "source": [
        "## Summarizing"
      ]
    },
    {
      "cell_type": "code",
      "execution_count": null,
      "metadata": {
        "id": "_8ThkIfV1os9",
        "outputId": "082ef0b4-64c7-467a-adf1-75babccb551a"
      },
      "outputs": [
        {
          "data": {
            "image/png": "[encoded data removed]",
            "text/plain": [
              "<Figure size 640x480 with 1 Axes>"
            ]
          },
          "metadata": {},
          "output_type": "display_data"
        }
      ],
      "source": [
        "# Plotting the different accuracies and comparing them. https://www.tutorialspoint.com/matplotlib/matplotlib_bar_plot.htm\n",
        "accuracies = [searchRF.score(X_train, y_train), \n",
        "              searchNB.score(X_train, y_train), \n",
        "              searchLR.score(X_train, y_train),\n",
        "              0.7, # searchMLP.best_score_\n",
        "              0.7 # searchBert.best_score_\n",
        "              ]\n",
        "\n",
        "# model names in the same order as accuracies\n",
        "model_names = [\"RF\", \"NB\", \"LR\", \"MLP\", \"BERT\"]\n",
        "\n",
        "# plot horizontal bar chart\n",
        "plt.bar(model_names, accuracies)\n",
        "\n",
        "# add axis labels and title\n",
        "plt.xlabel(\"Accuracy\")\n",
        "plt.title(\"Accuracy of ML models on training set\")\n",
        "\n",
        "# show plot\n",
        "plt.show()"
      ]
    },
    {
      "cell_type": "code",
      "execution_count": null,
      "metadata": {
        "id": "9AlG2vN01os9",
        "outputId": "2ae78cc1-47cc-489e-9558-e2d290a40930"
      },
      "outputs": [
        {
          "data": {
            "image/png": "[encoded data removed]",
            "text/plain": [
              "<Figure size 640x480 with 1 Axes>"
            ]
          },
          "metadata": {},
          "output_type": "display_data"
        }
      ],
      "source": [
        "# Plotting the different accuracies on the test set and comparing them \n",
        "accuracies = [searchRF.score(X_test, y_test), \n",
        "              searchNB.score(X_test, y_test), \n",
        "              searchLR.score(X_test, y_test),\n",
        "              0.7, # searchMLP.score(X_test, y_test)\n",
        "              0.7 # searchBert.score(X_test, y_test)\n",
        "              ]\n",
        "\n",
        "# model names in the same order as accuracies\n",
        "model_names = [\"RF\", \"NB\", \"LR\", \"MLP\", \"BERT\"]\n",
        "\n",
        "# plot horizontal bar chart\n",
        "plt.bar(model_names, accuracies)\n",
        "\n",
        "# add axis labels and title\n",
        "plt.xlabel(\"Accuracy\")\n",
        "plt.title(\"Accuracy of ML models on test set\")\n",
        "\n",
        "# show plot\n",
        "plt.show()"
      ]
    },
    {
      "attachments": {},
      "cell_type": "markdown",
      "metadata": {
        "id": "IWGlXOQZ1os9"
      },
      "source": [
        "# Experiment"
      ]
    },
    {
      "cell_type": "code",
      "execution_count": null,
      "metadata": {
        "id": "xcVwHaOj1os-",
        "outputId": "6ec80d3a-56d2-40b3-831d-fc63350edef0"
      },
      "outputs": [
        {
          "ename": "SyntaxError",
          "evalue": "invalid syntax (2699255659.py, line 14)",
          "output_type": "error",
          "traceback": [
            "\u001b[1;36m  Cell \u001b[1;32mIn[41], line 14\u001b[1;36m\u001b[0m\n\u001b[1;33m    }\u001b[0m\n\u001b[1;37m    ^\u001b[0m\n\u001b[1;31mSyntaxError\u001b[0m\u001b[1;31m:\u001b[0m invalid syntax\n"
          ]
        }
      ],
      "source": [
        "# Making a function for pipelines with gridsearch.\n",
        "def fullPipeGrid(name, model, params):\n",
        "    pipe = Pipeline(steps=[\n",
        "        'vect',CountVectorizer(),\n",
        "        'trans',TfidfTransformer(),\n",
        "        'Model', model()\n",
        "    ])\n",
        "\n",
        "    # Parameters for countvectorizer and tfid transformer are fixed. We test for uni-, bi- and trigrams.\n",
        "    paramsVect = {\n",
        "        'CountVectorizer__ngram_range':[(1,1),(1,2),(1,3)],\n",
        "        'TfidfTransformer__use_idf':[True,False],\n",
        "    }\n",
        "\n",
        "    paramsModel ={\n",
        "        'model'\n",
        "    }\n",
        "\n",
        "    # Making the GridSearch\n",
        "    grid = GridSearchCV(\n",
        "        pipe,\n",
        "        param_grid=params,\n",
        "        cv = 2 # CV on 2, while building the code\n",
        "    )\n",
        "    grid.fit(X_train, y_train)\n",
        "    print(name)\n",
        "    print(\"Accuracy on training set: {:.3f}\".format(grid.score(X_train, y_train)))\n",
        "    print(\"Accuracy on test set: {:.3f}\".format(grid.score(X_test, y_test)))\n",
        "    print(\"Best params: \", grid.best_params_) # Printing the best params\n",
        "    print(\" \")\n"
      ]
    },
    {
      "cell_type": "code",
      "execution_count": null,
      "metadata": {
        "id": "Ah87YCaM1os-"
      },
      "outputs": [],
      "source": [
        "# Creating the preprocessing steps to be used in all pipelines. https://towardsdatascience.com/a-basic-introduction-to-pipelines-in-scikit-learn-bd4cee34ad95\n",
        "preProcess_Steps = [\n",
        "    ('CountVectorizer',CountVectorizer()),\n",
        "    ('TfidfTransformer',TfidfTransformer()),\n",
        "]\n",
        "\n",
        "preProcess_Pipe = Pipeline(preProcess_Steps)\n",
        "\n",
        "# If more steps to the preprocessing is necessary\n",
        "#one_pipe = ColumnTransformer(transformers=[\n",
        "#          ('preprocess', preProcess_Pipe),\n",
        "#          ('anotherStep', insertVariable)\n",
        "#          ] )"
      ]
    },
    {
      "cell_type": "code",
      "execution_count": null,
      "metadata": {
        "id": "fPgg4Vsf1os-"
      },
      "outputs": [],
      "source": [
        "# Making a Pipeline with Logistic Regression. Using CountVectorizer and TfidTransformer. \n",
        "pipeLR = Pipeline(steps=[\n",
        "    ('preprocess', preProcess_Pipe),\n",
        "    ('Model', LogisticRegression())\n",
        "])\n",
        "\n",
        "# Fitting the pipeline with data\n",
        "pipeLR.fit(X_train, y_train)"
      ]
    }
  ],
  "metadata": {
    "accelerator": "GPU",
    "colab": {
      "gpuType": "T4",
      "provenance": []
    },
    "gpuClass": "standard",
    "kernelspec": {
      "display_name": "Python 3",
      "language": "python",
      "name": "python3"
    },
    "language_info": {
      "codemirror_mode": {
        "name": "ipython",
        "version": 3
      },
      "file_extension": ".py",
      "mimetype": "text/x-python",
      "name": "python",
      "nbconvert_exporter": "python",
      "pygments_lexer": "ipython3",
      "version": "3.9.16"
    },
    "orig_nbformat": 4
  },
  "nbformat": 4,
  "nbformat_minor": 0
}

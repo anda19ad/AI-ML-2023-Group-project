{
  "cells": [
    {
      "cell_type": "markdown",
      "metadata": {
        "id": "kH1rEE2X1oss"
      },
      "source": [
        "# Importings"
      ]
    },
    {
      "cell_type": "code",
      "execution_count": 1,
      "metadata": {
        "colab": {
          "base_uri": "https://localhost:8080/"
        },
        "id": "triH6x771qPD",
        "outputId": "d2b0f766-5ef1-437e-e48a-b05b58e7715f"
      },
      "outputs": [
        {
          "output_type": "stream",
          "name": "stdout",
          "text": [
            "Looking in indexes: https://pypi.org/simple, https://us-python.pkg.dev/colab-wheels/public/simple/\n",
            "Collecting transformers\n",
            "  Downloading transformers-4.29.2-py3-none-any.whl (7.1 MB)\n",
            "\u001b[2K     \u001b[90m━━━━━━━━━━━━━━━━━━━━━━━━━━━━━━━━━━━━━━━━\u001b[0m \u001b[32m7.1/7.1 MB\u001b[0m \u001b[31m40.7 MB/s\u001b[0m eta \u001b[36m0:00:00\u001b[0m\n",
            "\u001b[?25hRequirement already satisfied: filelock in /usr/local/lib/python3.10/dist-packages (from transformers) (3.12.0)\n",
            "Collecting huggingface-hub<1.0,>=0.14.1 (from transformers)\n",
            "  Downloading huggingface_hub-0.14.1-py3-none-any.whl (224 kB)\n",
            "\u001b[2K     \u001b[90m━━━━━━━━━━━━━━━━━━━━━━━━━━━━━━━━━━━━━━\u001b[0m \u001b[32m224.5/224.5 kB\u001b[0m \u001b[31m14.4 MB/s\u001b[0m eta \u001b[36m0:00:00\u001b[0m\n",
            "\u001b[?25hRequirement already satisfied: numpy>=1.17 in /usr/local/lib/python3.10/dist-packages (from transformers) (1.22.4)\n",
            "Requirement already satisfied: packaging>=20.0 in /usr/local/lib/python3.10/dist-packages (from transformers) (23.1)\n",
            "Requirement already satisfied: pyyaml>=5.1 in /usr/local/lib/python3.10/dist-packages (from transformers) (6.0)\n",
            "Requirement already satisfied: regex!=2019.12.17 in /usr/local/lib/python3.10/dist-packages (from transformers) (2022.10.31)\n",
            "Requirement already satisfied: requests in /usr/local/lib/python3.10/dist-packages (from transformers) (2.27.1)\n",
            "Collecting tokenizers!=0.11.3,<0.14,>=0.11.1 (from transformers)\n",
            "  Downloading tokenizers-0.13.3-cp310-cp310-manylinux_2_17_x86_64.manylinux2014_x86_64.whl (7.8 MB)\n",
            "\u001b[2K     \u001b[90m━━━━━━━━━━━━━━━━━━━━━━━━━━━━━━━━━━━━━━━━\u001b[0m \u001b[32m7.8/7.8 MB\u001b[0m \u001b[31m72.7 MB/s\u001b[0m eta \u001b[36m0:00:00\u001b[0m\n",
            "\u001b[?25hRequirement already satisfied: tqdm>=4.27 in /usr/local/lib/python3.10/dist-packages (from transformers) (4.65.0)\n",
            "Requirement already satisfied: fsspec in /usr/local/lib/python3.10/dist-packages (from huggingface-hub<1.0,>=0.14.1->transformers) (2023.4.0)\n",
            "Requirement already satisfied: typing-extensions>=3.7.4.3 in /usr/local/lib/python3.10/dist-packages (from huggingface-hub<1.0,>=0.14.1->transformers) (4.5.0)\n",
            "Requirement already satisfied: urllib3<1.27,>=1.21.1 in /usr/local/lib/python3.10/dist-packages (from requests->transformers) (1.26.15)\n",
            "Requirement already satisfied: certifi>=2017.4.17 in /usr/local/lib/python3.10/dist-packages (from requests->transformers) (2022.12.7)\n",
            "Requirement already satisfied: charset-normalizer~=2.0.0 in /usr/local/lib/python3.10/dist-packages (from requests->transformers) (2.0.12)\n",
            "Requirement already satisfied: idna<4,>=2.5 in /usr/local/lib/python3.10/dist-packages (from requests->transformers) (3.4)\n",
            "Installing collected packages: tokenizers, huggingface-hub, transformers\n",
            "Successfully installed huggingface-hub-0.14.1 tokenizers-0.13.3 transformers-4.29.2\n"
          ]
        }
      ],
      "source": [
        "# When running in Google Colab this line is needed\n",
        "!pip install transformers"
      ]
    },
    {
      "cell_type": "code",
      "execution_count": 2,
      "metadata": {
        "id": "edDAIZhy1ost"
      },
      "outputs": [],
      "source": [
        "# Importing basic stuff\n",
        "import numpy as np\n",
        "import matplotlib.pyplot as plt\n",
        "import pandas as pd\n",
        "\n",
        "# Train test split\n",
        "from sklearn.model_selection import train_test_split\n",
        "\n",
        "# LDA\n",
        "from sklearn.decomposition import LatentDirichletAllocation\n",
        "\n",
        "# Preprocessing\n",
        "from sklearn.feature_extraction.text import CountVectorizer, TfidfTransformer, TfidfVectorizer\n",
        "\n",
        "# Models\n",
        "from sklearn.linear_model import LogisticRegression\n",
        "from sklearn.neural_network import MLPClassifier\n",
        "from sklearn.ensemble import RandomForestClassifier\n",
        "from sklearn.naive_bayes import MultinomialNB\n",
        "\n",
        "# evaluation\n",
        "from sklearn.metrics import classification_report, confusion_matrix, ConfusionMatrixDisplay, roc_auc_score\n",
        "\n",
        "# Gridsearch\n",
        "from sklearn.model_selection import GridSearchCV\n",
        "\n",
        "# pipeline\n",
        "from sklearn.pipeline import Pipeline\n",
        "from sklearn.compose import ColumnTransformer\n",
        "\n",
        "# For Bert\n",
        "from transformers import AutoTokenizer, AutoModel\n",
        "# from google.colab import files\n",
        "\n",
        "# For GPU support\n",
        "import torch\n",
        "\n",
        "# For storing models\n",
        "from joblib import dump\n",
        "from joblib import load\n"
      ]
    },
    {
      "cell_type": "code",
      "execution_count": 3,
      "metadata": {
        "colab": {
          "base_uri": "https://localhost:8080/"
        },
        "id": "sLZRkkW41osv",
        "outputId": "fbd93429-8c1b-4d34-f6da-ae406797d751"
      },
      "outputs": [
        {
          "output_type": "stream",
          "name": "stdout",
          "text": [
            "CUDA available:  True\n",
            "Num GPUs Available:  1\n"
          ]
        }
      ],
      "source": [
        "# For running the code with GPU, open anaconda prompt, navigate to the project folder, and type: pip install torch torchvision torchaudio -f https://download.pytorch.org/whl/cu111/torch_stable.html\n",
        "print(\"CUDA available: \", torch.cuda.is_available())\n",
        "print(\"Num GPUs Available: \", torch.cuda.device_count())"
      ]
    },
    {
      "cell_type": "markdown",
      "metadata": {
        "id": "o205ztzP1osv"
      },
      "source": [
        "# Reading data and making it available for analysis"
      ]
    },
    {
      "cell_type": "code",
      "execution_count": null,
      "metadata": {
        "id": "zQTckOiIf79C"
      },
      "outputs": [],
      "source": [
        "# For creating a csv file small enough for Github\n",
        "#df = pd.read_csv(\"./data/test.csv\")\n",
        "#df = df.sample(frac=0.1) # Get 10% of the data\n",
        "#df.to_csv('./data/reducedDataset.csv')"
      ]
    },
    {
      "cell_type": "code",
      "execution_count": 4,
      "metadata": {
        "id": "RaN5L9rY1osw"
      },
      "outputs": [],
      "source": [
        "# Naming the columns of the dataset. https://stackoverflow.com/questions/31645466/give-column-name-when-read-csv-file-pandas\n",
        "colNames = ['polarity', 'title', 'text']\n",
        "\n",
        "# Loading Dataset and assigning column names\n",
        "#df = pd.read_csv(\"./data/test.csv\", names=colNames, header=None)\n",
        "\n",
        "# Resizing the dataset, for faster computing time. A random sample from the dataset https://stackoverflow.com/questions/40986230/reduce-dataframe-size-in-pandas\n",
        "#df = df.sample(frac=0.1) # Get 10% of the data\n",
        "\n",
        "# The reduced dataset is saved seperatly\n",
        "#df.to_csv('./data/reducedDataset.csv')\n",
        "\n",
        "# Loading Dataset and assigning column names\n",
        "#df = pd.read_csv(\"./data/reducedDataset.csv\", names=colNames, header=None)\n",
        "\n",
        "# For loading the data from Github, especially relevant when using Google Colab. https://towardsdatascience.com/3-ways-to-load-csv-files-into-colab-7c14fcbdcb92\n",
        "url = 'https://raw.githubusercontent.com/anda19ad/AI-ML-2023-Group-project/main/data/reducedDataset.csv'\n",
        "\n",
        "# If the dataset is already fixed, use only this line\n",
        "df = pd.read_csv(url, names=colNames, header=None, na_values=['missing', 'NA', 'NaN'])\n"
      ]
    },
    {
      "cell_type": "code",
      "execution_count": null,
      "metadata": {
        "colab": {
          "base_uri": "https://localhost:8080/",
          "height": 206
        },
        "id": "PmMpGXFx1osw",
        "outputId": "b95b0bcb-e566-4269-d396-648e62b7aaa9"
      },
      "outputs": [
        {
          "data": {
            "text/html": [
              "<div>\n",
              "<style scoped>\n",
              "    .dataframe tbody tr th:only-of-type {\n",
              "        vertical-align: middle;\n",
              "    }\n",
              "\n",
              "    .dataframe tbody tr th {\n",
              "        vertical-align: top;\n",
              "    }\n",
              "\n",
              "    .dataframe thead th {\n",
              "        text-align: right;\n",
              "    }\n",
              "</style>\n",
              "<table border=\"1\" class=\"dataframe\">\n",
              "  <thead>\n",
              "    <tr style=\"text-align: right;\">\n",
              "      <th></th>\n",
              "      <th>polarity</th>\n",
              "      <th>title</th>\n",
              "      <th>text</th>\n",
              "    </tr>\n",
              "  </thead>\n",
              "  <tbody>\n",
              "    <tr>\n",
              "      <th>255973.0</th>\n",
              "      <td>1</td>\n",
              "      <td>It lasted a whole week!</td>\n",
              "      <td>Unfortunately it doesn't seem to be a real Tim...</td>\n",
              "    </tr>\n",
              "    <tr>\n",
              "      <th>156153.0</th>\n",
              "      <td>1</td>\n",
              "      <td>Short changed on toner</td>\n",
              "      <td>Cartridge was advertised as 4000 page capacity...</td>\n",
              "    </tr>\n",
              "    <tr>\n",
              "      <th>279491.0</th>\n",
              "      <td>1</td>\n",
              "      <td>There are better alternatives</td>\n",
              "      <td>The double X in this stand and wide legs make ...</td>\n",
              "    </tr>\n",
              "    <tr>\n",
              "      <th>371258.0</th>\n",
              "      <td>2</td>\n",
              "      <td>A Wonderful Book!!</td>\n",
              "      <td>Antonia Fraser is one of my favorite authors a...</td>\n",
              "    </tr>\n",
              "    <tr>\n",
              "      <th>361135.0</th>\n",
              "      <td>1</td>\n",
              "      <td>Not what I expected</td>\n",
              "      <td>Many years ago when my children were small I h...</td>\n",
              "    </tr>\n",
              "  </tbody>\n",
              "</table>\n",
              "</div>"
            ],
            "text/plain": [
              "          polarity                          title  \\\n",
              "255973.0         1        It lasted a whole week!   \n",
              "156153.0         1         Short changed on toner   \n",
              "279491.0         1  There are better alternatives   \n",
              "371258.0         2             A Wonderful Book!!   \n",
              "361135.0         1            Not what I expected   \n",
              "\n",
              "                                                       text  \n",
              "255973.0  Unfortunately it doesn't seem to be a real Tim...  \n",
              "156153.0  Cartridge was advertised as 4000 page capacity...  \n",
              "279491.0  The double X in this stand and wide legs make ...  \n",
              "371258.0  Antonia Fraser is one of my favorite authors a...  \n",
              "361135.0  Many years ago when my children were small I h...  "
            ]
          },
          "execution_count": 4,
          "metadata": {},
          "output_type": "execute_result"
        }
      ],
      "source": [
        "# Looking on the data\n",
        "(\n",
        "    df\n",
        "    .sample(5)\n",
        "    #.dtypes\n",
        "    #.info()\n",
        "    #.loc[:,[\"polarity\"]]\n",
        "    #.loc[:,[\"title\"]]\n",
        "    #.loc[:,[\"text\"]]\n",
        "    #.value_counts()\n",
        "    #.value_counts(normalize=True) # For seeing the count in %\n",
        "    #.describe()\n",
        ")"
      ]
    },
    {
      "cell_type": "code",
      "execution_count": 5,
      "metadata": {
        "colab": {
          "base_uri": "https://localhost:8080/"
        },
        "id": "0VIuM8kA1osw",
        "outputId": "e27913d8-9a7b-491e-d75d-9c741024af2d"
      },
      "outputs": [
        {
          "output_type": "stream",
          "name": "stdout",
          "text": [
            "<class 'pandas.core.frame.DataFrame'>\n",
            "Float64Index: 40000 entries, nan to 100360.0\n",
            "Data columns (total 3 columns):\n",
            " #   Column    Non-Null Count  Dtype \n",
            "---  ------    --------------  ----- \n",
            " 0   polarity  40000 non-null  int64 \n",
            " 1   title     40000 non-null  object\n",
            " 2   text      40000 non-null  object\n",
            "dtypes: int64(1), object(2)\n",
            "memory usage: 1.2+ MB\n"
          ]
        }
      ],
      "source": [
        "# Cleaning the data. Removing null values and only take the values that contain info.\n",
        "# https://stackoverflow.com/questions/13413590/how-to-drop-rows-of-pandas-dataframe-whose-value-in-a-certain-column-is-nan\n",
        "df.dropna(how='any')\n",
        "df = df[df['title'].notna()]\n",
        "df = df[df['text'].notna()]\n",
        "df.info()"
      ]
    },
    {
      "cell_type": "code",
      "execution_count": 6,
      "metadata": {
        "colab": {
          "base_uri": "https://localhost:8080/"
        },
        "id": "MnjyIFfX1osw",
        "outputId": "a5a6e49d-5a32-44d3-bcb1-99a47489fa69"
      },
      "outputs": [
        {
          "output_type": "execute_result",
          "data": {
            "text/plain": [
              "NaN    My lovely Pat has one of the GREAT voices of h...\n",
              "Name: text, dtype: object"
            ]
          },
          "metadata": {},
          "execution_count": 6
        }
      ],
      "source": [
        "# Assigning values to X and Y\n",
        "xText = df.text\n",
        "xTitle = df.title\n",
        "y = df.polarity\n",
        "\n",
        "xText.head(1)"
      ]
    },
    {
      "cell_type": "code",
      "execution_count": null,
      "metadata": {
        "id": "SQSZzmBojBXC",
        "outputId": "5db05d41-2b9d-48b6-f44f-bd0dde03c707"
      },
      "outputs": [
        {
          "data": {
            "text/html": [
              "<div>\n",
              "<style scoped>\n",
              "    .dataframe tbody tr th:only-of-type {\n",
              "        vertical-align: middle;\n",
              "    }\n",
              "\n",
              "    .dataframe tbody tr th {\n",
              "        vertical-align: top;\n",
              "    }\n",
              "\n",
              "    .dataframe thead th {\n",
              "        text-align: right;\n",
              "    }\n",
              "</style>\n",
              "<table border=\"1\" class=\"dataframe\">\n",
              "  <thead>\n",
              "    <tr style=\"text-align: right;\">\n",
              "      <th></th>\n",
              "      <th>polarity</th>\n",
              "    </tr>\n",
              "  </thead>\n",
              "  <tbody>\n",
              "    <tr>\n",
              "      <th>count</th>\n",
              "      <td>4000.00000</td>\n",
              "    </tr>\n",
              "    <tr>\n",
              "      <th>mean</th>\n",
              "      <td>1.49850</td>\n",
              "    </tr>\n",
              "    <tr>\n",
              "      <th>std</th>\n",
              "      <td>0.50006</td>\n",
              "    </tr>\n",
              "    <tr>\n",
              "      <th>min</th>\n",
              "      <td>1.00000</td>\n",
              "    </tr>\n",
              "    <tr>\n",
              "      <th>25%</th>\n",
              "      <td>1.00000</td>\n",
              "    </tr>\n",
              "    <tr>\n",
              "      <th>50%</th>\n",
              "      <td>1.00000</td>\n",
              "    </tr>\n",
              "    <tr>\n",
              "      <th>75%</th>\n",
              "      <td>2.00000</td>\n",
              "    </tr>\n",
              "    <tr>\n",
              "      <th>max</th>\n",
              "      <td>2.00000</td>\n",
              "    </tr>\n",
              "  </tbody>\n",
              "</table>\n",
              "</div>"
            ],
            "text/plain": [
              "         polarity\n",
              "count  4000.00000\n",
              "mean      1.49850\n",
              "std       0.50006\n",
              "min       1.00000\n",
              "25%       1.00000\n",
              "50%       1.00000\n",
              "75%       2.00000\n",
              "max       2.00000"
            ]
          },
          "execution_count": 98,
          "metadata": {},
          "output_type": "execute_result"
        }
      ],
      "source": [
        "# For an experiment the df is reduced to 4000 instances. Aligned with the \"Bert\" models\n",
        "dfEX = df.sample(frac=0.1)\n",
        "dfEX.describe()"
      ]
    },
    {
      "cell_type": "code",
      "execution_count": null,
      "metadata": {
        "id": "DWI-h8iT1osx"
      },
      "outputs": [],
      "source": [
        "# Train test split of data. Putting O at the end of the X variables for \"original\"\n",
        "X_train, X_test, y_train, y_test = train_test_split(xTitle, y, test_size=0.33, random_state=42)"
      ]
    },
    {
      "cell_type": "code",
      "execution_count": null,
      "metadata": {
        "colab": {
          "base_uri": "https://localhost:8080/"
        },
        "id": "hLun8rrt1osx",
        "outputId": "9d43a419-ff2b-4131-a371-abb7d9fd7e5e"
      },
      "outputs": [
        {
          "name": "stdout",
          "output_type": "stream",
          "text": [
            "type of X_train: <class 'pandas.core.series.Series'>\n",
            "length of X_train: 26800\n",
            "X_train[1]:\n",
            "The CD is terrific and I have been playing it so often I may be wearing it out. The delivery was very quick, the CD is in PERFECT condition, and I thank you, so very much for offering \"Frontiers\" at such a reasonable price. Thank YOU again, and I look forward to purchase from you in the future.\n"
          ]
        }
      ],
      "source": [
        "# Looking on one example\n",
        "print(\"type of X_train: {}\".format(type(X_train)))\n",
        "print(\"length of X_train: {}\".format(len(X_train)))\n",
        "print(\"X_train[1]:\\n{}\".format(X_train.iloc[1500]))"
      ]
    },
    {
      "cell_type": "markdown",
      "metadata": {
        "id": "wheWykOL1osx"
      },
      "source": [
        "# Topic Categorization"
      ]
    },
    {
      "cell_type": "code",
      "execution_count": null,
      "metadata": {
        "id": "r1_FdTJG1osy"
      },
      "outputs": [],
      "source": [
        "# Configuration\n",
        "# Defining the main variables to easily experiment\n",
        "numberOfTopics = 20\n",
        "numberOfTerms = 10\n",
        "ngram = (1,2) # or (1,1)\n",
        "LDAvectorizer = TfidfVectorizer #or CountVectorizer"
      ]
    },
    {
      "cell_type": "code",
      "execution_count": null,
      "metadata": {
        "id": "8da_14w11osy"
      },
      "outputs": [],
      "source": [
        "# Using CountVectorizer, as in the other models that have been built. See this guide: https://machinelearninggeek.com/latent-dirichlet-allocation-using-scikit-learn/\n",
        "vectLDA = LDAvectorizer(min_df=3,\n",
        "                          ngram_range=ngram,\n",
        "                          max_df=.01\n",
        "                          #max_df=.1\n",
        "                          #max_df=.15\n",
        "                          )\n",
        "X_trainLDA = vectLDA.fit_transform(X_train)"
      ]
    },
    {
      "cell_type": "code",
      "execution_count": null,
      "metadata": {
        "colab": {
          "base_uri": "https://localhost:8080/"
        },
        "id": "HHacaGXu1osy",
        "outputId": "48199cc7-9a3f-406a-b082-e089321e67d7"
      },
      "outputs": [
        {
          "data": {
            "text/plain": [
              "(20, 7866)"
            ]
          },
          "execution_count": 39,
          "metadata": {},
          "output_type": "execute_result"
        }
      ],
      "source": [
        "# See page 349 in the book, and https://scikit-learn.org/stable/modules/generated/sklearn.decomposition.LatentDirichletAllocation.html\n",
        "# Number of topics default is 10 and learning method defualt is \"batch\"\n",
        "lda = LatentDirichletAllocation(n_components=numberOfTopics, learning_method=\"batch\", max_iter=25, random_state=0)\n",
        "\n",
        "# Fitting and transforming in one step\n",
        "topics = lda.fit_transform(X_trainLDA)\n",
        "\n",
        "# Printing the shape\n",
        "lda.components_.shape"
      ]
    },
    {
      "cell_type": "code",
      "execution_count": null,
      "metadata": {
        "colab": {
          "base_uri": "https://localhost:8080/"
        },
        "id": "YtZWZBdo1osy",
        "outputId": "2917e15a-7a36-47a3-ac96-a19d7e243acb"
      },
      "outputs": [
        {
          "name": "stdout",
          "output_type": "stream",
          "text": [
            "Topic 0:  ['great product', 'worth the', 'really', 'not worth', 'the money', 'great movie', 'made', 'something', 'poorly', 'flimsy']\n",
            "Topic 1:  ['disappointed', 'fantastic', 'expected', 'not what', 'hard', 'good product', 'what expected', 'very disappointed', 'avoid', 'hard to']\n",
            "Topic 2:  ['boring', 'pretty', 'beautiful', 'outstanding', 'pretty good', 'rocks', 'same', 'good read', 'battery', 'looking']\n",
            "Topic 3:  ['gift', 'disappointment', 'if', 'most', 'wrong', 'christmas', 'if you', 'right', 're', 'this is']\n",
            "Topic 4:  ['amazing', 'dvd', 'stars', 'story', 'doesn', 'doesn work', 'cd', 'sad', 'complete', 'amazon']\n",
            "Topic 5:  ['price', 'good book', 'the price', 'customer', 'brilliant', 'missing', 'super', 'service', 'fabulous', 'customer service']\n",
            "Topic 6:  ['terrible', 'awful', 'do', 'do not', 'buy this', 'not good', 'don buy', 'not buy', 'worth it', 'fun']\n",
            "Topic 7:  ['horrible', 'waste your', 'much', 'don waste', 'your money', 'nice', 'small', 'far', 'cool', 'voice']\n",
            "Topic 8:  ['disappointing', 'junk', 'excellent book', 'one of', 'purchase', 'enough', 'books', 'baby', 'like it', 'good movie']\n",
            "Topic 9:  ['awesome', 'classic', 'again', 'piece', 'cute', 'not for', 'piece of', 'junk', 'light', 'kids']\n",
            "Topic 10:  ['great book', 'worst', 'poor quality', 'real', 'can', 'the worst', 'not bad', 'first', 'dont', 'great read']\n",
            "Topic 11:  ['cd', 'sucks', 'worthless', 'yet', 'oh', 'buy it', 'fit', 'true', 'black', 'incredible']\n",
            "Topic 12:  ['wow', 'music', 'this book', 'useful', 'big', 'crap', 'garbage', 'book is', 'set', 'rock']\n",
            "Topic 13:  ['love this', 'ok', 'way', 'well', 'off', 'world', 'band', 'man', 'original', 'fan']\n",
            "Topic 14:  ['waste of', 'love it', 'must', 'of money', 'out', 'of time', 'funny', 'save', 'cheap', 'series']\n",
            "Topic 15:  ['game', 'beware', 'loved', 'okay', 'loved it', 'entertaining', 'stuff', 'guide', 'back', 'buyer']\n",
            "Topic 16:  ['me', 'useless', 'favorite', 'does not', 'for me', 'does', 'defective', 'video', 'live', 'by']\n",
            "Topic 17:  ['very good', 'interesting', 'didn', 'film', 'please', 'happy', 'not very', 'information', 'little', 'need']\n",
            "Topic 18:  ['wonderful', 'works', 'review', 'works great', 'could', 'problem', 'where', 'been', 'absolutely', 'it works']\n",
            "Topic 19:  ['perfect', 'than', 'more', 'reading', 'did', 'collection', 'better than', 'bother', 'expected', 'did not']\n"
          ]
        }
      ],
      "source": [
        "# Get Components/topics https://scikit-learn.org/stable/modules/generated/sklearn.decomposition.LatentDirichletAllocation.html \n",
        "lda_components=lda.components_\n",
        "\n",
        "# Printing the topics with their terms\n",
        "terms = vectLDA.get_feature_names_out()\n",
        "\n",
        "# a for loop that takes the most frequent terms in each of the topics and prints it\n",
        "for index, component in enumerate(lda_components):\n",
        "    zipped = zip(terms, component)\n",
        "    top_terms_key=sorted(zipped, key = lambda t: t[1], reverse=True)[:numberOfTerms]\n",
        "    top_terms_list=list(dict(top_terms_key).keys())\n",
        "    print(\"Topic \"+str(index)+\": \",top_terms_list)"
      ]
    },
    {
      "cell_type": "markdown",
      "metadata": {
        "id": "EqoXG7od1osz"
      },
      "source": [
        "# Basics - Tfidvectorizer plus logistic regression"
      ]
    },
    {
      "cell_type": "code",
      "execution_count": null,
      "metadata": {
        "id": "Fcj44MD01osz"
      },
      "outputs": [],
      "source": [
        "# Configuration for the basic model\n",
        "# Lining up some variables to choose from. Including the vectorizer\n",
        "vectorizerForBasic = TfidfVectorizer # or CountVectorizer\n",
        "ngramForBasic = (1,1) # or (1,2). Default is (1,1)\n",
        "max_dfBasic = 0.01"
      ]
    },
    {
      "cell_type": "code",
      "execution_count": null,
      "metadata": {
        "id": "7nGJlCMp1osz"
      },
      "outputs": [],
      "source": [
        "# Applying Count vectorizer. Testing different max_df to get an understanding of the data\n",
        "vect = vectorizerForBasic(min_df=3,\n",
        "                          ngram_range = ngramForBasic,\n",
        "                          max_df=max_dfBasic\n",
        "                       )\n",
        "vect.fit(X_train)\n",
        "X_trainB = vect.transform(X_train)\n",
        "X_testB = vect.transform(X_test)\n"
      ]
    },
    {
      "cell_type": "code",
      "execution_count": null,
      "metadata": {
        "colab": {
          "base_uri": "https://localhost:8080/"
        },
        "id": "NglxJh201osz",
        "outputId": "aec9553d-1612-495f-b4b3-b7bb1c2ee13f"
      },
      "outputs": [
        {
          "name": "stdout",
          "output_type": "stream",
          "text": [
            "Number of features: 577\n",
            "First 20 features:\n",
            "['10' '100' '12' '1st' '2001' 'about' 'absolute' 'absolutely' 'acting'\n",
            " 'after' 'again' 'air' 'album' 'albums' 'almost' 'already' 'also' 'always'\n",
            " 'am' 'amazing']\n",
            "Features 10010 to 10030:\n",
            "[]\n",
            "Every 1000th feature:\n",
            "['10']\n"
          ]
        }
      ],
      "source": [
        "# Looking on the vectorized features. See page 331 for code\n",
        "feature_names = vect.get_feature_names_out() # under methods: https://scikit-learn.org/stable/modules/generated/sklearn.feature_extraction.text.CountVectorizer.html\n",
        "print(\"Number of features: {}\".format(len(feature_names)))\n",
        "print(\"First 20 features:\\n{}\".format(feature_names[:20]))\n",
        "print(\"Features 10010 to 10030:\\n{}\".format(feature_names[10010:10030]))\n",
        "print(\"Every 1000th feature:\\n{}\".format(feature_names[::1000]))"
      ]
    },
    {
      "cell_type": "code",
      "execution_count": null,
      "metadata": {
        "colab": {
          "base_uri": "https://localhost:8080/"
        },
        "id": "ql_jCtU_1osz",
        "outputId": "f27513ab-10a4-4123-eb10-170ce994fd39"
      },
      "outputs": [
        {
          "name": "stdout",
          "output_type": "stream",
          "text": [
            "Accuracy on training set: 0.763\n",
            "Accuracy on test set: 0.670\n"
          ]
        }
      ],
      "source": [
        "# Making a logistic regression model\n",
        "BaseLR = LogisticRegression(max_iter=10000)\n",
        "\n",
        "# Fitting the model\n",
        "BaseLR.fit(X_trainB, y_train)\n",
        "\n",
        "# Printing results\n",
        "print(\"Accuracy on training set: {:.3f}\".format(BaseLR.score(X_trainB, y_train)))\n",
        "print(\"Accuracy on test set: {:.3f}\".format(BaseLR.score(X_testB, y_test)))\n",
        "#print(\"Best params: \", BaseLR.best_params_) # Printing the best params"
      ]
    },
    {
      "cell_type": "code",
      "execution_count": null,
      "metadata": {
        "colab": {
          "base_uri": "https://localhost:8080/"
        },
        "id": "whnQqPMk1os0",
        "outputId": "ff3ea9d9-c789-4c17-fb19-ace1528f6375"
      },
      "outputs": [
        {
          "name": "stdout",
          "output_type": "stream",
          "text": [
            "              precision    recall  f1-score   support\n",
            "\n",
            "           1       0.71      0.53      0.61       636\n",
            "           2       0.65      0.80      0.71       684\n",
            "\n",
            "    accuracy                           0.67      1320\n",
            "   macro avg       0.68      0.66      0.66      1320\n",
            "weighted avg       0.68      0.67      0.66      1320\n",
            "\n"
          ]
        }
      ],
      "source": [
        "# Evaluating results\n",
        "y_pred = BaseLR.predict(X_testB)\n",
        "\n",
        "# Printing classification report\n",
        "print(classification_report(y_test, y_pred))"
      ]
    },
    {
      "cell_type": "code",
      "execution_count": null,
      "metadata": {
        "colab": {
          "base_uri": "https://localhost:8080/"
        },
        "id": "trO2rI3k1os0",
        "outputId": "a5a909de-4b5e-4fb0-d377-4bcd0e6cf582"
      },
      "outputs": [
        {
          "name": "stdout",
          "output_type": "stream",
          "text": [
            "[[339 297]\n",
            " [139 545]]\n"
          ]
        }
      ],
      "source": [
        "# Confusion matrix\n",
        "# Making a confusion matrix\n",
        "cm = confusion_matrix(y_test, y_pred)\n",
        "print(cm)"
      ]
    },
    {
      "cell_type": "code",
      "execution_count": null,
      "metadata": {
        "colab": {
          "base_uri": "https://localhost:8080/",
          "height": 449
        },
        "id": "9r4RnHHC1os0",
        "outputId": "af1e2792-c4d2-47cf-bb37-5a224ba3f746"
      },
      "outputs": [
        {
          "data": {
            "image/png": "[encoded data removed]",
            "text/plain": [
              "<Figure size 640x480 with 2 Axes>"
            ]
          },
          "metadata": {},
          "output_type": "display_data"
        }
      ],
      "source": [
        "# Displaying confusion matrix\n",
        "disp = ConfusionMatrixDisplay(confusion_matrix=cm,\n",
        "                               display_labels=BaseLR.classes_)\n",
        "disp.plot()\n",
        "plt.show()"
      ]
    },
    {
      "cell_type": "code",
      "execution_count": null,
      "metadata": {
        "colab": {
          "base_uri": "https://localhost:8080/"
        },
        "id": "j-Oy-mOY1os0",
        "outputId": "8204b05b-eb8b-422b-de67-4f9fdca7d89a"
      },
      "outputs": [
        {
          "data": {
            "text/plain": [
              "[('disappointing', 23.456981280368545),\n",
              " ('so', 18.462102018743803),\n",
              " ('price', 18.448796801583814),\n",
              " ('works', 17.031097048822623),\n",
              " ('little', 16.684675959770217),\n",
              " ('worst', 16.680464904690684),\n",
              " ('wonderful', 16.07231251598828),\n",
              " ('by', 15.884921100716706),\n",
              " ('too', 15.633004900072953),\n",
              " ('awesome', 15.52549119525421)]"
            ]
          },
          "execution_count": 96,
          "metadata": {},
          "output_type": "execute_result"
        }
      ],
      "source": [
        "# Printing the features, starting with the most common. https://medium.com/@cristhianboujon/how-to-list-the-most-common-words-from-text-corpus-using-scikit-learn-dad4d0cab41d\n",
        "n = 10 # or None to print all\n",
        "\n",
        "sum_words = X_trainB.sum(axis=0) \n",
        "words_freq = [(word, sum_words[0, idx]) for word, idx in vect.vocabulary_.items()]\n",
        "words_freq =sorted(words_freq, key = lambda x: x[1], reverse=True)\n",
        "words_freq[:n]\n",
        "#print(\"First 20 features:\\n{}\".format(words_freq[:20]))"
      ]
    },
    {
      "cell_type": "markdown",
      "metadata": {
        "id": "ubmj_UMI1os1"
      },
      "source": [
        "# Sentiment analysis"
      ]
    },
    {
      "cell_type": "code",
      "execution_count": null,
      "metadata": {
        "id": "28I1JIWijBXH"
      },
      "outputs": [],
      "source": [
        "# Printing function to be used at the end of each run through of a model. Name is a string, and should refer to the model. Search refers to the Gridsearch model.\n",
        "def printScoreParams(name, search):\n",
        "    y_pred = search.predict(X_test)\n",
        "    print(\"The results from: \" + name)\n",
        "    print(\"Accuracy on training set: {:.3f}\".format(search.score(X_train, y_train)))\n",
        "    print(\"Accuracy on test set: {:.3f}\".format(search.score(X_test, y_test)))\n",
        "    print(\"Classification Report: \\n\", classification_report(y_test, y_pred))\n",
        "    print(\"Confusion Matrix: \\n\", confusion_matrix(y_test, y_pred))\n",
        "    print(\"\\n AUC-ROC: \", roc_auc_score(y_test, y_pred))\n",
        "    print(\"Best params: \", search.best_params_) # Printing the best params"
      ]
    },
    {
      "cell_type": "markdown",
      "metadata": {
        "id": "EQCx2Dnd1os1"
      },
      "source": [
        "## TfidVectorizer"
      ]
    },
    {
      "cell_type": "markdown",
      "metadata": {
        "id": "zGJB6IQT1os1"
      },
      "source": [
        "Starting with making models using TfidVectorizer"
      ]
    },
    {
      "cell_type": "markdown",
      "metadata": {
        "id": "d-xlWpYM1os1"
      },
      "source": [
        "### Configuration"
      ]
    },
    {
      "cell_type": "code",
      "execution_count": null,
      "metadata": {
        "id": "RC2MnKgd1os1"
      },
      "outputs": [],
      "source": [
        "# Predefined Standard variables for the pipeline and Gridsearch. To make the preprocessing with the vectorizer standard on all models. \n",
        "# https://scikit-learn.org/stable/modules/generated/sklearn.feature_extraction.text.TfidfVectorizer.html\n",
        "vectorizer = TfidfVectorizer() # Alternatively one could apply Countvectorizer and then TfidTransformer afterwards\n",
        "ngram_range = [(1,1),(1,2)]\n",
        "use_idf = [True,False]\n",
        "min_df = [3]\n",
        "max_df = [.01, .1, .2] # 1%, 10% or 20%"
      ]
    },
    {
      "cell_type": "markdown",
      "metadata": {
        "id": "5VB9ulQV1os2"
      },
      "source": [
        "### Logistic Regression"
      ]
    },
    {
      "cell_type": "code",
      "execution_count": null,
      "metadata": {
        "colab": {
          "base_uri": "https://localhost:8080/",
          "height": 126
        },
        "id": "Zbr24w141os2",
        "outputId": "2ed968a8-c433-43ae-dcff-e024e39a1e89"
      },
      "outputs": [
        {
          "data": {
            "text/html": [
              "<style>#sk-container-id-1 {color: black;background-color: white;}#sk-container-id-1 pre{padding: 0;}#sk-container-id-1 div.sk-toggleable {background-color: white;}#sk-container-id-1 label.sk-toggleable__label {cursor: pointer;display: block;width: 100%;margin-bottom: 0;padding: 0.3em;box-sizing: border-box;text-align: center;}#sk-container-id-1 label.sk-toggleable__label-arrow:before {content: \"▸\";float: left;margin-right: 0.25em;color: #696969;}#sk-container-id-1 label.sk-toggleable__label-arrow:hover:before {color: black;}#sk-container-id-1 div.sk-estimator:hover label.sk-toggleable__label-arrow:before {color: black;}#sk-container-id-1 div.sk-toggleable__content {max-height: 0;max-width: 0;overflow: hidden;text-align: left;background-color: #f0f8ff;}#sk-container-id-1 div.sk-toggleable__content pre {margin: 0.2em;color: black;border-radius: 0.25em;background-color: #f0f8ff;}#sk-container-id-1 input.sk-toggleable__control:checked~div.sk-toggleable__content {max-height: 200px;max-width: 100%;overflow: auto;}#sk-container-id-1 input.sk-toggleable__control:checked~label.sk-toggleable__label-arrow:before {content: \"▾\";}#sk-container-id-1 div.sk-estimator input.sk-toggleable__control:checked~label.sk-toggleable__label {background-color: #d4ebff;}#sk-container-id-1 div.sk-label input.sk-toggleable__control:checked~label.sk-toggleable__label {background-color: #d4ebff;}#sk-container-id-1 input.sk-hidden--visually {border: 0;clip: rect(1px 1px 1px 1px);clip: rect(1px, 1px, 1px, 1px);height: 1px;margin: -1px;overflow: hidden;padding: 0;position: absolute;width: 1px;}#sk-container-id-1 div.sk-estimator {font-family: monospace;background-color: #f0f8ff;border: 1px dotted black;border-radius: 0.25em;box-sizing: border-box;margin-bottom: 0.5em;}#sk-container-id-1 div.sk-estimator:hover {background-color: #d4ebff;}#sk-container-id-1 div.sk-parallel-item::after {content: \"\";width: 100%;border-bottom: 1px solid gray;flex-grow: 1;}#sk-container-id-1 div.sk-label:hover label.sk-toggleable__label {background-color: #d4ebff;}#sk-container-id-1 div.sk-serial::before {content: \"\";position: absolute;border-left: 1px solid gray;box-sizing: border-box;top: 0;bottom: 0;left: 50%;z-index: 0;}#sk-container-id-1 div.sk-serial {display: flex;flex-direction: column;align-items: center;background-color: white;padding-right: 0.2em;padding-left: 0.2em;position: relative;}#sk-container-id-1 div.sk-item {position: relative;z-index: 1;}#sk-container-id-1 div.sk-parallel {display: flex;align-items: stretch;justify-content: center;background-color: white;position: relative;}#sk-container-id-1 div.sk-item::before, #sk-container-id-1 div.sk-parallel-item::before {content: \"\";position: absolute;border-left: 1px solid gray;box-sizing: border-box;top: 0;bottom: 0;left: 50%;z-index: -1;}#sk-container-id-1 div.sk-parallel-item {display: flex;flex-direction: column;z-index: 1;position: relative;background-color: white;}#sk-container-id-1 div.sk-parallel-item:first-child::after {align-self: flex-end;width: 50%;}#sk-container-id-1 div.sk-parallel-item:last-child::after {align-self: flex-start;width: 50%;}#sk-container-id-1 div.sk-parallel-item:only-child::after {width: 0;}#sk-container-id-1 div.sk-dashed-wrapped {border: 1px dashed gray;margin: 0 0.4em 0.5em 0.4em;box-sizing: border-box;padding-bottom: 0.4em;background-color: white;}#sk-container-id-1 div.sk-label label {font-family: monospace;font-weight: bold;display: inline-block;line-height: 1.2em;}#sk-container-id-1 div.sk-label-container {text-align: center;}#sk-container-id-1 div.sk-container {/* jupyter's `normalize.less` sets `[hidden] { display: none; }` but bootstrap.min.css set `[hidden] { display: none !important; }` so we also need the `!important` here to be able to override the default hidden behavior on the sphinx rendered scikit-learn.org. See: https://github.com/scikit-learn/scikit-learn/issues/21755 */display: inline-block !important;position: relative;}#sk-container-id-1 div.sk-text-repr-fallback {display: none;}</style><div id=\"sk-container-id-1\" class=\"sk-top-container\"><div class=\"sk-text-repr-fallback\"><pre>Pipeline(steps=[(&#x27;Vectorizer&#x27;, TfidfVectorizer()),\n",
              "                (&#x27;Model&#x27;, LogisticRegression(max_iter=10000))])</pre><b>In a Jupyter environment, please rerun this cell to show the HTML representation or trust the notebook. <br />On GitHub, the HTML representation is unable to render, please try loading this page with nbviewer.org.</b></div><div class=\"sk-container\" hidden><div class=\"sk-item sk-dashed-wrapped\"><div class=\"sk-label-container\"><div class=\"sk-label sk-toggleable\"><input class=\"sk-toggleable__control sk-hidden--visually\" id=\"sk-estimator-id-1\" type=\"checkbox\" ><label for=\"sk-estimator-id-1\" class=\"sk-toggleable__label sk-toggleable__label-arrow\">Pipeline</label><div class=\"sk-toggleable__content\"><pre>Pipeline(steps=[(&#x27;Vectorizer&#x27;, TfidfVectorizer()),\n",
              "                (&#x27;Model&#x27;, LogisticRegression(max_iter=10000))])</pre></div></div></div><div class=\"sk-serial\"><div class=\"sk-item\"><div class=\"sk-estimator sk-toggleable\"><input class=\"sk-toggleable__control sk-hidden--visually\" id=\"sk-estimator-id-2\" type=\"checkbox\" ><label for=\"sk-estimator-id-2\" class=\"sk-toggleable__label sk-toggleable__label-arrow\">TfidfVectorizer</label><div class=\"sk-toggleable__content\"><pre>TfidfVectorizer()</pre></div></div></div><div class=\"sk-item\"><div class=\"sk-estimator sk-toggleable\"><input class=\"sk-toggleable__control sk-hidden--visually\" id=\"sk-estimator-id-3\" type=\"checkbox\" ><label for=\"sk-estimator-id-3\" class=\"sk-toggleable__label sk-toggleable__label-arrow\">LogisticRegression</label><div class=\"sk-toggleable__content\"><pre>LogisticRegression(max_iter=10000)</pre></div></div></div></div></div></div></div>"
            ],
            "text/plain": [
              "Pipeline(steps=[('Vectorizer', TfidfVectorizer()),\n",
              "                ('Model', LogisticRegression(max_iter=10000))])"
            ]
          },
          "execution_count": 9,
          "metadata": {},
          "output_type": "execute_result"
        }
      ],
      "source": [
        "# Pipeline for Logistic Regression\n",
        "pipeLR = Pipeline(steps=[\n",
        "    ('Vectorizer', vectorizer),\n",
        "    ('Model', LogisticRegression(max_iter=10000))\n",
        "])\n",
        "\n",
        "# Fitting the pipeline with data\n",
        "pipeLR.fit(X_train, y_train)"
      ]
    },
    {
      "cell_type": "code",
      "execution_count": null,
      "metadata": {
        "colab": {
          "base_uri": "https://localhost:8080/"
        },
        "id": "9ydsOPu41os2",
        "outputId": "8e1fd4e5-3ad5-424b-9c08-97b5de7c0ecf"
      },
      "outputs": [
        {
          "name": "stdout",
          "output_type": "stream",
          "text": [
            "Accuracy on training set: 0.907\n",
            "Accuracy on test set: 0.855\n"
          ]
        }
      ],
      "source": [
        "# Printing scores\n",
        "print(\"Accuracy on training set: {:.3f}\".format(pipeLR.score(X_train, y_train)))\n",
        "print(\"Accuracy on test set: {:.3f}\".format(pipeLR.score(X_test, y_test)))"
      ]
    },
    {
      "cell_type": "code",
      "execution_count": null,
      "metadata": {
        "colab": {
          "base_uri": "https://localhost:8080/",
          "height": 152
        },
        "id": "nzqcDm2r1os3",
        "outputId": "26c86e08-948f-44b7-8ae7-b769b7e349d7"
      },
      "outputs": [
        {
          "data": {
            "text/html": [
              "<style>#sk-container-id-2 {color: black;background-color: white;}#sk-container-id-2 pre{padding: 0;}#sk-container-id-2 div.sk-toggleable {background-color: white;}#sk-container-id-2 label.sk-toggleable__label {cursor: pointer;display: block;width: 100%;margin-bottom: 0;padding: 0.3em;box-sizing: border-box;text-align: center;}#sk-container-id-2 label.sk-toggleable__label-arrow:before {content: \"▸\";float: left;margin-right: 0.25em;color: #696969;}#sk-container-id-2 label.sk-toggleable__label-arrow:hover:before {color: black;}#sk-container-id-2 div.sk-estimator:hover label.sk-toggleable__label-arrow:before {color: black;}#sk-container-id-2 div.sk-toggleable__content {max-height: 0;max-width: 0;overflow: hidden;text-align: left;background-color: #f0f8ff;}#sk-container-id-2 div.sk-toggleable__content pre {margin: 0.2em;color: black;border-radius: 0.25em;background-color: #f0f8ff;}#sk-container-id-2 input.sk-toggleable__control:checked~div.sk-toggleable__content {max-height: 200px;max-width: 100%;overflow: auto;}#sk-container-id-2 input.sk-toggleable__control:checked~label.sk-toggleable__label-arrow:before {content: \"▾\";}#sk-container-id-2 div.sk-estimator input.sk-toggleable__control:checked~label.sk-toggleable__label {background-color: #d4ebff;}#sk-container-id-2 div.sk-label input.sk-toggleable__control:checked~label.sk-toggleable__label {background-color: #d4ebff;}#sk-container-id-2 input.sk-hidden--visually {border: 0;clip: rect(1px 1px 1px 1px);clip: rect(1px, 1px, 1px, 1px);height: 1px;margin: -1px;overflow: hidden;padding: 0;position: absolute;width: 1px;}#sk-container-id-2 div.sk-estimator {font-family: monospace;background-color: #f0f8ff;border: 1px dotted black;border-radius: 0.25em;box-sizing: border-box;margin-bottom: 0.5em;}#sk-container-id-2 div.sk-estimator:hover {background-color: #d4ebff;}#sk-container-id-2 div.sk-parallel-item::after {content: \"\";width: 100%;border-bottom: 1px solid gray;flex-grow: 1;}#sk-container-id-2 div.sk-label:hover label.sk-toggleable__label {background-color: #d4ebff;}#sk-container-id-2 div.sk-serial::before {content: \"\";position: absolute;border-left: 1px solid gray;box-sizing: border-box;top: 0;bottom: 0;left: 50%;z-index: 0;}#sk-container-id-2 div.sk-serial {display: flex;flex-direction: column;align-items: center;background-color: white;padding-right: 0.2em;padding-left: 0.2em;position: relative;}#sk-container-id-2 div.sk-item {position: relative;z-index: 1;}#sk-container-id-2 div.sk-parallel {display: flex;align-items: stretch;justify-content: center;background-color: white;position: relative;}#sk-container-id-2 div.sk-item::before, #sk-container-id-2 div.sk-parallel-item::before {content: \"\";position: absolute;border-left: 1px solid gray;box-sizing: border-box;top: 0;bottom: 0;left: 50%;z-index: -1;}#sk-container-id-2 div.sk-parallel-item {display: flex;flex-direction: column;z-index: 1;position: relative;background-color: white;}#sk-container-id-2 div.sk-parallel-item:first-child::after {align-self: flex-end;width: 50%;}#sk-container-id-2 div.sk-parallel-item:last-child::after {align-self: flex-start;width: 50%;}#sk-container-id-2 div.sk-parallel-item:only-child::after {width: 0;}#sk-container-id-2 div.sk-dashed-wrapped {border: 1px dashed gray;margin: 0 0.4em 0.5em 0.4em;box-sizing: border-box;padding-bottom: 0.4em;background-color: white;}#sk-container-id-2 div.sk-label label {font-family: monospace;font-weight: bold;display: inline-block;line-height: 1.2em;}#sk-container-id-2 div.sk-label-container {text-align: center;}#sk-container-id-2 div.sk-container {/* jupyter's `normalize.less` sets `[hidden] { display: none; }` but bootstrap.min.css set `[hidden] { display: none !important; }` so we also need the `!important` here to be able to override the default hidden behavior on the sphinx rendered scikit-learn.org. See: https://github.com/scikit-learn/scikit-learn/issues/21755 */display: inline-block !important;position: relative;}#sk-container-id-2 div.sk-text-repr-fallback {display: none;}</style><div id=\"sk-container-id-2\" class=\"sk-top-container\"><div class=\"sk-text-repr-fallback\"><pre>GridSearchCV(cv=2,\n",
              "             estimator=Pipeline(steps=[(&#x27;Vectorizer&#x27;, TfidfVectorizer()),\n",
              "                                       (&#x27;Model&#x27;,\n",
              "                                        LogisticRegression(max_iter=10000))]),\n",
              "             param_grid={&#x27;Model__C&#x27;: [0.01, 0.1, 1, 10, 100],\n",
              "                         &#x27;Vectorizer__max_df&#x27;: [0.01, 0.1, 0.2],\n",
              "                         &#x27;Vectorizer__min_df&#x27;: [3],\n",
              "                         &#x27;Vectorizer__ngram_range&#x27;: [(1, 1), (1, 2)],\n",
              "                         &#x27;Vectorizer__use_idf&#x27;: [True, False]})</pre><b>In a Jupyter environment, please rerun this cell to show the HTML representation or trust the notebook. <br />On GitHub, the HTML representation is unable to render, please try loading this page with nbviewer.org.</b></div><div class=\"sk-container\" hidden><div class=\"sk-item sk-dashed-wrapped\"><div class=\"sk-label-container\"><div class=\"sk-label sk-toggleable\"><input class=\"sk-toggleable__control sk-hidden--visually\" id=\"sk-estimator-id-4\" type=\"checkbox\" ><label for=\"sk-estimator-id-4\" class=\"sk-toggleable__label sk-toggleable__label-arrow\">GridSearchCV</label><div class=\"sk-toggleable__content\"><pre>GridSearchCV(cv=2,\n",
              "             estimator=Pipeline(steps=[(&#x27;Vectorizer&#x27;, TfidfVectorizer()),\n",
              "                                       (&#x27;Model&#x27;,\n",
              "                                        LogisticRegression(max_iter=10000))]),\n",
              "             param_grid={&#x27;Model__C&#x27;: [0.01, 0.1, 1, 10, 100],\n",
              "                         &#x27;Vectorizer__max_df&#x27;: [0.01, 0.1, 0.2],\n",
              "                         &#x27;Vectorizer__min_df&#x27;: [3],\n",
              "                         &#x27;Vectorizer__ngram_range&#x27;: [(1, 1), (1, 2)],\n",
              "                         &#x27;Vectorizer__use_idf&#x27;: [True, False]})</pre></div></div></div><div class=\"sk-parallel\"><div class=\"sk-parallel-item\"><div class=\"sk-item\"><div class=\"sk-label-container\"><div class=\"sk-label sk-toggleable\"><input class=\"sk-toggleable__control sk-hidden--visually\" id=\"sk-estimator-id-5\" type=\"checkbox\" ><label for=\"sk-estimator-id-5\" class=\"sk-toggleable__label sk-toggleable__label-arrow\">estimator: Pipeline</label><div class=\"sk-toggleable__content\"><pre>Pipeline(steps=[(&#x27;Vectorizer&#x27;, TfidfVectorizer()),\n",
              "                (&#x27;Model&#x27;, LogisticRegression(max_iter=10000))])</pre></div></div></div><div class=\"sk-serial\"><div class=\"sk-item\"><div class=\"sk-serial\"><div class=\"sk-item\"><div class=\"sk-estimator sk-toggleable\"><input class=\"sk-toggleable__control sk-hidden--visually\" id=\"sk-estimator-id-6\" type=\"checkbox\" ><label for=\"sk-estimator-id-6\" class=\"sk-toggleable__label sk-toggleable__label-arrow\">TfidfVectorizer</label><div class=\"sk-toggleable__content\"><pre>TfidfVectorizer()</pre></div></div></div><div class=\"sk-item\"><div class=\"sk-estimator sk-toggleable\"><input class=\"sk-toggleable__control sk-hidden--visually\" id=\"sk-estimator-id-7\" type=\"checkbox\" ><label for=\"sk-estimator-id-7\" class=\"sk-toggleable__label sk-toggleable__label-arrow\">LogisticRegression</label><div class=\"sk-toggleable__content\"><pre>LogisticRegression(max_iter=10000)</pre></div></div></div></div></div></div></div></div></div></div></div></div>"
            ],
            "text/plain": [
              "GridSearchCV(cv=2,\n",
              "             estimator=Pipeline(steps=[('Vectorizer', TfidfVectorizer()),\n",
              "                                       ('Model',\n",
              "                                        LogisticRegression(max_iter=10000))]),\n",
              "             param_grid={'Model__C': [0.01, 0.1, 1, 10, 100],\n",
              "                         'Vectorizer__max_df': [0.01, 0.1, 0.2],\n",
              "                         'Vectorizer__min_df': [3],\n",
              "                         'Vectorizer__ngram_range': [(1, 1), (1, 2)],\n",
              "                         'Vectorizer__use_idf': [True, False]})"
            ]
          },
          "execution_count": 11,
          "metadata": {},
          "output_type": "execute_result"
        }
      ],
      "source": [
        "# Pipeline together with gridsearchCV: https://scikit-learn.org/stable/tutorial/statistical_inference/putting_together.html\n",
        "# Defining parameters for the param grid\n",
        "params = {\n",
        "    'Vectorizer__ngram_range':ngram_range,\n",
        "    'Vectorizer__min_df':min_df,\n",
        "    'Vectorizer__max_df':max_df,\n",
        "    'Vectorizer__use_idf':use_idf,\n",
        "    'Model__C':[0.01, 0.1, 1, 10, 100]\n",
        "}\n",
        "\n",
        "# Defining grid search\n",
        "searchLR = GridSearchCV(\n",
        "    pipeLR,\n",
        "    #verbose = 1.5, # To track the progress\n",
        "    param_grid=params,\n",
        "    cv=2,\n",
        ")\n",
        "\n",
        "# Fitting the grid search\n",
        "searchLR.fit(X_train, y_train)"
      ]
    },
    {
      "cell_type": "code",
      "execution_count": null,
      "metadata": {
        "colab": {
          "base_uri": "https://localhost:8080/"
        },
        "id": "9gM6E96y1os3",
        "outputId": "116be893-0f69-4dc1-9438-73ac3a9571f1"
      },
      "outputs": [
        {
          "name": "stdout",
          "output_type": "stream",
          "text": [
            "The results from: \"B\" Logistic Regression\n",
            "Accuracy on training set: 0.998\n",
            "Accuracy on test set: 0.880\n",
            "Classification Report: \n",
            "               precision    recall  f1-score   support\n",
            "\n",
            "           1       0.88      0.88      0.88      6607\n",
            "           2       0.88      0.88      0.88      6593\n",
            "\n",
            "    accuracy                           0.88     13200\n",
            "   macro avg       0.88      0.88      0.88     13200\n",
            "weighted avg       0.88      0.88      0.88     13200\n",
            "\n",
            "Confusion Matrix: \n",
            " [[5813  794]\n",
            " [ 794 5799]]\n",
            "\n",
            " AUC-ROC:  0.8796968343697174\n",
            "Best params:  {'Model__C': 10, 'Vectorizer__max_df': 0.2, 'Vectorizer__min_df': 3, 'Vectorizer__ngram_range': (1, 2), 'Vectorizer__use_idf': True}\n"
          ]
        }
      ],
      "source": [
        "# Using the print function\n",
        "printScoreParams('\"B\" Logistic Regression', searchLR)"
      ]
    },
    {
      "cell_type": "markdown",
      "metadata": {
        "id": "BDV5tXAe1os3"
      },
      "source": [
        "### MLP"
      ]
    },
    {
      "cell_type": "code",
      "execution_count": null,
      "metadata": {
        "colab": {
          "base_uri": "https://localhost:8080/",
          "height": 126
        },
        "id": "tnPVcfvR1os3",
        "outputId": "d04ef39a-b21b-41c2-c2fc-1d942deed071"
      },
      "outputs": [
        {
          "data": {
            "text/html": [
              "<style>#sk-container-id-1 {color: black;background-color: white;}#sk-container-id-1 pre{padding: 0;}#sk-container-id-1 div.sk-toggleable {background-color: white;}#sk-container-id-1 label.sk-toggleable__label {cursor: pointer;display: block;width: 100%;margin-bottom: 0;padding: 0.3em;box-sizing: border-box;text-align: center;}#sk-container-id-1 label.sk-toggleable__label-arrow:before {content: \"▸\";float: left;margin-right: 0.25em;color: #696969;}#sk-container-id-1 label.sk-toggleable__label-arrow:hover:before {color: black;}#sk-container-id-1 div.sk-estimator:hover label.sk-toggleable__label-arrow:before {color: black;}#sk-container-id-1 div.sk-toggleable__content {max-height: 0;max-width: 0;overflow: hidden;text-align: left;background-color: #f0f8ff;}#sk-container-id-1 div.sk-toggleable__content pre {margin: 0.2em;color: black;border-radius: 0.25em;background-color: #f0f8ff;}#sk-container-id-1 input.sk-toggleable__control:checked~div.sk-toggleable__content {max-height: 200px;max-width: 100%;overflow: auto;}#sk-container-id-1 input.sk-toggleable__control:checked~label.sk-toggleable__label-arrow:before {content: \"▾\";}#sk-container-id-1 div.sk-estimator input.sk-toggleable__control:checked~label.sk-toggleable__label {background-color: #d4ebff;}#sk-container-id-1 div.sk-label input.sk-toggleable__control:checked~label.sk-toggleable__label {background-color: #d4ebff;}#sk-container-id-1 input.sk-hidden--visually {border: 0;clip: rect(1px 1px 1px 1px);clip: rect(1px, 1px, 1px, 1px);height: 1px;margin: -1px;overflow: hidden;padding: 0;position: absolute;width: 1px;}#sk-container-id-1 div.sk-estimator {font-family: monospace;background-color: #f0f8ff;border: 1px dotted black;border-radius: 0.25em;box-sizing: border-box;margin-bottom: 0.5em;}#sk-container-id-1 div.sk-estimator:hover {background-color: #d4ebff;}#sk-container-id-1 div.sk-parallel-item::after {content: \"\";width: 100%;border-bottom: 1px solid gray;flex-grow: 1;}#sk-container-id-1 div.sk-label:hover label.sk-toggleable__label {background-color: #d4ebff;}#sk-container-id-1 div.sk-serial::before {content: \"\";position: absolute;border-left: 1px solid gray;box-sizing: border-box;top: 0;bottom: 0;left: 50%;z-index: 0;}#sk-container-id-1 div.sk-serial {display: flex;flex-direction: column;align-items: center;background-color: white;padding-right: 0.2em;padding-left: 0.2em;position: relative;}#sk-container-id-1 div.sk-item {position: relative;z-index: 1;}#sk-container-id-1 div.sk-parallel {display: flex;align-items: stretch;justify-content: center;background-color: white;position: relative;}#sk-container-id-1 div.sk-item::before, #sk-container-id-1 div.sk-parallel-item::before {content: \"\";position: absolute;border-left: 1px solid gray;box-sizing: border-box;top: 0;bottom: 0;left: 50%;z-index: -1;}#sk-container-id-1 div.sk-parallel-item {display: flex;flex-direction: column;z-index: 1;position: relative;background-color: white;}#sk-container-id-1 div.sk-parallel-item:first-child::after {align-self: flex-end;width: 50%;}#sk-container-id-1 div.sk-parallel-item:last-child::after {align-self: flex-start;width: 50%;}#sk-container-id-1 div.sk-parallel-item:only-child::after {width: 0;}#sk-container-id-1 div.sk-dashed-wrapped {border: 1px dashed gray;margin: 0 0.4em 0.5em 0.4em;box-sizing: border-box;padding-bottom: 0.4em;background-color: white;}#sk-container-id-1 div.sk-label label {font-family: monospace;font-weight: bold;display: inline-block;line-height: 1.2em;}#sk-container-id-1 div.sk-label-container {text-align: center;}#sk-container-id-1 div.sk-container {/* jupyter's `normalize.less` sets `[hidden] { display: none; }` but bootstrap.min.css set `[hidden] { display: none !important; }` so we also need the `!important` here to be able to override the default hidden behavior on the sphinx rendered scikit-learn.org. See: https://github.com/scikit-learn/scikit-learn/issues/21755 */display: inline-block !important;position: relative;}#sk-container-id-1 div.sk-text-repr-fallback {display: none;}</style><div id=\"sk-container-id-1\" class=\"sk-top-container\"><div class=\"sk-text-repr-fallback\"><pre>Pipeline(steps=[(&#x27;Vectorizer&#x27;, TfidfVectorizer()),\n",
              "                (&#x27;Model&#x27;, MLPClassifier(max_iter=10000))])</pre><b>In a Jupyter environment, please rerun this cell to show the HTML representation or trust the notebook. <br />On GitHub, the HTML representation is unable to render, please try loading this page with nbviewer.org.</b></div><div class=\"sk-container\" hidden><div class=\"sk-item sk-dashed-wrapped\"><div class=\"sk-label-container\"><div class=\"sk-label sk-toggleable\"><input class=\"sk-toggleable__control sk-hidden--visually\" id=\"sk-estimator-id-1\" type=\"checkbox\" ><label for=\"sk-estimator-id-1\" class=\"sk-toggleable__label sk-toggleable__label-arrow\">Pipeline</label><div class=\"sk-toggleable__content\"><pre>Pipeline(steps=[(&#x27;Vectorizer&#x27;, TfidfVectorizer()),\n",
              "                (&#x27;Model&#x27;, MLPClassifier(max_iter=10000))])</pre></div></div></div><div class=\"sk-serial\"><div class=\"sk-item\"><div class=\"sk-estimator sk-toggleable\"><input class=\"sk-toggleable__control sk-hidden--visually\" id=\"sk-estimator-id-2\" type=\"checkbox\" ><label for=\"sk-estimator-id-2\" class=\"sk-toggleable__label sk-toggleable__label-arrow\">TfidfVectorizer</label><div class=\"sk-toggleable__content\"><pre>TfidfVectorizer()</pre></div></div></div><div class=\"sk-item\"><div class=\"sk-estimator sk-toggleable\"><input class=\"sk-toggleable__control sk-hidden--visually\" id=\"sk-estimator-id-3\" type=\"checkbox\" ><label for=\"sk-estimator-id-3\" class=\"sk-toggleable__label sk-toggleable__label-arrow\">MLPClassifier</label><div class=\"sk-toggleable__content\"><pre>MLPClassifier(max_iter=10000)</pre></div></div></div></div></div></div></div>"
            ],
            "text/plain": [
              "Pipeline(steps=[('Vectorizer', TfidfVectorizer()),\n",
              "                ('Model', MLPClassifier(max_iter=10000))])"
            ]
          },
          "execution_count": 11,
          "metadata": {},
          "output_type": "execute_result"
        }
      ],
      "source": [
        "# Defining pipe for MLP\n",
        "pipeMLP = Pipeline(steps=[\n",
        "    ('Vectorizer', vectorizer),\n",
        "    ('Model', MLPClassifier(max_iter=10000))\n",
        "])\n",
        "\n",
        "# Fitting the pipeline with the data\n",
        "pipeMLP.fit(X_train, y_train)"
      ]
    },
    {
      "cell_type": "code",
      "execution_count": null,
      "metadata": {
        "colab": {
          "base_uri": "https://localhost:8080/"
        },
        "id": "j68Bzu1K1os3",
        "outputId": "21b18b9d-0ed7-485d-a07e-6d70fa63be38"
      },
      "outputs": [
        {
          "name": "stdout",
          "output_type": "stream",
          "text": [
            "Accuracy on training set: 1.000\n",
            "Accuracy on test set: 0.827\n"
          ]
        }
      ],
      "source": [
        "# Printing scores on the simple version of the model\n",
        "print(\"Accuracy on training set: {:.3f}\".format(pipeMLP.score(X_train, y_train)))\n",
        "print(\"Accuracy on test set: {:.3f}\".format(pipeMLP.score(X_test, y_test)))"
      ]
    },
    {
      "cell_type": "code",
      "execution_count": null,
      "metadata": {
        "colab": {
          "base_uri": "https://localhost:8080/"
        },
        "id": "YABeWyZR1os4",
        "outputId": "91f8849e-3ac9-4c88-92b7-94e0305093c6"
      },
      "outputs": [
        {
          "name": "stdout",
          "output_type": "stream",
          "text": [
            "Fitting 2 folds for each of 48 candidates, totalling 96 fits\n",
            "[CV] END Model__activation=tanh, Model__hidden_layer_sizes=50, Vectorizer__max_df=0.01, Vectorizer__min_df=3, Vectorizer__ngram_range=(1, 1), Vectorizer__use_idf=True; total time= 2.0min\n",
            "[CV] END Model__activation=tanh, Model__hidden_layer_sizes=50, Vectorizer__max_df=0.01, Vectorizer__min_df=3, Vectorizer__ngram_range=(1, 1), Vectorizer__use_idf=True; total time= 1.7min\n",
            "[CV] END Model__activation=tanh, Model__hidden_layer_sizes=50, Vectorizer__max_df=0.01, Vectorizer__min_df=3, Vectorizer__ngram_range=(1, 1), Vectorizer__use_idf=False; total time= 2.5min\n",
            "[CV] END Model__activation=tanh, Model__hidden_layer_sizes=50, Vectorizer__max_df=0.01, Vectorizer__min_df=3, Vectorizer__ngram_range=(1, 1), Vectorizer__use_idf=False; total time= 1.8min\n",
            "[CV] END Model__activation=tanh, Model__hidden_layer_sizes=50, Vectorizer__max_df=0.01, Vectorizer__min_df=3, Vectorizer__ngram_range=(1, 2), Vectorizer__use_idf=True; total time= 3.7min\n",
            "[CV] END Model__activation=tanh, Model__hidden_layer_sizes=50, Vectorizer__max_df=0.01, Vectorizer__min_df=3, Vectorizer__ngram_range=(1, 2), Vectorizer__use_idf=True; total time= 3.7min\n",
            "[CV] END Model__activation=tanh, Model__hidden_layer_sizes=50, Vectorizer__max_df=0.01, Vectorizer__min_df=3, Vectorizer__ngram_range=(1, 2), Vectorizer__use_idf=False; total time= 3.8min\n",
            "[CV] END Model__activation=tanh, Model__hidden_layer_sizes=50, Vectorizer__max_df=0.01, Vectorizer__min_df=3, Vectorizer__ngram_range=(1, 2), Vectorizer__use_idf=False; total time= 3.8min\n",
            "[CV] END Model__activation=tanh, Model__hidden_layer_sizes=50, Vectorizer__max_df=0.1, Vectorizer__min_df=3, Vectorizer__ngram_range=(1, 1), Vectorizer__use_idf=True; total time= 1.4min\n",
            "[CV] END Model__activation=tanh, Model__hidden_layer_sizes=50, Vectorizer__max_df=0.1, Vectorizer__min_df=3, Vectorizer__ngram_range=(1, 1), Vectorizer__use_idf=True; total time= 1.4min\n",
            "[CV] END Model__activation=tanh, Model__hidden_layer_sizes=50, Vectorizer__max_df=0.1, Vectorizer__min_df=3, Vectorizer__ngram_range=(1, 1), Vectorizer__use_idf=False; total time= 1.6min\n",
            "[CV] END Model__activation=tanh, Model__hidden_layer_sizes=50, Vectorizer__max_df=0.1, Vectorizer__min_df=3, Vectorizer__ngram_range=(1, 1), Vectorizer__use_idf=False; total time= 1.6min\n",
            "[CV] END Model__activation=tanh, Model__hidden_layer_sizes=50, Vectorizer__max_df=0.1, Vectorizer__min_df=3, Vectorizer__ngram_range=(1, 2), Vectorizer__use_idf=True; total time= 3.7min\n",
            "[CV] END Model__activation=tanh, Model__hidden_layer_sizes=50, Vectorizer__max_df=0.1, Vectorizer__min_df=3, Vectorizer__ngram_range=(1, 2), Vectorizer__use_idf=True; total time= 3.7min\n",
            "[CV] END Model__activation=tanh, Model__hidden_layer_sizes=50, Vectorizer__max_df=0.1, Vectorizer__min_df=3, Vectorizer__ngram_range=(1, 2), Vectorizer__use_idf=False; total time= 4.0min\n",
            "[CV] END Model__activation=tanh, Model__hidden_layer_sizes=50, Vectorizer__max_df=0.1, Vectorizer__min_df=3, Vectorizer__ngram_range=(1, 2), Vectorizer__use_idf=False; total time= 4.0min\n",
            "[CV] END Model__activation=tanh, Model__hidden_layer_sizes=50, Vectorizer__max_df=0.2, Vectorizer__min_df=3, Vectorizer__ngram_range=(1, 1), Vectorizer__use_idf=True; total time= 1.4min\n",
            "[CV] END Model__activation=tanh, Model__hidden_layer_sizes=50, Vectorizer__max_df=0.2, Vectorizer__min_df=3, Vectorizer__ngram_range=(1, 1), Vectorizer__use_idf=True; total time= 1.4min\n",
            "[CV] END Model__activation=tanh, Model__hidden_layer_sizes=50, Vectorizer__max_df=0.2, Vectorizer__min_df=3, Vectorizer__ngram_range=(1, 1), Vectorizer__use_idf=False; total time= 1.6min\n",
            "[CV] END Model__activation=tanh, Model__hidden_layer_sizes=50, Vectorizer__max_df=0.2, Vectorizer__min_df=3, Vectorizer__ngram_range=(1, 1), Vectorizer__use_idf=False; total time= 1.5min\n",
            "[CV] END Model__activation=tanh, Model__hidden_layer_sizes=50, Vectorizer__max_df=0.2, Vectorizer__min_df=3, Vectorizer__ngram_range=(1, 2), Vectorizer__use_idf=True; total time= 3.7min\n",
            "[CV] END Model__activation=tanh, Model__hidden_layer_sizes=50, Vectorizer__max_df=0.2, Vectorizer__min_df=3, Vectorizer__ngram_range=(1, 2), Vectorizer__use_idf=True; total time= 3.8min\n",
            "[CV] END Model__activation=tanh, Model__hidden_layer_sizes=50, Vectorizer__max_df=0.2, Vectorizer__min_df=3, Vectorizer__ngram_range=(1, 2), Vectorizer__use_idf=False; total time= 4.1min\n",
            "[CV] END Model__activation=tanh, Model__hidden_layer_sizes=50, Vectorizer__max_df=0.2, Vectorizer__min_df=3, Vectorizer__ngram_range=(1, 2), Vectorizer__use_idf=False; total time= 4.1min\n",
            "[CV] END Model__activation=tanh, Model__hidden_layer_sizes=100, Vectorizer__max_df=0.01, Vectorizer__min_df=3, Vectorizer__ngram_range=(1, 1), Vectorizer__use_idf=True; total time= 3.5min\n",
            "[CV] END Model__activation=tanh, Model__hidden_layer_sizes=100, Vectorizer__max_df=0.01, Vectorizer__min_df=3, Vectorizer__ngram_range=(1, 1), Vectorizer__use_idf=True; total time= 3.3min\n",
            "[CV] END Model__activation=tanh, Model__hidden_layer_sizes=100, Vectorizer__max_df=0.01, Vectorizer__min_df=3, Vectorizer__ngram_range=(1, 1), Vectorizer__use_idf=False; total time= 3.8min\n",
            "[CV] END Model__activation=tanh, Model__hidden_layer_sizes=100, Vectorizer__max_df=0.01, Vectorizer__min_df=3, Vectorizer__ngram_range=(1, 1), Vectorizer__use_idf=False; total time= 3.3min\n",
            "[CV] END Model__activation=tanh, Model__hidden_layer_sizes=100, Vectorizer__max_df=0.01, Vectorizer__min_df=3, Vectorizer__ngram_range=(1, 2), Vectorizer__use_idf=True; total time= 6.3min\n",
            "[CV] END Model__activation=tanh, Model__hidden_layer_sizes=100, Vectorizer__max_df=0.01, Vectorizer__min_df=3, Vectorizer__ngram_range=(1, 2), Vectorizer__use_idf=True; total time= 6.3min\n",
            "[CV] END Model__activation=tanh, Model__hidden_layer_sizes=100, Vectorizer__max_df=0.01, Vectorizer__min_df=3, Vectorizer__ngram_range=(1, 2), Vectorizer__use_idf=False; total time= 6.4min\n",
            "[CV] END Model__activation=tanh, Model__hidden_layer_sizes=100, Vectorizer__max_df=0.01, Vectorizer__min_df=3, Vectorizer__ngram_range=(1, 2), Vectorizer__use_idf=False; total time= 6.5min\n",
            "[CV] END Model__activation=tanh, Model__hidden_layer_sizes=100, Vectorizer__max_df=0.1, Vectorizer__min_df=3, Vectorizer__ngram_range=(1, 1), Vectorizer__use_idf=True; total time= 2.3min\n",
            "[CV] END Model__activation=tanh, Model__hidden_layer_sizes=100, Vectorizer__max_df=0.1, Vectorizer__min_df=3, Vectorizer__ngram_range=(1, 1), Vectorizer__use_idf=True; total time= 2.2min\n",
            "[CV] END Model__activation=tanh, Model__hidden_layer_sizes=100, Vectorizer__max_df=0.1, Vectorizer__min_df=3, Vectorizer__ngram_range=(1, 1), Vectorizer__use_idf=False; total time= 2.6min\n",
            "[CV] END Model__activation=tanh, Model__hidden_layer_sizes=100, Vectorizer__max_df=0.1, Vectorizer__min_df=3, Vectorizer__ngram_range=(1, 1), Vectorizer__use_idf=False; total time= 2.6min\n",
            "[CV] END Model__activation=tanh, Model__hidden_layer_sizes=100, Vectorizer__max_df=0.1, Vectorizer__min_df=3, Vectorizer__ngram_range=(1, 2), Vectorizer__use_idf=True; total time= 6.4min\n",
            "[CV] END Model__activation=tanh, Model__hidden_layer_sizes=100, Vectorizer__max_df=0.1, Vectorizer__min_df=3, Vectorizer__ngram_range=(1, 2), Vectorizer__use_idf=True; total time= 6.2min\n",
            "[CV] END Model__activation=tanh, Model__hidden_layer_sizes=100, Vectorizer__max_df=0.1, Vectorizer__min_df=3, Vectorizer__ngram_range=(1, 2), Vectorizer__use_idf=False; total time= 6.8min\n",
            "[CV] END Model__activation=tanh, Model__hidden_layer_sizes=100, Vectorizer__max_df=0.1, Vectorizer__min_df=3, Vectorizer__ngram_range=(1, 2), Vectorizer__use_idf=False; total time= 6.8min\n",
            "[CV] END Model__activation=tanh, Model__hidden_layer_sizes=100, Vectorizer__max_df=0.2, Vectorizer__min_df=3, Vectorizer__ngram_range=(1, 1), Vectorizer__use_idf=True; total time= 2.3min\n",
            "[CV] END Model__activation=tanh, Model__hidden_layer_sizes=100, Vectorizer__max_df=0.2, Vectorizer__min_df=3, Vectorizer__ngram_range=(1, 1), Vectorizer__use_idf=True; total time= 2.3min\n",
            "[CV] END Model__activation=tanh, Model__hidden_layer_sizes=100, Vectorizer__max_df=0.2, Vectorizer__min_df=3, Vectorizer__ngram_range=(1, 1), Vectorizer__use_idf=False; total time= 2.6min\n",
            "[CV] END Model__activation=tanh, Model__hidden_layer_sizes=100, Vectorizer__max_df=0.2, Vectorizer__min_df=3, Vectorizer__ngram_range=(1, 1), Vectorizer__use_idf=False; total time= 2.6min\n",
            "[CV] END Model__activation=tanh, Model__hidden_layer_sizes=100, Vectorizer__max_df=0.2, Vectorizer__min_df=3, Vectorizer__ngram_range=(1, 2), Vectorizer__use_idf=True; total time= 6.4min\n",
            "[CV] END Model__activation=tanh, Model__hidden_layer_sizes=100, Vectorizer__max_df=0.2, Vectorizer__min_df=3, Vectorizer__ngram_range=(1, 2), Vectorizer__use_idf=True; total time= 6.4min\n",
            "[CV] END Model__activation=tanh, Model__hidden_layer_sizes=100, Vectorizer__max_df=0.2, Vectorizer__min_df=3, Vectorizer__ngram_range=(1, 2), Vectorizer__use_idf=False; total time= 7.0min\n",
            "[CV] END Model__activation=tanh, Model__hidden_layer_sizes=100, Vectorizer__max_df=0.2, Vectorizer__min_df=3, Vectorizer__ngram_range=(1, 2), Vectorizer__use_idf=False; total time= 7.0min\n",
            "[CV] END Model__activation=relu, Model__hidden_layer_sizes=50, Vectorizer__max_df=0.01, Vectorizer__min_df=3, Vectorizer__ngram_range=(1, 1), Vectorizer__use_idf=True; total time= 2.1min\n",
            "[CV] END Model__activation=relu, Model__hidden_layer_sizes=50, Vectorizer__max_df=0.01, Vectorizer__min_df=3, Vectorizer__ngram_range=(1, 1), Vectorizer__use_idf=True; total time= 1.9min\n",
            "[CV] END Model__activation=relu, Model__hidden_layer_sizes=50, Vectorizer__max_df=0.01, Vectorizer__min_df=3, Vectorizer__ngram_range=(1, 1), Vectorizer__use_idf=False; total time= 1.8min\n",
            "[CV] END Model__activation=relu, Model__hidden_layer_sizes=50, Vectorizer__max_df=0.01, Vectorizer__min_df=3, Vectorizer__ngram_range=(1, 1), Vectorizer__use_idf=False; total time= 1.8min\n",
            "[CV] END Model__activation=relu, Model__hidden_layer_sizes=50, Vectorizer__max_df=0.01, Vectorizer__min_df=3, Vectorizer__ngram_range=(1, 2), Vectorizer__use_idf=True; total time= 3.6min\n",
            "[CV] END Model__activation=relu, Model__hidden_layer_sizes=50, Vectorizer__max_df=0.01, Vectorizer__min_df=3, Vectorizer__ngram_range=(1, 2), Vectorizer__use_idf=True; total time= 3.7min\n",
            "[CV] END Model__activation=relu, Model__hidden_layer_sizes=50, Vectorizer__max_df=0.01, Vectorizer__min_df=3, Vectorizer__ngram_range=(1, 2), Vectorizer__use_idf=False; total time= 3.8min\n",
            "[CV] END Model__activation=relu, Model__hidden_layer_sizes=50, Vectorizer__max_df=0.01, Vectorizer__min_df=3, Vectorizer__ngram_range=(1, 2), Vectorizer__use_idf=False; total time= 3.8min\n",
            "[CV] END Model__activation=relu, Model__hidden_layer_sizes=50, Vectorizer__max_df=0.1, Vectorizer__min_df=3, Vectorizer__ngram_range=(1, 1), Vectorizer__use_idf=True; total time= 1.4min\n",
            "[CV] END Model__activation=relu, Model__hidden_layer_sizes=50, Vectorizer__max_df=0.1, Vectorizer__min_df=3, Vectorizer__ngram_range=(1, 1), Vectorizer__use_idf=True; total time= 1.4min\n",
            "[CV] END Model__activation=relu, Model__hidden_layer_sizes=50, Vectorizer__max_df=0.1, Vectorizer__min_df=3, Vectorizer__ngram_range=(1, 1), Vectorizer__use_idf=False; total time= 1.6min\n",
            "[CV] END Model__activation=relu, Model__hidden_layer_sizes=50, Vectorizer__max_df=0.1, Vectorizer__min_df=3, Vectorizer__ngram_range=(1, 1), Vectorizer__use_idf=False; total time= 1.6min\n",
            "[CV] END Model__activation=relu, Model__hidden_layer_sizes=50, Vectorizer__max_df=0.1, Vectorizer__min_df=3, Vectorizer__ngram_range=(1, 2), Vectorizer__use_idf=True; total time= 3.7min\n",
            "[CV] END Model__activation=relu, Model__hidden_layer_sizes=50, Vectorizer__max_df=0.1, Vectorizer__min_df=3, Vectorizer__ngram_range=(1, 2), Vectorizer__use_idf=True; total time= 3.7min\n",
            "[CV] END Model__activation=relu, Model__hidden_layer_sizes=50, Vectorizer__max_df=0.1, Vectorizer__min_df=3, Vectorizer__ngram_range=(1, 2), Vectorizer__use_idf=False; total time= 4.0min\n",
            "[CV] END Model__activation=relu, Model__hidden_layer_sizes=50, Vectorizer__max_df=0.1, Vectorizer__min_df=3, Vectorizer__ngram_range=(1, 2), Vectorizer__use_idf=False; total time= 4.1min\n",
            "[CV] END Model__activation=relu, Model__hidden_layer_sizes=50, Vectorizer__max_df=0.2, Vectorizer__min_df=3, Vectorizer__ngram_range=(1, 1), Vectorizer__use_idf=True; total time= 1.4min\n",
            "[CV] END Model__activation=relu, Model__hidden_layer_sizes=50, Vectorizer__max_df=0.2, Vectorizer__min_df=3, Vectorizer__ngram_range=(1, 1), Vectorizer__use_idf=True; total time= 1.4min\n",
            "[CV] END Model__activation=relu, Model__hidden_layer_sizes=50, Vectorizer__max_df=0.2, Vectorizer__min_df=3, Vectorizer__ngram_range=(1, 1), Vectorizer__use_idf=False; total time= 1.6min\n",
            "[CV] END Model__activation=relu, Model__hidden_layer_sizes=50, Vectorizer__max_df=0.2, Vectorizer__min_df=3, Vectorizer__ngram_range=(1, 1), Vectorizer__use_idf=False; total time= 1.6min\n",
            "[CV] END Model__activation=relu, Model__hidden_layer_sizes=50, Vectorizer__max_df=0.2, Vectorizer__min_df=3, Vectorizer__ngram_range=(1, 2), Vectorizer__use_idf=True; total time= 3.7min\n",
            "[CV] END Model__activation=relu, Model__hidden_layer_sizes=50, Vectorizer__max_df=0.2, Vectorizer__min_df=3, Vectorizer__ngram_range=(1, 2), Vectorizer__use_idf=True; total time= 3.7min\n",
            "[CV] END Model__activation=relu, Model__hidden_layer_sizes=50, Vectorizer__max_df=0.2, Vectorizer__min_df=3, Vectorizer__ngram_range=(1, 2), Vectorizer__use_idf=False; total time= 4.1min\n",
            "[CV] END Model__activation=relu, Model__hidden_layer_sizes=50, Vectorizer__max_df=0.2, Vectorizer__min_df=3, Vectorizer__ngram_range=(1, 2), Vectorizer__use_idf=False; total time= 4.1min\n",
            "[CV] END Model__activation=relu, Model__hidden_layer_sizes=100, Vectorizer__max_df=0.01, Vectorizer__min_df=3, Vectorizer__ngram_range=(1, 1), Vectorizer__use_idf=True; total time= 3.1min\n",
            "[CV] END Model__activation=relu, Model__hidden_layer_sizes=100, Vectorizer__max_df=0.01, Vectorizer__min_df=3, Vectorizer__ngram_range=(1, 1), Vectorizer__use_idf=True; total time= 3.0min\n",
            "[CV] END Model__activation=relu, Model__hidden_layer_sizes=100, Vectorizer__max_df=0.01, Vectorizer__min_df=3, Vectorizer__ngram_range=(1, 1), Vectorizer__use_idf=False; total time= 2.7min\n",
            "[CV] END Model__activation=relu, Model__hidden_layer_sizes=100, Vectorizer__max_df=0.01, Vectorizer__min_df=3, Vectorizer__ngram_range=(1, 1), Vectorizer__use_idf=False; total time= 3.3min\n",
            "[CV] END Model__activation=relu, Model__hidden_layer_sizes=100, Vectorizer__max_df=0.01, Vectorizer__min_df=3, Vectorizer__ngram_range=(1, 2), Vectorizer__use_idf=True; total time= 6.1min\n",
            "[CV] END Model__activation=relu, Model__hidden_layer_sizes=100, Vectorizer__max_df=0.01, Vectorizer__min_df=3, Vectorizer__ngram_range=(1, 2), Vectorizer__use_idf=True; total time= 6.3min\n",
            "[CV] END Model__activation=relu, Model__hidden_layer_sizes=100, Vectorizer__max_df=0.01, Vectorizer__min_df=3, Vectorizer__ngram_range=(1, 2), Vectorizer__use_idf=False; total time= 6.3min\n",
            "[CV] END Model__activation=relu, Model__hidden_layer_sizes=100, Vectorizer__max_df=0.01, Vectorizer__min_df=3, Vectorizer__ngram_range=(1, 2), Vectorizer__use_idf=False; total time= 6.4min\n",
            "[CV] END Model__activation=relu, Model__hidden_layer_sizes=100, Vectorizer__max_df=0.1, Vectorizer__min_df=3, Vectorizer__ngram_range=(1, 1), Vectorizer__use_idf=True; total time= 2.3min\n",
            "[CV] END Model__activation=relu, Model__hidden_layer_sizes=100, Vectorizer__max_df=0.1, Vectorizer__min_df=3, Vectorizer__ngram_range=(1, 1), Vectorizer__use_idf=True; total time= 2.3min\n",
            "[CV] END Model__activation=relu, Model__hidden_layer_sizes=100, Vectorizer__max_df=0.1, Vectorizer__min_df=3, Vectorizer__ngram_range=(1, 1), Vectorizer__use_idf=False; total time= 2.6min\n",
            "[CV] END Model__activation=relu, Model__hidden_layer_sizes=100, Vectorizer__max_df=0.1, Vectorizer__min_df=3, Vectorizer__ngram_range=(1, 1), Vectorizer__use_idf=False; total time= 2.6min\n",
            "[CV] END Model__activation=relu, Model__hidden_layer_sizes=100, Vectorizer__max_df=0.1, Vectorizer__min_df=3, Vectorizer__ngram_range=(1, 2), Vectorizer__use_idf=True; total time= 6.4min\n",
            "[CV] END Model__activation=relu, Model__hidden_layer_sizes=100, Vectorizer__max_df=0.1, Vectorizer__min_df=3, Vectorizer__ngram_range=(1, 2), Vectorizer__use_idf=True; total time= 6.4min\n",
            "[CV] END Model__activation=relu, Model__hidden_layer_sizes=100, Vectorizer__max_df=0.1, Vectorizer__min_df=3, Vectorizer__ngram_range=(1, 2), Vectorizer__use_idf=False; total time= 6.7min\n",
            "[CV] END Model__activation=relu, Model__hidden_layer_sizes=100, Vectorizer__max_df=0.1, Vectorizer__min_df=3, Vectorizer__ngram_range=(1, 2), Vectorizer__use_idf=False; total time= 6.8min\n",
            "[CV] END Model__activation=relu, Model__hidden_layer_sizes=100, Vectorizer__max_df=0.2, Vectorizer__min_df=3, Vectorizer__ngram_range=(1, 1), Vectorizer__use_idf=True; total time= 2.3min\n",
            "[CV] END Model__activation=relu, Model__hidden_layer_sizes=100, Vectorizer__max_df=0.2, Vectorizer__min_df=3, Vectorizer__ngram_range=(1, 1), Vectorizer__use_idf=True; total time= 2.3min\n",
            "[CV] END Model__activation=relu, Model__hidden_layer_sizes=100, Vectorizer__max_df=0.2, Vectorizer__min_df=3, Vectorizer__ngram_range=(1, 1), Vectorizer__use_idf=False; total time= 2.6min\n",
            "[CV] END Model__activation=relu, Model__hidden_layer_sizes=100, Vectorizer__max_df=0.2, Vectorizer__min_df=3, Vectorizer__ngram_range=(1, 1), Vectorizer__use_idf=False; total time= 2.6min\n",
            "[CV] END Model__activation=relu, Model__hidden_layer_sizes=100, Vectorizer__max_df=0.2, Vectorizer__min_df=3, Vectorizer__ngram_range=(1, 2), Vectorizer__use_idf=True; total time= 6.4min\n",
            "[CV] END Model__activation=relu, Model__hidden_layer_sizes=100, Vectorizer__max_df=0.2, Vectorizer__min_df=3, Vectorizer__ngram_range=(1, 2), Vectorizer__use_idf=True; total time= 6.2min\n",
            "[CV] END Model__activation=relu, Model__hidden_layer_sizes=100, Vectorizer__max_df=0.2, Vectorizer__min_df=3, Vectorizer__ngram_range=(1, 2), Vectorizer__use_idf=False; total time= 7.0min\n",
            "[CV] END Model__activation=relu, Model__hidden_layer_sizes=100, Vectorizer__max_df=0.2, Vectorizer__min_df=3, Vectorizer__ngram_range=(1, 2), Vectorizer__use_idf=False; total time= 7.1min\n"
          ]
        },
        {
          "data": {
            "text/html": [
              "<style>#sk-container-id-2 {color: black;background-color: white;}#sk-container-id-2 pre{padding: 0;}#sk-container-id-2 div.sk-toggleable {background-color: white;}#sk-container-id-2 label.sk-toggleable__label {cursor: pointer;display: block;width: 100%;margin-bottom: 0;padding: 0.3em;box-sizing: border-box;text-align: center;}#sk-container-id-2 label.sk-toggleable__label-arrow:before {content: \"▸\";float: left;margin-right: 0.25em;color: #696969;}#sk-container-id-2 label.sk-toggleable__label-arrow:hover:before {color: black;}#sk-container-id-2 div.sk-estimator:hover label.sk-toggleable__label-arrow:before {color: black;}#sk-container-id-2 div.sk-toggleable__content {max-height: 0;max-width: 0;overflow: hidden;text-align: left;background-color: #f0f8ff;}#sk-container-id-2 div.sk-toggleable__content pre {margin: 0.2em;color: black;border-radius: 0.25em;background-color: #f0f8ff;}#sk-container-id-2 input.sk-toggleable__control:checked~div.sk-toggleable__content {max-height: 200px;max-width: 100%;overflow: auto;}#sk-container-id-2 input.sk-toggleable__control:checked~label.sk-toggleable__label-arrow:before {content: \"▾\";}#sk-container-id-2 div.sk-estimator input.sk-toggleable__control:checked~label.sk-toggleable__label {background-color: #d4ebff;}#sk-container-id-2 div.sk-label input.sk-toggleable__control:checked~label.sk-toggleable__label {background-color: #d4ebff;}#sk-container-id-2 input.sk-hidden--visually {border: 0;clip: rect(1px 1px 1px 1px);clip: rect(1px, 1px, 1px, 1px);height: 1px;margin: -1px;overflow: hidden;padding: 0;position: absolute;width: 1px;}#sk-container-id-2 div.sk-estimator {font-family: monospace;background-color: #f0f8ff;border: 1px dotted black;border-radius: 0.25em;box-sizing: border-box;margin-bottom: 0.5em;}#sk-container-id-2 div.sk-estimator:hover {background-color: #d4ebff;}#sk-container-id-2 div.sk-parallel-item::after {content: \"\";width: 100%;border-bottom: 1px solid gray;flex-grow: 1;}#sk-container-id-2 div.sk-label:hover label.sk-toggleable__label {background-color: #d4ebff;}#sk-container-id-2 div.sk-serial::before {content: \"\";position: absolute;border-left: 1px solid gray;box-sizing: border-box;top: 0;bottom: 0;left: 50%;z-index: 0;}#sk-container-id-2 div.sk-serial {display: flex;flex-direction: column;align-items: center;background-color: white;padding-right: 0.2em;padding-left: 0.2em;position: relative;}#sk-container-id-2 div.sk-item {position: relative;z-index: 1;}#sk-container-id-2 div.sk-parallel {display: flex;align-items: stretch;justify-content: center;background-color: white;position: relative;}#sk-container-id-2 div.sk-item::before, #sk-container-id-2 div.sk-parallel-item::before {content: \"\";position: absolute;border-left: 1px solid gray;box-sizing: border-box;top: 0;bottom: 0;left: 50%;z-index: -1;}#sk-container-id-2 div.sk-parallel-item {display: flex;flex-direction: column;z-index: 1;position: relative;background-color: white;}#sk-container-id-2 div.sk-parallel-item:first-child::after {align-self: flex-end;width: 50%;}#sk-container-id-2 div.sk-parallel-item:last-child::after {align-self: flex-start;width: 50%;}#sk-container-id-2 div.sk-parallel-item:only-child::after {width: 0;}#sk-container-id-2 div.sk-dashed-wrapped {border: 1px dashed gray;margin: 0 0.4em 0.5em 0.4em;box-sizing: border-box;padding-bottom: 0.4em;background-color: white;}#sk-container-id-2 div.sk-label label {font-family: monospace;font-weight: bold;display: inline-block;line-height: 1.2em;}#sk-container-id-2 div.sk-label-container {text-align: center;}#sk-container-id-2 div.sk-container {/* jupyter's `normalize.less` sets `[hidden] { display: none; }` but bootstrap.min.css set `[hidden] { display: none !important; }` so we also need the `!important` here to be able to override the default hidden behavior on the sphinx rendered scikit-learn.org. See: https://github.com/scikit-learn/scikit-learn/issues/21755 */display: inline-block !important;position: relative;}#sk-container-id-2 div.sk-text-repr-fallback {display: none;}</style><div id=\"sk-container-id-2\" class=\"sk-top-container\"><div class=\"sk-text-repr-fallback\"><pre>GridSearchCV(cv=2,\n",
              "             estimator=Pipeline(steps=[(&#x27;Vectorizer&#x27;, TfidfVectorizer()),\n",
              "                                       (&#x27;Model&#x27;,\n",
              "                                        MLPClassifier(max_iter=10000))]),\n",
              "             param_grid={&#x27;Model__activation&#x27;: [&#x27;tanh&#x27;, &#x27;relu&#x27;],\n",
              "                         &#x27;Model__hidden_layer_sizes&#x27;: [50, 100],\n",
              "                         &#x27;Vectorizer__max_df&#x27;: [0.01, 0.1, 0.2],\n",
              "                         &#x27;Vectorizer__min_df&#x27;: [3],\n",
              "                         &#x27;Vectorizer__ngram_range&#x27;: [(1, 1), (1, 2)],\n",
              "                         &#x27;Vectorizer__use_idf&#x27;: [True, False]},\n",
              "             verbose=1.5)</pre><b>In a Jupyter environment, please rerun this cell to show the HTML representation or trust the notebook. <br />On GitHub, the HTML representation is unable to render, please try loading this page with nbviewer.org.</b></div><div class=\"sk-container\" hidden><div class=\"sk-item sk-dashed-wrapped\"><div class=\"sk-label-container\"><div class=\"sk-label sk-toggleable\"><input class=\"sk-toggleable__control sk-hidden--visually\" id=\"sk-estimator-id-4\" type=\"checkbox\" ><label for=\"sk-estimator-id-4\" class=\"sk-toggleable__label sk-toggleable__label-arrow\">GridSearchCV</label><div class=\"sk-toggleable__content\"><pre>GridSearchCV(cv=2,\n",
              "             estimator=Pipeline(steps=[(&#x27;Vectorizer&#x27;, TfidfVectorizer()),\n",
              "                                       (&#x27;Model&#x27;,\n",
              "                                        MLPClassifier(max_iter=10000))]),\n",
              "             param_grid={&#x27;Model__activation&#x27;: [&#x27;tanh&#x27;, &#x27;relu&#x27;],\n",
              "                         &#x27;Model__hidden_layer_sizes&#x27;: [50, 100],\n",
              "                         &#x27;Vectorizer__max_df&#x27;: [0.01, 0.1, 0.2],\n",
              "                         &#x27;Vectorizer__min_df&#x27;: [3],\n",
              "                         &#x27;Vectorizer__ngram_range&#x27;: [(1, 1), (1, 2)],\n",
              "                         &#x27;Vectorizer__use_idf&#x27;: [True, False]},\n",
              "             verbose=1.5)</pre></div></div></div><div class=\"sk-parallel\"><div class=\"sk-parallel-item\"><div class=\"sk-item\"><div class=\"sk-label-container\"><div class=\"sk-label sk-toggleable\"><input class=\"sk-toggleable__control sk-hidden--visually\" id=\"sk-estimator-id-5\" type=\"checkbox\" ><label for=\"sk-estimator-id-5\" class=\"sk-toggleable__label sk-toggleable__label-arrow\">estimator: Pipeline</label><div class=\"sk-toggleable__content\"><pre>Pipeline(steps=[(&#x27;Vectorizer&#x27;, TfidfVectorizer()),\n",
              "                (&#x27;Model&#x27;, MLPClassifier(max_iter=10000))])</pre></div></div></div><div class=\"sk-serial\"><div class=\"sk-item\"><div class=\"sk-serial\"><div class=\"sk-item\"><div class=\"sk-estimator sk-toggleable\"><input class=\"sk-toggleable__control sk-hidden--visually\" id=\"sk-estimator-id-6\" type=\"checkbox\" ><label for=\"sk-estimator-id-6\" class=\"sk-toggleable__label sk-toggleable__label-arrow\">TfidfVectorizer</label><div class=\"sk-toggleable__content\"><pre>TfidfVectorizer()</pre></div></div></div><div class=\"sk-item\"><div class=\"sk-estimator sk-toggleable\"><input class=\"sk-toggleable__control sk-hidden--visually\" id=\"sk-estimator-id-7\" type=\"checkbox\" ><label for=\"sk-estimator-id-7\" class=\"sk-toggleable__label sk-toggleable__label-arrow\">MLPClassifier</label><div class=\"sk-toggleable__content\"><pre>MLPClassifier(max_iter=10000)</pre></div></div></div></div></div></div></div></div></div></div></div></div>"
            ],
            "text/plain": [
              "GridSearchCV(cv=2,\n",
              "             estimator=Pipeline(steps=[('Vectorizer', TfidfVectorizer()),\n",
              "                                       ('Model',\n",
              "                                        MLPClassifier(max_iter=10000))]),\n",
              "             param_grid={'Model__activation': ['tanh', 'relu'],\n",
              "                         'Model__hidden_layer_sizes': [50, 100],\n",
              "                         'Vectorizer__max_df': [0.01, 0.1, 0.2],\n",
              "                         'Vectorizer__min_df': [3],\n",
              "                         'Vectorizer__ngram_range': [(1, 1), (1, 2)],\n",
              "                         'Vectorizer__use_idf': [True, False]},\n",
              "             verbose=1.5)"
            ]
          },
          "execution_count": 13,
          "metadata": {},
          "output_type": "execute_result"
        }
      ],
      "source": [
        "# Defining parameters for the param grid. Very intensive when it comes to computing time. https://scikit-learn.org/stable/modules/generated/sklearn.neural_network.MLPClassifier.html\n",
        "params = {\n",
        "    'Vectorizer__ngram_range':ngram_range,\n",
        "    'Vectorizer__min_df':min_df,\n",
        "    'Vectorizer__max_df':max_df,\n",
        "    'Vectorizer__use_idf':use_idf,\n",
        "    'Model__activation':['tanh','relu'],\n",
        "    'Model__hidden_layer_sizes':[50,100],\n",
        "}\n",
        "\n",
        "# Defining grid search with the pipeline\n",
        "searchMLP = GridSearchCV(\n",
        "    pipeMLP,\n",
        "    param_grid=params,\n",
        "    cv=2,\n",
        "    verbose = 1.5\n",
        ")\n",
        "\n",
        "# Fitting the grid search\n",
        "searchMLP.fit(X_train, y_train)"
      ]
    },
    {
      "cell_type": "code",
      "execution_count": null,
      "metadata": {
        "id": "TyFUJojo1os4",
        "outputId": "e6c6f145-6b4c-4322-def2-1c29d41c51c0"
      },
      "outputs": [
        {
          "name": "stdout",
          "output_type": "stream",
          "text": [
            "The results from: MLP\n",
            "Accuracy on training set: 1.000\n",
            "Accuracy on test set: 0.874\n",
            "Classification Report: \n",
            "               precision    recall  f1-score   support\n",
            "\n",
            "           1       0.87      0.87      0.87      6607\n",
            "           2       0.87      0.87      0.87      6593\n",
            "\n",
            "    accuracy                           0.87     13200\n",
            "   macro avg       0.87      0.87      0.87     13200\n",
            "weighted avg       0.87      0.87      0.87     13200\n",
            "\n",
            "Confusion Matrix: \n",
            " [[5772  835]\n",
            " [ 828 5765]]\n",
            "\n",
            " AUC-ROC:  0.8740155722397392\n",
            "Best params:  {'Model__activation': 'tanh', 'Model__hidden_layer_sizes': 50, 'Vectorizer__max_df': 0.2, 'Vectorizer__min_df': 3, 'Vectorizer__ngram_range': (1, 2), 'Vectorizer__use_idf': False}\n"
          ]
        }
      ],
      "source": [
        "# Printing the results\n",
        "printScoreParams('MLP', searchMLP)"
      ]
    },
    {
      "cell_type": "code",
      "execution_count": null,
      "metadata": {
        "id": "VwNZK5VXiXWf",
        "outputId": "33b20f84-315b-47c5-ead6-2fed74d36d77"
      },
      "outputs": [
        {
          "data": {
            "text/plain": [
              "['ML_Models/mlp_model_40K_Text.joblib']"
            ]
          },
          "execution_count": 15,
          "metadata": {},
          "output_type": "execute_result"
        }
      ],
      "source": [
        "#\n",
        "# BE careful before running this code! Make sure you dont overwrite a previous model!\n",
        "#\n",
        "# Joblip is loaded as \"dump\" https://www.projectpro.io/recipes/save-trained-model-in-python\n",
        "# Saving the model\n",
        "dump(searchMLP, 'ML_Models/mlp_model_insertText.joblib') \n",
        "\n",
        "# Downloading the file. Relevant in Google Colab\n",
        "#files.download('mlp_model_40K.joblib')"
      ]
    },
    {
      "cell_type": "code",
      "execution_count": null,
      "metadata": {
        "id": "Nna4rne_ih0r"
      },
      "outputs": [],
      "source": [
        "# Load the model with joblip\n",
        "#searchMLP = load('ML_Models/mlp_model_40K_Title.joblib') \n",
        "#searchMLP = load('ML_Models/mlp_model_4K_Title.joblib') \n",
        "searchMLP = load('ML_Models/mlp_model_40K_Text.joblib') "
      ]
    },
    {
      "cell_type": "code",
      "execution_count": null,
      "metadata": {
        "id": "kJ1Jw8QfjBXg",
        "outputId": "1fec5c03-574f-4b46-b2a8-feb86f6656f0"
      },
      "outputs": [
        {
          "name": "stdout",
          "output_type": "stream",
          "text": [
            "The results from: MLP\n",
            "Accuracy on training set: 1.000\n",
            "Accuracy on test set: 0.874\n",
            "Classification Report: \n",
            "               precision    recall  f1-score   support\n",
            "\n",
            "           1       0.87      0.87      0.87      6607\n",
            "           2       0.87      0.87      0.87      6593\n",
            "\n",
            "    accuracy                           0.87     13200\n",
            "   macro avg       0.87      0.87      0.87     13200\n",
            "weighted avg       0.87      0.87      0.87     13200\n",
            "\n",
            "Confusion Matrix: \n",
            " [[5772  835]\n",
            " [ 828 5765]]\n",
            "\n",
            " AUC-ROC:  0.8740155722397392\n",
            "Best params:  {'Model__activation': 'tanh', 'Model__hidden_layer_sizes': 50, 'Vectorizer__max_df': 0.2, 'Vectorizer__min_df': 3, 'Vectorizer__ngram_range': (1, 2), 'Vectorizer__use_idf': False}\n"
          ]
        }
      ],
      "source": [
        "# Printing the results\n",
        "printScoreParams('MLP', searchMLP)"
      ]
    },
    {
      "cell_type": "markdown",
      "metadata": {
        "id": "BTUShOdT1os4"
      },
      "source": [
        "### Naive Bayes"
      ]
    },
    {
      "cell_type": "code",
      "execution_count": null,
      "metadata": {
        "colab": {
          "base_uri": "https://localhost:8080/",
          "height": 126
        },
        "id": "oQuA8-vG1os4",
        "outputId": "b93da2ff-080a-4d7c-beca-e0b48eb7d852"
      },
      "outputs": [
        {
          "data": {
            "text/html": [
              "<style>#sk-container-id-3 {color: black;background-color: white;}#sk-container-id-3 pre{padding: 0;}#sk-container-id-3 div.sk-toggleable {background-color: white;}#sk-container-id-3 label.sk-toggleable__label {cursor: pointer;display: block;width: 100%;margin-bottom: 0;padding: 0.3em;box-sizing: border-box;text-align: center;}#sk-container-id-3 label.sk-toggleable__label-arrow:before {content: \"▸\";float: left;margin-right: 0.25em;color: #696969;}#sk-container-id-3 label.sk-toggleable__label-arrow:hover:before {color: black;}#sk-container-id-3 div.sk-estimator:hover label.sk-toggleable__label-arrow:before {color: black;}#sk-container-id-3 div.sk-toggleable__content {max-height: 0;max-width: 0;overflow: hidden;text-align: left;background-color: #f0f8ff;}#sk-container-id-3 div.sk-toggleable__content pre {margin: 0.2em;color: black;border-radius: 0.25em;background-color: #f0f8ff;}#sk-container-id-3 input.sk-toggleable__control:checked~div.sk-toggleable__content {max-height: 200px;max-width: 100%;overflow: auto;}#sk-container-id-3 input.sk-toggleable__control:checked~label.sk-toggleable__label-arrow:before {content: \"▾\";}#sk-container-id-3 div.sk-estimator input.sk-toggleable__control:checked~label.sk-toggleable__label {background-color: #d4ebff;}#sk-container-id-3 div.sk-label input.sk-toggleable__control:checked~label.sk-toggleable__label {background-color: #d4ebff;}#sk-container-id-3 input.sk-hidden--visually {border: 0;clip: rect(1px 1px 1px 1px);clip: rect(1px, 1px, 1px, 1px);height: 1px;margin: -1px;overflow: hidden;padding: 0;position: absolute;width: 1px;}#sk-container-id-3 div.sk-estimator {font-family: monospace;background-color: #f0f8ff;border: 1px dotted black;border-radius: 0.25em;box-sizing: border-box;margin-bottom: 0.5em;}#sk-container-id-3 div.sk-estimator:hover {background-color: #d4ebff;}#sk-container-id-3 div.sk-parallel-item::after {content: \"\";width: 100%;border-bottom: 1px solid gray;flex-grow: 1;}#sk-container-id-3 div.sk-label:hover label.sk-toggleable__label {background-color: #d4ebff;}#sk-container-id-3 div.sk-serial::before {content: \"\";position: absolute;border-left: 1px solid gray;box-sizing: border-box;top: 0;bottom: 0;left: 50%;z-index: 0;}#sk-container-id-3 div.sk-serial {display: flex;flex-direction: column;align-items: center;background-color: white;padding-right: 0.2em;padding-left: 0.2em;position: relative;}#sk-container-id-3 div.sk-item {position: relative;z-index: 1;}#sk-container-id-3 div.sk-parallel {display: flex;align-items: stretch;justify-content: center;background-color: white;position: relative;}#sk-container-id-3 div.sk-item::before, #sk-container-id-3 div.sk-parallel-item::before {content: \"\";position: absolute;border-left: 1px solid gray;box-sizing: border-box;top: 0;bottom: 0;left: 50%;z-index: -1;}#sk-container-id-3 div.sk-parallel-item {display: flex;flex-direction: column;z-index: 1;position: relative;background-color: white;}#sk-container-id-3 div.sk-parallel-item:first-child::after {align-self: flex-end;width: 50%;}#sk-container-id-3 div.sk-parallel-item:last-child::after {align-self: flex-start;width: 50%;}#sk-container-id-3 div.sk-parallel-item:only-child::after {width: 0;}#sk-container-id-3 div.sk-dashed-wrapped {border: 1px dashed gray;margin: 0 0.4em 0.5em 0.4em;box-sizing: border-box;padding-bottom: 0.4em;background-color: white;}#sk-container-id-3 div.sk-label label {font-family: monospace;font-weight: bold;display: inline-block;line-height: 1.2em;}#sk-container-id-3 div.sk-label-container {text-align: center;}#sk-container-id-3 div.sk-container {/* jupyter's `normalize.less` sets `[hidden] { display: none; }` but bootstrap.min.css set `[hidden] { display: none !important; }` so we also need the `!important` here to be able to override the default hidden behavior on the sphinx rendered scikit-learn.org. See: https://github.com/scikit-learn/scikit-learn/issues/21755 */display: inline-block !important;position: relative;}#sk-container-id-3 div.sk-text-repr-fallback {display: none;}</style><div id=\"sk-container-id-3\" class=\"sk-top-container\"><div class=\"sk-text-repr-fallback\"><pre>Pipeline(steps=[(&#x27;Vectorizer&#x27;, TfidfVectorizer()), (&#x27;Model&#x27;, MultinomialNB())])</pre><b>In a Jupyter environment, please rerun this cell to show the HTML representation or trust the notebook. <br />On GitHub, the HTML representation is unable to render, please try loading this page with nbviewer.org.</b></div><div class=\"sk-container\" hidden><div class=\"sk-item sk-dashed-wrapped\"><div class=\"sk-label-container\"><div class=\"sk-label sk-toggleable\"><input class=\"sk-toggleable__control sk-hidden--visually\" id=\"sk-estimator-id-8\" type=\"checkbox\" ><label for=\"sk-estimator-id-8\" class=\"sk-toggleable__label sk-toggleable__label-arrow\">Pipeline</label><div class=\"sk-toggleable__content\"><pre>Pipeline(steps=[(&#x27;Vectorizer&#x27;, TfidfVectorizer()), (&#x27;Model&#x27;, MultinomialNB())])</pre></div></div></div><div class=\"sk-serial\"><div class=\"sk-item\"><div class=\"sk-estimator sk-toggleable\"><input class=\"sk-toggleable__control sk-hidden--visually\" id=\"sk-estimator-id-9\" type=\"checkbox\" ><label for=\"sk-estimator-id-9\" class=\"sk-toggleable__label sk-toggleable__label-arrow\">TfidfVectorizer</label><div class=\"sk-toggleable__content\"><pre>TfidfVectorizer()</pre></div></div></div><div class=\"sk-item\"><div class=\"sk-estimator sk-toggleable\"><input class=\"sk-toggleable__control sk-hidden--visually\" id=\"sk-estimator-id-10\" type=\"checkbox\" ><label for=\"sk-estimator-id-10\" class=\"sk-toggleable__label sk-toggleable__label-arrow\">MultinomialNB</label><div class=\"sk-toggleable__content\"><pre>MultinomialNB()</pre></div></div></div></div></div></div></div>"
            ],
            "text/plain": [
              "Pipeline(steps=[('Vectorizer', TfidfVectorizer()), ('Model', MultinomialNB())])"
            ]
          },
          "execution_count": 13,
          "metadata": {},
          "output_type": "execute_result"
        }
      ],
      "source": [
        "# Defining pipe for Naive Bayes\n",
        "pipeNB = Pipeline(steps=[\n",
        "    ('Vectorizer', vectorizer),\n",
        "    ('Model', MultinomialNB())\n",
        "])\n",
        "\n",
        "# Fitting the pipeline with the data\n",
        "pipeNB.fit(X_train, y_train)"
      ]
    },
    {
      "cell_type": "code",
      "execution_count": null,
      "metadata": {
        "colab": {
          "base_uri": "https://localhost:8080/"
        },
        "id": "vx91eHrJ1os4",
        "outputId": "0f57d4ad-c72f-4b20-8283-9b0d1091aed0"
      },
      "outputs": [
        {
          "name": "stdout",
          "output_type": "stream",
          "text": [
            "Accuracy on training set: 0.896\n",
            "Accuracy on test set: 0.815\n"
          ]
        }
      ],
      "source": [
        "# Printing scores on the simple version of the model\n",
        "print(\"Accuracy on training set: {:.3f}\".format(pipeNB.score(X_train, y_train)))\n",
        "print(\"Accuracy on test set: {:.3f}\".format(pipeNB.score(X_test, y_test)))"
      ]
    },
    {
      "cell_type": "code",
      "execution_count": null,
      "metadata": {
        "colab": {
          "base_uri": "https://localhost:8080/",
          "height": 152
        },
        "id": "Mhoy8-Ip1os4",
        "outputId": "2cdabf17-ad66-42cf-9942-707e0df9d15d"
      },
      "outputs": [
        {
          "data": {
            "text/html": [
              "<style>#sk-container-id-4 {color: black;background-color: white;}#sk-container-id-4 pre{padding: 0;}#sk-container-id-4 div.sk-toggleable {background-color: white;}#sk-container-id-4 label.sk-toggleable__label {cursor: pointer;display: block;width: 100%;margin-bottom: 0;padding: 0.3em;box-sizing: border-box;text-align: center;}#sk-container-id-4 label.sk-toggleable__label-arrow:before {content: \"▸\";float: left;margin-right: 0.25em;color: #696969;}#sk-container-id-4 label.sk-toggleable__label-arrow:hover:before {color: black;}#sk-container-id-4 div.sk-estimator:hover label.sk-toggleable__label-arrow:before {color: black;}#sk-container-id-4 div.sk-toggleable__content {max-height: 0;max-width: 0;overflow: hidden;text-align: left;background-color: #f0f8ff;}#sk-container-id-4 div.sk-toggleable__content pre {margin: 0.2em;color: black;border-radius: 0.25em;background-color: #f0f8ff;}#sk-container-id-4 input.sk-toggleable__control:checked~div.sk-toggleable__content {max-height: 200px;max-width: 100%;overflow: auto;}#sk-container-id-4 input.sk-toggleable__control:checked~label.sk-toggleable__label-arrow:before {content: \"▾\";}#sk-container-id-4 div.sk-estimator input.sk-toggleable__control:checked~label.sk-toggleable__label {background-color: #d4ebff;}#sk-container-id-4 div.sk-label input.sk-toggleable__control:checked~label.sk-toggleable__label {background-color: #d4ebff;}#sk-container-id-4 input.sk-hidden--visually {border: 0;clip: rect(1px 1px 1px 1px);clip: rect(1px, 1px, 1px, 1px);height: 1px;margin: -1px;overflow: hidden;padding: 0;position: absolute;width: 1px;}#sk-container-id-4 div.sk-estimator {font-family: monospace;background-color: #f0f8ff;border: 1px dotted black;border-radius: 0.25em;box-sizing: border-box;margin-bottom: 0.5em;}#sk-container-id-4 div.sk-estimator:hover {background-color: #d4ebff;}#sk-container-id-4 div.sk-parallel-item::after {content: \"\";width: 100%;border-bottom: 1px solid gray;flex-grow: 1;}#sk-container-id-4 div.sk-label:hover label.sk-toggleable__label {background-color: #d4ebff;}#sk-container-id-4 div.sk-serial::before {content: \"\";position: absolute;border-left: 1px solid gray;box-sizing: border-box;top: 0;bottom: 0;left: 50%;z-index: 0;}#sk-container-id-4 div.sk-serial {display: flex;flex-direction: column;align-items: center;background-color: white;padding-right: 0.2em;padding-left: 0.2em;position: relative;}#sk-container-id-4 div.sk-item {position: relative;z-index: 1;}#sk-container-id-4 div.sk-parallel {display: flex;align-items: stretch;justify-content: center;background-color: white;position: relative;}#sk-container-id-4 div.sk-item::before, #sk-container-id-4 div.sk-parallel-item::before {content: \"\";position: absolute;border-left: 1px solid gray;box-sizing: border-box;top: 0;bottom: 0;left: 50%;z-index: -1;}#sk-container-id-4 div.sk-parallel-item {display: flex;flex-direction: column;z-index: 1;position: relative;background-color: white;}#sk-container-id-4 div.sk-parallel-item:first-child::after {align-self: flex-end;width: 50%;}#sk-container-id-4 div.sk-parallel-item:last-child::after {align-self: flex-start;width: 50%;}#sk-container-id-4 div.sk-parallel-item:only-child::after {width: 0;}#sk-container-id-4 div.sk-dashed-wrapped {border: 1px dashed gray;margin: 0 0.4em 0.5em 0.4em;box-sizing: border-box;padding-bottom: 0.4em;background-color: white;}#sk-container-id-4 div.sk-label label {font-family: monospace;font-weight: bold;display: inline-block;line-height: 1.2em;}#sk-container-id-4 div.sk-label-container {text-align: center;}#sk-container-id-4 div.sk-container {/* jupyter's `normalize.less` sets `[hidden] { display: none; }` but bootstrap.min.css set `[hidden] { display: none !important; }` so we also need the `!important` here to be able to override the default hidden behavior on the sphinx rendered scikit-learn.org. See: https://github.com/scikit-learn/scikit-learn/issues/21755 */display: inline-block !important;position: relative;}#sk-container-id-4 div.sk-text-repr-fallback {display: none;}</style><div id=\"sk-container-id-4\" class=\"sk-top-container\"><div class=\"sk-text-repr-fallback\"><pre>GridSearchCV(cv=2,\n",
              "             estimator=Pipeline(steps=[(&#x27;Vectorizer&#x27;, TfidfVectorizer()),\n",
              "                                       (&#x27;Model&#x27;, MultinomialNB())]),\n",
              "             param_grid={&#x27;Model__fit_prior&#x27;: [True, False],\n",
              "                         &#x27;Vectorizer__max_df&#x27;: [0.01, 0.1, 0.2],\n",
              "                         &#x27;Vectorizer__min_df&#x27;: [3],\n",
              "                         &#x27;Vectorizer__ngram_range&#x27;: [(1, 1), (1, 2)],\n",
              "                         &#x27;Vectorizer__use_idf&#x27;: [True, False]})</pre><b>In a Jupyter environment, please rerun this cell to show the HTML representation or trust the notebook. <br />On GitHub, the HTML representation is unable to render, please try loading this page with nbviewer.org.</b></div><div class=\"sk-container\" hidden><div class=\"sk-item sk-dashed-wrapped\"><div class=\"sk-label-container\"><div class=\"sk-label sk-toggleable\"><input class=\"sk-toggleable__control sk-hidden--visually\" id=\"sk-estimator-id-11\" type=\"checkbox\" ><label for=\"sk-estimator-id-11\" class=\"sk-toggleable__label sk-toggleable__label-arrow\">GridSearchCV</label><div class=\"sk-toggleable__content\"><pre>GridSearchCV(cv=2,\n",
              "             estimator=Pipeline(steps=[(&#x27;Vectorizer&#x27;, TfidfVectorizer()),\n",
              "                                       (&#x27;Model&#x27;, MultinomialNB())]),\n",
              "             param_grid={&#x27;Model__fit_prior&#x27;: [True, False],\n",
              "                         &#x27;Vectorizer__max_df&#x27;: [0.01, 0.1, 0.2],\n",
              "                         &#x27;Vectorizer__min_df&#x27;: [3],\n",
              "                         &#x27;Vectorizer__ngram_range&#x27;: [(1, 1), (1, 2)],\n",
              "                         &#x27;Vectorizer__use_idf&#x27;: [True, False]})</pre></div></div></div><div class=\"sk-parallel\"><div class=\"sk-parallel-item\"><div class=\"sk-item\"><div class=\"sk-label-container\"><div class=\"sk-label sk-toggleable\"><input class=\"sk-toggleable__control sk-hidden--visually\" id=\"sk-estimator-id-12\" type=\"checkbox\" ><label for=\"sk-estimator-id-12\" class=\"sk-toggleable__label sk-toggleable__label-arrow\">estimator: Pipeline</label><div class=\"sk-toggleable__content\"><pre>Pipeline(steps=[(&#x27;Vectorizer&#x27;, TfidfVectorizer()), (&#x27;Model&#x27;, MultinomialNB())])</pre></div></div></div><div class=\"sk-serial\"><div class=\"sk-item\"><div class=\"sk-serial\"><div class=\"sk-item\"><div class=\"sk-estimator sk-toggleable\"><input class=\"sk-toggleable__control sk-hidden--visually\" id=\"sk-estimator-id-13\" type=\"checkbox\" ><label for=\"sk-estimator-id-13\" class=\"sk-toggleable__label sk-toggleable__label-arrow\">TfidfVectorizer</label><div class=\"sk-toggleable__content\"><pre>TfidfVectorizer()</pre></div></div></div><div class=\"sk-item\"><div class=\"sk-estimator sk-toggleable\"><input class=\"sk-toggleable__control sk-hidden--visually\" id=\"sk-estimator-id-14\" type=\"checkbox\" ><label for=\"sk-estimator-id-14\" class=\"sk-toggleable__label sk-toggleable__label-arrow\">MultinomialNB</label><div class=\"sk-toggleable__content\"><pre>MultinomialNB()</pre></div></div></div></div></div></div></div></div></div></div></div></div>"
            ],
            "text/plain": [
              "GridSearchCV(cv=2,\n",
              "             estimator=Pipeline(steps=[('Vectorizer', TfidfVectorizer()),\n",
              "                                       ('Model', MultinomialNB())]),\n",
              "             param_grid={'Model__fit_prior': [True, False],\n",
              "                         'Vectorizer__max_df': [0.01, 0.1, 0.2],\n",
              "                         'Vectorizer__min_df': [3],\n",
              "                         'Vectorizer__ngram_range': [(1, 1), (1, 2)],\n",
              "                         'Vectorizer__use_idf': [True, False]})"
            ]
          },
          "execution_count": 15,
          "metadata": {},
          "output_type": "execute_result"
        }
      ],
      "source": [
        "# Defining parameters for the param grid. https://scikit-learn.org/stable/modules/generated/sklearn.naive_bayes.MultinomialNB.html\n",
        "params = {\n",
        "    'Vectorizer__ngram_range':ngram_range,\n",
        "    'Vectorizer__min_df':min_df,\n",
        "    'Vectorizer__max_df':max_df,\n",
        "    'Vectorizer__use_idf':use_idf,\n",
        "    'Model__fit_prior':[True,False]\n",
        "}\n",
        "\n",
        "# Defining grid search with the pipeline\n",
        "searchNB = GridSearchCV(\n",
        "    pipeNB,\n",
        "    param_grid=params,\n",
        "    cv=2\n",
        ")\n",
        "\n",
        "# Fitting the grid search\n",
        "searchNB.fit(X_train, y_train)"
      ]
    },
    {
      "cell_type": "code",
      "execution_count": null,
      "metadata": {
        "colab": {
          "base_uri": "https://localhost:8080/"
        },
        "id": "UyzG9TLd1os5",
        "outputId": "cb9be9a9-2fa8-4167-edba-64a500699142"
      },
      "outputs": [
        {
          "name": "stdout",
          "output_type": "stream",
          "text": [
            "The results from: \"D\" Naive Bayes\n",
            "Accuracy on training set: 0.936\n",
            "Accuracy on test set: 0.864\n",
            "Classification Report: \n",
            "               precision    recall  f1-score   support\n",
            "\n",
            "           1       0.85      0.88      0.87      6607\n",
            "           2       0.88      0.85      0.86      6593\n",
            "\n",
            "    accuracy                           0.86     13200\n",
            "   macro avg       0.86      0.86      0.86     13200\n",
            "weighted avg       0.86      0.86      0.86     13200\n",
            "\n",
            "Confusion Matrix: \n",
            " [[5823  784]\n",
            " [1007 5586]]\n",
            "\n",
            " AUC-ROC:  0.8643001113568746\n",
            "Best params:  {'Model__fit_prior': True, 'Vectorizer__max_df': 0.1, 'Vectorizer__min_df': 3, 'Vectorizer__ngram_range': (1, 2), 'Vectorizer__use_idf': True}\n"
          ]
        }
      ],
      "source": [
        "# Printing\n",
        "printScoreParams('\"D\" Naive Bayes', searchNB)"
      ]
    },
    {
      "cell_type": "markdown",
      "metadata": {
        "id": "edBk6Q2n1os5"
      },
      "source": [
        "### Random Forrest"
      ]
    },
    {
      "cell_type": "code",
      "execution_count": null,
      "metadata": {
        "colab": {
          "base_uri": "https://localhost:8080/",
          "height": 126
        },
        "id": "Sqy2YyxH1os5",
        "outputId": "94b614df-5e02-451b-f94c-029914f71f15"
      },
      "outputs": [
        {
          "data": {
            "text/html": [
              "<style>#sk-container-id-5 {color: black;background-color: white;}#sk-container-id-5 pre{padding: 0;}#sk-container-id-5 div.sk-toggleable {background-color: white;}#sk-container-id-5 label.sk-toggleable__label {cursor: pointer;display: block;width: 100%;margin-bottom: 0;padding: 0.3em;box-sizing: border-box;text-align: center;}#sk-container-id-5 label.sk-toggleable__label-arrow:before {content: \"▸\";float: left;margin-right: 0.25em;color: #696969;}#sk-container-id-5 label.sk-toggleable__label-arrow:hover:before {color: black;}#sk-container-id-5 div.sk-estimator:hover label.sk-toggleable__label-arrow:before {color: black;}#sk-container-id-5 div.sk-toggleable__content {max-height: 0;max-width: 0;overflow: hidden;text-align: left;background-color: #f0f8ff;}#sk-container-id-5 div.sk-toggleable__content pre {margin: 0.2em;color: black;border-radius: 0.25em;background-color: #f0f8ff;}#sk-container-id-5 input.sk-toggleable__control:checked~div.sk-toggleable__content {max-height: 200px;max-width: 100%;overflow: auto;}#sk-container-id-5 input.sk-toggleable__control:checked~label.sk-toggleable__label-arrow:before {content: \"▾\";}#sk-container-id-5 div.sk-estimator input.sk-toggleable__control:checked~label.sk-toggleable__label {background-color: #d4ebff;}#sk-container-id-5 div.sk-label input.sk-toggleable__control:checked~label.sk-toggleable__label {background-color: #d4ebff;}#sk-container-id-5 input.sk-hidden--visually {border: 0;clip: rect(1px 1px 1px 1px);clip: rect(1px, 1px, 1px, 1px);height: 1px;margin: -1px;overflow: hidden;padding: 0;position: absolute;width: 1px;}#sk-container-id-5 div.sk-estimator {font-family: monospace;background-color: #f0f8ff;border: 1px dotted black;border-radius: 0.25em;box-sizing: border-box;margin-bottom: 0.5em;}#sk-container-id-5 div.sk-estimator:hover {background-color: #d4ebff;}#sk-container-id-5 div.sk-parallel-item::after {content: \"\";width: 100%;border-bottom: 1px solid gray;flex-grow: 1;}#sk-container-id-5 div.sk-label:hover label.sk-toggleable__label {background-color: #d4ebff;}#sk-container-id-5 div.sk-serial::before {content: \"\";position: absolute;border-left: 1px solid gray;box-sizing: border-box;top: 0;bottom: 0;left: 50%;z-index: 0;}#sk-container-id-5 div.sk-serial {display: flex;flex-direction: column;align-items: center;background-color: white;padding-right: 0.2em;padding-left: 0.2em;position: relative;}#sk-container-id-5 div.sk-item {position: relative;z-index: 1;}#sk-container-id-5 div.sk-parallel {display: flex;align-items: stretch;justify-content: center;background-color: white;position: relative;}#sk-container-id-5 div.sk-item::before, #sk-container-id-5 div.sk-parallel-item::before {content: \"\";position: absolute;border-left: 1px solid gray;box-sizing: border-box;top: 0;bottom: 0;left: 50%;z-index: -1;}#sk-container-id-5 div.sk-parallel-item {display: flex;flex-direction: column;z-index: 1;position: relative;background-color: white;}#sk-container-id-5 div.sk-parallel-item:first-child::after {align-self: flex-end;width: 50%;}#sk-container-id-5 div.sk-parallel-item:last-child::after {align-self: flex-start;width: 50%;}#sk-container-id-5 div.sk-parallel-item:only-child::after {width: 0;}#sk-container-id-5 div.sk-dashed-wrapped {border: 1px dashed gray;margin: 0 0.4em 0.5em 0.4em;box-sizing: border-box;padding-bottom: 0.4em;background-color: white;}#sk-container-id-5 div.sk-label label {font-family: monospace;font-weight: bold;display: inline-block;line-height: 1.2em;}#sk-container-id-5 div.sk-label-container {text-align: center;}#sk-container-id-5 div.sk-container {/* jupyter's `normalize.less` sets `[hidden] { display: none; }` but bootstrap.min.css set `[hidden] { display: none !important; }` so we also need the `!important` here to be able to override the default hidden behavior on the sphinx rendered scikit-learn.org. See: https://github.com/scikit-learn/scikit-learn/issues/21755 */display: inline-block !important;position: relative;}#sk-container-id-5 div.sk-text-repr-fallback {display: none;}</style><div id=\"sk-container-id-5\" class=\"sk-top-container\"><div class=\"sk-text-repr-fallback\"><pre>Pipeline(steps=[(&#x27;Vectorizer&#x27;, TfidfVectorizer()),\n",
              "                (&#x27;Model&#x27;, RandomForestClassifier())])</pre><b>In a Jupyter environment, please rerun this cell to show the HTML representation or trust the notebook. <br />On GitHub, the HTML representation is unable to render, please try loading this page with nbviewer.org.</b></div><div class=\"sk-container\" hidden><div class=\"sk-item sk-dashed-wrapped\"><div class=\"sk-label-container\"><div class=\"sk-label sk-toggleable\"><input class=\"sk-toggleable__control sk-hidden--visually\" id=\"sk-estimator-id-15\" type=\"checkbox\" ><label for=\"sk-estimator-id-15\" class=\"sk-toggleable__label sk-toggleable__label-arrow\">Pipeline</label><div class=\"sk-toggleable__content\"><pre>Pipeline(steps=[(&#x27;Vectorizer&#x27;, TfidfVectorizer()),\n",
              "                (&#x27;Model&#x27;, RandomForestClassifier())])</pre></div></div></div><div class=\"sk-serial\"><div class=\"sk-item\"><div class=\"sk-estimator sk-toggleable\"><input class=\"sk-toggleable__control sk-hidden--visually\" id=\"sk-estimator-id-16\" type=\"checkbox\" ><label for=\"sk-estimator-id-16\" class=\"sk-toggleable__label sk-toggleable__label-arrow\">TfidfVectorizer</label><div class=\"sk-toggleable__content\"><pre>TfidfVectorizer()</pre></div></div></div><div class=\"sk-item\"><div class=\"sk-estimator sk-toggleable\"><input class=\"sk-toggleable__control sk-hidden--visually\" id=\"sk-estimator-id-17\" type=\"checkbox\" ><label for=\"sk-estimator-id-17\" class=\"sk-toggleable__label sk-toggleable__label-arrow\">RandomForestClassifier</label><div class=\"sk-toggleable__content\"><pre>RandomForestClassifier()</pre></div></div></div></div></div></div></div>"
            ],
            "text/plain": [
              "Pipeline(steps=[('Vectorizer', TfidfVectorizer()),\n",
              "                ('Model', RandomForestClassifier())])"
            ]
          },
          "execution_count": 19,
          "metadata": {},
          "output_type": "execute_result"
        }
      ],
      "source": [
        "# Defining pipe for Random Forrest\n",
        "pipeRF = Pipeline(steps=[\n",
        "    ('Vectorizer', vectorizer),\n",
        "    ('Model', RandomForestClassifier())\n",
        "])\n",
        "\n",
        "# Fitting the pipeline with the data\n",
        "pipeRF.fit(X_train, y_train)"
      ]
    },
    {
      "cell_type": "code",
      "execution_count": null,
      "metadata": {
        "colab": {
          "base_uri": "https://localhost:8080/"
        },
        "id": "j-HTXnp41os5",
        "outputId": "233a498b-6b3a-4f47-ea92-8e65af94738e"
      },
      "outputs": [
        {
          "name": "stdout",
          "output_type": "stream",
          "text": [
            "Accuracy on training set: 0.995\n",
            "Accuracy on test set: 0.798\n"
          ]
        }
      ],
      "source": [
        "# Printing scores on the simple version of the model\n",
        "print(\"Accuracy on training set: {:.3f}\".format(pipeRF.score(X_train, y_train)))\n",
        "print(\"Accuracy on test set: {:.3f}\".format(pipeRF.score(X_test, y_test)))"
      ]
    },
    {
      "cell_type": "code",
      "execution_count": null,
      "metadata": {
        "colab": {
          "base_uri": "https://localhost:8080/",
          "height": 152
        },
        "id": "CRIybHlQ1os5",
        "outputId": "3c38b56c-44a8-48f5-93ec-bb0c0a75775e"
      },
      "outputs": [
        {
          "data": {
            "text/html": [
              "<style>#sk-container-id-6 {color: black;background-color: white;}#sk-container-id-6 pre{padding: 0;}#sk-container-id-6 div.sk-toggleable {background-color: white;}#sk-container-id-6 label.sk-toggleable__label {cursor: pointer;display: block;width: 100%;margin-bottom: 0;padding: 0.3em;box-sizing: border-box;text-align: center;}#sk-container-id-6 label.sk-toggleable__label-arrow:before {content: \"▸\";float: left;margin-right: 0.25em;color: #696969;}#sk-container-id-6 label.sk-toggleable__label-arrow:hover:before {color: black;}#sk-container-id-6 div.sk-estimator:hover label.sk-toggleable__label-arrow:before {color: black;}#sk-container-id-6 div.sk-toggleable__content {max-height: 0;max-width: 0;overflow: hidden;text-align: left;background-color: #f0f8ff;}#sk-container-id-6 div.sk-toggleable__content pre {margin: 0.2em;color: black;border-radius: 0.25em;background-color: #f0f8ff;}#sk-container-id-6 input.sk-toggleable__control:checked~div.sk-toggleable__content {max-height: 200px;max-width: 100%;overflow: auto;}#sk-container-id-6 input.sk-toggleable__control:checked~label.sk-toggleable__label-arrow:before {content: \"▾\";}#sk-container-id-6 div.sk-estimator input.sk-toggleable__control:checked~label.sk-toggleable__label {background-color: #d4ebff;}#sk-container-id-6 div.sk-label input.sk-toggleable__control:checked~label.sk-toggleable__label {background-color: #d4ebff;}#sk-container-id-6 input.sk-hidden--visually {border: 0;clip: rect(1px 1px 1px 1px);clip: rect(1px, 1px, 1px, 1px);height: 1px;margin: -1px;overflow: hidden;padding: 0;position: absolute;width: 1px;}#sk-container-id-6 div.sk-estimator {font-family: monospace;background-color: #f0f8ff;border: 1px dotted black;border-radius: 0.25em;box-sizing: border-box;margin-bottom: 0.5em;}#sk-container-id-6 div.sk-estimator:hover {background-color: #d4ebff;}#sk-container-id-6 div.sk-parallel-item::after {content: \"\";width: 100%;border-bottom: 1px solid gray;flex-grow: 1;}#sk-container-id-6 div.sk-label:hover label.sk-toggleable__label {background-color: #d4ebff;}#sk-container-id-6 div.sk-serial::before {content: \"\";position: absolute;border-left: 1px solid gray;box-sizing: border-box;top: 0;bottom: 0;left: 50%;z-index: 0;}#sk-container-id-6 div.sk-serial {display: flex;flex-direction: column;align-items: center;background-color: white;padding-right: 0.2em;padding-left: 0.2em;position: relative;}#sk-container-id-6 div.sk-item {position: relative;z-index: 1;}#sk-container-id-6 div.sk-parallel {display: flex;align-items: stretch;justify-content: center;background-color: white;position: relative;}#sk-container-id-6 div.sk-item::before, #sk-container-id-6 div.sk-parallel-item::before {content: \"\";position: absolute;border-left: 1px solid gray;box-sizing: border-box;top: 0;bottom: 0;left: 50%;z-index: -1;}#sk-container-id-6 div.sk-parallel-item {display: flex;flex-direction: column;z-index: 1;position: relative;background-color: white;}#sk-container-id-6 div.sk-parallel-item:first-child::after {align-self: flex-end;width: 50%;}#sk-container-id-6 div.sk-parallel-item:last-child::after {align-self: flex-start;width: 50%;}#sk-container-id-6 div.sk-parallel-item:only-child::after {width: 0;}#sk-container-id-6 div.sk-dashed-wrapped {border: 1px dashed gray;margin: 0 0.4em 0.5em 0.4em;box-sizing: border-box;padding-bottom: 0.4em;background-color: white;}#sk-container-id-6 div.sk-label label {font-family: monospace;font-weight: bold;display: inline-block;line-height: 1.2em;}#sk-container-id-6 div.sk-label-container {text-align: center;}#sk-container-id-6 div.sk-container {/* jupyter's `normalize.less` sets `[hidden] { display: none; }` but bootstrap.min.css set `[hidden] { display: none !important; }` so we also need the `!important` here to be able to override the default hidden behavior on the sphinx rendered scikit-learn.org. See: https://github.com/scikit-learn/scikit-learn/issues/21755 */display: inline-block !important;position: relative;}#sk-container-id-6 div.sk-text-repr-fallback {display: none;}</style><div id=\"sk-container-id-6\" class=\"sk-top-container\"><div class=\"sk-text-repr-fallback\"><pre>GridSearchCV(cv=2,\n",
              "             estimator=Pipeline(steps=[(&#x27;Vectorizer&#x27;, TfidfVectorizer()),\n",
              "                                       (&#x27;Model&#x27;, RandomForestClassifier())]),\n",
              "             param_grid={&#x27;Model__max_depth&#x27;: [5, 10],\n",
              "                         &#x27;Model__min_samples_leaf&#x27;: [5, 10],\n",
              "                         &#x27;Model__n_estimators&#x27;: [50, 100, 150],\n",
              "                         &#x27;Model__random_state&#x27;: [42],\n",
              "                         &#x27;Vectorizer__max_df&#x27;: [0.01, 0.1, 0.2],\n",
              "                         &#x27;Vectorizer__min_df&#x27;: [3],\n",
              "                         &#x27;Vectorizer__ngram_range&#x27;: [(1, 1), (1, 2)],\n",
              "                         &#x27;Vectorizer__use_idf&#x27;: [True, False]})</pre><b>In a Jupyter environment, please rerun this cell to show the HTML representation or trust the notebook. <br />On GitHub, the HTML representation is unable to render, please try loading this page with nbviewer.org.</b></div><div class=\"sk-container\" hidden><div class=\"sk-item sk-dashed-wrapped\"><div class=\"sk-label-container\"><div class=\"sk-label sk-toggleable\"><input class=\"sk-toggleable__control sk-hidden--visually\" id=\"sk-estimator-id-18\" type=\"checkbox\" ><label for=\"sk-estimator-id-18\" class=\"sk-toggleable__label sk-toggleable__label-arrow\">GridSearchCV</label><div class=\"sk-toggleable__content\"><pre>GridSearchCV(cv=2,\n",
              "             estimator=Pipeline(steps=[(&#x27;Vectorizer&#x27;, TfidfVectorizer()),\n",
              "                                       (&#x27;Model&#x27;, RandomForestClassifier())]),\n",
              "             param_grid={&#x27;Model__max_depth&#x27;: [5, 10],\n",
              "                         &#x27;Model__min_samples_leaf&#x27;: [5, 10],\n",
              "                         &#x27;Model__n_estimators&#x27;: [50, 100, 150],\n",
              "                         &#x27;Model__random_state&#x27;: [42],\n",
              "                         &#x27;Vectorizer__max_df&#x27;: [0.01, 0.1, 0.2],\n",
              "                         &#x27;Vectorizer__min_df&#x27;: [3],\n",
              "                         &#x27;Vectorizer__ngram_range&#x27;: [(1, 1), (1, 2)],\n",
              "                         &#x27;Vectorizer__use_idf&#x27;: [True, False]})</pre></div></div></div><div class=\"sk-parallel\"><div class=\"sk-parallel-item\"><div class=\"sk-item\"><div class=\"sk-label-container\"><div class=\"sk-label sk-toggleable\"><input class=\"sk-toggleable__control sk-hidden--visually\" id=\"sk-estimator-id-19\" type=\"checkbox\" ><label for=\"sk-estimator-id-19\" class=\"sk-toggleable__label sk-toggleable__label-arrow\">estimator: Pipeline</label><div class=\"sk-toggleable__content\"><pre>Pipeline(steps=[(&#x27;Vectorizer&#x27;, TfidfVectorizer()),\n",
              "                (&#x27;Model&#x27;, RandomForestClassifier())])</pre></div></div></div><div class=\"sk-serial\"><div class=\"sk-item\"><div class=\"sk-serial\"><div class=\"sk-item\"><div class=\"sk-estimator sk-toggleable\"><input class=\"sk-toggleable__control sk-hidden--visually\" id=\"sk-estimator-id-20\" type=\"checkbox\" ><label for=\"sk-estimator-id-20\" class=\"sk-toggleable__label sk-toggleable__label-arrow\">TfidfVectorizer</label><div class=\"sk-toggleable__content\"><pre>TfidfVectorizer()</pre></div></div></div><div class=\"sk-item\"><div class=\"sk-estimator sk-toggleable\"><input class=\"sk-toggleable__control sk-hidden--visually\" id=\"sk-estimator-id-21\" type=\"checkbox\" ><label for=\"sk-estimator-id-21\" class=\"sk-toggleable__label sk-toggleable__label-arrow\">RandomForestClassifier</label><div class=\"sk-toggleable__content\"><pre>RandomForestClassifier()</pre></div></div></div></div></div></div></div></div></div></div></div></div>"
            ],
            "text/plain": [
              "GridSearchCV(cv=2,\n",
              "             estimator=Pipeline(steps=[('Vectorizer', TfidfVectorizer()),\n",
              "                                       ('Model', RandomForestClassifier())]),\n",
              "             param_grid={'Model__max_depth': [5, 10],\n",
              "                         'Model__min_samples_leaf': [5, 10],\n",
              "                         'Model__n_estimators': [50, 100, 150],\n",
              "                         'Model__random_state': [42],\n",
              "                         'Vectorizer__max_df': [0.01, 0.1, 0.2],\n",
              "                         'Vectorizer__min_df': [3],\n",
              "                         'Vectorizer__ngram_range': [(1, 1), (1, 2)],\n",
              "                         'Vectorizer__use_idf': [True, False]})"
            ]
          },
          "execution_count": 21,
          "metadata": {},
          "output_type": "execute_result"
        }
      ],
      "source": [
        "# Defining parameters for the param grid\n",
        "params = {\n",
        "    'Vectorizer__ngram_range':ngram_range,\n",
        "    'Vectorizer__min_df':min_df,\n",
        "    'Vectorizer__max_df':max_df,\n",
        "    'Vectorizer__use_idf':use_idf,\n",
        "    'Model__n_estimators':[50,100,150], # other parameters to be defined\n",
        "    'Model__max_depth':[5,10],\n",
        "    'Model__min_samples_leaf':[5,10],\n",
        "    'Model__random_state':[42]\n",
        "}\n",
        "\n",
        "# Defining grid search with the pipeline\n",
        "searchRF = GridSearchCV(\n",
        "    pipeRF,\n",
        "    param_grid=params,\n",
        "    cv=2,\n",
        ")\n",
        "\n",
        "# Fitting the grid search\n",
        "searchRF.fit(X_train, y_train)"
      ]
    },
    {
      "cell_type": "code",
      "execution_count": null,
      "metadata": {
        "colab": {
          "base_uri": "https://localhost:8080/"
        },
        "id": "Bavoq4zg1os6",
        "outputId": "4b0ad194-e1e1-43b2-bdd8-23e594aab105"
      },
      "outputs": [
        {
          "name": "stdout",
          "output_type": "stream",
          "text": [
            "The results from: \"M\" Random Forest\n",
            "Accuracy on training set: 0.753\n",
            "Accuracy on test set: 0.742\n",
            "Classification Report: \n",
            "               precision    recall  f1-score   support\n",
            "\n",
            "           1       0.83      0.61      0.70      6607\n",
            "           2       0.69      0.87      0.77      6593\n",
            "\n",
            "    accuracy                           0.74     13200\n",
            "   macro avg       0.76      0.74      0.74     13200\n",
            "weighted avg       0.76      0.74      0.74     13200\n",
            "\n",
            "Confusion Matrix: \n",
            " [[4054 2553]\n",
            " [ 857 5736]]\n",
            "\n",
            " AUC-ROC:  0.7418026480332818\n",
            "Best params:  {'Model__max_depth': 10, 'Model__min_samples_leaf': 5, 'Model__n_estimators': 150, 'Model__random_state': 42, 'Vectorizer__max_df': 0.2, 'Vectorizer__min_df': 3, 'Vectorizer__ngram_range': (1, 1), 'Vectorizer__use_idf': False}\n"
          ]
        }
      ],
      "source": [
        "# Printing\n",
        "printScoreParams('\"M\" Random Forest', searchRF)"
      ]
    },
    {
      "cell_type": "markdown",
      "metadata": {
        "id": "uK-vxvQE1os6"
      },
      "source": [
        "## BERT"
      ]
    },
    {
      "cell_type": "markdown",
      "metadata": {
        "id": "DRxhtSLA1os6"
      },
      "source": [
        "Next up, we want to use Bert for preprocessing. Note that the BERT embeddings are saved as a file!"
      ]
    },
    {
      "cell_type": "code",
      "execution_count": null,
      "metadata": {
        "id": "ybzLPT_q0Qu6"
      },
      "outputs": [],
      "source": [
        "# Empty the cache to free memory for calculating BERT. Only relevant when iterating through the entire BERT process in Google colab\n",
        "#del bert\n",
        "# torch.cuda.empty_cache()"
      ]
    },
    {
      "cell_type": "code",
      "execution_count": 7,
      "metadata": {
        "colab": {
          "base_uri": "https://localhost:8080/"
        },
        "id": "fb7ZIbIKwk0D",
        "outputId": "49930c6e-c752-451c-8cb5-437c488581f0"
      },
      "outputs": [
        {
          "output_type": "stream",
          "name": "stdout",
          "text": [
            "Thu May 18 11:10:17 2023       \n",
            "+-----------------------------------------------------------------------------+\n",
            "| NVIDIA-SMI 525.85.12    Driver Version: 525.85.12    CUDA Version: 12.0     |\n",
            "|-------------------------------+----------------------+----------------------+\n",
            "| GPU  Name        Persistence-M| Bus-Id        Disp.A | Volatile Uncorr. ECC |\n",
            "| Fan  Temp  Perf  Pwr:Usage/Cap|         Memory-Usage | GPU-Util  Compute M. |\n",
            "|                               |                      |               MIG M. |\n",
            "|===============================+======================+======================|\n",
            "|   0  Tesla T4            Off  | 00000000:00:04.0 Off |                    0 |\n",
            "| N/A   56C    P8    10W /  70W |      3MiB / 15360MiB |      0%      Default |\n",
            "|                               |                      |                  N/A |\n",
            "+-------------------------------+----------------------+----------------------+\n",
            "                                                                               \n",
            "+-----------------------------------------------------------------------------+\n",
            "| Processes:                                                                  |\n",
            "|  GPU   GI   CI        PID   Type   Process name                  GPU Memory |\n",
            "|        ID   ID                                                   Usage      |\n",
            "|=============================================================================|\n",
            "|  No running processes found                                                 |\n",
            "+-----------------------------------------------------------------------------+\n"
          ]
        }
      ],
      "source": [
        "# Checking status of the GPU\n",
        "!nvidia-smi"
      ]
    },
    {
      "cell_type": "code",
      "execution_count": 8,
      "metadata": {
        "id": "T1Lds5Pz1os6"
      },
      "outputs": [],
      "source": [
        "# Check if GPU is available and if not, fall back on CPU. Relevant when using Google Colab\n",
        "device = torch.device(\"cuda\" if torch.cuda.is_available() else \"cpu\")\n",
        "\n",
        "# Configuration. Choosing the type of BERT model, distilbert is the \"smaller\" one\n",
        "modelName = 'distilbert-base-uncased'"
      ]
    },
    {
      "cell_type": "code",
      "execution_count": 9,
      "metadata": {
        "colab": {
          "base_uri": "https://localhost:8080/",
          "height": 249,
          "referenced_widgets": [
            "41eecdc8409a40509c8489febc9c7277",
            "d4b91b32cf8747b48034bcf42554085f",
            "3e4f2f50cdca4c11bc4b7e81ada7f210",
            "c954066a36d2464f94f081ec4e4838b8",
            "238c55e1dffb47d0a88702c5ab9c0d2d",
            "71c8861c510442b38e970e67428fef11",
            "c52a91b8c512462794420a9518d2be2f",
            "59f120aa446d4621ae284d779a8c8b68",
            "7285bbb0619949e88b0c51403db4cbf1",
            "694207a907ec4a2b9a9d58b4d311a6a7",
            "b08c113110ea47409d6a6101dd59e80a",
            "43d269f5b83043feb3796e7250a700d1",
            "d08fc1c8052d4599a47bbc28369b2511",
            "c694d03dbdc645e9b111ed70a8e8e3fd",
            "a148a94e322c408b91432158dfb1351f",
            "cf23c1ef45de49c793bc495748719493",
            "2fda7dce104746c49109d0e33a0f01fa",
            "85e65d1142464c1ca7b42507590957be",
            "ed9afd0af9ab489ca7e49d35ef3808a5",
            "1fcef240128a4fcfa6f5d9963cd6308f",
            "5362effc8eff4c9d9f13efd3969290f3",
            "e413e8ec0b5a4e25b1d2e6ae38423d55",
            "c18cd962f0c04bb29862ffea1844da29",
            "35f368d4e72246b4ac3b1da81de34979",
            "c5d2cd0524444570a5023f37f2d8d350",
            "9b3874237b014229801936993a759a34",
            "46a33afdb6ea4d75b53859efa97fceb6",
            "e4fcd48679e946cc9eb987437c768577",
            "402501a88800416cacf07ddb01d68bdb",
            "15958d99370d46d5a44fd16d04ad41b2",
            "faf75ba1f85f4a2c91ffc5d36a2a7c07",
            "825dd396748f46428ca19ae9dfb14584",
            "365dc99e1e504131826bb6079e5ab2cd",
            "36bd78d1aaab40b7b6576f4837625b1b",
            "0928267d6f164f47adad39acc7cb485e",
            "06c8bc2fdb6e44d5ab6880ae6dd794b5",
            "d5acdaccaeb7437b91cb10f3a6bb4be8",
            "9c233ddc13074397ae4ca247ede29805",
            "a2b308c1517045648658e54e4f3db7cf",
            "ab9fe3e6689e4512bcc1c62f60b7bfef",
            "27e745c4108b435faa79ae40431f4a28",
            "2a4e2941bd1f4d2294c3e4050ba46804",
            "355658f316fb48fc8541075cffb894bb",
            "20a4929912cd4b309fadd005a91fd6fe",
            "459c19fd9ad544788debc7094ce926f2",
            "e8d4ea10e988495a91edcb0a79f18b62",
            "64fe2426bbe647039568b173dd7d9139",
            "ac5b7f12894c46d78060c9ae3c52fb75",
            "030f4b809a7c46a78a8dee96cd60b5ca",
            "36e7cdfcc3984ed3ad496f66f9fc496c",
            "bda2fafa9438435abafa74d17005b376",
            "7f06912427e14534987cbe609380ec06",
            "d063798c953740df9a1dbc57c85f63a2",
            "4c0e9d2e272c41d59d1c6533ee374c4f",
            "29063e6c27664b33b66f4671581c9802"
          ]
        },
        "id": "MjHsmkkR1os6",
        "outputId": "d6ca57d3-5f3a-4e95-bb2e-332306ba9ca6"
      },
      "outputs": [
        {
          "output_type": "display_data",
          "data": {
            "text/plain": [
              "Downloading (…)lve/main/config.json:   0%|          | 0.00/483 [00:00<?, ?B/s]"
            ],
            "application/vnd.jupyter.widget-view+json": {
              "version_major": 2,
              "version_minor": 0,
              "model_id": "41eecdc8409a40509c8489febc9c7277"
            }
          },
          "metadata": {}
        },
        {
          "output_type": "display_data",
          "data": {
            "text/plain": [
              "Downloading pytorch_model.bin:   0%|          | 0.00/268M [00:00<?, ?B/s]"
            ],
            "application/vnd.jupyter.widget-view+json": {
              "version_major": 2,
              "version_minor": 0,
              "model_id": "43d269f5b83043feb3796e7250a700d1"
            }
          },
          "metadata": {}
        },
        {
          "output_type": "stream",
          "name": "stderr",
          "text": [
            "Some weights of the model checkpoint at distilbert-base-uncased were not used when initializing DistilBertModel: ['vocab_transform.bias', 'vocab_projector.weight', 'vocab_layer_norm.bias', 'vocab_projector.bias', 'vocab_transform.weight', 'vocab_layer_norm.weight']\n",
            "- This IS expected if you are initializing DistilBertModel from the checkpoint of a model trained on another task or with another architecture (e.g. initializing a BertForSequenceClassification model from a BertForPreTraining model).\n",
            "- This IS NOT expected if you are initializing DistilBertModel from the checkpoint of a model that you expect to be exactly identical (initializing a BertForSequenceClassification model from a BertForSequenceClassification model).\n"
          ]
        },
        {
          "output_type": "display_data",
          "data": {
            "text/plain": [
              "Downloading (…)okenizer_config.json:   0%|          | 0.00/28.0 [00:00<?, ?B/s]"
            ],
            "application/vnd.jupyter.widget-view+json": {
              "version_major": 2,
              "version_minor": 0,
              "model_id": "c18cd962f0c04bb29862ffea1844da29"
            }
          },
          "metadata": {}
        },
        {
          "output_type": "display_data",
          "data": {
            "text/plain": [
              "Downloading (…)solve/main/vocab.txt:   0%|          | 0.00/232k [00:00<?, ?B/s]"
            ],
            "application/vnd.jupyter.widget-view+json": {
              "version_major": 2,
              "version_minor": 0,
              "model_id": "36bd78d1aaab40b7b6576f4837625b1b"
            }
          },
          "metadata": {}
        },
        {
          "output_type": "display_data",
          "data": {
            "text/plain": [
              "Downloading (…)/main/tokenizer.json:   0%|          | 0.00/466k [00:00<?, ?B/s]"
            ],
            "application/vnd.jupyter.widget-view+json": {
              "version_major": 2,
              "version_minor": 0,
              "model_id": "459c19fd9ad544788debc7094ce926f2"
            }
          },
          "metadata": {}
        }
      ],
      "source": [
        "# Retreiving Bert\n",
        "bert = AutoModel.from_pretrained(modelName)\n",
        "\n",
        "# Move model to the device, to leverage GPU if available\n",
        "bert = bert.to(device)\n",
        "\n",
        "BertToken = AutoTokenizer.from_pretrained(modelName)\n",
        "#print(bert)"
      ]
    },
    {
      "cell_type": "code",
      "execution_count": 10,
      "metadata": {
        "colab": {
          "base_uri": "https://localhost:8080/",
          "height": 300
        },
        "id": "SJHSyZSf1os6",
        "outputId": "81f537a6-2454-4d18-8817-84be603197ad"
      },
      "outputs": [
        {
          "output_type": "execute_result",
          "data": {
            "text/plain": [
              "          polarity\n",
              "count  4000.000000\n",
              "mean      1.494750\n",
              "std       0.500035\n",
              "min       1.000000\n",
              "25%       1.000000\n",
              "50%       1.000000\n",
              "75%       2.000000\n",
              "max       2.000000"
            ],
            "text/html": [
              "\n",
              "  <div id=\"df-a6060a11-4300-4c59-89a5-8df2d1b7b0f1\">\n",
              "    <div class=\"colab-df-container\">\n",
              "      <div>\n",
              "<style scoped>\n",
              "    .dataframe tbody tr th:only-of-type {\n",
              "        vertical-align: middle;\n",
              "    }\n",
              "\n",
              "    .dataframe tbody tr th {\n",
              "        vertical-align: top;\n",
              "    }\n",
              "\n",
              "    .dataframe thead th {\n",
              "        text-align: right;\n",
              "    }\n",
              "</style>\n",
              "<table border=\"1\" class=\"dataframe\">\n",
              "  <thead>\n",
              "    <tr style=\"text-align: right;\">\n",
              "      <th></th>\n",
              "      <th>polarity</th>\n",
              "    </tr>\n",
              "  </thead>\n",
              "  <tbody>\n",
              "    <tr>\n",
              "      <th>count</th>\n",
              "      <td>4000.000000</td>\n",
              "    </tr>\n",
              "    <tr>\n",
              "      <th>mean</th>\n",
              "      <td>1.494750</td>\n",
              "    </tr>\n",
              "    <tr>\n",
              "      <th>std</th>\n",
              "      <td>0.500035</td>\n",
              "    </tr>\n",
              "    <tr>\n",
              "      <th>min</th>\n",
              "      <td>1.000000</td>\n",
              "    </tr>\n",
              "    <tr>\n",
              "      <th>25%</th>\n",
              "      <td>1.000000</td>\n",
              "    </tr>\n",
              "    <tr>\n",
              "      <th>50%</th>\n",
              "      <td>1.000000</td>\n",
              "    </tr>\n",
              "    <tr>\n",
              "      <th>75%</th>\n",
              "      <td>2.000000</td>\n",
              "    </tr>\n",
              "    <tr>\n",
              "      <th>max</th>\n",
              "      <td>2.000000</td>\n",
              "    </tr>\n",
              "  </tbody>\n",
              "</table>\n",
              "</div>\n",
              "      <button class=\"colab-df-convert\" onclick=\"convertToInteractive('df-a6060a11-4300-4c59-89a5-8df2d1b7b0f1')\"\n",
              "              title=\"Convert this dataframe to an interactive table.\"\n",
              "              style=\"display:none;\">\n",
              "        \n",
              "  <svg xmlns=\"http://www.w3.org/2000/svg\" height=\"24px\"viewBox=\"0 0 24 24\"\n",
              "       width=\"24px\">\n",
              "    <path d=\"M0 0h24v24H0V0z\" fill=\"none\"/>\n",
              "    <path d=\"M18.56 5.44l.94 2.06.94-2.06 2.06-.94-2.06-.94-.94-2.06-.94 2.06-2.06.94zm-11 1L8.5 8.5l.94-2.06 2.06-.94-2.06-.94L8.5 2.5l-.94 2.06-2.06.94zm10 10l.94 2.06.94-2.06 2.06-.94-2.06-.94-.94-2.06-.94 2.06-2.06.94z\"/><path d=\"M17.41 7.96l-1.37-1.37c-.4-.4-.92-.59-1.43-.59-.52 0-1.04.2-1.43.59L10.3 9.45l-7.72 7.72c-.78.78-.78 2.05 0 2.83L4 21.41c.39.39.9.59 1.41.59.51 0 1.02-.2 1.41-.59l7.78-7.78 2.81-2.81c.8-.78.8-2.07 0-2.86zM5.41 20L4 18.59l7.72-7.72 1.47 1.35L5.41 20z\"/>\n",
              "  </svg>\n",
              "      </button>\n",
              "      \n",
              "  <style>\n",
              "    .colab-df-container {\n",
              "      display:flex;\n",
              "      flex-wrap:wrap;\n",
              "      gap: 12px;\n",
              "    }\n",
              "\n",
              "    .colab-df-convert {\n",
              "      background-color: #E8F0FE;\n",
              "      border: none;\n",
              "      border-radius: 50%;\n",
              "      cursor: pointer;\n",
              "      display: none;\n",
              "      fill: #1967D2;\n",
              "      height: 32px;\n",
              "      padding: 0 0 0 0;\n",
              "      width: 32px;\n",
              "    }\n",
              "\n",
              "    .colab-df-convert:hover {\n",
              "      background-color: #E2EBFA;\n",
              "      box-shadow: 0px 1px 2px rgba(60, 64, 67, 0.3), 0px 1px 3px 1px rgba(60, 64, 67, 0.15);\n",
              "      fill: #174EA6;\n",
              "    }\n",
              "\n",
              "    [theme=dark] .colab-df-convert {\n",
              "      background-color: #3B4455;\n",
              "      fill: #D2E3FC;\n",
              "    }\n",
              "\n",
              "    [theme=dark] .colab-df-convert:hover {\n",
              "      background-color: #434B5C;\n",
              "      box-shadow: 0px 1px 3px 1px rgba(0, 0, 0, 0.15);\n",
              "      filter: drop-shadow(0px 1px 2px rgba(0, 0, 0, 0.3));\n",
              "      fill: #FFFFFF;\n",
              "    }\n",
              "  </style>\n",
              "\n",
              "      <script>\n",
              "        const buttonEl =\n",
              "          document.querySelector('#df-a6060a11-4300-4c59-89a5-8df2d1b7b0f1 button.colab-df-convert');\n",
              "        buttonEl.style.display =\n",
              "          google.colab.kernel.accessAllowed ? 'block' : 'none';\n",
              "\n",
              "        async function convertToInteractive(key) {\n",
              "          const element = document.querySelector('#df-a6060a11-4300-4c59-89a5-8df2d1b7b0f1');\n",
              "          const dataTable =\n",
              "            await google.colab.kernel.invokeFunction('convertToInteractive',\n",
              "                                                     [key], {});\n",
              "          if (!dataTable) return;\n",
              "\n",
              "          const docLinkHtml = 'Like what you see? Visit the ' +\n",
              "            '<a target=\"_blank\" href=https://colab.research.google.com/notebooks/data_table.ipynb>data table notebook</a>'\n",
              "            + ' to learn more about interactive tables.';\n",
              "          element.innerHTML = '';\n",
              "          dataTable['output_type'] = 'display_data';\n",
              "          await google.colab.output.renderOutput(dataTable, element);\n",
              "          const docLink = document.createElement('div');\n",
              "          docLink.innerHTML = docLinkHtml;\n",
              "          element.appendChild(docLink);\n",
              "        }\n",
              "      </script>\n",
              "    </div>\n",
              "  </div>\n",
              "  "
            ]
          },
          "metadata": {},
          "execution_count": 10
        }
      ],
      "source": [
        "# Reducing data even more\n",
        "dfBert = df.sample(frac=0.1)\n",
        "dfBert.describe()"
      ]
    },
    {
      "cell_type": "code",
      "execution_count": 11,
      "metadata": {
        "colab": {
          "base_uri": "https://localhost:8080/"
        },
        "id": "j5QIIg8o1os6",
        "outputId": "bb79d011-e923-4a13-97b0-687872c6dd17"
      },
      "outputs": [
        {
          "output_type": "stream",
          "name": "stdout",
          "text": [
            "Tokenizing...\n"
          ]
        },
        {
          "output_type": "execute_result",
          "data": {
            "text/plain": [
              "{'input_ids': tensor([[  101,  2025,  3407,  ...,     0,     0,     0],\n",
              "         [  101,  1037,  2442,  ...,     0,     0,     0],\n",
              "         [  101,  8687,  1010,  ...,     0,     0,     0],\n",
              "         ...,\n",
              "         [  101,  4067, 29337,  ...,     0,     0,     0],\n",
              "         [  101,  2204,  2338,  ...,     0,     0,     0],\n",
              "         [  101,  2064,  1005,  ...,     0,     0,     0]], device='cuda:0'),\n",
              " 'attention_mask': tensor([[1, 1, 1,  ..., 0, 0, 0],\n",
              "         [1, 1, 1,  ..., 0, 0, 0],\n",
              "         [1, 1, 1,  ..., 0, 0, 0],\n",
              "         ...,\n",
              "         [1, 1, 1,  ..., 0, 0, 0],\n",
              "         [1, 1, 1,  ..., 0, 0, 0],\n",
              "         [1, 1, 1,  ..., 0, 0, 0]], device='cuda:0')}"
            ]
          },
          "metadata": {},
          "execution_count": 11
        }
      ],
      "source": [
        "# Tokenizing\n",
        "print(\"Tokenizing...\")\n",
        "tokenized = BertToken(\n",
        "    dfBert[\"title\"].tolist(),\n",
        "    add_special_tokens=True,\n",
        "    padding='longest',\n",
        "    return_attention_mask=True,\n",
        "    return_tensors='pt',\n",
        "    verbose=True\n",
        ")\n",
        "\n",
        "# Move tokenized data to the device\n",
        "tokenized = {k: v.to(device) for k, v in tokenized.items()}\n",
        "\n",
        "tokenized"
      ]
    },
    {
      "cell_type": "code",
      "execution_count": 12,
      "metadata": {
        "colab": {
          "base_uri": "https://localhost:8080/"
        },
        "id": "K7ww1-DS1os7",
        "outputId": "72741401-6c1e-46c5-bdb7-29289b3657b0"
      },
      "outputs": [
        {
          "output_type": "stream",
          "name": "stdout",
          "text": [
            "Getting model encodings...\n",
            "Returning embeddings...\n"
          ]
        },
        {
          "output_type": "execute_result",
          "data": {
            "text/plain": [
              "(4000, 768)"
            ]
          },
          "metadata": {},
          "execution_count": 12
        }
      ],
      "source": [
        "# \n",
        "# Not that there embeddings are save in a seperate file also. This function is only to be used if new embeddings are required \n",
        "#\n",
        "# A function that was also used in Lab 7. Note that this is a ressource intensive task\n",
        "def get_bert_embeddings(model, tokenized):\n",
        "\n",
        "    \"\"\" Calculate BERT embeddings for a batch of sentences.\n",
        "    NOTE: Calculating BERT embeddings is a very expensive operation.\n",
        "    Particularly on CPU, it can take a long time to calculate embeddings for\n",
        "    a large batch of sentences (Max 10-20 minutes for 6K sentences).\n",
        "    Args:\n",
        "        model (transformers BERT model): BERT model.\n",
        "        tokenized (dict): Dictionary of tokenized sentences (input_ids and attention_mask)\n",
        "    Returns:\n",
        "        n-d NumPy array: BERT embeddings for the sentences in the batch.\n",
        "    \"\"\"\n",
        "    print(\"Getting model encodings...\")\n",
        "    # The following is a context-manager that disables gradient calculation.\n",
        "    # Disabling gradient calculation is useful for inference, when you are \n",
        "    # sure that you will not call Tensor.backward(). It will reduce memory \n",
        "    # consumption for computations that would otherwise have requires_grad=True.\n",
        "    # TLDR: calculating gradients is expensive. We don't need them for inference.\n",
        "    with torch.no_grad():\n",
        "        last_hidden_states = model(**tokenized)\n",
        "\n",
        "    # last_hidden_states[0] is the last hidden state of the first token of the\n",
        "    # sequence (classification token) further processed by a Linear layer and \n",
        "    # a Tanh activation function. The Linear layer weights are trained from the\n",
        "    #  next sentence prediction (classification) objective during pretraining.\n",
        "    # last_hidden_states[0].shape = (batch_size, hidden_size)\n",
        "    print(\"Returning embeddings...\")\n",
        "    return last_hidden_states[0][:,0,:].cpu().numpy()\n",
        "\n",
        "embeddings = get_bert_embeddings(bert, tokenized)\n",
        "embeddings.shape"
      ]
    },
    {
      "cell_type": "code",
      "execution_count": 13,
      "metadata": {
        "id": "EPnHrOrFlmzJ"
      },
      "outputs": [],
      "source": [
        "# Saving the embeddings in a seperate file, making it possible to do the long calculation only once\n",
        "np.save('embeddings.npy', embeddings)\n",
        "\n",
        "# Download the file to your local machine this codeblock is only useful in Google Colab https://stackoverflow.com/questions/51078996/how-can-i-download-this-model-from-colaboratory\n",
        "#files.download('embeddings.npy')"
      ]
    },
    {
      "cell_type": "code",
      "execution_count": 14,
      "metadata": {
        "id": "m58_uzduhXRA"
      },
      "outputs": [],
      "source": [
        "# Here the embeddings can be loaded/reused\n",
        "# Loading embeddings\n",
        "embeddings = np.load('embeddings.npy')"
      ]
    },
    {
      "cell_type": "code",
      "execution_count": 15,
      "metadata": {
        "id": "y3rMMEex1os7"
      },
      "outputs": [],
      "source": [
        "# Making a new Train test split\n",
        "X_trainBert, X_testBert, y_train, y_test = train_test_split(embeddings, dfBert.polarity, test_size= 0.33, random_state=42)"
      ]
    },
    {
      "cell_type": "markdown",
      "metadata": {
        "id": "jo4Q5PC91os7"
      },
      "source": [
        "## Making Models with Bert"
      ]
    },
    {
      "cell_type": "markdown",
      "metadata": {
        "id": "OPqhgUiZ1os7"
      },
      "source": [
        "### Configuration"
      ]
    },
    {
      "cell_type": "markdown",
      "metadata": {
        "id": "E8X405v01os7"
      },
      "source": [
        "Preprocessing with BERT is already done. We can therefore use a function with gridsearch when going through the models"
      ]
    },
    {
      "cell_type": "code",
      "execution_count": 16,
      "metadata": {
        "id": "czs_I03p1os7"
      },
      "outputs": [],
      "source": [
        "# A function to be used on all models\n",
        "def eval_model(model, params, name):\n",
        "    grid = GridSearchCV(estimator=model, # The desired model is called from the model that is to be defined\n",
        "                    param_grid=params, # The object is called by the later defined variable\n",
        "                    cv=2)  # Using cross validation\n",
        "    grid.fit(X_trainBert, y_train) # The scaled version of the data is used to fit the model(s)\n",
        "    print(\"The results from: \" + name)\n",
        "    y_pred = grid.predict(X_testBert)\n",
        "    print(\"Accuracy on training set: {:.3f}\".format(grid.score(X_trainBert, y_train)))\n",
        "    print(\"Accuracy on test set: {:.3f}\".format(grid.score(X_testBert, y_test)))\n",
        "    print(\"Classification Report: \\n\", classification_report(y_test, y_pred))\n",
        "    print(\"Confusion Matrix: \\n\", confusion_matrix(y_test, y_pred))\n",
        "    print(\"\\n AUC-ROC: \", roc_auc_score(y_test, y_pred))\n",
        "    print(\"Best params: \", grid.best_params_) # Printing the best params\n",
        "    print(\" \")\n",
        "\n",
        "    # Returning the Model for later use\n",
        "    return grid"
      ]
    },
    {
      "cell_type": "code",
      "execution_count": 17,
      "metadata": {
        "id": "6_K3LfH51os8"
      },
      "outputs": [],
      "source": [
        "# Configuration of the different models, Setting up the models with relevant parameters to tune. scikit learn documentation is used for each model to find parameters.\n",
        "lr_B = LogisticRegression(max_iter=10000)\n",
        "lrParams = {'C':[0.01,0.1,1,10,100]} \n",
        "\n",
        "mlp_B = MLPClassifier(max_iter=10000)\n",
        "mlpParams = {'hidden_layer_sizes':[50,100], 'activation': ['tanh','relu']}\n",
        "\n",
        "NB_B = MultinomialNB()\n",
        "NBParams = {'fit_prior':[True,False]} \n",
        "\n",
        "rfc_B = RandomForestClassifier()\n",
        "rfcParams = {'n_estimators':[50,100,150], 'max_depth':[5,10],'min_samples_leaf':[5,10],'random_state':[42] }"
      ]
    },
    {
      "cell_type": "markdown",
      "metadata": {
        "id": "bA-H6EJ31os8"
      },
      "source": [
        "### Logistic Regression"
      ]
    },
    {
      "cell_type": "code",
      "execution_count": 18,
      "metadata": {
        "colab": {
          "base_uri": "https://localhost:8080/",
          "height": 464
        },
        "id": "C6HxXIc21os8",
        "outputId": "db83237f-17cb-48e3-b2e5-e52450a3f25e"
      },
      "outputs": [
        {
          "output_type": "stream",
          "name": "stdout",
          "text": [
            "The results from: LRBert\n",
            "Accuracy on training set: 0.829\n",
            "Accuracy on test set: 0.810\n",
            "Classification Report: \n",
            "               precision    recall  f1-score   support\n",
            "\n",
            "           1       0.82      0.81      0.81       675\n",
            "           2       0.80      0.81      0.81       645\n",
            "\n",
            "    accuracy                           0.81      1320\n",
            "   macro avg       0.81      0.81      0.81      1320\n",
            "weighted avg       0.81      0.81      0.81      1320\n",
            "\n",
            "Confusion Matrix: \n",
            " [[547 128]\n",
            " [123 522]]\n",
            "\n",
            " AUC-ROC:  0.8098363479758829\n",
            "Best params:  {'C': 0.1}\n",
            " \n"
          ]
        },
        {
          "output_type": "execute_result",
          "data": {
            "text/plain": [
              "GridSearchCV(cv=2, estimator=LogisticRegression(max_iter=10000),\n",
              "             param_grid={'C': [0.01, 0.1, 1, 10, 100]})"
            ],
            "text/html": [
              "<style>#sk-container-id-1 {color: black;background-color: white;}#sk-container-id-1 pre{padding: 0;}#sk-container-id-1 div.sk-toggleable {background-color: white;}#sk-container-id-1 label.sk-toggleable__label {cursor: pointer;display: block;width: 100%;margin-bottom: 0;padding: 0.3em;box-sizing: border-box;text-align: center;}#sk-container-id-1 label.sk-toggleable__label-arrow:before {content: \"▸\";float: left;margin-right: 0.25em;color: #696969;}#sk-container-id-1 label.sk-toggleable__label-arrow:hover:before {color: black;}#sk-container-id-1 div.sk-estimator:hover label.sk-toggleable__label-arrow:before {color: black;}#sk-container-id-1 div.sk-toggleable__content {max-height: 0;max-width: 0;overflow: hidden;text-align: left;background-color: #f0f8ff;}#sk-container-id-1 div.sk-toggleable__content pre {margin: 0.2em;color: black;border-radius: 0.25em;background-color: #f0f8ff;}#sk-container-id-1 input.sk-toggleable__control:checked~div.sk-toggleable__content {max-height: 200px;max-width: 100%;overflow: auto;}#sk-container-id-1 input.sk-toggleable__control:checked~label.sk-toggleable__label-arrow:before {content: \"▾\";}#sk-container-id-1 div.sk-estimator input.sk-toggleable__control:checked~label.sk-toggleable__label {background-color: #d4ebff;}#sk-container-id-1 div.sk-label input.sk-toggleable__control:checked~label.sk-toggleable__label {background-color: #d4ebff;}#sk-container-id-1 input.sk-hidden--visually {border: 0;clip: rect(1px 1px 1px 1px);clip: rect(1px, 1px, 1px, 1px);height: 1px;margin: -1px;overflow: hidden;padding: 0;position: absolute;width: 1px;}#sk-container-id-1 div.sk-estimator {font-family: monospace;background-color: #f0f8ff;border: 1px dotted black;border-radius: 0.25em;box-sizing: border-box;margin-bottom: 0.5em;}#sk-container-id-1 div.sk-estimator:hover {background-color: #d4ebff;}#sk-container-id-1 div.sk-parallel-item::after {content: \"\";width: 100%;border-bottom: 1px solid gray;flex-grow: 1;}#sk-container-id-1 div.sk-label:hover label.sk-toggleable__label {background-color: #d4ebff;}#sk-container-id-1 div.sk-serial::before {content: \"\";position: absolute;border-left: 1px solid gray;box-sizing: border-box;top: 0;bottom: 0;left: 50%;z-index: 0;}#sk-container-id-1 div.sk-serial {display: flex;flex-direction: column;align-items: center;background-color: white;padding-right: 0.2em;padding-left: 0.2em;position: relative;}#sk-container-id-1 div.sk-item {position: relative;z-index: 1;}#sk-container-id-1 div.sk-parallel {display: flex;align-items: stretch;justify-content: center;background-color: white;position: relative;}#sk-container-id-1 div.sk-item::before, #sk-container-id-1 div.sk-parallel-item::before {content: \"\";position: absolute;border-left: 1px solid gray;box-sizing: border-box;top: 0;bottom: 0;left: 50%;z-index: -1;}#sk-container-id-1 div.sk-parallel-item {display: flex;flex-direction: column;z-index: 1;position: relative;background-color: white;}#sk-container-id-1 div.sk-parallel-item:first-child::after {align-self: flex-end;width: 50%;}#sk-container-id-1 div.sk-parallel-item:last-child::after {align-self: flex-start;width: 50%;}#sk-container-id-1 div.sk-parallel-item:only-child::after {width: 0;}#sk-container-id-1 div.sk-dashed-wrapped {border: 1px dashed gray;margin: 0 0.4em 0.5em 0.4em;box-sizing: border-box;padding-bottom: 0.4em;background-color: white;}#sk-container-id-1 div.sk-label label {font-family: monospace;font-weight: bold;display: inline-block;line-height: 1.2em;}#sk-container-id-1 div.sk-label-container {text-align: center;}#sk-container-id-1 div.sk-container {/* jupyter's `normalize.less` sets `[hidden] { display: none; }` but bootstrap.min.css set `[hidden] { display: none !important; }` so we also need the `!important` here to be able to override the default hidden behavior on the sphinx rendered scikit-learn.org. See: https://github.com/scikit-learn/scikit-learn/issues/21755 */display: inline-block !important;position: relative;}#sk-container-id-1 div.sk-text-repr-fallback {display: none;}</style><div id=\"sk-container-id-1\" class=\"sk-top-container\"><div class=\"sk-text-repr-fallback\"><pre>GridSearchCV(cv=2, estimator=LogisticRegression(max_iter=10000),\n",
              "             param_grid={&#x27;C&#x27;: [0.01, 0.1, 1, 10, 100]})</pre><b>In a Jupyter environment, please rerun this cell to show the HTML representation or trust the notebook. <br />On GitHub, the HTML representation is unable to render, please try loading this page with nbviewer.org.</b></div><div class=\"sk-container\" hidden><div class=\"sk-item sk-dashed-wrapped\"><div class=\"sk-label-container\"><div class=\"sk-label sk-toggleable\"><input class=\"sk-toggleable__control sk-hidden--visually\" id=\"sk-estimator-id-1\" type=\"checkbox\" ><label for=\"sk-estimator-id-1\" class=\"sk-toggleable__label sk-toggleable__label-arrow\">GridSearchCV</label><div class=\"sk-toggleable__content\"><pre>GridSearchCV(cv=2, estimator=LogisticRegression(max_iter=10000),\n",
              "             param_grid={&#x27;C&#x27;: [0.01, 0.1, 1, 10, 100]})</pre></div></div></div><div class=\"sk-parallel\"><div class=\"sk-parallel-item\"><div class=\"sk-item\"><div class=\"sk-label-container\"><div class=\"sk-label sk-toggleable\"><input class=\"sk-toggleable__control sk-hidden--visually\" id=\"sk-estimator-id-2\" type=\"checkbox\" ><label for=\"sk-estimator-id-2\" class=\"sk-toggleable__label sk-toggleable__label-arrow\">estimator: LogisticRegression</label><div class=\"sk-toggleable__content\"><pre>LogisticRegression(max_iter=10000)</pre></div></div></div><div class=\"sk-serial\"><div class=\"sk-item\"><div class=\"sk-estimator sk-toggleable\"><input class=\"sk-toggleable__control sk-hidden--visually\" id=\"sk-estimator-id-3\" type=\"checkbox\" ><label for=\"sk-estimator-id-3\" class=\"sk-toggleable__label sk-toggleable__label-arrow\">LogisticRegression</label><div class=\"sk-toggleable__content\"><pre>LogisticRegression(max_iter=10000)</pre></div></div></div></div></div></div></div></div></div></div>"
            ]
          },
          "metadata": {},
          "execution_count": 18
        }
      ],
      "source": [
        "# Applying the model with the function\n",
        "eval_model(lr_B, lrParams, 'LRBert')"
      ]
    },
    {
      "cell_type": "markdown",
      "metadata": {
        "id": "rrCiXq2V1os8"
      },
      "source": [
        "### MLP"
      ]
    },
    {
      "cell_type": "code",
      "execution_count": null,
      "metadata": {
        "colab": {
          "base_uri": "https://localhost:8080/",
          "height": 204
        },
        "id": "-JQN3V0S1os8",
        "outputId": "e0bcf9a6-4ac1-485c-ca53-3a18ae16f095"
      },
      "outputs": [
        {
          "name": "stdout",
          "output_type": "stream",
          "text": [
            "The results from: MLPBert\n",
            "Accuracy on training set: 0.979\n",
            "Accuracy on test set: 0.484\n",
            "Classification Report: \n",
            "               precision    recall  f1-score   support\n",
            "\n",
            "           1       0.48      0.39      0.43       658\n",
            "           2       0.49      0.58      0.53       662\n",
            "\n",
            "    accuracy                           0.48      1320\n",
            "   macro avg       0.48      0.48      0.48      1320\n",
            "weighted avg       0.48      0.48      0.48      1320\n",
            "\n",
            "Confusion Matrix: \n",
            " [[258 400]\n",
            " [281 381]]\n",
            "\n",
            " AUC-ROC:  0.4838129826720172\n",
            "Best params:  {'activation': 'tanh', 'hidden_layer_sizes': 100}\n",
            " \n"
          ]
        },
        {
          "data": {
            "text/html": [
              "<style>#sk-container-id-19 {color: black;background-color: white;}#sk-container-id-19 pre{padding: 0;}#sk-container-id-19 div.sk-toggleable {background-color: white;}#sk-container-id-19 label.sk-toggleable__label {cursor: pointer;display: block;width: 100%;margin-bottom: 0;padding: 0.3em;box-sizing: border-box;text-align: center;}#sk-container-id-19 label.sk-toggleable__label-arrow:before {content: \"▸\";float: left;margin-right: 0.25em;color: #696969;}#sk-container-id-19 label.sk-toggleable__label-arrow:hover:before {color: black;}#sk-container-id-19 div.sk-estimator:hover label.sk-toggleable__label-arrow:before {color: black;}#sk-container-id-19 div.sk-toggleable__content {max-height: 0;max-width: 0;overflow: hidden;text-align: left;background-color: #f0f8ff;}#sk-container-id-19 div.sk-toggleable__content pre {margin: 0.2em;color: black;border-radius: 0.25em;background-color: #f0f8ff;}#sk-container-id-19 input.sk-toggleable__control:checked~div.sk-toggleable__content {max-height: 200px;max-width: 100%;overflow: auto;}#sk-container-id-19 input.sk-toggleable__control:checked~label.sk-toggleable__label-arrow:before {content: \"▾\";}#sk-container-id-19 div.sk-estimator input.sk-toggleable__control:checked~label.sk-toggleable__label {background-color: #d4ebff;}#sk-container-id-19 div.sk-label input.sk-toggleable__control:checked~label.sk-toggleable__label {background-color: #d4ebff;}#sk-container-id-19 input.sk-hidden--visually {border: 0;clip: rect(1px 1px 1px 1px);clip: rect(1px, 1px, 1px, 1px);height: 1px;margin: -1px;overflow: hidden;padding: 0;position: absolute;width: 1px;}#sk-container-id-19 div.sk-estimator {font-family: monospace;background-color: #f0f8ff;border: 1px dotted black;border-radius: 0.25em;box-sizing: border-box;margin-bottom: 0.5em;}#sk-container-id-19 div.sk-estimator:hover {background-color: #d4ebff;}#sk-container-id-19 div.sk-parallel-item::after {content: \"\";width: 100%;border-bottom: 1px solid gray;flex-grow: 1;}#sk-container-id-19 div.sk-label:hover label.sk-toggleable__label {background-color: #d4ebff;}#sk-container-id-19 div.sk-serial::before {content: \"\";position: absolute;border-left: 1px solid gray;box-sizing: border-box;top: 0;bottom: 0;left: 50%;z-index: 0;}#sk-container-id-19 div.sk-serial {display: flex;flex-direction: column;align-items: center;background-color: white;padding-right: 0.2em;padding-left: 0.2em;position: relative;}#sk-container-id-19 div.sk-item {position: relative;z-index: 1;}#sk-container-id-19 div.sk-parallel {display: flex;align-items: stretch;justify-content: center;background-color: white;position: relative;}#sk-container-id-19 div.sk-item::before, #sk-container-id-19 div.sk-parallel-item::before {content: \"\";position: absolute;border-left: 1px solid gray;box-sizing: border-box;top: 0;bottom: 0;left: 50%;z-index: -1;}#sk-container-id-19 div.sk-parallel-item {display: flex;flex-direction: column;z-index: 1;position: relative;background-color: white;}#sk-container-id-19 div.sk-parallel-item:first-child::after {align-self: flex-end;width: 50%;}#sk-container-id-19 div.sk-parallel-item:last-child::after {align-self: flex-start;width: 50%;}#sk-container-id-19 div.sk-parallel-item:only-child::after {width: 0;}#sk-container-id-19 div.sk-dashed-wrapped {border: 1px dashed gray;margin: 0 0.4em 0.5em 0.4em;box-sizing: border-box;padding-bottom: 0.4em;background-color: white;}#sk-container-id-19 div.sk-label label {font-family: monospace;font-weight: bold;display: inline-block;line-height: 1.2em;}#sk-container-id-19 div.sk-label-container {text-align: center;}#sk-container-id-19 div.sk-container {/* jupyter's `normalize.less` sets `[hidden] { display: none; }` but bootstrap.min.css set `[hidden] { display: none !important; }` so we also need the `!important` here to be able to override the default hidden behavior on the sphinx rendered scikit-learn.org. See: https://github.com/scikit-learn/scikit-learn/issues/21755 */display: inline-block !important;position: relative;}#sk-container-id-19 div.sk-text-repr-fallback {display: none;}</style><div id=\"sk-container-id-19\" class=\"sk-top-container\"><div class=\"sk-text-repr-fallback\"><pre>GridSearchCV(cv=2, estimator=MLPClassifier(max_iter=10000),\n",
              "             param_grid={&#x27;activation&#x27;: [&#x27;tanh&#x27;, &#x27;relu&#x27;],\n",
              "                         &#x27;hidden_layer_sizes&#x27;: [50, 100]})</pre><b>In a Jupyter environment, please rerun this cell to show the HTML representation or trust the notebook. <br />On GitHub, the HTML representation is unable to render, please try loading this page with nbviewer.org.</b></div><div class=\"sk-container\" hidden><div class=\"sk-item sk-dashed-wrapped\"><div class=\"sk-label-container\"><div class=\"sk-label sk-toggleable\"><input class=\"sk-toggleable__control sk-hidden--visually\" id=\"sk-estimator-id-63\" type=\"checkbox\" ><label for=\"sk-estimator-id-63\" class=\"sk-toggleable__label sk-toggleable__label-arrow\">GridSearchCV</label><div class=\"sk-toggleable__content\"><pre>GridSearchCV(cv=2, estimator=MLPClassifier(max_iter=10000),\n",
              "             param_grid={&#x27;activation&#x27;: [&#x27;tanh&#x27;, &#x27;relu&#x27;],\n",
              "                         &#x27;hidden_layer_sizes&#x27;: [50, 100]})</pre></div></div></div><div class=\"sk-parallel\"><div class=\"sk-parallel-item\"><div class=\"sk-item\"><div class=\"sk-label-container\"><div class=\"sk-label sk-toggleable\"><input class=\"sk-toggleable__control sk-hidden--visually\" id=\"sk-estimator-id-64\" type=\"checkbox\" ><label for=\"sk-estimator-id-64\" class=\"sk-toggleable__label sk-toggleable__label-arrow\">estimator: MLPClassifier</label><div class=\"sk-toggleable__content\"><pre>MLPClassifier(max_iter=10000)</pre></div></div></div><div class=\"sk-serial\"><div class=\"sk-item\"><div class=\"sk-estimator sk-toggleable\"><input class=\"sk-toggleable__control sk-hidden--visually\" id=\"sk-estimator-id-65\" type=\"checkbox\" ><label for=\"sk-estimator-id-65\" class=\"sk-toggleable__label sk-toggleable__label-arrow\">MLPClassifier</label><div class=\"sk-toggleable__content\"><pre>MLPClassifier(max_iter=10000)</pre></div></div></div></div></div></div></div></div></div></div>"
            ],
            "text/plain": [
              "GridSearchCV(cv=2, estimator=MLPClassifier(max_iter=10000),\n",
              "             param_grid={'activation': ['tanh', 'relu'],\n",
              "                         'hidden_layer_sizes': [50, 100]})"
            ]
          },
          "execution_count": 113,
          "metadata": {},
          "output_type": "execute_result"
        }
      ],
      "source": [
        "# Applying the model with the function\n",
        "eval_model(mlp_B, mlpParams, 'MLPBert')"
      ]
    },
    {
      "cell_type": "markdown",
      "metadata": {
        "id": "P1I5Dzzu1os8"
      },
      "source": [
        "### Naive Bayes"
      ]
    },
    {
      "cell_type": "code",
      "execution_count": null,
      "metadata": {
        "colab": {
          "base_uri": "https://localhost:8080/",
          "height": 623
        },
        "id": "BkB_Aa9M1os8",
        "outputId": "d8c94046-b3c6-4756-fb42-693efa4c132a"
      },
      "outputs": [
        {
          "ename": "ValueError",
          "evalue": "\nAll the 4 fits failed.\nIt is very likely that your model is misconfigured.\nYou can try to debug the error by setting error_score='raise'.\n\nBelow are more details about the failures:\n--------------------------------------------------------------------------------\n4 fits failed with the following error:\nTraceback (most recent call last):\n  File \"c:\\ProgramData\\anaconda3\\lib\\site-packages\\sklearn\\model_selection\\_validation.py\", line 686, in _fit_and_score\n    estimator.fit(X_train, y_train, **fit_params)\n  File \"c:\\ProgramData\\anaconda3\\lib\\site-packages\\sklearn\\naive_bayes.py\", line 776, in fit\n    self._count(X, Y)\n  File \"c:\\ProgramData\\anaconda3\\lib\\site-packages\\sklearn\\naive_bayes.py\", line 898, in _count\n    check_non_negative(X, \"MultinomialNB (input X)\")\n  File \"c:\\ProgramData\\anaconda3\\lib\\site-packages\\sklearn\\utils\\validation.py\", line 1418, in check_non_negative\n    raise ValueError(\"Negative values in data passed to %s\" % whom)\nValueError: Negative values in data passed to MultinomialNB (input X)\n",
          "output_type": "error",
          "traceback": [
            "\u001b[1;31m---------------------------------------------------------------------------\u001b[0m",
            "\u001b[1;31mValueError\u001b[0m                                Traceback (most recent call last)",
            "Cell \u001b[1;32mIn[114], line 2\u001b[0m\n\u001b[0;32m      1\u001b[0m \u001b[39m# Applying the model with the function\u001b[39;00m\n\u001b[1;32m----> 2\u001b[0m eval_model(NB_B, NBParams, \u001b[39m'\u001b[39;49m\u001b[39mNBBert\u001b[39;49m\u001b[39m'\u001b[39;49m)\n",
            "Cell \u001b[1;32mIn[110], line 6\u001b[0m, in \u001b[0;36meval_model\u001b[1;34m(model, params, name)\u001b[0m\n\u001b[0;32m      2\u001b[0m \u001b[39mdef\u001b[39;00m \u001b[39meval_model\u001b[39m(model, params, name):\n\u001b[0;32m      3\u001b[0m     grid \u001b[39m=\u001b[39m GridSearchCV(estimator\u001b[39m=\u001b[39mmodel, \u001b[39m# The desired model is called from the model that is to be defined\u001b[39;00m\n\u001b[0;32m      4\u001b[0m                     param_grid\u001b[39m=\u001b[39mparams, \u001b[39m# The object is called by the later defined variable\u001b[39;00m\n\u001b[0;32m      5\u001b[0m                     cv\u001b[39m=\u001b[39m\u001b[39m2\u001b[39m)  \u001b[39m# Using cross validation\u001b[39;00m\n\u001b[1;32m----> 6\u001b[0m     grid\u001b[39m.\u001b[39;49mfit(X_trainBert, y_train) \u001b[39m# The scaled version of the data is used to fit the model(s)\u001b[39;00m\n\u001b[0;32m      7\u001b[0m     \u001b[39mprint\u001b[39m(\u001b[39m\"\u001b[39m\u001b[39mThe results from: \u001b[39m\u001b[39m\"\u001b[39m \u001b[39m+\u001b[39m name)\n\u001b[0;32m      8\u001b[0m     y_pred \u001b[39m=\u001b[39m grid\u001b[39m.\u001b[39mpredict(X_testBert)\n",
            "File \u001b[1;32mc:\\ProgramData\\anaconda3\\lib\\site-packages\\sklearn\\model_selection\\_search.py:874\u001b[0m, in \u001b[0;36mBaseSearchCV.fit\u001b[1;34m(self, X, y, groups, **fit_params)\u001b[0m\n\u001b[0;32m    868\u001b[0m     results \u001b[39m=\u001b[39m \u001b[39mself\u001b[39m\u001b[39m.\u001b[39m_format_results(\n\u001b[0;32m    869\u001b[0m         all_candidate_params, n_splits, all_out, all_more_results\n\u001b[0;32m    870\u001b[0m     )\n\u001b[0;32m    872\u001b[0m     \u001b[39mreturn\u001b[39;00m results\n\u001b[1;32m--> 874\u001b[0m \u001b[39mself\u001b[39;49m\u001b[39m.\u001b[39;49m_run_search(evaluate_candidates)\n\u001b[0;32m    876\u001b[0m \u001b[39m# multimetric is determined here because in the case of a callable\u001b[39;00m\n\u001b[0;32m    877\u001b[0m \u001b[39m# self.scoring the return type is only known after calling\u001b[39;00m\n\u001b[0;32m    878\u001b[0m first_test_score \u001b[39m=\u001b[39m all_out[\u001b[39m0\u001b[39m][\u001b[39m\"\u001b[39m\u001b[39mtest_scores\u001b[39m\u001b[39m\"\u001b[39m]\n",
            "File \u001b[1;32mc:\\ProgramData\\anaconda3\\lib\\site-packages\\sklearn\\model_selection\\_search.py:1388\u001b[0m, in \u001b[0;36mGridSearchCV._run_search\u001b[1;34m(self, evaluate_candidates)\u001b[0m\n\u001b[0;32m   1386\u001b[0m \u001b[39mdef\u001b[39;00m \u001b[39m_run_search\u001b[39m(\u001b[39mself\u001b[39m, evaluate_candidates):\n\u001b[0;32m   1387\u001b[0m     \u001b[39m\"\"\"Search all candidates in param_grid\"\"\"\u001b[39;00m\n\u001b[1;32m-> 1388\u001b[0m     evaluate_candidates(ParameterGrid(\u001b[39mself\u001b[39;49m\u001b[39m.\u001b[39;49mparam_grid))\n",
            "File \u001b[1;32mc:\\ProgramData\\anaconda3\\lib\\site-packages\\sklearn\\model_selection\\_search.py:851\u001b[0m, in \u001b[0;36mBaseSearchCV.fit.<locals>.evaluate_candidates\u001b[1;34m(candidate_params, cv, more_results)\u001b[0m\n\u001b[0;32m    844\u001b[0m \u001b[39melif\u001b[39;00m \u001b[39mlen\u001b[39m(out) \u001b[39m!=\u001b[39m n_candidates \u001b[39m*\u001b[39m n_splits:\n\u001b[0;32m    845\u001b[0m     \u001b[39mraise\u001b[39;00m \u001b[39mValueError\u001b[39;00m(\n\u001b[0;32m    846\u001b[0m         \u001b[39m\"\u001b[39m\u001b[39mcv.split and cv.get_n_splits returned \u001b[39m\u001b[39m\"\u001b[39m\n\u001b[0;32m    847\u001b[0m         \u001b[39m\"\u001b[39m\u001b[39minconsistent results. Expected \u001b[39m\u001b[39m{}\u001b[39;00m\u001b[39m \u001b[39m\u001b[39m\"\u001b[39m\n\u001b[0;32m    848\u001b[0m         \u001b[39m\"\u001b[39m\u001b[39msplits, got \u001b[39m\u001b[39m{}\u001b[39;00m\u001b[39m\"\u001b[39m\u001b[39m.\u001b[39mformat(n_splits, \u001b[39mlen\u001b[39m(out) \u001b[39m/\u001b[39m\u001b[39m/\u001b[39m n_candidates)\n\u001b[0;32m    849\u001b[0m     )\n\u001b[1;32m--> 851\u001b[0m _warn_or_raise_about_fit_failures(out, \u001b[39mself\u001b[39;49m\u001b[39m.\u001b[39;49merror_score)\n\u001b[0;32m    853\u001b[0m \u001b[39m# For callable self.scoring, the return type is only know after\u001b[39;00m\n\u001b[0;32m    854\u001b[0m \u001b[39m# calling. If the return type is a dictionary, the error scores\u001b[39;00m\n\u001b[0;32m    855\u001b[0m \u001b[39m# can now be inserted with the correct key. The type checking\u001b[39;00m\n\u001b[0;32m    856\u001b[0m \u001b[39m# of out will be done in `_insert_error_scores`.\u001b[39;00m\n\u001b[0;32m    857\u001b[0m \u001b[39mif\u001b[39;00m callable(\u001b[39mself\u001b[39m\u001b[39m.\u001b[39mscoring):\n",
            "File \u001b[1;32mc:\\ProgramData\\anaconda3\\lib\\site-packages\\sklearn\\model_selection\\_validation.py:367\u001b[0m, in \u001b[0;36m_warn_or_raise_about_fit_failures\u001b[1;34m(results, error_score)\u001b[0m\n\u001b[0;32m    360\u001b[0m \u001b[39mif\u001b[39;00m num_failed_fits \u001b[39m==\u001b[39m num_fits:\n\u001b[0;32m    361\u001b[0m     all_fits_failed_message \u001b[39m=\u001b[39m (\n\u001b[0;32m    362\u001b[0m         \u001b[39mf\u001b[39m\u001b[39m\"\u001b[39m\u001b[39m\\n\u001b[39;00m\u001b[39mAll the \u001b[39m\u001b[39m{\u001b[39;00mnum_fits\u001b[39m}\u001b[39;00m\u001b[39m fits failed.\u001b[39m\u001b[39m\\n\u001b[39;00m\u001b[39m\"\u001b[39m\n\u001b[0;32m    363\u001b[0m         \u001b[39m\"\u001b[39m\u001b[39mIt is very likely that your model is misconfigured.\u001b[39m\u001b[39m\\n\u001b[39;00m\u001b[39m\"\u001b[39m\n\u001b[0;32m    364\u001b[0m         \u001b[39m\"\u001b[39m\u001b[39mYou can try to debug the error by setting error_score=\u001b[39m\u001b[39m'\u001b[39m\u001b[39mraise\u001b[39m\u001b[39m'\u001b[39m\u001b[39m.\u001b[39m\u001b[39m\\n\u001b[39;00m\u001b[39m\\n\u001b[39;00m\u001b[39m\"\u001b[39m\n\u001b[0;32m    365\u001b[0m         \u001b[39mf\u001b[39m\u001b[39m\"\u001b[39m\u001b[39mBelow are more details about the failures:\u001b[39m\u001b[39m\\n\u001b[39;00m\u001b[39m{\u001b[39;00mfit_errors_summary\u001b[39m}\u001b[39;00m\u001b[39m\"\u001b[39m\n\u001b[0;32m    366\u001b[0m     )\n\u001b[1;32m--> 367\u001b[0m     \u001b[39mraise\u001b[39;00m \u001b[39mValueError\u001b[39;00m(all_fits_failed_message)\n\u001b[0;32m    369\u001b[0m \u001b[39melse\u001b[39;00m:\n\u001b[0;32m    370\u001b[0m     some_fits_failed_message \u001b[39m=\u001b[39m (\n\u001b[0;32m    371\u001b[0m         \u001b[39mf\u001b[39m\u001b[39m\"\u001b[39m\u001b[39m\\n\u001b[39;00m\u001b[39m{\u001b[39;00mnum_failed_fits\u001b[39m}\u001b[39;00m\u001b[39m fits failed out of a total of \u001b[39m\u001b[39m{\u001b[39;00mnum_fits\u001b[39m}\u001b[39;00m\u001b[39m.\u001b[39m\u001b[39m\\n\u001b[39;00m\u001b[39m\"\u001b[39m\n\u001b[0;32m    372\u001b[0m         \u001b[39m\"\u001b[39m\u001b[39mThe score on these train-test partitions for these parameters\u001b[39m\u001b[39m\"\u001b[39m\n\u001b[1;32m   (...)\u001b[0m\n\u001b[0;32m    376\u001b[0m         \u001b[39mf\u001b[39m\u001b[39m\"\u001b[39m\u001b[39mBelow are more details about the failures:\u001b[39m\u001b[39m\\n\u001b[39;00m\u001b[39m{\u001b[39;00mfit_errors_summary\u001b[39m}\u001b[39;00m\u001b[39m\"\u001b[39m\n\u001b[0;32m    377\u001b[0m     )\n",
            "\u001b[1;31mValueError\u001b[0m: \nAll the 4 fits failed.\nIt is very likely that your model is misconfigured.\nYou can try to debug the error by setting error_score='raise'.\n\nBelow are more details about the failures:\n--------------------------------------------------------------------------------\n4 fits failed with the following error:\nTraceback (most recent call last):\n  File \"c:\\ProgramData\\anaconda3\\lib\\site-packages\\sklearn\\model_selection\\_validation.py\", line 686, in _fit_and_score\n    estimator.fit(X_train, y_train, **fit_params)\n  File \"c:\\ProgramData\\anaconda3\\lib\\site-packages\\sklearn\\naive_bayes.py\", line 776, in fit\n    self._count(X, Y)\n  File \"c:\\ProgramData\\anaconda3\\lib\\site-packages\\sklearn\\naive_bayes.py\", line 898, in _count\n    check_non_negative(X, \"MultinomialNB (input X)\")\n  File \"c:\\ProgramData\\anaconda3\\lib\\site-packages\\sklearn\\utils\\validation.py\", line 1418, in check_non_negative\n    raise ValueError(\"Negative values in data passed to %s\" % whom)\nValueError: Negative values in data passed to MultinomialNB (input X)\n"
          ]
        }
      ],
      "source": [
        "# Applying the model with the function\n",
        "eval_model(NB_B, NBParams, 'NBBert')"
      ]
    },
    {
      "cell_type": "markdown",
      "metadata": {
        "id": "MzgPWy_Q1os9"
      },
      "source": [
        "### Random Forest"
      ]
    },
    {
      "cell_type": "code",
      "execution_count": null,
      "metadata": {
        "colab": {
          "base_uri": "https://localhost:8080/",
          "height": 204
        },
        "id": "5Amz4RNE1os9",
        "outputId": "a8f857c0-97e0-427e-fd5c-b577492fac73"
      },
      "outputs": [
        {
          "name": "stdout",
          "output_type": "stream",
          "text": [
            "rfcBert\n",
            "Accuracy on training set: 0.875\n",
            "Accuracy on test set: 0.801\n",
            "Best params:  {'max_depth': 5, 'min_samples_leaf': 10, 'n_estimators': 100, 'random_state': 42}\n",
            " \n"
          ]
        },
        {
          "data": {
            "text/html": [
              "<style>#sk-container-id-2 {color: black;background-color: white;}#sk-container-id-2 pre{padding: 0;}#sk-container-id-2 div.sk-toggleable {background-color: white;}#sk-container-id-2 label.sk-toggleable__label {cursor: pointer;display: block;width: 100%;margin-bottom: 0;padding: 0.3em;box-sizing: border-box;text-align: center;}#sk-container-id-2 label.sk-toggleable__label-arrow:before {content: \"▸\";float: left;margin-right: 0.25em;color: #696969;}#sk-container-id-2 label.sk-toggleable__label-arrow:hover:before {color: black;}#sk-container-id-2 div.sk-estimator:hover label.sk-toggleable__label-arrow:before {color: black;}#sk-container-id-2 div.sk-toggleable__content {max-height: 0;max-width: 0;overflow: hidden;text-align: left;background-color: #f0f8ff;}#sk-container-id-2 div.sk-toggleable__content pre {margin: 0.2em;color: black;border-radius: 0.25em;background-color: #f0f8ff;}#sk-container-id-2 input.sk-toggleable__control:checked~div.sk-toggleable__content {max-height: 200px;max-width: 100%;overflow: auto;}#sk-container-id-2 input.sk-toggleable__control:checked~label.sk-toggleable__label-arrow:before {content: \"▾\";}#sk-container-id-2 div.sk-estimator input.sk-toggleable__control:checked~label.sk-toggleable__label {background-color: #d4ebff;}#sk-container-id-2 div.sk-label input.sk-toggleable__control:checked~label.sk-toggleable__label {background-color: #d4ebff;}#sk-container-id-2 input.sk-hidden--visually {border: 0;clip: rect(1px 1px 1px 1px);clip: rect(1px, 1px, 1px, 1px);height: 1px;margin: -1px;overflow: hidden;padding: 0;position: absolute;width: 1px;}#sk-container-id-2 div.sk-estimator {font-family: monospace;background-color: #f0f8ff;border: 1px dotted black;border-radius: 0.25em;box-sizing: border-box;margin-bottom: 0.5em;}#sk-container-id-2 div.sk-estimator:hover {background-color: #d4ebff;}#sk-container-id-2 div.sk-parallel-item::after {content: \"\";width: 100%;border-bottom: 1px solid gray;flex-grow: 1;}#sk-container-id-2 div.sk-label:hover label.sk-toggleable__label {background-color: #d4ebff;}#sk-container-id-2 div.sk-serial::before {content: \"\";position: absolute;border-left: 1px solid gray;box-sizing: border-box;top: 0;bottom: 0;left: 50%;z-index: 0;}#sk-container-id-2 div.sk-serial {display: flex;flex-direction: column;align-items: center;background-color: white;padding-right: 0.2em;padding-left: 0.2em;position: relative;}#sk-container-id-2 div.sk-item {position: relative;z-index: 1;}#sk-container-id-2 div.sk-parallel {display: flex;align-items: stretch;justify-content: center;background-color: white;position: relative;}#sk-container-id-2 div.sk-item::before, #sk-container-id-2 div.sk-parallel-item::before {content: \"\";position: absolute;border-left: 1px solid gray;box-sizing: border-box;top: 0;bottom: 0;left: 50%;z-index: -1;}#sk-container-id-2 div.sk-parallel-item {display: flex;flex-direction: column;z-index: 1;position: relative;background-color: white;}#sk-container-id-2 div.sk-parallel-item:first-child::after {align-self: flex-end;width: 50%;}#sk-container-id-2 div.sk-parallel-item:last-child::after {align-self: flex-start;width: 50%;}#sk-container-id-2 div.sk-parallel-item:only-child::after {width: 0;}#sk-container-id-2 div.sk-dashed-wrapped {border: 1px dashed gray;margin: 0 0.4em 0.5em 0.4em;box-sizing: border-box;padding-bottom: 0.4em;background-color: white;}#sk-container-id-2 div.sk-label label {font-family: monospace;font-weight: bold;display: inline-block;line-height: 1.2em;}#sk-container-id-2 div.sk-label-container {text-align: center;}#sk-container-id-2 div.sk-container {/* jupyter's `normalize.less` sets `[hidden] { display: none; }` but bootstrap.min.css set `[hidden] { display: none !important; }` so we also need the `!important` here to be able to override the default hidden behavior on the sphinx rendered scikit-learn.org. See: https://github.com/scikit-learn/scikit-learn/issues/21755 */display: inline-block !important;position: relative;}#sk-container-id-2 div.sk-text-repr-fallback {display: none;}</style><div id=\"sk-container-id-2\" class=\"sk-top-container\"><div class=\"sk-text-repr-fallback\"><pre>GridSearchCV(cv=2, estimator=RandomForestClassifier(),\n",
              "             param_grid={&#x27;max_depth&#x27;: [5, 10], &#x27;min_samples_leaf&#x27;: [5, 10],\n",
              "                         &#x27;n_estimators&#x27;: [50, 100, 150], &#x27;random_state&#x27;: [42]})</pre><b>In a Jupyter environment, please rerun this cell to show the HTML representation or trust the notebook. <br />On GitHub, the HTML representation is unable to render, please try loading this page with nbviewer.org.</b></div><div class=\"sk-container\" hidden><div class=\"sk-item sk-dashed-wrapped\"><div class=\"sk-label-container\"><div class=\"sk-label sk-toggleable\"><input class=\"sk-toggleable__control sk-hidden--visually\" id=\"sk-estimator-id-4\" type=\"checkbox\" ><label for=\"sk-estimator-id-4\" class=\"sk-toggleable__label sk-toggleable__label-arrow\">GridSearchCV</label><div class=\"sk-toggleable__content\"><pre>GridSearchCV(cv=2, estimator=RandomForestClassifier(),\n",
              "             param_grid={&#x27;max_depth&#x27;: [5, 10], &#x27;min_samples_leaf&#x27;: [5, 10],\n",
              "                         &#x27;n_estimators&#x27;: [50, 100, 150], &#x27;random_state&#x27;: [42]})</pre></div></div></div><div class=\"sk-parallel\"><div class=\"sk-parallel-item\"><div class=\"sk-item\"><div class=\"sk-label-container\"><div class=\"sk-label sk-toggleable\"><input class=\"sk-toggleable__control sk-hidden--visually\" id=\"sk-estimator-id-5\" type=\"checkbox\" ><label for=\"sk-estimator-id-5\" class=\"sk-toggleable__label sk-toggleable__label-arrow\">estimator: RandomForestClassifier</label><div class=\"sk-toggleable__content\"><pre>RandomForestClassifier()</pre></div></div></div><div class=\"sk-serial\"><div class=\"sk-item\"><div class=\"sk-estimator sk-toggleable\"><input class=\"sk-toggleable__control sk-hidden--visually\" id=\"sk-estimator-id-6\" type=\"checkbox\" ><label for=\"sk-estimator-id-6\" class=\"sk-toggleable__label sk-toggleable__label-arrow\">RandomForestClassifier</label><div class=\"sk-toggleable__content\"><pre>RandomForestClassifier()</pre></div></div></div></div></div></div></div></div></div></div>"
            ],
            "text/plain": [
              "GridSearchCV(cv=2, estimator=RandomForestClassifier(),\n",
              "             param_grid={'max_depth': [5, 10], 'min_samples_leaf': [5, 10],\n",
              "                         'n_estimators': [50, 100, 150], 'random_state': [42]})"
            ]
          },
          "execution_count": 26,
          "metadata": {},
          "output_type": "execute_result"
        }
      ],
      "source": [
        "# Applying the model with the function\n",
        "eval_model(rfc_B, rfcParams, 'rfcBert')"
      ]
    }
  ],
  "metadata": {
    "accelerator": "GPU",
    "colab": {
      "gpuType": "T4",
      "provenance": []
    },
    "gpuClass": "standard",
    "kernelspec": {
      "display_name": "Python 3",
      "language": "python",
      "name": "python3"
    },
    "language_info": {
      "codemirror_mode": {
        "name": "ipython",
        "version": 3
      },
      "file_extension": ".py",
      "mimetype": "text/x-python",
      "name": "python",
      "nbconvert_exporter": "python",
      "pygments_lexer": "ipython3",
      "version": "3.9.16"
    },
    "orig_nbformat": 4,
    "widgets": {
      "application/vnd.jupyter.widget-state+json": {
        "41eecdc8409a40509c8489febc9c7277": {
          "model_module": "@jupyter-widgets/controls",
          "model_name": "HBoxModel",
          "model_module_version": "1.5.0",
          "state": {
            "_dom_classes": [],
            "_model_module": "@jupyter-widgets/controls",
            "_model_module_version": "1.5.0",
            "_model_name": "HBoxModel",
            "_view_count": null,
            "_view_module": "@jupyter-widgets/controls",
            "_view_module_version": "1.5.0",
            "_view_name": "HBoxView",
            "box_style": "",
            "children": [
              "IPY_MODEL_d4b91b32cf8747b48034bcf42554085f",
              "IPY_MODEL_3e4f2f50cdca4c11bc4b7e81ada7f210",
              "IPY_MODEL_c954066a36d2464f94f081ec4e4838b8"
            ],
            "layout": "IPY_MODEL_238c55e1dffb47d0a88702c5ab9c0d2d"
          }
        },
        "d4b91b32cf8747b48034bcf42554085f": {
          "model_module": "@jupyter-widgets/controls",
          "model_name": "HTMLModel",
          "model_module_version": "1.5.0",
          "state": {
            "_dom_classes": [],
            "_model_module": "@jupyter-widgets/controls",
            "_model_module_version": "1.5.0",
            "_model_name": "HTMLModel",
            "_view_count": null,
            "_view_module": "@jupyter-widgets/controls",
            "_view_module_version": "1.5.0",
            "_view_name": "HTMLView",
            "description": "",
            "description_tooltip": null,
            "layout": "IPY_MODEL_71c8861c510442b38e970e67428fef11",
            "placeholder": "​",
            "style": "IPY_MODEL_c52a91b8c512462794420a9518d2be2f",
            "value": "Downloading (…)lve/main/config.json: 100%"
          }
        },
        "3e4f2f50cdca4c11bc4b7e81ada7f210": {
          "model_module": "@jupyter-widgets/controls",
          "model_name": "FloatProgressModel",
          "model_module_version": "1.5.0",
          "state": {
            "_dom_classes": [],
            "_model_module": "@jupyter-widgets/controls",
            "_model_module_version": "1.5.0",
            "_model_name": "FloatProgressModel",
            "_view_count": null,
            "_view_module": "@jupyter-widgets/controls",
            "_view_module_version": "1.5.0",
            "_view_name": "ProgressView",
            "bar_style": "success",
            "description": "",
            "description_tooltip": null,
            "layout": "IPY_MODEL_59f120aa446d4621ae284d779a8c8b68",
            "max": 483,
            "min": 0,
            "orientation": "horizontal",
            "style": "IPY_MODEL_7285bbb0619949e88b0c51403db4cbf1",
            "value": 483
          }
        },
        "c954066a36d2464f94f081ec4e4838b8": {
          "model_module": "@jupyter-widgets/controls",
          "model_name": "HTMLModel",
          "model_module_version": "1.5.0",
          "state": {
            "_dom_classes": [],
            "_model_module": "@jupyter-widgets/controls",
            "_model_module_version": "1.5.0",
            "_model_name": "HTMLModel",
            "_view_count": null,
            "_view_module": "@jupyter-widgets/controls",
            "_view_module_version": "1.5.0",
            "_view_name": "HTMLView",
            "description": "",
            "description_tooltip": null,
            "layout": "IPY_MODEL_694207a907ec4a2b9a9d58b4d311a6a7",
            "placeholder": "​",
            "style": "IPY_MODEL_b08c113110ea47409d6a6101dd59e80a",
            "value": " 483/483 [00:00&lt;00:00, 34.0kB/s]"
          }
        },
        "238c55e1dffb47d0a88702c5ab9c0d2d": {
          "model_module": "@jupyter-widgets/base",
          "model_name": "LayoutModel",
          "model_module_version": "1.2.0",
          "state": {
            "_model_module": "@jupyter-widgets/base",
            "_model_module_version": "1.2.0",
            "_model_name": "LayoutModel",
            "_view_count": null,
            "_view_module": "@jupyter-widgets/base",
            "_view_module_version": "1.2.0",
            "_view_name": "LayoutView",
            "align_content": null,
            "align_items": null,
            "align_self": null,
            "border": null,
            "bottom": null,
            "display": null,
            "flex": null,
            "flex_flow": null,
            "grid_area": null,
            "grid_auto_columns": null,
            "grid_auto_flow": null,
            "grid_auto_rows": null,
            "grid_column": null,
            "grid_gap": null,
            "grid_row": null,
            "grid_template_areas": null,
            "grid_template_columns": null,
            "grid_template_rows": null,
            "height": null,
            "justify_content": null,
            "justify_items": null,
            "left": null,
            "margin": null,
            "max_height": null,
            "max_width": null,
            "min_height": null,
            "min_width": null,
            "object_fit": null,
            "object_position": null,
            "order": null,
            "overflow": null,
            "overflow_x": null,
            "overflow_y": null,
            "padding": null,
            "right": null,
            "top": null,
            "visibility": null,
            "width": null
          }
        },
        "71c8861c510442b38e970e67428fef11": {
          "model_module": "@jupyter-widgets/base",
          "model_name": "LayoutModel",
          "model_module_version": "1.2.0",
          "state": {
            "_model_module": "@jupyter-widgets/base",
            "_model_module_version": "1.2.0",
            "_model_name": "LayoutModel",
            "_view_count": null,
            "_view_module": "@jupyter-widgets/base",
            "_view_module_version": "1.2.0",
            "_view_name": "LayoutView",
            "align_content": null,
            "align_items": null,
            "align_self": null,
            "border": null,
            "bottom": null,
            "display": null,
            "flex": null,
            "flex_flow": null,
            "grid_area": null,
            "grid_auto_columns": null,
            "grid_auto_flow": null,
            "grid_auto_rows": null,
            "grid_column": null,
            "grid_gap": null,
            "grid_row": null,
            "grid_template_areas": null,
            "grid_template_columns": null,
            "grid_template_rows": null,
            "height": null,
            "justify_content": null,
            "justify_items": null,
            "left": null,
            "margin": null,
            "max_height": null,
            "max_width": null,
            "min_height": null,
            "min_width": null,
            "object_fit": null,
            "object_position": null,
            "order": null,
            "overflow": null,
            "overflow_x": null,
            "overflow_y": null,
            "padding": null,
            "right": null,
            "top": null,
            "visibility": null,
            "width": null
          }
        },
        "c52a91b8c512462794420a9518d2be2f": {
          "model_module": "@jupyter-widgets/controls",
          "model_name": "DescriptionStyleModel",
          "model_module_version": "1.5.0",
          "state": {
            "_model_module": "@jupyter-widgets/controls",
            "_model_module_version": "1.5.0",
            "_model_name": "DescriptionStyleModel",
            "_view_count": null,
            "_view_module": "@jupyter-widgets/base",
            "_view_module_version": "1.2.0",
            "_view_name": "StyleView",
            "description_width": ""
          }
        },
        "59f120aa446d4621ae284d779a8c8b68": {
          "model_module": "@jupyter-widgets/base",
          "model_name": "LayoutModel",
          "model_module_version": "1.2.0",
          "state": {
            "_model_module": "@jupyter-widgets/base",
            "_model_module_version": "1.2.0",
            "_model_name": "LayoutModel",
            "_view_count": null,
            "_view_module": "@jupyter-widgets/base",
            "_view_module_version": "1.2.0",
            "_view_name": "LayoutView",
            "align_content": null,
            "align_items": null,
            "align_self": null,
            "border": null,
            "bottom": null,
            "display": null,
            "flex": null,
            "flex_flow": null,
            "grid_area": null,
            "grid_auto_columns": null,
            "grid_auto_flow": null,
            "grid_auto_rows": null,
            "grid_column": null,
            "grid_gap": null,
            "grid_row": null,
            "grid_template_areas": null,
            "grid_template_columns": null,
            "grid_template_rows": null,
            "height": null,
            "justify_content": null,
            "justify_items": null,
            "left": null,
            "margin": null,
            "max_height": null,
            "max_width": null,
            "min_height": null,
            "min_width": null,
            "object_fit": null,
            "object_position": null,
            "order": null,
            "overflow": null,
            "overflow_x": null,
            "overflow_y": null,
            "padding": null,
            "right": null,
            "top": null,
            "visibility": null,
            "width": null
          }
        },
        "7285bbb0619949e88b0c51403db4cbf1": {
          "model_module": "@jupyter-widgets/controls",
          "model_name": "ProgressStyleModel",
          "model_module_version": "1.5.0",
          "state": {
            "_model_module": "@jupyter-widgets/controls",
            "_model_module_version": "1.5.0",
            "_model_name": "ProgressStyleModel",
            "_view_count": null,
            "_view_module": "@jupyter-widgets/base",
            "_view_module_version": "1.2.0",
            "_view_name": "StyleView",
            "bar_color": null,
            "description_width": ""
          }
        },
        "694207a907ec4a2b9a9d58b4d311a6a7": {
          "model_module": "@jupyter-widgets/base",
          "model_name": "LayoutModel",
          "model_module_version": "1.2.0",
          "state": {
            "_model_module": "@jupyter-widgets/base",
            "_model_module_version": "1.2.0",
            "_model_name": "LayoutModel",
            "_view_count": null,
            "_view_module": "@jupyter-widgets/base",
            "_view_module_version": "1.2.0",
            "_view_name": "LayoutView",
            "align_content": null,
            "align_items": null,
            "align_self": null,
            "border": null,
            "bottom": null,
            "display": null,
            "flex": null,
            "flex_flow": null,
            "grid_area": null,
            "grid_auto_columns": null,
            "grid_auto_flow": null,
            "grid_auto_rows": null,
            "grid_column": null,
            "grid_gap": null,
            "grid_row": null,
            "grid_template_areas": null,
            "grid_template_columns": null,
            "grid_template_rows": null,
            "height": null,
            "justify_content": null,
            "justify_items": null,
            "left": null,
            "margin": null,
            "max_height": null,
            "max_width": null,
            "min_height": null,
            "min_width": null,
            "object_fit": null,
            "object_position": null,
            "order": null,
            "overflow": null,
            "overflow_x": null,
            "overflow_y": null,
            "padding": null,
            "right": null,
            "top": null,
            "visibility": null,
            "width": null
          }
        },
        "b08c113110ea47409d6a6101dd59e80a": {
          "model_module": "@jupyter-widgets/controls",
          "model_name": "DescriptionStyleModel",
          "model_module_version": "1.5.0",
          "state": {
            "_model_module": "@jupyter-widgets/controls",
            "_model_module_version": "1.5.0",
            "_model_name": "DescriptionStyleModel",
            "_view_count": null,
            "_view_module": "@jupyter-widgets/base",
            "_view_module_version": "1.2.0",
            "_view_name": "StyleView",
            "description_width": ""
          }
        },
        "43d269f5b83043feb3796e7250a700d1": {
          "model_module": "@jupyter-widgets/controls",
          "model_name": "HBoxModel",
          "model_module_version": "1.5.0",
          "state": {
            "_dom_classes": [],
            "_model_module": "@jupyter-widgets/controls",
            "_model_module_version": "1.5.0",
            "_model_name": "HBoxModel",
            "_view_count": null,
            "_view_module": "@jupyter-widgets/controls",
            "_view_module_version": "1.5.0",
            "_view_name": "HBoxView",
            "box_style": "",
            "children": [
              "IPY_MODEL_d08fc1c8052d4599a47bbc28369b2511",
              "IPY_MODEL_c694d03dbdc645e9b111ed70a8e8e3fd",
              "IPY_MODEL_a148a94e322c408b91432158dfb1351f"
            ],
            "layout": "IPY_MODEL_cf23c1ef45de49c793bc495748719493"
          }
        },
        "d08fc1c8052d4599a47bbc28369b2511": {
          "model_module": "@jupyter-widgets/controls",
          "model_name": "HTMLModel",
          "model_module_version": "1.5.0",
          "state": {
            "_dom_classes": [],
            "_model_module": "@jupyter-widgets/controls",
            "_model_module_version": "1.5.0",
            "_model_name": "HTMLModel",
            "_view_count": null,
            "_view_module": "@jupyter-widgets/controls",
            "_view_module_version": "1.5.0",
            "_view_name": "HTMLView",
            "description": "",
            "description_tooltip": null,
            "layout": "IPY_MODEL_2fda7dce104746c49109d0e33a0f01fa",
            "placeholder": "​",
            "style": "IPY_MODEL_85e65d1142464c1ca7b42507590957be",
            "value": "Downloading pytorch_model.bin: 100%"
          }
        },
        "c694d03dbdc645e9b111ed70a8e8e3fd": {
          "model_module": "@jupyter-widgets/controls",
          "model_name": "FloatProgressModel",
          "model_module_version": "1.5.0",
          "state": {
            "_dom_classes": [],
            "_model_module": "@jupyter-widgets/controls",
            "_model_module_version": "1.5.0",
            "_model_name": "FloatProgressModel",
            "_view_count": null,
            "_view_module": "@jupyter-widgets/controls",
            "_view_module_version": "1.5.0",
            "_view_name": "ProgressView",
            "bar_style": "success",
            "description": "",
            "description_tooltip": null,
            "layout": "IPY_MODEL_ed9afd0af9ab489ca7e49d35ef3808a5",
            "max": 267967963,
            "min": 0,
            "orientation": "horizontal",
            "style": "IPY_MODEL_1fcef240128a4fcfa6f5d9963cd6308f",
            "value": 267967963
          }
        },
        "a148a94e322c408b91432158dfb1351f": {
          "model_module": "@jupyter-widgets/controls",
          "model_name": "HTMLModel",
          "model_module_version": "1.5.0",
          "state": {
            "_dom_classes": [],
            "_model_module": "@jupyter-widgets/controls",
            "_model_module_version": "1.5.0",
            "_model_name": "HTMLModel",
            "_view_count": null,
            "_view_module": "@jupyter-widgets/controls",
            "_view_module_version": "1.5.0",
            "_view_name": "HTMLView",
            "description": "",
            "description_tooltip": null,
            "layout": "IPY_MODEL_5362effc8eff4c9d9f13efd3969290f3",
            "placeholder": "​",
            "style": "IPY_MODEL_e413e8ec0b5a4e25b1d2e6ae38423d55",
            "value": " 268M/268M [00:04&lt;00:00, 31.4MB/s]"
          }
        },
        "cf23c1ef45de49c793bc495748719493": {
          "model_module": "@jupyter-widgets/base",
          "model_name": "LayoutModel",
          "model_module_version": "1.2.0",
          "state": {
            "_model_module": "@jupyter-widgets/base",
            "_model_module_version": "1.2.0",
            "_model_name": "LayoutModel",
            "_view_count": null,
            "_view_module": "@jupyter-widgets/base",
            "_view_module_version": "1.2.0",
            "_view_name": "LayoutView",
            "align_content": null,
            "align_items": null,
            "align_self": null,
            "border": null,
            "bottom": null,
            "display": null,
            "flex": null,
            "flex_flow": null,
            "grid_area": null,
            "grid_auto_columns": null,
            "grid_auto_flow": null,
            "grid_auto_rows": null,
            "grid_column": null,
            "grid_gap": null,
            "grid_row": null,
            "grid_template_areas": null,
            "grid_template_columns": null,
            "grid_template_rows": null,
            "height": null,
            "justify_content": null,
            "justify_items": null,
            "left": null,
            "margin": null,
            "max_height": null,
            "max_width": null,
            "min_height": null,
            "min_width": null,
            "object_fit": null,
            "object_position": null,
            "order": null,
            "overflow": null,
            "overflow_x": null,
            "overflow_y": null,
            "padding": null,
            "right": null,
            "top": null,
            "visibility": null,
            "width": null
          }
        },
        "2fda7dce104746c49109d0e33a0f01fa": {
          "model_module": "@jupyter-widgets/base",
          "model_name": "LayoutModel",
          "model_module_version": "1.2.0",
          "state": {
            "_model_module": "@jupyter-widgets/base",
            "_model_module_version": "1.2.0",
            "_model_name": "LayoutModel",
            "_view_count": null,
            "_view_module": "@jupyter-widgets/base",
            "_view_module_version": "1.2.0",
            "_view_name": "LayoutView",
            "align_content": null,
            "align_items": null,
            "align_self": null,
            "border": null,
            "bottom": null,
            "display": null,
            "flex": null,
            "flex_flow": null,
            "grid_area": null,
            "grid_auto_columns": null,
            "grid_auto_flow": null,
            "grid_auto_rows": null,
            "grid_column": null,
            "grid_gap": null,
            "grid_row": null,
            "grid_template_areas": null,
            "grid_template_columns": null,
            "grid_template_rows": null,
            "height": null,
            "justify_content": null,
            "justify_items": null,
            "left": null,
            "margin": null,
            "max_height": null,
            "max_width": null,
            "min_height": null,
            "min_width": null,
            "object_fit": null,
            "object_position": null,
            "order": null,
            "overflow": null,
            "overflow_x": null,
            "overflow_y": null,
            "padding": null,
            "right": null,
            "top": null,
            "visibility": null,
            "width": null
          }
        },
        "85e65d1142464c1ca7b42507590957be": {
          "model_module": "@jupyter-widgets/controls",
          "model_name": "DescriptionStyleModel",
          "model_module_version": "1.5.0",
          "state": {
            "_model_module": "@jupyter-widgets/controls",
            "_model_module_version": "1.5.0",
            "_model_name": "DescriptionStyleModel",
            "_view_count": null,
            "_view_module": "@jupyter-widgets/base",
            "_view_module_version": "1.2.0",
            "_view_name": "StyleView",
            "description_width": ""
          }
        },
        "ed9afd0af9ab489ca7e49d35ef3808a5": {
          "model_module": "@jupyter-widgets/base",
          "model_name": "LayoutModel",
          "model_module_version": "1.2.0",
          "state": {
            "_model_module": "@jupyter-widgets/base",
            "_model_module_version": "1.2.0",
            "_model_name": "LayoutModel",
            "_view_count": null,
            "_view_module": "@jupyter-widgets/base",
            "_view_module_version": "1.2.0",
            "_view_name": "LayoutView",
            "align_content": null,
            "align_items": null,
            "align_self": null,
            "border": null,
            "bottom": null,
            "display": null,
            "flex": null,
            "flex_flow": null,
            "grid_area": null,
            "grid_auto_columns": null,
            "grid_auto_flow": null,
            "grid_auto_rows": null,
            "grid_column": null,
            "grid_gap": null,
            "grid_row": null,
            "grid_template_areas": null,
            "grid_template_columns": null,
            "grid_template_rows": null,
            "height": null,
            "justify_content": null,
            "justify_items": null,
            "left": null,
            "margin": null,
            "max_height": null,
            "max_width": null,
            "min_height": null,
            "min_width": null,
            "object_fit": null,
            "object_position": null,
            "order": null,
            "overflow": null,
            "overflow_x": null,
            "overflow_y": null,
            "padding": null,
            "right": null,
            "top": null,
            "visibility": null,
            "width": null
          }
        },
        "1fcef240128a4fcfa6f5d9963cd6308f": {
          "model_module": "@jupyter-widgets/controls",
          "model_name": "ProgressStyleModel",
          "model_module_version": "1.5.0",
          "state": {
            "_model_module": "@jupyter-widgets/controls",
            "_model_module_version": "1.5.0",
            "_model_name": "ProgressStyleModel",
            "_view_count": null,
            "_view_module": "@jupyter-widgets/base",
            "_view_module_version": "1.2.0",
            "_view_name": "StyleView",
            "bar_color": null,
            "description_width": ""
          }
        },
        "5362effc8eff4c9d9f13efd3969290f3": {
          "model_module": "@jupyter-widgets/base",
          "model_name": "LayoutModel",
          "model_module_version": "1.2.0",
          "state": {
            "_model_module": "@jupyter-widgets/base",
            "_model_module_version": "1.2.0",
            "_model_name": "LayoutModel",
            "_view_count": null,
            "_view_module": "@jupyter-widgets/base",
            "_view_module_version": "1.2.0",
            "_view_name": "LayoutView",
            "align_content": null,
            "align_items": null,
            "align_self": null,
            "border": null,
            "bottom": null,
            "display": null,
            "flex": null,
            "flex_flow": null,
            "grid_area": null,
            "grid_auto_columns": null,
            "grid_auto_flow": null,
            "grid_auto_rows": null,
            "grid_column": null,
            "grid_gap": null,
            "grid_row": null,
            "grid_template_areas": null,
            "grid_template_columns": null,
            "grid_template_rows": null,
            "height": null,
            "justify_content": null,
            "justify_items": null,
            "left": null,
            "margin": null,
            "max_height": null,
            "max_width": null,
            "min_height": null,
            "min_width": null,
            "object_fit": null,
            "object_position": null,
            "order": null,
            "overflow": null,
            "overflow_x": null,
            "overflow_y": null,
            "padding": null,
            "right": null,
            "top": null,
            "visibility": null,
            "width": null
          }
        },
        "e413e8ec0b5a4e25b1d2e6ae38423d55": {
          "model_module": "@jupyter-widgets/controls",
          "model_name": "DescriptionStyleModel",
          "model_module_version": "1.5.0",
          "state": {
            "_model_module": "@jupyter-widgets/controls",
            "_model_module_version": "1.5.0",
            "_model_name": "DescriptionStyleModel",
            "_view_count": null,
            "_view_module": "@jupyter-widgets/base",
            "_view_module_version": "1.2.0",
            "_view_name": "StyleView",
            "description_width": ""
          }
        },
        "c18cd962f0c04bb29862ffea1844da29": {
          "model_module": "@jupyter-widgets/controls",
          "model_name": "HBoxModel",
          "model_module_version": "1.5.0",
          "state": {
            "_dom_classes": [],
            "_model_module": "@jupyter-widgets/controls",
            "_model_module_version": "1.5.0",
            "_model_name": "HBoxModel",
            "_view_count": null,
            "_view_module": "@jupyter-widgets/controls",
            "_view_module_version": "1.5.0",
            "_view_name": "HBoxView",
            "box_style": "",
            "children": [
              "IPY_MODEL_35f368d4e72246b4ac3b1da81de34979",
              "IPY_MODEL_c5d2cd0524444570a5023f37f2d8d350",
              "IPY_MODEL_9b3874237b014229801936993a759a34"
            ],
            "layout": "IPY_MODEL_46a33afdb6ea4d75b53859efa97fceb6"
          }
        },
        "35f368d4e72246b4ac3b1da81de34979": {
          "model_module": "@jupyter-widgets/controls",
          "model_name": "HTMLModel",
          "model_module_version": "1.5.0",
          "state": {
            "_dom_classes": [],
            "_model_module": "@jupyter-widgets/controls",
            "_model_module_version": "1.5.0",
            "_model_name": "HTMLModel",
            "_view_count": null,
            "_view_module": "@jupyter-widgets/controls",
            "_view_module_version": "1.5.0",
            "_view_name": "HTMLView",
            "description": "",
            "description_tooltip": null,
            "layout": "IPY_MODEL_e4fcd48679e946cc9eb987437c768577",
            "placeholder": "​",
            "style": "IPY_MODEL_402501a88800416cacf07ddb01d68bdb",
            "value": "Downloading (…)okenizer_config.json: 100%"
          }
        },
        "c5d2cd0524444570a5023f37f2d8d350": {
          "model_module": "@jupyter-widgets/controls",
          "model_name": "FloatProgressModel",
          "model_module_version": "1.5.0",
          "state": {
            "_dom_classes": [],
            "_model_module": "@jupyter-widgets/controls",
            "_model_module_version": "1.5.0",
            "_model_name": "FloatProgressModel",
            "_view_count": null,
            "_view_module": "@jupyter-widgets/controls",
            "_view_module_version": "1.5.0",
            "_view_name": "ProgressView",
            "bar_style": "success",
            "description": "",
            "description_tooltip": null,
            "layout": "IPY_MODEL_15958d99370d46d5a44fd16d04ad41b2",
            "max": 28,
            "min": 0,
            "orientation": "horizontal",
            "style": "IPY_MODEL_faf75ba1f85f4a2c91ffc5d36a2a7c07",
            "value": 28
          }
        },
        "9b3874237b014229801936993a759a34": {
          "model_module": "@jupyter-widgets/controls",
          "model_name": "HTMLModel",
          "model_module_version": "1.5.0",
          "state": {
            "_dom_classes": [],
            "_model_module": "@jupyter-widgets/controls",
            "_model_module_version": "1.5.0",
            "_model_name": "HTMLModel",
            "_view_count": null,
            "_view_module": "@jupyter-widgets/controls",
            "_view_module_version": "1.5.0",
            "_view_name": "HTMLView",
            "description": "",
            "description_tooltip": null,
            "layout": "IPY_MODEL_825dd396748f46428ca19ae9dfb14584",
            "placeholder": "​",
            "style": "IPY_MODEL_365dc99e1e504131826bb6079e5ab2cd",
            "value": " 28.0/28.0 [00:00&lt;00:00, 1.70kB/s]"
          }
        },
        "46a33afdb6ea4d75b53859efa97fceb6": {
          "model_module": "@jupyter-widgets/base",
          "model_name": "LayoutModel",
          "model_module_version": "1.2.0",
          "state": {
            "_model_module": "@jupyter-widgets/base",
            "_model_module_version": "1.2.0",
            "_model_name": "LayoutModel",
            "_view_count": null,
            "_view_module": "@jupyter-widgets/base",
            "_view_module_version": "1.2.0",
            "_view_name": "LayoutView",
            "align_content": null,
            "align_items": null,
            "align_self": null,
            "border": null,
            "bottom": null,
            "display": null,
            "flex": null,
            "flex_flow": null,
            "grid_area": null,
            "grid_auto_columns": null,
            "grid_auto_flow": null,
            "grid_auto_rows": null,
            "grid_column": null,
            "grid_gap": null,
            "grid_row": null,
            "grid_template_areas": null,
            "grid_template_columns": null,
            "grid_template_rows": null,
            "height": null,
            "justify_content": null,
            "justify_items": null,
            "left": null,
            "margin": null,
            "max_height": null,
            "max_width": null,
            "min_height": null,
            "min_width": null,
            "object_fit": null,
            "object_position": null,
            "order": null,
            "overflow": null,
            "overflow_x": null,
            "overflow_y": null,
            "padding": null,
            "right": null,
            "top": null,
            "visibility": null,
            "width": null
          }
        },
        "e4fcd48679e946cc9eb987437c768577": {
          "model_module": "@jupyter-widgets/base",
          "model_name": "LayoutModel",
          "model_module_version": "1.2.0",
          "state": {
            "_model_module": "@jupyter-widgets/base",
            "_model_module_version": "1.2.0",
            "_model_name": "LayoutModel",
            "_view_count": null,
            "_view_module": "@jupyter-widgets/base",
            "_view_module_version": "1.2.0",
            "_view_name": "LayoutView",
            "align_content": null,
            "align_items": null,
            "align_self": null,
            "border": null,
            "bottom": null,
            "display": null,
            "flex": null,
            "flex_flow": null,
            "grid_area": null,
            "grid_auto_columns": null,
            "grid_auto_flow": null,
            "grid_auto_rows": null,
            "grid_column": null,
            "grid_gap": null,
            "grid_row": null,
            "grid_template_areas": null,
            "grid_template_columns": null,
            "grid_template_rows": null,
            "height": null,
            "justify_content": null,
            "justify_items": null,
            "left": null,
            "margin": null,
            "max_height": null,
            "max_width": null,
            "min_height": null,
            "min_width": null,
            "object_fit": null,
            "object_position": null,
            "order": null,
            "overflow": null,
            "overflow_x": null,
            "overflow_y": null,
            "padding": null,
            "right": null,
            "top": null,
            "visibility": null,
            "width": null
          }
        },
        "402501a88800416cacf07ddb01d68bdb": {
          "model_module": "@jupyter-widgets/controls",
          "model_name": "DescriptionStyleModel",
          "model_module_version": "1.5.0",
          "state": {
            "_model_module": "@jupyter-widgets/controls",
            "_model_module_version": "1.5.0",
            "_model_name": "DescriptionStyleModel",
            "_view_count": null,
            "_view_module": "@jupyter-widgets/base",
            "_view_module_version": "1.2.0",
            "_view_name": "StyleView",
            "description_width": ""
          }
        },
        "15958d99370d46d5a44fd16d04ad41b2": {
          "model_module": "@jupyter-widgets/base",
          "model_name": "LayoutModel",
          "model_module_version": "1.2.0",
          "state": {
            "_model_module": "@jupyter-widgets/base",
            "_model_module_version": "1.2.0",
            "_model_name": "LayoutModel",
            "_view_count": null,
            "_view_module": "@jupyter-widgets/base",
            "_view_module_version": "1.2.0",
            "_view_name": "LayoutView",
            "align_content": null,
            "align_items": null,
            "align_self": null,
            "border": null,
            "bottom": null,
            "display": null,
            "flex": null,
            "flex_flow": null,
            "grid_area": null,
            "grid_auto_columns": null,
            "grid_auto_flow": null,
            "grid_auto_rows": null,
            "grid_column": null,
            "grid_gap": null,
            "grid_row": null,
            "grid_template_areas": null,
            "grid_template_columns": null,
            "grid_template_rows": null,
            "height": null,
            "justify_content": null,
            "justify_items": null,
            "left": null,
            "margin": null,
            "max_height": null,
            "max_width": null,
            "min_height": null,
            "min_width": null,
            "object_fit": null,
            "object_position": null,
            "order": null,
            "overflow": null,
            "overflow_x": null,
            "overflow_y": null,
            "padding": null,
            "right": null,
            "top": null,
            "visibility": null,
            "width": null
          }
        },
        "faf75ba1f85f4a2c91ffc5d36a2a7c07": {
          "model_module": "@jupyter-widgets/controls",
          "model_name": "ProgressStyleModel",
          "model_module_version": "1.5.0",
          "state": {
            "_model_module": "@jupyter-widgets/controls",
            "_model_module_version": "1.5.0",
            "_model_name": "ProgressStyleModel",
            "_view_count": null,
            "_view_module": "@jupyter-widgets/base",
            "_view_module_version": "1.2.0",
            "_view_name": "StyleView",
            "bar_color": null,
            "description_width": ""
          }
        },
        "825dd396748f46428ca19ae9dfb14584": {
          "model_module": "@jupyter-widgets/base",
          "model_name": "LayoutModel",
          "model_module_version": "1.2.0",
          "state": {
            "_model_module": "@jupyter-widgets/base",
            "_model_module_version": "1.2.0",
            "_model_name": "LayoutModel",
            "_view_count": null,
            "_view_module": "@jupyter-widgets/base",
            "_view_module_version": "1.2.0",
            "_view_name": "LayoutView",
            "align_content": null,
            "align_items": null,
            "align_self": null,
            "border": null,
            "bottom": null,
            "display": null,
            "flex": null,
            "flex_flow": null,
            "grid_area": null,
            "grid_auto_columns": null,
            "grid_auto_flow": null,
            "grid_auto_rows": null,
            "grid_column": null,
            "grid_gap": null,
            "grid_row": null,
            "grid_template_areas": null,
            "grid_template_columns": null,
            "grid_template_rows": null,
            "height": null,
            "justify_content": null,
            "justify_items": null,
            "left": null,
            "margin": null,
            "max_height": null,
            "max_width": null,
            "min_height": null,
            "min_width": null,
            "object_fit": null,
            "object_position": null,
            "order": null,
            "overflow": null,
            "overflow_x": null,
            "overflow_y": null,
            "padding": null,
            "right": null,
            "top": null,
            "visibility": null,
            "width": null
          }
        },
        "365dc99e1e504131826bb6079e5ab2cd": {
          "model_module": "@jupyter-widgets/controls",
          "model_name": "DescriptionStyleModel",
          "model_module_version": "1.5.0",
          "state": {
            "_model_module": "@jupyter-widgets/controls",
            "_model_module_version": "1.5.0",
            "_model_name": "DescriptionStyleModel",
            "_view_count": null,
            "_view_module": "@jupyter-widgets/base",
            "_view_module_version": "1.2.0",
            "_view_name": "StyleView",
            "description_width": ""
          }
        },
        "36bd78d1aaab40b7b6576f4837625b1b": {
          "model_module": "@jupyter-widgets/controls",
          "model_name": "HBoxModel",
          "model_module_version": "1.5.0",
          "state": {
            "_dom_classes": [],
            "_model_module": "@jupyter-widgets/controls",
            "_model_module_version": "1.5.0",
            "_model_name": "HBoxModel",
            "_view_count": null,
            "_view_module": "@jupyter-widgets/controls",
            "_view_module_version": "1.5.0",
            "_view_name": "HBoxView",
            "box_style": "",
            "children": [
              "IPY_MODEL_0928267d6f164f47adad39acc7cb485e",
              "IPY_MODEL_06c8bc2fdb6e44d5ab6880ae6dd794b5",
              "IPY_MODEL_d5acdaccaeb7437b91cb10f3a6bb4be8"
            ],
            "layout": "IPY_MODEL_9c233ddc13074397ae4ca247ede29805"
          }
        },
        "0928267d6f164f47adad39acc7cb485e": {
          "model_module": "@jupyter-widgets/controls",
          "model_name": "HTMLModel",
          "model_module_version": "1.5.0",
          "state": {
            "_dom_classes": [],
            "_model_module": "@jupyter-widgets/controls",
            "_model_module_version": "1.5.0",
            "_model_name": "HTMLModel",
            "_view_count": null,
            "_view_module": "@jupyter-widgets/controls",
            "_view_module_version": "1.5.0",
            "_view_name": "HTMLView",
            "description": "",
            "description_tooltip": null,
            "layout": "IPY_MODEL_a2b308c1517045648658e54e4f3db7cf",
            "placeholder": "​",
            "style": "IPY_MODEL_ab9fe3e6689e4512bcc1c62f60b7bfef",
            "value": "Downloading (…)solve/main/vocab.txt: 100%"
          }
        },
        "06c8bc2fdb6e44d5ab6880ae6dd794b5": {
          "model_module": "@jupyter-widgets/controls",
          "model_name": "FloatProgressModel",
          "model_module_version": "1.5.0",
          "state": {
            "_dom_classes": [],
            "_model_module": "@jupyter-widgets/controls",
            "_model_module_version": "1.5.0",
            "_model_name": "FloatProgressModel",
            "_view_count": null,
            "_view_module": "@jupyter-widgets/controls",
            "_view_module_version": "1.5.0",
            "_view_name": "ProgressView",
            "bar_style": "success",
            "description": "",
            "description_tooltip": null,
            "layout": "IPY_MODEL_27e745c4108b435faa79ae40431f4a28",
            "max": 231508,
            "min": 0,
            "orientation": "horizontal",
            "style": "IPY_MODEL_2a4e2941bd1f4d2294c3e4050ba46804",
            "value": 231508
          }
        },
        "d5acdaccaeb7437b91cb10f3a6bb4be8": {
          "model_module": "@jupyter-widgets/controls",
          "model_name": "HTMLModel",
          "model_module_version": "1.5.0",
          "state": {
            "_dom_classes": [],
            "_model_module": "@jupyter-widgets/controls",
            "_model_module_version": "1.5.0",
            "_model_name": "HTMLModel",
            "_view_count": null,
            "_view_module": "@jupyter-widgets/controls",
            "_view_module_version": "1.5.0",
            "_view_name": "HTMLView",
            "description": "",
            "description_tooltip": null,
            "layout": "IPY_MODEL_355658f316fb48fc8541075cffb894bb",
            "placeholder": "​",
            "style": "IPY_MODEL_20a4929912cd4b309fadd005a91fd6fe",
            "value": " 232k/232k [00:00&lt;00:00, 1.40MB/s]"
          }
        },
        "9c233ddc13074397ae4ca247ede29805": {
          "model_module": "@jupyter-widgets/base",
          "model_name": "LayoutModel",
          "model_module_version": "1.2.0",
          "state": {
            "_model_module": "@jupyter-widgets/base",
            "_model_module_version": "1.2.0",
            "_model_name": "LayoutModel",
            "_view_count": null,
            "_view_module": "@jupyter-widgets/base",
            "_view_module_version": "1.2.0",
            "_view_name": "LayoutView",
            "align_content": null,
            "align_items": null,
            "align_self": null,
            "border": null,
            "bottom": null,
            "display": null,
            "flex": null,
            "flex_flow": null,
            "grid_area": null,
            "grid_auto_columns": null,
            "grid_auto_flow": null,
            "grid_auto_rows": null,
            "grid_column": null,
            "grid_gap": null,
            "grid_row": null,
            "grid_template_areas": null,
            "grid_template_columns": null,
            "grid_template_rows": null,
            "height": null,
            "justify_content": null,
            "justify_items": null,
            "left": null,
            "margin": null,
            "max_height": null,
            "max_width": null,
            "min_height": null,
            "min_width": null,
            "object_fit": null,
            "object_position": null,
            "order": null,
            "overflow": null,
            "overflow_x": null,
            "overflow_y": null,
            "padding": null,
            "right": null,
            "top": null,
            "visibility": null,
            "width": null
          }
        },
        "a2b308c1517045648658e54e4f3db7cf": {
          "model_module": "@jupyter-widgets/base",
          "model_name": "LayoutModel",
          "model_module_version": "1.2.0",
          "state": {
            "_model_module": "@jupyter-widgets/base",
            "_model_module_version": "1.2.0",
            "_model_name": "LayoutModel",
            "_view_count": null,
            "_view_module": "@jupyter-widgets/base",
            "_view_module_version": "1.2.0",
            "_view_name": "LayoutView",
            "align_content": null,
            "align_items": null,
            "align_self": null,
            "border": null,
            "bottom": null,
            "display": null,
            "flex": null,
            "flex_flow": null,
            "grid_area": null,
            "grid_auto_columns": null,
            "grid_auto_flow": null,
            "grid_auto_rows": null,
            "grid_column": null,
            "grid_gap": null,
            "grid_row": null,
            "grid_template_areas": null,
            "grid_template_columns": null,
            "grid_template_rows": null,
            "height": null,
            "justify_content": null,
            "justify_items": null,
            "left": null,
            "margin": null,
            "max_height": null,
            "max_width": null,
            "min_height": null,
            "min_width": null,
            "object_fit": null,
            "object_position": null,
            "order": null,
            "overflow": null,
            "overflow_x": null,
            "overflow_y": null,
            "padding": null,
            "right": null,
            "top": null,
            "visibility": null,
            "width": null
          }
        },
        "ab9fe3e6689e4512bcc1c62f60b7bfef": {
          "model_module": "@jupyter-widgets/controls",
          "model_name": "DescriptionStyleModel",
          "model_module_version": "1.5.0",
          "state": {
            "_model_module": "@jupyter-widgets/controls",
            "_model_module_version": "1.5.0",
            "_model_name": "DescriptionStyleModel",
            "_view_count": null,
            "_view_module": "@jupyter-widgets/base",
            "_view_module_version": "1.2.0",
            "_view_name": "StyleView",
            "description_width": ""
          }
        },
        "27e745c4108b435faa79ae40431f4a28": {
          "model_module": "@jupyter-widgets/base",
          "model_name": "LayoutModel",
          "model_module_version": "1.2.0",
          "state": {
            "_model_module": "@jupyter-widgets/base",
            "_model_module_version": "1.2.0",
            "_model_name": "LayoutModel",
            "_view_count": null,
            "_view_module": "@jupyter-widgets/base",
            "_view_module_version": "1.2.0",
            "_view_name": "LayoutView",
            "align_content": null,
            "align_items": null,
            "align_self": null,
            "border": null,
            "bottom": null,
            "display": null,
            "flex": null,
            "flex_flow": null,
            "grid_area": null,
            "grid_auto_columns": null,
            "grid_auto_flow": null,
            "grid_auto_rows": null,
            "grid_column": null,
            "grid_gap": null,
            "grid_row": null,
            "grid_template_areas": null,
            "grid_template_columns": null,
            "grid_template_rows": null,
            "height": null,
            "justify_content": null,
            "justify_items": null,
            "left": null,
            "margin": null,
            "max_height": null,
            "max_width": null,
            "min_height": null,
            "min_width": null,
            "object_fit": null,
            "object_position": null,
            "order": null,
            "overflow": null,
            "overflow_x": null,
            "overflow_y": null,
            "padding": null,
            "right": null,
            "top": null,
            "visibility": null,
            "width": null
          }
        },
        "2a4e2941bd1f4d2294c3e4050ba46804": {
          "model_module": "@jupyter-widgets/controls",
          "model_name": "ProgressStyleModel",
          "model_module_version": "1.5.0",
          "state": {
            "_model_module": "@jupyter-widgets/controls",
            "_model_module_version": "1.5.0",
            "_model_name": "ProgressStyleModel",
            "_view_count": null,
            "_view_module": "@jupyter-widgets/base",
            "_view_module_version": "1.2.0",
            "_view_name": "StyleView",
            "bar_color": null,
            "description_width": ""
          }
        },
        "355658f316fb48fc8541075cffb894bb": {
          "model_module": "@jupyter-widgets/base",
          "model_name": "LayoutModel",
          "model_module_version": "1.2.0",
          "state": {
            "_model_module": "@jupyter-widgets/base",
            "_model_module_version": "1.2.0",
            "_model_name": "LayoutModel",
            "_view_count": null,
            "_view_module": "@jupyter-widgets/base",
            "_view_module_version": "1.2.0",
            "_view_name": "LayoutView",
            "align_content": null,
            "align_items": null,
            "align_self": null,
            "border": null,
            "bottom": null,
            "display": null,
            "flex": null,
            "flex_flow": null,
            "grid_area": null,
            "grid_auto_columns": null,
            "grid_auto_flow": null,
            "grid_auto_rows": null,
            "grid_column": null,
            "grid_gap": null,
            "grid_row": null,
            "grid_template_areas": null,
            "grid_template_columns": null,
            "grid_template_rows": null,
            "height": null,
            "justify_content": null,
            "justify_items": null,
            "left": null,
            "margin": null,
            "max_height": null,
            "max_width": null,
            "min_height": null,
            "min_width": null,
            "object_fit": null,
            "object_position": null,
            "order": null,
            "overflow": null,
            "overflow_x": null,
            "overflow_y": null,
            "padding": null,
            "right": null,
            "top": null,
            "visibility": null,
            "width": null
          }
        },
        "20a4929912cd4b309fadd005a91fd6fe": {
          "model_module": "@jupyter-widgets/controls",
          "model_name": "DescriptionStyleModel",
          "model_module_version": "1.5.0",
          "state": {
            "_model_module": "@jupyter-widgets/controls",
            "_model_module_version": "1.5.0",
            "_model_name": "DescriptionStyleModel",
            "_view_count": null,
            "_view_module": "@jupyter-widgets/base",
            "_view_module_version": "1.2.0",
            "_view_name": "StyleView",
            "description_width": ""
          }
        },
        "459c19fd9ad544788debc7094ce926f2": {
          "model_module": "@jupyter-widgets/controls",
          "model_name": "HBoxModel",
          "model_module_version": "1.5.0",
          "state": {
            "_dom_classes": [],
            "_model_module": "@jupyter-widgets/controls",
            "_model_module_version": "1.5.0",
            "_model_name": "HBoxModel",
            "_view_count": null,
            "_view_module": "@jupyter-widgets/controls",
            "_view_module_version": "1.5.0",
            "_view_name": "HBoxView",
            "box_style": "",
            "children": [
              "IPY_MODEL_e8d4ea10e988495a91edcb0a79f18b62",
              "IPY_MODEL_64fe2426bbe647039568b173dd7d9139",
              "IPY_MODEL_ac5b7f12894c46d78060c9ae3c52fb75"
            ],
            "layout": "IPY_MODEL_030f4b809a7c46a78a8dee96cd60b5ca"
          }
        },
        "e8d4ea10e988495a91edcb0a79f18b62": {
          "model_module": "@jupyter-widgets/controls",
          "model_name": "HTMLModel",
          "model_module_version": "1.5.0",
          "state": {
            "_dom_classes": [],
            "_model_module": "@jupyter-widgets/controls",
            "_model_module_version": "1.5.0",
            "_model_name": "HTMLModel",
            "_view_count": null,
            "_view_module": "@jupyter-widgets/controls",
            "_view_module_version": "1.5.0",
            "_view_name": "HTMLView",
            "description": "",
            "description_tooltip": null,
            "layout": "IPY_MODEL_36e7cdfcc3984ed3ad496f66f9fc496c",
            "placeholder": "​",
            "style": "IPY_MODEL_bda2fafa9438435abafa74d17005b376",
            "value": "Downloading (…)/main/tokenizer.json: 100%"
          }
        },
        "64fe2426bbe647039568b173dd7d9139": {
          "model_module": "@jupyter-widgets/controls",
          "model_name": "FloatProgressModel",
          "model_module_version": "1.5.0",
          "state": {
            "_dom_classes": [],
            "_model_module": "@jupyter-widgets/controls",
            "_model_module_version": "1.5.0",
            "_model_name": "FloatProgressModel",
            "_view_count": null,
            "_view_module": "@jupyter-widgets/controls",
            "_view_module_version": "1.5.0",
            "_view_name": "ProgressView",
            "bar_style": "success",
            "description": "",
            "description_tooltip": null,
            "layout": "IPY_MODEL_7f06912427e14534987cbe609380ec06",
            "max": 466062,
            "min": 0,
            "orientation": "horizontal",
            "style": "IPY_MODEL_d063798c953740df9a1dbc57c85f63a2",
            "value": 466062
          }
        },
        "ac5b7f12894c46d78060c9ae3c52fb75": {
          "model_module": "@jupyter-widgets/controls",
          "model_name": "HTMLModel",
          "model_module_version": "1.5.0",
          "state": {
            "_dom_classes": [],
            "_model_module": "@jupyter-widgets/controls",
            "_model_module_version": "1.5.0",
            "_model_name": "HTMLModel",
            "_view_count": null,
            "_view_module": "@jupyter-widgets/controls",
            "_view_module_version": "1.5.0",
            "_view_name": "HTMLView",
            "description": "",
            "description_tooltip": null,
            "layout": "IPY_MODEL_4c0e9d2e272c41d59d1c6533ee374c4f",
            "placeholder": "​",
            "style": "IPY_MODEL_29063e6c27664b33b66f4671581c9802",
            "value": " 466k/466k [00:00&lt;00:00, 30.0MB/s]"
          }
        },
        "030f4b809a7c46a78a8dee96cd60b5ca": {
          "model_module": "@jupyter-widgets/base",
          "model_name": "LayoutModel",
          "model_module_version": "1.2.0",
          "state": {
            "_model_module": "@jupyter-widgets/base",
            "_model_module_version": "1.2.0",
            "_model_name": "LayoutModel",
            "_view_count": null,
            "_view_module": "@jupyter-widgets/base",
            "_view_module_version": "1.2.0",
            "_view_name": "LayoutView",
            "align_content": null,
            "align_items": null,
            "align_self": null,
            "border": null,
            "bottom": null,
            "display": null,
            "flex": null,
            "flex_flow": null,
            "grid_area": null,
            "grid_auto_columns": null,
            "grid_auto_flow": null,
            "grid_auto_rows": null,
            "grid_column": null,
            "grid_gap": null,
            "grid_row": null,
            "grid_template_areas": null,
            "grid_template_columns": null,
            "grid_template_rows": null,
            "height": null,
            "justify_content": null,
            "justify_items": null,
            "left": null,
            "margin": null,
            "max_height": null,
            "max_width": null,
            "min_height": null,
            "min_width": null,
            "object_fit": null,
            "object_position": null,
            "order": null,
            "overflow": null,
            "overflow_x": null,
            "overflow_y": null,
            "padding": null,
            "right": null,
            "top": null,
            "visibility": null,
            "width": null
          }
        },
        "36e7cdfcc3984ed3ad496f66f9fc496c": {
          "model_module": "@jupyter-widgets/base",
          "model_name": "LayoutModel",
          "model_module_version": "1.2.0",
          "state": {
            "_model_module": "@jupyter-widgets/base",
            "_model_module_version": "1.2.0",
            "_model_name": "LayoutModel",
            "_view_count": null,
            "_view_module": "@jupyter-widgets/base",
            "_view_module_version": "1.2.0",
            "_view_name": "LayoutView",
            "align_content": null,
            "align_items": null,
            "align_self": null,
            "border": null,
            "bottom": null,
            "display": null,
            "flex": null,
            "flex_flow": null,
            "grid_area": null,
            "grid_auto_columns": null,
            "grid_auto_flow": null,
            "grid_auto_rows": null,
            "grid_column": null,
            "grid_gap": null,
            "grid_row": null,
            "grid_template_areas": null,
            "grid_template_columns": null,
            "grid_template_rows": null,
            "height": null,
            "justify_content": null,
            "justify_items": null,
            "left": null,
            "margin": null,
            "max_height": null,
            "max_width": null,
            "min_height": null,
            "min_width": null,
            "object_fit": null,
            "object_position": null,
            "order": null,
            "overflow": null,
            "overflow_x": null,
            "overflow_y": null,
            "padding": null,
            "right": null,
            "top": null,
            "visibility": null,
            "width": null
          }
        },
        "bda2fafa9438435abafa74d17005b376": {
          "model_module": "@jupyter-widgets/controls",
          "model_name": "DescriptionStyleModel",
          "model_module_version": "1.5.0",
          "state": {
            "_model_module": "@jupyter-widgets/controls",
            "_model_module_version": "1.5.0",
            "_model_name": "DescriptionStyleModel",
            "_view_count": null,
            "_view_module": "@jupyter-widgets/base",
            "_view_module_version": "1.2.0",
            "_view_name": "StyleView",
            "description_width": ""
          }
        },
        "7f06912427e14534987cbe609380ec06": {
          "model_module": "@jupyter-widgets/base",
          "model_name": "LayoutModel",
          "model_module_version": "1.2.0",
          "state": {
            "_model_module": "@jupyter-widgets/base",
            "_model_module_version": "1.2.0",
            "_model_name": "LayoutModel",
            "_view_count": null,
            "_view_module": "@jupyter-widgets/base",
            "_view_module_version": "1.2.0",
            "_view_name": "LayoutView",
            "align_content": null,
            "align_items": null,
            "align_self": null,
            "border": null,
            "bottom": null,
            "display": null,
            "flex": null,
            "flex_flow": null,
            "grid_area": null,
            "grid_auto_columns": null,
            "grid_auto_flow": null,
            "grid_auto_rows": null,
            "grid_column": null,
            "grid_gap": null,
            "grid_row": null,
            "grid_template_areas": null,
            "grid_template_columns": null,
            "grid_template_rows": null,
            "height": null,
            "justify_content": null,
            "justify_items": null,
            "left": null,
            "margin": null,
            "max_height": null,
            "max_width": null,
            "min_height": null,
            "min_width": null,
            "object_fit": null,
            "object_position": null,
            "order": null,
            "overflow": null,
            "overflow_x": null,
            "overflow_y": null,
            "padding": null,
            "right": null,
            "top": null,
            "visibility": null,
            "width": null
          }
        },
        "d063798c953740df9a1dbc57c85f63a2": {
          "model_module": "@jupyter-widgets/controls",
          "model_name": "ProgressStyleModel",
          "model_module_version": "1.5.0",
          "state": {
            "_model_module": "@jupyter-widgets/controls",
            "_model_module_version": "1.5.0",
            "_model_name": "ProgressStyleModel",
            "_view_count": null,
            "_view_module": "@jupyter-widgets/base",
            "_view_module_version": "1.2.0",
            "_view_name": "StyleView",
            "bar_color": null,
            "description_width": ""
          }
        },
        "4c0e9d2e272c41d59d1c6533ee374c4f": {
          "model_module": "@jupyter-widgets/base",
          "model_name": "LayoutModel",
          "model_module_version": "1.2.0",
          "state": {
            "_model_module": "@jupyter-widgets/base",
            "_model_module_version": "1.2.0",
            "_model_name": "LayoutModel",
            "_view_count": null,
            "_view_module": "@jupyter-widgets/base",
            "_view_module_version": "1.2.0",
            "_view_name": "LayoutView",
            "align_content": null,
            "align_items": null,
            "align_self": null,
            "border": null,
            "bottom": null,
            "display": null,
            "flex": null,
            "flex_flow": null,
            "grid_area": null,
            "grid_auto_columns": null,
            "grid_auto_flow": null,
            "grid_auto_rows": null,
            "grid_column": null,
            "grid_gap": null,
            "grid_row": null,
            "grid_template_areas": null,
            "grid_template_columns": null,
            "grid_template_rows": null,
            "height": null,
            "justify_content": null,
            "justify_items": null,
            "left": null,
            "margin": null,
            "max_height": null,
            "max_width": null,
            "min_height": null,
            "min_width": null,
            "object_fit": null,
            "object_position": null,
            "order": null,
            "overflow": null,
            "overflow_x": null,
            "overflow_y": null,
            "padding": null,
            "right": null,
            "top": null,
            "visibility": null,
            "width": null
          }
        },
        "29063e6c27664b33b66f4671581c9802": {
          "model_module": "@jupyter-widgets/controls",
          "model_name": "DescriptionStyleModel",
          "model_module_version": "1.5.0",
          "state": {
            "_model_module": "@jupyter-widgets/controls",
            "_model_module_version": "1.5.0",
            "_model_name": "DescriptionStyleModel",
            "_view_count": null,
            "_view_module": "@jupyter-widgets/base",
            "_view_module_version": "1.2.0",
            "_view_name": "StyleView",
            "description_width": ""
          }
        }
      }
    }
  },
  "nbformat": 4,
  "nbformat_minor": 0
}